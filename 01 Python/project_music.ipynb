{
 "cells": [
  {
   "cell_type": "markdown",
   "metadata": {
    "deletable": false,
    "editable": false,
    "id": "E0vqbgi9ay0H"
   },
   "source": [
    "# Яндекс Музыка"
   ]
  },
  {
   "cell_type": "markdown",
   "metadata": {
    "deletable": false,
    "editable": false,
    "id": "VUC88oWjTJw2"
   },
   "source": [
    "Сравнение Москвы и Петербурга окружено мифами. Например:\n",
    " * Москва — мегаполис, подчинённый жёсткому ритму рабочей недели;\n",
    " * Петербург — культурная столица, со своими вкусами.\n",
    "\n",
    "На данных Яндекс Музыки вы сравните поведение пользователей двух столиц.\n",
    "\n",
    "**Цель исследования** — проверьте три гипотезы:\n",
    "1. Активность пользователей зависит от дня недели. Причём в Москве и Петербурге это проявляется по-разному.\n",
    "2. В понедельник утром в Москве преобладают одни жанры, а в Петербурге — другие. Так же и вечером пятницы преобладают разные жанры — в зависимости от города.\n",
    "3. Москва и Петербург предпочитают разные жанры музыки. В Москве чаще слушают поп-музыку, в Петербурге — русский рэп.\n",
    "\n",
    "**Ход исследования**\n",
    "\n",
    "Данные о поведении пользователей вы получите из файла `yandex_music_project.csv`. О качестве данных ничего не известно. Поэтому перед проверкой гипотез понадобится обзор данных.\n",
    "\n",
    "Вы проверите данные на ошибки и оцените их влияние на исследование. Затем, на этапе предобработки вы поищете возможность исправить самые критичные ошибки данных.\n",
    "\n",
    "Таким образом, исследование пройдёт в три этапа:\n",
    " 1. Обзор данных.\n",
    " 2. Предобработка данных.\n",
    " 3. Проверка гипотез.\n",
    "\n"
   ]
  },
  {
   "cell_type": "markdown",
   "metadata": {
    "deletable": false,
    "editable": false,
    "id": "Ml1hmfXC_Zcs"
   },
   "source": [
    "## Обзор данных\n",
    "\n",
    "Составьте первое представление о данных Яндекс Музыки.\n",
    "\n",
    "\n"
   ]
  },
  {
   "cell_type": "markdown",
   "metadata": {
    "deletable": false,
    "editable": false,
    "id": "57eAOGIz_Zcs",
    "tags": [
     "start_task"
    ]
   },
   "source": [
    "**Задание 1**"
   ]
  },
  {
   "cell_type": "code",
   "execution_count": 1,
   "metadata": {
    "deletable": false,
    "id": "AXN7PHPN_Zcs"
   },
   "outputs": [],
   "source": [
    "import pandas as pd# импорт библиотеки pandas"
   ]
  },
  {
   "cell_type": "markdown",
   "metadata": {
    "deletable": false,
    "editable": false,
    "id": "SG23P8tt_Zcs",
    "tags": [
     "start_task"
    ]
   },
   "source": [
    "**Задание 2**"
   ]
  },
  {
   "cell_type": "code",
   "execution_count": 4,
   "metadata": {
    "deletable": false,
    "id": "fFVu7vqh_Zct"
   },
   "outputs": [],
   "source": [
    "df = pd.read_csv('../assets/yandex_music_project.csv')# чтение файла с данными и сохранение в df"
   ]
  },
  {
   "cell_type": "markdown",
   "metadata": {
    "deletable": false,
    "editable": false,
    "id": "rDoOMd3uTqnZ",
    "tags": [
     "start_task"
    ]
   },
   "source": [
    "**Задание 3**"
   ]
  },
  {
   "cell_type": "code",
   "execution_count": 3,
   "metadata": {
    "deletable": false,
    "id": "oWTVX3gW_Zct"
   },
   "outputs": [
    {
     "name": "stdout",
     "output_type": "stream",
     "text": [
      "     userID                        Track            artist   genre  \\\n",
      "0  FFB692EC            Kamigata To Boots  The Mass Missile    rock   \n",
      "1  55204538  Delayed Because of Accident  Andreas Rönnberg    rock   \n",
      "2    20EC38            Funiculì funiculà       Mario Lanza     pop   \n",
      "3  A3DD03C9        Dragons in the Sunset        Fire + Ice    folk   \n",
      "4  E2DC1FAE                  Soul People        Space Echo   dance   \n",
      "5  842029A1                    Преданная         IMPERVTOR  rusrap   \n",
      "6  4CB90AA5                         True      Roman Messer   dance   \n",
      "7  F03E1C1F             Feeling This Way   Polina Griffith   dance   \n",
      "8  8FA1D3BE     И вновь продолжается бой               NaN  ruspop   \n",
      "9  E772D5C0                    Pessimist               NaN   dance   \n",
      "\n",
      "             City        time        Day  \n",
      "0  Saint-Petersburg  20:28:33  Wednesday  \n",
      "1            Moscow  14:07:09     Friday  \n",
      "2  Saint-Petersburg  20:58:07  Wednesday  \n",
      "3  Saint-Petersburg  08:37:09     Monday  \n",
      "4            Moscow  08:34:34     Monday  \n",
      "5  Saint-Petersburg  13:09:41     Friday  \n",
      "6            Moscow  13:00:07  Wednesday  \n",
      "7            Moscow  20:47:49  Wednesday  \n",
      "8            Moscow  09:17:40     Friday  \n",
      "9  Saint-Petersburg  21:20:49  Wednesday  \n"
     ]
    }
   ],
   "source": [
    "print(df.head(10))# получение первых 10 строк таблицы df"
   ]
  },
  {
   "cell_type": "markdown",
   "metadata": {
    "deletable": false,
    "editable": false,
    "id": "EO73Kwic_Zct",
    "tags": [
     "start_task"
    ]
   },
   "source": [
    "**Задание 4**"
   ]
  },
  {
   "cell_type": "code",
   "execution_count": 4,
   "metadata": {
    "deletable": false,
    "id": "DSf2kIb-_Zct"
   },
   "outputs": [
    {
     "name": "stdout",
     "output_type": "stream",
     "text": [
      "<class 'pandas.core.frame.DataFrame'>\n",
      "RangeIndex: 65079 entries, 0 to 65078\n",
      "Data columns (total 7 columns):\n",
      " #   Column    Non-Null Count  Dtype \n",
      "---  ------    --------------  ----- \n",
      " 0     userID  65079 non-null  object\n",
      " 1   Track     63848 non-null  object\n",
      " 2   artist    57876 non-null  object\n",
      " 3   genre     63881 non-null  object\n",
      " 4     City    65079 non-null  object\n",
      " 5   time      65079 non-null  object\n",
      " 6   Day       65079 non-null  object\n",
      "dtypes: object(7)\n",
      "memory usage: 3.5+ MB\n"
     ]
    }
   ],
   "source": [
    "df.info()# получение общей информации о данных в таблице df"
   ]
  },
  {
   "cell_type": "markdown",
   "metadata": {
    "deletable": false,
    "editable": false,
    "id": "TaQ2Iwbr_Zct"
   },
   "source": [
    "Количество значений в столбцах различается. Значит, в данных есть пропущенные значения."
   ]
  },
  {
   "cell_type": "markdown",
   "metadata": {
    "deletable": false,
    "editable": false,
    "id": "4P0UCWzswgEm",
    "tags": [
     "start_task"
    ]
   },
   "source": [
    "**Задание 5**"
   ]
  },
  {
   "cell_type": "code",
   "execution_count": 5,
   "metadata": {
    "id": "c137-ZstwgEm"
   },
   "outputs": [],
   "source": [
    "# Day = day_of_the_week  #. Не меняйте тип этой ячейки на Markdown."
   ]
  },
  {
   "cell_type": "markdown",
   "metadata": {
    "deletable": false,
    "editable": false,
    "id": "MCB6-dXG_Zct"
   },
   "source": [
    "**Выводы**\n",
    "\n",
    "В каждой строке таблицы — данные о прослушанном треке. Часть колонок описывает саму композицию: название, исполнителя и жанр. Остальные данные рассказывают о пользователе: из какого он города, когда он слушал музыку.\n",
    "\n",
    "Предварительно можно утверждать, что данных достаточно для проверки гипотез. Но встречаются пропуски в данных, а в названиях колонок — расхождения с хорошим стилем.\n",
    "\n",
    "Чтобы двигаться дальше, нужно устранить проблемы в данных."
   ]
  },
  {
   "cell_type": "markdown",
   "metadata": {
    "deletable": false,
    "editable": false,
    "id": "SjYF6Ub9_Zct"
   },
   "source": [
    "## Предобработка данных"
   ]
  },
  {
   "cell_type": "markdown",
   "metadata": {
    "deletable": false,
    "editable": false,
    "id": "dIaKXr29_Zct",
    "tags": [
     "start_task"
    ]
   },
   "source": [
    "### Переименование столбцов\n",
    "\n",
    "**Задание 6**"
   ]
  },
  {
   "cell_type": "code",
   "execution_count": 6,
   "metadata": {
    "deletable": false,
    "id": "oKOTdF_Q_Zct"
   },
   "outputs": [
    {
     "data": {
      "text/plain": [
       "Index(['  userID', 'Track', 'artist', 'genre', '  City  ', 'time', 'Day'], dtype='object')"
      ]
     },
     "execution_count": 6,
     "metadata": {},
     "output_type": "execute_result"
    }
   ],
   "source": [
    "df.columns# перечень названий столбцов таблицы df"
   ]
  },
  {
   "cell_type": "markdown",
   "metadata": {
    "deletable": false,
    "editable": false,
    "id": "zj5534cv_Zct",
    "tags": [
     "start_task"
    ]
   },
   "source": [
    "**Задание 7**"
   ]
  },
  {
   "cell_type": "code",
   "execution_count": 7,
   "metadata": {
    "deletable": false,
    "id": "ISlFqs5y_Zct"
   },
   "outputs": [],
   "source": [
    "df = df.rename(columns={'  userID': 'user_id','Track': 'track', '  City  ': 'city', 'Day':'day'})# переименование столбцов"
   ]
  },
  {
   "cell_type": "markdown",
   "metadata": {
    "deletable": false,
    "editable": false,
    "id": "1dqbh00J_Zct",
    "tags": [
     "start_task"
    ]
   },
   "source": [
    "**Задание 8**"
   ]
  },
  {
   "cell_type": "code",
   "execution_count": 8,
   "metadata": {
    "deletable": false,
    "id": "d4NOAmTW_Zct"
   },
   "outputs": [
    {
     "data": {
      "text/plain": [
       "Index(['user_id', 'track', 'artist', 'genre', 'city', 'time', 'day'], dtype='object')"
      ]
     },
     "execution_count": 8,
     "metadata": {},
     "output_type": "execute_result"
    }
   ],
   "source": [
    "df.columns# проверка результатов - перечень названий столбцов"
   ]
  },
  {
   "cell_type": "markdown",
   "metadata": {
    "deletable": false,
    "editable": false,
    "id": "5ISfbcfY_Zct",
    "tags": [
     "start_task"
    ]
   },
   "source": [
    "### Обработка пропущенных значений\n",
    "\n",
    "**Задание 9**"
   ]
  },
  {
   "cell_type": "code",
   "execution_count": 9,
   "metadata": {
    "deletable": false,
    "id": "RskX29qr_Zct"
   },
   "outputs": [
    {
     "name": "stdout",
     "output_type": "stream",
     "text": [
      "user_id       0\n",
      "track      1231\n",
      "artist     7203\n",
      "genre      1198\n",
      "city          0\n",
      "time          0\n",
      "day           0\n",
      "dtype: int64\n"
     ]
    }
   ],
   "source": [
    "print(df.isnull().sum())# подсчёт пропусков"
   ]
  },
  {
   "cell_type": "markdown",
   "metadata": {
    "deletable": false,
    "editable": false,
    "id": "fSv2laPA_Zct",
    "tags": [
     "start_task"
    ]
   },
   "source": [
    "**Задание 10**"
   ]
  },
  {
   "cell_type": "code",
   "execution_count": 10,
   "metadata": {
    "deletable": false,
    "id": "KplB5qWs_Zct"
   },
   "outputs": [],
   "source": [
    "columns_to_replace = df[['track','artist','genre']]\n",
    "for column in columns_to_replace:\n",
    "    df[column] = df[column].fillna('unknown')\n",
    "# замена пропущенных значений на 'unknown'"
   ]
  },
  {
   "cell_type": "markdown",
   "metadata": {
    "deletable": false,
    "editable": false,
    "id": "Ilsm-MZo_Zct",
    "tags": [
     "start_task"
    ]
   },
   "source": [
    "**Задание 11**"
   ]
  },
  {
   "cell_type": "code",
   "execution_count": 11,
   "metadata": {
    "deletable": false,
    "id": "Tq4nYRX4_Zct"
   },
   "outputs": [
    {
     "name": "stdout",
     "output_type": "stream",
     "text": [
      "user_id    0\n",
      "track      0\n",
      "artist     0\n",
      "genre      0\n",
      "city       0\n",
      "time       0\n",
      "day        0\n",
      "dtype: int64\n"
     ]
    }
   ],
   "source": [
    "print(df.isnull().sum())# проверка на отсутствие пропусков"
   ]
  },
  {
   "cell_type": "markdown",
   "metadata": {
    "deletable": false,
    "editable": false,
    "id": "BWKRtBJ3_Zct",
    "tags": [
     "start_task"
    ]
   },
   "source": [
    "### Обработка дубликатов\n",
    "\n",
    "**Задание 12**"
   ]
  },
  {
   "cell_type": "code",
   "execution_count": 12,
   "metadata": {
    "deletable": false,
    "id": "36eES_S0_Zct"
   },
   "outputs": [
    {
     "data": {
      "text/plain": [
       "3826"
      ]
     },
     "execution_count": 12,
     "metadata": {},
     "output_type": "execute_result"
    }
   ],
   "source": [
    "df.duplicated().sum()# подсчёт явных дубликатов"
   ]
  },
  {
   "cell_type": "markdown",
   "metadata": {
    "deletable": false,
    "editable": false,
    "id": "Ot25h6XR_Zct",
    "tags": [
     "start_task"
    ]
   },
   "source": [
    "**Задание 13**"
   ]
  },
  {
   "cell_type": "code",
   "execution_count": 13,
   "metadata": {
    "deletable": false,
    "id": "exFHq6tt_Zct"
   },
   "outputs": [],
   "source": [
    "df = df.drop_duplicates().reset_index(drop = True)# удаление явных дубликатов, создание новых индексов и удаление старых"
   ]
  },
  {
   "cell_type": "markdown",
   "metadata": {
    "deletable": false,
    "editable": false,
    "id": "Im2YwBEG_Zct",
    "tags": [
     "start_task"
    ]
   },
   "source": [
    "**Задание 14**"
   ]
  },
  {
   "cell_type": "code",
   "execution_count": 14,
   "metadata": {
    "deletable": false,
    "id": "-8PuNWQ0_Zct"
   },
   "outputs": [
    {
     "data": {
      "text/plain": [
       "0"
      ]
     },
     "execution_count": 14,
     "metadata": {},
     "output_type": "execute_result"
    }
   ],
   "source": [
    "df.duplicated().sum()# проверка на отсутствие явных дубликатов"
   ]
  },
  {
   "cell_type": "markdown",
   "metadata": {
    "deletable": false,
    "editable": false,
    "id": "eSjWwsOh_Zct",
    "tags": [
     "start_task"
    ]
   },
   "source": [
    "**Задание 15**"
   ]
  },
  {
   "cell_type": "code",
   "execution_count": 15,
   "metadata": {
    "deletable": false,
    "id": "JIUcqzZN_Zct"
   },
   "outputs": [
    {
     "name": "stdout",
     "output_type": "stream",
     "text": [
      "['acid' 'acoustic' 'action' 'adult' 'africa' 'afrikaans' 'alternative'\n",
      " 'alternativepunk' 'ambient' 'americana' 'animated' 'anime' 'arabesk'\n",
      " 'arabic' 'arena' 'argentinetango' 'art' 'audiobook' 'author' 'avantgarde'\n",
      " 'axé' 'baile' 'balkan' 'beats' 'bigroom' 'black' 'bluegrass' 'blues'\n",
      " 'bollywood' 'bossa' 'brazilian' 'breakbeat' 'breaks' 'broadway'\n",
      " 'cantautori' 'cantopop' 'canzone' 'caribbean' 'caucasian' 'celtic'\n",
      " 'chamber' 'chanson' 'children' 'chill' 'chinese' 'choral' 'christian'\n",
      " 'christmas' 'classical' 'classicmetal' 'club' 'colombian' 'comedy'\n",
      " 'conjazz' 'contemporary' 'country' 'cuban' 'dance' 'dancehall' 'dancepop'\n",
      " 'dark' 'death' 'deep' 'deutschrock' 'deutschspr' 'dirty' 'disco' 'dnb'\n",
      " 'documentary' 'downbeat' 'downtempo' 'drum' 'dub' 'dubstep' 'eastern'\n",
      " 'easy' 'electronic' 'electropop' 'emo' 'entehno' 'epicmetal' 'estrada'\n",
      " 'ethnic' 'eurofolk' 'european' 'experimental' 'extrememetal' 'fado'\n",
      " 'fairytail' 'film' 'fitness' 'flamenco' 'folk' 'folklore' 'folkmetal'\n",
      " 'folkrock' 'folktronica' 'forró' 'frankreich' 'französisch' 'french'\n",
      " 'funk' 'future' 'gangsta' 'garage' 'german' 'ghazal' 'gitarre' 'glitch'\n",
      " 'gospel' 'gothic' 'grime' 'grunge' 'gypsy' 'handsup' \"hard'n'heavy\"\n",
      " 'hardcore' 'hardstyle' 'hardtechno' 'hip' 'hip-hop' 'hiphop' 'historisch'\n",
      " 'holiday' 'hop' 'horror' 'house' 'hymn' 'idm' 'independent' 'indian'\n",
      " 'indie' 'indipop' 'industrial' 'inspirational' 'instrumental'\n",
      " 'international' 'irish' 'jam' 'japanese' 'jazz' 'jewish' 'jpop' 'jungle'\n",
      " 'k-pop' 'karadeniz' 'karaoke' 'kayokyoku' 'korean' 'laiko' 'latin'\n",
      " 'latino' 'leftfield' 'local' 'lounge' 'loungeelectronic' 'lovers'\n",
      " 'malaysian' 'mandopop' 'marschmusik' 'meditative' 'mediterranean'\n",
      " 'melodic' 'metal' 'metalcore' 'mexican' 'middle' 'minimal'\n",
      " 'miscellaneous' 'modern' 'mood' 'mpb' 'muslim' 'native' 'neoklassik'\n",
      " 'neue' 'new' 'newage' 'newwave' 'nu' 'nujazz' 'numetal' 'oceania' 'old'\n",
      " 'opera' 'orchestral' 'other' 'piano' 'podcasts' 'pop' 'popdance'\n",
      " 'popelectronic' 'popeurodance' 'poprussian' 'post' 'posthardcore'\n",
      " 'postrock' 'power' 'progmetal' 'progressive' 'psychedelic' 'punjabi'\n",
      " 'punk' 'quebecois' 'ragga' 'ram' 'rancheras' 'rap' 'rave' 'reggae'\n",
      " 'reggaeton' 'regional' 'relax' 'religious' 'retro' 'rhythm' 'rnb' 'rnr'\n",
      " 'rock' 'rockabilly' 'rockalternative' 'rockindie' 'rockother' 'romance'\n",
      " 'roots' 'ruspop' 'rusrap' 'rusrock' 'russian' 'salsa' 'samba' 'scenic'\n",
      " 'schlager' 'self' 'sertanejo' 'shanson' 'shoegazing' 'showtunes' 'singer'\n",
      " 'ska' 'skarock' 'slow' 'smooth' 'soft' 'soul' 'soulful' 'sound'\n",
      " 'soundtrack' 'southern' 'specialty' 'speech' 'spiritual' 'sport'\n",
      " 'stonerrock' 'surf' 'swing' 'synthpop' 'synthrock' 'sängerportrait'\n",
      " 'tango' 'tanzorchester' 'taraftar' 'tatar' 'tech' 'techno' 'teen'\n",
      " 'thrash' 'top' 'traditional' 'tradjazz' 'trance' 'tribal' 'trip'\n",
      " 'triphop' 'tropical' 'türk' 'türkçe' 'ukrrock' 'unknown' 'urban' 'uzbek'\n",
      " 'variété' 'vi' 'videogame' 'vocal' 'western' 'world' 'worldbeat' 'ïîï'\n",
      " 'электроника']\n"
     ]
    }
   ],
   "source": [
    "print(df['genre'].sort_values().unique())# просмотр уникальных отсортированных названий жанров"
   ]
  },
  {
   "cell_type": "markdown",
   "metadata": {
    "deletable": false,
    "editable": false,
    "id": "qej-Qmuo_Zct",
    "tags": [
     "start_task"
    ]
   },
   "source": [
    "**Задание 16**"
   ]
  },
  {
   "cell_type": "code",
   "execution_count": 16,
   "metadata": {
    "deletable": false,
    "id": "ErNDkmns_Zct"
   },
   "outputs": [],
   "source": [
    "df['genre'] = df['genre'].replace(['hip', 'hop','hip-hop'],'hiphop')\n",
    "# устранение неявных дубликатов"
   ]
  },
  {
   "cell_type": "markdown",
   "metadata": {
    "deletable": false,
    "editable": false,
    "id": "zQKF16_RG15m",
    "tags": [
     "start_task"
    ]
   },
   "source": [
    "**Задание 17**"
   ]
  },
  {
   "cell_type": "code",
   "execution_count": 17,
   "metadata": {
    "deletable": false,
    "id": "wvixALnFG15m"
   },
   "outputs": [
    {
     "name": "stdout",
     "output_type": "stream",
     "text": [
      "['acid' 'acoustic' 'action' 'adult' 'africa' 'afrikaans' 'alternative'\n",
      " 'alternativepunk' 'ambient' 'americana' 'animated' 'anime' 'arabesk'\n",
      " 'arabic' 'arena' 'argentinetango' 'art' 'audiobook' 'author' 'avantgarde'\n",
      " 'axé' 'baile' 'balkan' 'beats' 'bigroom' 'black' 'bluegrass' 'blues'\n",
      " 'bollywood' 'bossa' 'brazilian' 'breakbeat' 'breaks' 'broadway'\n",
      " 'cantautori' 'cantopop' 'canzone' 'caribbean' 'caucasian' 'celtic'\n",
      " 'chamber' 'chanson' 'children' 'chill' 'chinese' 'choral' 'christian'\n",
      " 'christmas' 'classical' 'classicmetal' 'club' 'colombian' 'comedy'\n",
      " 'conjazz' 'contemporary' 'country' 'cuban' 'dance' 'dancehall' 'dancepop'\n",
      " 'dark' 'death' 'deep' 'deutschrock' 'deutschspr' 'dirty' 'disco' 'dnb'\n",
      " 'documentary' 'downbeat' 'downtempo' 'drum' 'dub' 'dubstep' 'eastern'\n",
      " 'easy' 'electronic' 'electropop' 'emo' 'entehno' 'epicmetal' 'estrada'\n",
      " 'ethnic' 'eurofolk' 'european' 'experimental' 'extrememetal' 'fado'\n",
      " 'fairytail' 'film' 'fitness' 'flamenco' 'folk' 'folklore' 'folkmetal'\n",
      " 'folkrock' 'folktronica' 'forró' 'frankreich' 'französisch' 'french'\n",
      " 'funk' 'future' 'gangsta' 'garage' 'german' 'ghazal' 'gitarre' 'glitch'\n",
      " 'gospel' 'gothic' 'grime' 'grunge' 'gypsy' 'handsup' \"hard'n'heavy\"\n",
      " 'hardcore' 'hardstyle' 'hardtechno' 'hiphop' 'historisch' 'holiday'\n",
      " 'horror' 'house' 'hymn' 'idm' 'independent' 'indian' 'indie' 'indipop'\n",
      " 'industrial' 'inspirational' 'instrumental' 'international' 'irish' 'jam'\n",
      " 'japanese' 'jazz' 'jewish' 'jpop' 'jungle' 'k-pop' 'karadeniz' 'karaoke'\n",
      " 'kayokyoku' 'korean' 'laiko' 'latin' 'latino' 'leftfield' 'local'\n",
      " 'lounge' 'loungeelectronic' 'lovers' 'malaysian' 'mandopop' 'marschmusik'\n",
      " 'meditative' 'mediterranean' 'melodic' 'metal' 'metalcore' 'mexican'\n",
      " 'middle' 'minimal' 'miscellaneous' 'modern' 'mood' 'mpb' 'muslim'\n",
      " 'native' 'neoklassik' 'neue' 'new' 'newage' 'newwave' 'nu' 'nujazz'\n",
      " 'numetal' 'oceania' 'old' 'opera' 'orchestral' 'other' 'piano' 'podcasts'\n",
      " 'pop' 'popdance' 'popelectronic' 'popeurodance' 'poprussian' 'post'\n",
      " 'posthardcore' 'postrock' 'power' 'progmetal' 'progressive' 'psychedelic'\n",
      " 'punjabi' 'punk' 'quebecois' 'ragga' 'ram' 'rancheras' 'rap' 'rave'\n",
      " 'reggae' 'reggaeton' 'regional' 'relax' 'religious' 'retro' 'rhythm'\n",
      " 'rnb' 'rnr' 'rock' 'rockabilly' 'rockalternative' 'rockindie' 'rockother'\n",
      " 'romance' 'roots' 'ruspop' 'rusrap' 'rusrock' 'russian' 'salsa' 'samba'\n",
      " 'scenic' 'schlager' 'self' 'sertanejo' 'shanson' 'shoegazing' 'showtunes'\n",
      " 'singer' 'ska' 'skarock' 'slow' 'smooth' 'soft' 'soul' 'soulful' 'sound'\n",
      " 'soundtrack' 'southern' 'specialty' 'speech' 'spiritual' 'sport'\n",
      " 'stonerrock' 'surf' 'swing' 'synthpop' 'synthrock' 'sängerportrait'\n",
      " 'tango' 'tanzorchester' 'taraftar' 'tatar' 'tech' 'techno' 'teen'\n",
      " 'thrash' 'top' 'traditional' 'tradjazz' 'trance' 'tribal' 'trip'\n",
      " 'triphop' 'tropical' 'türk' 'türkçe' 'ukrrock' 'unknown' 'urban' 'uzbek'\n",
      " 'variété' 'vi' 'videogame' 'vocal' 'western' 'world' 'worldbeat' 'ïîï'\n",
      " 'электроника']\n"
     ]
    }
   ],
   "source": [
    "print(df['genre'].sort_values().unique())# проверка на отсутствие неявных дубликатов"
   ]
  },
  {
   "cell_type": "markdown",
   "metadata": {
    "deletable": false,
    "editable": false,
    "id": "jz6a9-7HQUDd"
   },
   "source": [
    "**Выводы**\n",
    "\n",
    "Предобработка обнаружила три проблемы в данных:\n",
    "\n",
    "- нарушения в стиле заголовков,\n",
    "- пропущенные значения,\n",
    "- дубликаты — явные и неявные.\n",
    "\n",
    "Вы исправили заголовки, чтобы упростить работу с таблицей. Без дубликатов исследование станет более точным.\n",
    "\n",
    "Пропущенные значения вы заменили на `'unknown'`. Ещё предстоит увидеть, не повредят ли исследованию пропуски в колонке `genre`.\n",
    "\n",
    "Теперь можно перейти к проверке гипотез."
   ]
  },
  {
   "cell_type": "markdown",
   "metadata": {
    "deletable": false,
    "editable": false,
    "id": "WttZHXH0SqKk"
   },
   "source": [
    "## Проверка гипотез"
   ]
  },
  {
   "cell_type": "markdown",
   "metadata": {
    "deletable": false,
    "editable": false,
    "id": "Im936VVi_Zcu"
   },
   "source": [
    "### Сравнение поведения пользователей двух столиц"
   ]
  },
  {
   "cell_type": "markdown",
   "metadata": {
    "deletable": false,
    "editable": false,
    "id": "nwt_MuaL_Zcu"
   },
   "source": [
    "Первая гипотеза утверждает, что пользователи по-разному слушают музыку в Москве и Санкт-Петербурге. Проверим это предположение по данным о трёх днях недели — понедельнике, среде и пятнице. Для этого:\n",
    "\n",
    "* Разделим пользователей Москвы и Санкт-Петербурга.\n",
    "* Сравним, сколько треков послушала каждая группа пользователей в понедельник, среду и пятницу.\n"
   ]
  },
  {
   "cell_type": "markdown",
   "metadata": {
    "deletable": false,
    "id": "8Dw_YMmT_Zcu",
    "tags": [
     "start_task"
    ]
   },
   "source": [
    "**Задание 18**\n",
    "\n"
   ]
  },
  {
   "cell_type": "code",
   "execution_count": 18,
   "metadata": {
    "deletable": false,
    "id": "0_Qs96oh_Zcu"
   },
   "outputs": [
    {
     "name": "stdout",
     "output_type": "stream",
     "text": [
      "city\n",
      "Moscow              42741\n",
      "Saint-Petersburg    18512\n",
      "Name: city, dtype: int64\n"
     ]
    }
   ],
   "source": [
    "\n",
    "print(df.groupby('city')['city'].count())# подсчёт прослушиваний в каждом городе"
   ]
  },
  {
   "cell_type": "markdown",
   "metadata": {
    "id": "dzli3w8o_Zcu",
    "tags": [
     "start_task"
    ]
   },
   "source": [
    "**Задание 19**\n"
   ]
  },
  {
   "cell_type": "code",
   "execution_count": 19,
   "metadata": {
    "deletable": false,
    "id": "uZMKjiJz_Zcu"
   },
   "outputs": [
    {
     "name": "stdout",
     "output_type": "stream",
     "text": [
      "day\n",
      "Friday       21840\n",
      "Monday       21354\n",
      "Wednesday    18059\n",
      "Name: day, dtype: int64\n"
     ]
    }
   ],
   "source": [
    "print(df.groupby('day')['day'].count())\n",
    "# подсчёт прослушиваний в каждый из трёх дней"
   ]
  },
  {
   "cell_type": "markdown",
   "metadata": {
    "deletable": false,
    "editable": false,
    "id": "POzs8bGa_Zcu",
    "tags": [
     "start_task"
    ]
   },
   "source": [
    "**Задание 20**"
   ]
  },
  {
   "cell_type": "code",
   "execution_count": 20,
   "metadata": {
    "deletable": false,
    "id": "Nz3GdQB1_Zcu"
   },
   "outputs": [],
   "source": [
    "\n",
    "def number_tracks(day, city):\n",
    "    if isinstance(day, list):\n",
    "        return 0\n",
    "#    else:\n",
    "#        track_list = df[df['day'] == day]  # выберите только строки df со значением переменной day в столбце day\n",
    "#       track_list = track_list[track_list['city'] == city]  # выберите только строки track_list со значением переменной city в столбце city\n",
    "#        track_list_count = track_list['user_id'].count()\n",
    "#         # вызовите метод подсчета строк для track_list и выберите столбец user_id\n",
    "#    return track_list_count  "
   ]
  },
  {
   "cell_type": "markdown",
   "metadata": {
    "deletable": false,
    "editable": false,
    "id": "ytf7xFrFJQ2r",
    "tags": [
     "start_task"
    ]
   },
   "source": [
    "**Задание 21**"
   ]
  },
  {
   "cell_type": "code",
   "execution_count": 21,
   "metadata": {
    "deletable": false,
    "id": "rJcRATNQ_Zcu"
   },
   "outputs": [
    {
     "data": {
      "text/plain": [
       "15740"
      ]
     },
     "execution_count": 21,
     "metadata": {},
     "output_type": "execute_result"
    }
   ],
   "source": [
    "number_tracks('Monday', 'Moscow')# количество прослушиваний в Москве по понедельникам"
   ]
  },
  {
   "cell_type": "code",
   "execution_count": 22,
   "metadata": {
    "deletable": false,
    "id": "hq_ncZ5T_Zcu"
   },
   "outputs": [
    {
     "data": {
      "text/plain": [
       "5614"
      ]
     },
     "execution_count": 22,
     "metadata": {},
     "output_type": "execute_result"
    }
   ],
   "source": [
    "number_tracks('Monday', 'Saint-Petersburg')# количество прослушиваний в Санкт-Петербурге по понедельникам"
   ]
  },
  {
   "cell_type": "code",
   "execution_count": 23,
   "metadata": {
    "deletable": false,
    "id": "_NTy2VPU_Zcu"
   },
   "outputs": [
    {
     "data": {
      "text/plain": [
       "11056"
      ]
     },
     "execution_count": 23,
     "metadata": {},
     "output_type": "execute_result"
    }
   ],
   "source": [
    "number_tracks('Wednesday', 'Moscow')# количество прослушиваний в Москве по средам"
   ]
  },
  {
   "cell_type": "code",
   "execution_count": 24,
   "metadata": {
    "deletable": false,
    "id": "j2y3TAwo_Zcu"
   },
   "outputs": [
    {
     "data": {
      "text/plain": [
       "7003"
      ]
     },
     "execution_count": 24,
     "metadata": {},
     "output_type": "execute_result"
    }
   ],
   "source": [
    "number_tracks('Wednesday', 'Saint-Petersburg')# количество прослушиваний в Санкт-Петербурге по средам"
   ]
  },
  {
   "cell_type": "code",
   "execution_count": 25,
   "metadata": {
    "deletable": false,
    "id": "vYDw5u_K_Zcu"
   },
   "outputs": [
    {
     "data": {
      "text/plain": [
       "15945"
      ]
     },
     "execution_count": 25,
     "metadata": {},
     "output_type": "execute_result"
    }
   ],
   "source": [
    "number_tracks('Friday', 'Moscow')# количество прослушиваний в Москве по пятницам"
   ]
  },
  {
   "cell_type": "code",
   "execution_count": 26,
   "metadata": {
    "deletable": false,
    "id": "8_yzFtW3_Zcu"
   },
   "outputs": [
    {
     "data": {
      "text/plain": [
       "5895"
      ]
     },
     "execution_count": 26,
     "metadata": {},
     "output_type": "execute_result"
    }
   ],
   "source": [
    "number_tracks('Friday', 'Saint-Petersburg')# количество прослушиваний в Санкт-Петербурге по пятницам"
   ]
  },
  {
   "cell_type": "markdown",
   "metadata": {
    "deletable": false,
    "editable": false,
    "id": "7QXffbO-_Zcu",
    "tags": [
     "start_task"
    ]
   },
   "source": [
    "**Задание 22**"
   ]
  },
  {
   "cell_type": "code",
   "execution_count": 27,
   "metadata": {
    "deletable": false,
    "id": "APAcLpOr_Zcu"
   },
   "outputs": [
    {
     "name": "stdout",
     "output_type": "stream",
     "text": [
      "               city  monday  wednesday  friday\n",
      "0            Moscow   15740      11056   15945\n",
      "1  Saint-Petersburg    5614       7003    5895\n"
     ]
    }
   ],
   "source": [
    "data = [\n",
    "    ['Moscow', 15740, 11056, 15945],\n",
    "    ['Saint-Petersburg', 5614, 7003, 5895]\n",
    "]\n",
    "info = pd.DataFrame(data,columns = ['city', 'monday', 'wednesday', 'friday'])# создание таблицы с результатами\n",
    "print(info)# вывод таблицы на экран"
   ]
  },
  {
   "cell_type": "markdown",
   "metadata": {
    "deletable": false,
    "editable": false,
    "id": "-EgPIHYu_Zcu"
   },
   "source": [
    "**Выводы**\n",
    "\n",
    "Данные показывают разницу поведения пользователей:\n",
    "\n",
    "- В Москве пик прослушиваний приходится на понедельник и пятницу, а в среду заметен спад.\n",
    "- В Петербурге, наоборот, больше слушают музыку по средам. Активность в понедельник и пятницу здесь почти в равной мере уступает среде.\n",
    "\n",
    "Значит, данные говорят в пользу первой гипотезы."
   ]
  },
  {
   "cell_type": "markdown",
   "metadata": {
    "deletable": false,
    "editable": false,
    "id": "atZAxtq4_Zcu"
   },
   "source": [
    "### Музыка в начале и в конце недели"
   ]
  },
  {
   "cell_type": "markdown",
   "metadata": {
    "deletable": false,
    "editable": false,
    "id": "eXrQqXFH_Zcu"
   },
   "source": [
    "Согласно второй гипотезе, утром в понедельник в Москве преобладают одни жанры, а в Петербурге — другие. Так же и вечером пятницы преобладают разные жанры — в зависимости от города."
   ]
  },
  {
   "cell_type": "markdown",
   "metadata": {
    "deletable": false,
    "editable": false,
    "id": "S8UcW6Hw_Zcu",
    "tags": [
     "start_task"
    ]
   },
   "source": [
    "**Задание 23**"
   ]
  },
  {
   "cell_type": "code",
   "execution_count": 28,
   "metadata": {
    "deletable": false,
    "id": "qeaFfM_P_Zcu"
   },
   "outputs": [],
   "source": [
    "moscow_general = df[df['city'] == 'Moscow']# получение таблицы moscow_general из тех строк таблицы df, для которых значение в столбце 'city' равно 'Moscow'\n"
   ]
  },
  {
   "cell_type": "code",
   "execution_count": 29,
   "metadata": {
    "deletable": false,
    "id": "ORaVRKto_Zcu"
   },
   "outputs": [],
   "source": [
    "spb_general = df[df['city'] == 'Saint-Petersburg']# получение таблицы spb_general из тех строк таблицы df, для которых значение в столбце 'city' равно 'Saint-Petersburg'\n"
   ]
  },
  {
   "cell_type": "markdown",
   "metadata": {
    "deletable": false,
    "editable": false,
    "id": "MEJV-CX2_Zcu",
    "tags": [
     "start_task"
    ]
   },
   "source": [
    "**Задание 24**"
   ]
  },
  {
   "cell_type": "code",
   "execution_count": 30,
   "metadata": {
    "deletable": false,
    "id": "laJT9BYl_Zcu"
   },
   "outputs": [],
   "source": [
    "def genre_weekday(df, day, time1, time2):\n",
    "    # последовательная фильтрация\n",
    "    # оставляем в genre_df только те строки df, у которых день равен day\n",
    "    genre_df = df.loc[df['day'] == day]\n",
    "\n",
    "    # оставляем в genre_df только те строки genre_df, у которых время меньше time2\n",
    "    genre_df = genre_df.loc[df['time'] < time2]\n",
    "\n",
    "    # оставляем в genre_df только те строки genre_df, у которых время больше time1\n",
    "    genre_df = genre_df.loc[df['time'] > time1]\n",
    "\n",
    "    # сгруппируем отфильтрованный датафрейм по столбцу с названиями жанров, возьмём столбец genre и посчитаем кол-во строк для каждого жанра методом count()\n",
    "    genre_df_grouped = genre_df.groupby('genre')['genre'].count()\n",
    "    # отсортируем результат по убыванию (чтобы в начале Series оказались самые популярные жанры)\n",
    "    genre_df_sorted = genre_df_grouped.sort_values(ascending=False)\n",
    "    # вернём Series с 10 самыми популярными жанрами в указанный отрезок времени заданного дня\n",
    "    return genre_df_sorted[:10]"
   ]
  },
  {
   "cell_type": "markdown",
   "metadata": {
    "deletable": false,
    "editable": false,
    "id": "la2s2_PF_Zcu",
    "tags": [
     "start_task"
    ]
   },
   "source": [
    "**Задание 25**"
   ]
  },
  {
   "cell_type": "code",
   "execution_count": 31,
   "metadata": {
    "deletable": false,
    "id": "yz7itPUQ_Zcu"
   },
   "outputs": [
    {
     "data": {
      "text/plain": [
       "genre\n",
       "pop            781\n",
       "dance          549\n",
       "electronic     480\n",
       "rock           474\n",
       "hiphop         286\n",
       "ruspop         186\n",
       "world          181\n",
       "rusrap         175\n",
       "alternative    164\n",
       "unknown        161\n",
       "Name: genre, dtype: int64"
      ]
     },
     "execution_count": 31,
     "metadata": {},
     "output_type": "execute_result"
    }
   ],
   "source": [
    "genre_weekday(moscow_general, 'Monday', '07:00', '11:00')# вызов функции для утра понf — таблица moscow_general)едельника в Москве (вместо d"
   ]
  },
  {
   "cell_type": "code",
   "execution_count": 32,
   "metadata": {
    "deletable": false,
    "id": "kwUcHPdy_Zcu"
   },
   "outputs": [
    {
     "data": {
      "text/plain": [
       "genre\n",
       "pop            218\n",
       "dance          182\n",
       "rock           162\n",
       "electronic     147\n",
       "hiphop          80\n",
       "ruspop          64\n",
       "alternative     58\n",
       "rusrap          55\n",
       "jazz            44\n",
       "classical       40\n",
       "Name: genre, dtype: int64"
      ]
     },
     "execution_count": 32,
     "metadata": {},
     "output_type": "execute_result"
    }
   ],
   "source": [
    "genre_weekday(spb_general, 'Monday', '07:00', '11:00')# вызов функции для утра понедельника в Петербурге (вместо df — таблица spb_general)"
   ]
  },
  {
   "cell_type": "code",
   "execution_count": 33,
   "metadata": {
    "deletable": false,
    "id": "EzXVRE1o_Zcu"
   },
   "outputs": [
    {
     "data": {
      "text/plain": [
       "genre\n",
       "pop            713\n",
       "rock           517\n",
       "dance          495\n",
       "electronic     482\n",
       "hiphop         273\n",
       "world          208\n",
       "ruspop         170\n",
       "alternative    163\n",
       "classical      163\n",
       "rusrap         142\n",
       "Name: genre, dtype: int64"
      ]
     },
     "execution_count": 33,
     "metadata": {},
     "output_type": "execute_result"
    }
   ],
   "source": [
    "genre_weekday(moscow_general, 'Friday', '17:00', '23:00')# вызов функции для вечера пятницы в Москве"
   ]
  },
  {
   "cell_type": "code",
   "execution_count": 34,
   "metadata": {
    "deletable": false,
    "id": "JZaEKu5v_Zcu"
   },
   "outputs": [
    {
     "data": {
      "text/plain": [
       "genre\n",
       "pop            256\n",
       "electronic     216\n",
       "rock           216\n",
       "dance          210\n",
       "hiphop          97\n",
       "alternative     63\n",
       "jazz            61\n",
       "classical       60\n",
       "rusrap          59\n",
       "world           54\n",
       "Name: genre, dtype: int64"
      ]
     },
     "execution_count": 34,
     "metadata": {},
     "output_type": "execute_result"
    }
   ],
   "source": [
    "genre_weekday(spb_general, 'Friday', '17:00', '23:00')# вызов функции для вечера пятницы в Петербурге"
   ]
  },
  {
   "cell_type": "markdown",
   "metadata": {
    "deletable": false,
    "editable": false,
    "id": "wrCe4MNX_Zcu"
   },
   "source": [
    "**Выводы**\n",
    "\n",
    "Если сравнить топ-10 жанров в понедельник утром, можно сделать такие выводы:\n",
    "\n",
    "1. В Москве и Петербурге слушают похожую музыку. Единственное различие — в московский рейтинг вошёл жанр “world”, а в петербургский — джаз и классика.\n",
    "\n",
    "2. В Москве пропущенных значений оказалось так много, что значение `'unknown'` заняло десятое место среди самых популярных жанров. Значит, пропущенные значения занимают существенную долю в данных и угрожают достоверности исследования.\n",
    "\n",
    "Вечер пятницы не меняет эту картину. Некоторые жанры поднимаются немного выше, другие спускаются, но в целом топ-10 остаётся тем же самым.\n",
    "\n",
    "Таким образом, вторая гипотеза подтвердилась лишь частично:\n",
    "* Пользователи слушают похожую музыку в начале недели и в конце.\n",
    "* Разница между Москвой и Петербургом не слишком выражена. В Москве чаще слушают русскую популярную музыку, в Петербурге — джаз.\n",
    "\n",
    "Однако пропуски в данных ставят под сомнение этот результат. В Москве их так много, что рейтинг топ-10 мог бы выглядеть иначе, если бы не утерянные  данные о жанрах."
   ]
  },
  {
   "cell_type": "markdown",
   "metadata": {
    "deletable": false,
    "editable": false,
    "id": "JolODAqr_Zcu"
   },
   "source": [
    "### Жанровые предпочтения в Москве и Петербурге\n",
    "\n",
    "Гипотеза: Петербург — столица рэпа, музыку этого жанра там слушают чаще, чем в Москве.  А Москва — город контрастов, в котором, тем не менее, преобладает поп-музыка."
   ]
  },
  {
   "cell_type": "markdown",
   "metadata": {
    "deletable": false,
    "editable": false,
    "id": "DlegSvaT_Zcu",
    "tags": [
     "start_task"
    ]
   },
   "source": [
    "**Задание 26**"
   ]
  },
  {
   "cell_type": "code",
   "execution_count": 35,
   "metadata": {
    "deletable": false,
    "id": "r19lIPke_Zcu"
   },
   "outputs": [],
   "source": [
    "moscow_genres = moscow_general.groupby('genre')['genre'].count()\n",
    "# одной строкой: группировка таблицы moscow_general по столбцу 'genre',\n",
    "# выбор столбца `genre`, подсчёт числа значений 'genre' методом count(),\n",
    "# сохранение в moscow_genres\n",
    "moscow_genres = moscow_genres.sort_values(ascending=False)\n",
    "# сортировка получившегося Series в порядке убывания и\n",
    "# сохранение обратно в moscow_genres"
   ]
  },
  {
   "cell_type": "markdown",
   "metadata": {
    "deletable": false,
    "editable": false,
    "id": "6kMuomxTiIr8",
    "tags": [
     "start_task"
    ]
   },
   "source": [
    "**Задание 27**"
   ]
  },
  {
   "cell_type": "code",
   "execution_count": 36,
   "metadata": {
    "deletable": false,
    "id": "WhCSooF8_Zcv"
   },
   "outputs": [
    {
     "name": "stdout",
     "output_type": "stream",
     "text": [
      "genre\n",
      "pop            5892\n",
      "dance          4435\n",
      "rock           3965\n",
      "electronic     3786\n",
      "hiphop         2096\n",
      "classical      1616\n",
      "world          1432\n",
      "alternative    1379\n",
      "ruspop         1372\n",
      "rusrap         1161\n",
      "Name: genre, dtype: int64\n"
     ]
    }
   ],
   "source": [
    "print(moscow_genres.head(10))# просмотр первых 10 строк moscow_genres"
   ]
  },
  {
   "cell_type": "markdown",
   "metadata": {
    "deletable": false,
    "editable": false,
    "id": "cnPG2vnN_Zcv",
    "tags": [
     "start_task"
    ]
   },
   "source": [
    "**Задание 28**"
   ]
  },
  {
   "cell_type": "code",
   "execution_count": 37,
   "metadata": {
    "deletable": false,
    "id": "gluLIpE7_Zcv"
   },
   "outputs": [],
   "source": [
    "spb_genres = spb_general.groupby('genre')['genre'].count()\n",
    "# одной строкой: группировка таблицы spb_general по столбцу 'genre', \n",
    "#выбор столбца `genre`, подсчёт числа значений 'genre' методом count(),\n",
    "#сохранение в spb_genres\n",
    "spb_genres = spb_genres.sort_values(ascending=False)\n",
    "# сортировка получившегося Series в порядке убывания и сохранение обратно в spb_genres"
   ]
  },
  {
   "cell_type": "markdown",
   "metadata": {
    "deletable": false,
    "editable": false,
    "id": "5Doha_ODgyQ8",
    "tags": [
     "start_task"
    ]
   },
   "source": [
    "**Задание 29**"
   ]
  },
  {
   "cell_type": "code",
   "execution_count": 38,
   "metadata": {
    "deletable": false,
    "id": "uaGJHjVU_Zcv"
   },
   "outputs": [
    {
     "name": "stdout",
     "output_type": "stream",
     "text": [
      "genre\n",
      "pop            2431\n",
      "dance          1932\n",
      "rock           1879\n",
      "electronic     1736\n",
      "hiphop          960\n",
      "alternative     649\n",
      "classical       646\n",
      "rusrap          564\n",
      "ruspop          538\n",
      "world           515\n",
      "Name: genre, dtype: int64\n"
     ]
    }
   ],
   "source": [
    "print(spb_genres.head(10))# просмотр первых 10 строк spb_genres"
   ]
  },
  {
   "cell_type": "markdown",
   "metadata": {
    "deletable": false,
    "editable": false,
    "id": "RY51YJYu_Zcv"
   },
   "source": [
    "**Выводы**"
   ]
  },
  {
   "cell_type": "markdown",
   "metadata": {
    "deletable": false,
    "editable": false,
    "id": "nVhnJEm__Zcv"
   },
   "source": [
    "Гипотеза частично подтвердилась:\n",
    "* Поп-музыка — самый популярный жанр в Москве, как и предполагала гипотеза. Более того, в топ-10 жанров встречается близкий жанр — русская популярная музыка.\n",
    "* Вопреки ожиданиям, рэп одинаково популярен в Москве и Петербурге.\n"
   ]
  },
  {
   "cell_type": "markdown",
   "metadata": {
    "deletable": false,
    "editable": false,
    "id": "ykKQ0N65_Zcv"
   },
   "source": [
    "## Итоги исследования"
   ]
  },
  {
   "cell_type": "markdown",
   "metadata": {
    "deletable": false,
    "editable": false,
    "id": "tjUwbHb3_Zcv"
   },
   "source": [
    "Вы проверили три гипотезы и установили:\n",
    "\n",
    "1. День недели по-разному влияет на активность пользователей в Москве и Петербурге.\n",
    "\n",
    "Первая гипотеза полностью подтвердилась.\n",
    "\n",
    "2. Музыкальные предпочтения не сильно меняются в течение недели — будь то Москва или Петербург. Небольшие различия заметны в начале недели, по понедельникам:\n",
    "* в Москве слушают музыку жанра “world”,\n",
    "* в Петербурге — джаз и классику.\n",
    "\n",
    "Таким образом, вторая гипотеза подтвердилась лишь отчасти. Этот результат мог оказаться иным, если бы не пропуски в данных.\n",
    "\n",
    "3. Во вкусах пользователей Москвы и Петербурга больше общего, чем различий. Вопреки ожиданиям, предпочтения жанров в Петербурге напоминают московские.\n",
    "\n",
    "Третья гипотеза не подтвердилась. Если различия в предпочтениях и существуют, на основной массе пользователей они незаметны.\n",
    "\n",
    "**На практике исследования содержат проверки статистических гипотез.**\n",
    "Из части данных одного сервиса невозможно сделать какие-то выводы о всех пользователях сервиса без методов статистики.\n",
    "Проверки статистических гипотез покажут, насколько они достоверны, исходя из имеющихся данных.\n",
    "С методами проверок гипотез вы ещё познакомитесь в следующих темах."
   ]
  }
 ],
 "metadata": {
  "ExecuteTimeLog": [
   {
    "duration": 402,
    "start_time": "2024-08-12T07:47:34.386Z"
   },
   {
    "duration": 58,
    "start_time": "2024-08-12T07:49:05.119Z"
   },
   {
    "duration": 52,
    "start_time": "2024-08-12T07:49:09.667Z"
   },
   {
    "duration": 92,
    "start_time": "2024-08-12T07:49:20.150Z"
   },
   {
    "duration": 461,
    "start_time": "2024-08-12T07:49:27.715Z"
   },
   {
    "duration": 7,
    "start_time": "2024-08-12T07:50:19.381Z"
   },
   {
    "duration": 23,
    "start_time": "2024-08-12T07:51:07.961Z"
   },
   {
    "duration": 6,
    "start_time": "2024-08-12T08:01:19.333Z"
   },
   {
    "duration": 7,
    "start_time": "2024-08-12T08:01:28.602Z"
   },
   {
    "duration": 32,
    "start_time": "2024-08-12T08:03:40.649Z"
   },
   {
    "duration": 69,
    "start_time": "2024-08-12T08:05:02.621Z"
   },
   {
    "duration": 10,
    "start_time": "2024-08-12T08:06:12.209Z"
   },
   {
    "duration": 3,
    "start_time": "2024-08-12T08:10:40.852Z"
   },
   {
    "duration": 6,
    "start_time": "2024-08-12T08:13:15.776Z"
   },
   {
    "duration": 19,
    "start_time": "2024-08-12T08:13:37.240Z"
   },
   {
    "duration": 56,
    "start_time": "2024-08-12T08:18:43.423Z"
   },
   {
    "duration": 8,
    "start_time": "2024-08-12T08:19:05.375Z"
   },
   {
    "duration": 10,
    "start_time": "2024-08-12T08:24:31.022Z"
   },
   {
    "duration": 6,
    "start_time": "2024-08-12T08:25:35.823Z"
   },
   {
    "duration": 15,
    "start_time": "2024-08-12T08:28:13.124Z"
   },
   {
    "duration": 18,
    "start_time": "2024-08-12T08:29:59.408Z"
   },
   {
    "duration": 58,
    "start_time": "2024-08-12T08:31:35.740Z"
   },
   {
    "duration": 65,
    "start_time": "2024-08-12T08:35:47.019Z"
   },
   {
    "duration": 50,
    "start_time": "2024-08-12T08:36:44.285Z"
   },
   {
    "duration": 14,
    "start_time": "2024-08-12T08:46:23.601Z"
   },
   {
    "duration": 59,
    "start_time": "2024-08-12T08:46:35.706Z"
   },
   {
    "duration": 7,
    "start_time": "2024-08-12T08:48:01.139Z"
   },
   {
    "duration": 9,
    "start_time": "2024-08-12T08:48:23.733Z"
   },
   {
    "duration": 36,
    "start_time": "2024-08-12T08:48:40.242Z"
   },
   {
    "duration": 10,
    "start_time": "2024-08-12T08:50:50.525Z"
   },
   {
    "duration": 9,
    "start_time": "2024-08-12T09:00:30.800Z"
   },
   {
    "duration": 15,
    "start_time": "2024-08-12T09:02:41.247Z"
   },
   {
    "duration": 12,
    "start_time": "2024-08-12T09:03:40.812Z"
   },
   {
    "duration": 14,
    "start_time": "2024-08-12T09:06:43.509Z"
   },
   {
    "duration": 18,
    "start_time": "2024-08-12T09:07:48.267Z"
   },
   {
    "duration": 8,
    "start_time": "2024-08-12T09:08:25.546Z"
   },
   {
    "duration": 8,
    "start_time": "2024-08-12T09:08:41.891Z"
   },
   {
    "duration": 16,
    "start_time": "2024-08-12T09:09:22.445Z"
   },
   {
    "duration": 9,
    "start_time": "2024-08-12T09:09:34.760Z"
   },
   {
    "duration": 11,
    "start_time": "2024-08-12T09:10:24.177Z"
   },
   {
    "duration": 8,
    "start_time": "2024-08-12T09:11:23.075Z"
   },
   {
    "duration": 9,
    "start_time": "2024-08-12T09:12:20.799Z"
   },
   {
    "duration": 390,
    "start_time": "2024-08-12T09:12:29.489Z"
   },
   {
    "duration": 170,
    "start_time": "2024-08-12T09:12:29.880Z"
   },
   {
    "duration": 8,
    "start_time": "2024-08-12T09:12:30.052Z"
   },
   {
    "duration": 113,
    "start_time": "2024-08-12T09:12:30.061Z"
   },
   {
    "duration": 44,
    "start_time": "2024-08-12T09:12:30.175Z"
   },
   {
    "duration": 50,
    "start_time": "2024-08-12T09:12:30.220Z"
   },
   {
    "duration": 59,
    "start_time": "2024-08-12T09:12:30.272Z"
   },
   {
    "duration": 54,
    "start_time": "2024-08-12T09:12:30.333Z"
   },
   {
    "duration": 54,
    "start_time": "2024-08-12T09:12:30.389Z"
   },
   {
    "duration": 64,
    "start_time": "2024-08-12T09:12:30.445Z"
   },
   {
    "duration": 47,
    "start_time": "2024-08-12T09:12:30.511Z"
   },
   {
    "duration": 110,
    "start_time": "2024-08-12T09:12:30.559Z"
   },
   {
    "duration": 72,
    "start_time": "2024-08-12T09:12:30.671Z"
   },
   {
    "duration": 54,
    "start_time": "2024-08-12T09:12:30.744Z"
   },
   {
    "duration": 48,
    "start_time": "2024-08-12T09:12:30.801Z"
   },
   {
    "duration": 8,
    "start_time": "2024-08-12T09:12:30.850Z"
   },
   {
    "duration": 71,
    "start_time": "2024-08-12T09:12:30.859Z"
   },
   {
    "duration": 247,
    "start_time": "2024-08-12T09:12:30.931Z"
   },
   {
    "duration": 161,
    "start_time": "2024-08-12T09:12:31.180Z"
   },
   {
    "duration": 83,
    "start_time": "2024-08-12T09:12:31.343Z"
   },
   {
    "duration": 0,
    "start_time": "2024-08-12T09:12:31.429Z"
   },
   {
    "duration": 0,
    "start_time": "2024-08-12T09:12:31.430Z"
   },
   {
    "duration": 0,
    "start_time": "2024-08-12T09:12:31.431Z"
   },
   {
    "duration": 0,
    "start_time": "2024-08-12T09:12:31.432Z"
   },
   {
    "duration": 0,
    "start_time": "2024-08-12T09:12:31.433Z"
   },
   {
    "duration": 0,
    "start_time": "2024-08-12T09:12:31.434Z"
   },
   {
    "duration": 0,
    "start_time": "2024-08-12T09:12:31.436Z"
   },
   {
    "duration": 0,
    "start_time": "2024-08-12T09:12:31.437Z"
   },
   {
    "duration": 0,
    "start_time": "2024-08-12T09:12:31.437Z"
   },
   {
    "duration": 0,
    "start_time": "2024-08-12T09:12:31.438Z"
   },
   {
    "duration": 0,
    "start_time": "2024-08-12T09:12:31.439Z"
   },
   {
    "duration": 0,
    "start_time": "2024-08-12T09:12:31.440Z"
   },
   {
    "duration": 0,
    "start_time": "2024-08-12T09:12:31.441Z"
   },
   {
    "duration": 0,
    "start_time": "2024-08-12T09:12:31.442Z"
   },
   {
    "duration": 0,
    "start_time": "2024-08-12T09:12:31.443Z"
   },
   {
    "duration": 0,
    "start_time": "2024-08-12T09:12:31.444Z"
   },
   {
    "duration": 0,
    "start_time": "2024-08-12T09:12:31.445Z"
   },
   {
    "duration": 0,
    "start_time": "2024-08-12T09:12:31.447Z"
   },
   {
    "duration": 9,
    "start_time": "2024-08-12T09:13:38.826Z"
   },
   {
    "duration": 73,
    "start_time": "2024-08-12T09:14:17.494Z"
   },
   {
    "duration": 346,
    "start_time": "2024-08-12T09:14:25.551Z"
   },
   {
    "duration": 155,
    "start_time": "2024-08-12T09:14:25.899Z"
   },
   {
    "duration": 8,
    "start_time": "2024-08-12T09:14:26.055Z"
   },
   {
    "duration": 96,
    "start_time": "2024-08-12T09:14:26.064Z"
   },
   {
    "duration": 2,
    "start_time": "2024-08-12T09:14:26.161Z"
   },
   {
    "duration": 25,
    "start_time": "2024-08-12T09:14:26.165Z"
   },
   {
    "duration": 27,
    "start_time": "2024-08-12T09:14:26.191Z"
   },
   {
    "duration": 11,
    "start_time": "2024-08-12T09:14:26.219Z"
   },
   {
    "duration": 18,
    "start_time": "2024-08-12T09:14:26.231Z"
   },
   {
    "duration": 16,
    "start_time": "2024-08-12T09:14:26.250Z"
   },
   {
    "duration": 17,
    "start_time": "2024-08-12T09:14:26.267Z"
   },
   {
    "duration": 73,
    "start_time": "2024-08-12T09:14:26.285Z"
   },
   {
    "duration": 79,
    "start_time": "2024-08-12T09:14:26.360Z"
   },
   {
    "duration": 60,
    "start_time": "2024-08-12T09:14:26.441Z"
   },
   {
    "duration": 43,
    "start_time": "2024-08-12T09:14:26.503Z"
   },
   {
    "duration": 83,
    "start_time": "2024-08-12T09:14:26.547Z"
   },
   {
    "duration": 0,
    "start_time": "2024-08-12T09:14:26.631Z"
   },
   {
    "duration": 0,
    "start_time": "2024-08-12T09:14:26.632Z"
   },
   {
    "duration": 0,
    "start_time": "2024-08-12T09:14:26.633Z"
   },
   {
    "duration": 0,
    "start_time": "2024-08-12T09:14:26.633Z"
   },
   {
    "duration": 0,
    "start_time": "2024-08-12T09:14:26.634Z"
   },
   {
    "duration": 0,
    "start_time": "2024-08-12T09:14:26.635Z"
   },
   {
    "duration": 0,
    "start_time": "2024-08-12T09:14:26.636Z"
   },
   {
    "duration": 0,
    "start_time": "2024-08-12T09:14:26.636Z"
   },
   {
    "duration": 0,
    "start_time": "2024-08-12T09:14:26.637Z"
   },
   {
    "duration": 0,
    "start_time": "2024-08-12T09:14:26.638Z"
   },
   {
    "duration": 0,
    "start_time": "2024-08-12T09:14:26.638Z"
   },
   {
    "duration": 0,
    "start_time": "2024-08-12T09:14:26.639Z"
   },
   {
    "duration": 0,
    "start_time": "2024-08-12T09:14:26.640Z"
   },
   {
    "duration": 0,
    "start_time": "2024-08-12T09:14:26.640Z"
   },
   {
    "duration": 0,
    "start_time": "2024-08-12T09:14:26.641Z"
   },
   {
    "duration": 0,
    "start_time": "2024-08-12T09:14:26.642Z"
   },
   {
    "duration": 0,
    "start_time": "2024-08-12T09:14:26.643Z"
   },
   {
    "duration": 0,
    "start_time": "2024-08-12T09:14:26.644Z"
   },
   {
    "duration": 0,
    "start_time": "2024-08-12T09:14:26.644Z"
   },
   {
    "duration": 0,
    "start_time": "2024-08-12T09:14:26.645Z"
   },
   {
    "duration": 0,
    "start_time": "2024-08-12T09:14:26.646Z"
   },
   {
    "duration": 0,
    "start_time": "2024-08-12T09:14:26.647Z"
   },
   {
    "duration": 8,
    "start_time": "2024-08-12T09:14:46.193Z"
   },
   {
    "duration": 349,
    "start_time": "2024-08-12T09:14:55.454Z"
   },
   {
    "duration": 157,
    "start_time": "2024-08-12T09:14:55.805Z"
   },
   {
    "duration": 7,
    "start_time": "2024-08-12T09:14:55.963Z"
   },
   {
    "duration": 196,
    "start_time": "2024-08-12T09:14:55.971Z"
   },
   {
    "duration": 55,
    "start_time": "2024-08-12T09:14:56.169Z"
   },
   {
    "duration": 43,
    "start_time": "2024-08-12T09:14:56.226Z"
   },
   {
    "duration": 26,
    "start_time": "2024-08-12T09:14:56.271Z"
   },
   {
    "duration": 32,
    "start_time": "2024-08-12T09:14:56.298Z"
   },
   {
    "duration": 37,
    "start_time": "2024-08-12T09:14:56.332Z"
   },
   {
    "duration": 57,
    "start_time": "2024-08-12T09:14:56.371Z"
   },
   {
    "duration": 22,
    "start_time": "2024-08-12T09:14:56.429Z"
   },
   {
    "duration": 84,
    "start_time": "2024-08-12T09:14:56.452Z"
   },
   {
    "duration": 73,
    "start_time": "2024-08-12T09:14:56.537Z"
   },
   {
    "duration": 54,
    "start_time": "2024-08-12T09:14:56.613Z"
   },
   {
    "duration": 42,
    "start_time": "2024-08-12T09:14:56.668Z"
   },
   {
    "duration": 10,
    "start_time": "2024-08-12T09:14:56.712Z"
   },
   {
    "duration": 36,
    "start_time": "2024-08-12T09:14:56.724Z"
   },
   {
    "duration": 45,
    "start_time": "2024-08-12T09:14:56.762Z"
   },
   {
    "duration": 26,
    "start_time": "2024-08-12T09:14:56.809Z"
   },
   {
    "duration": 71,
    "start_time": "2024-08-12T09:14:56.836Z"
   },
   {
    "duration": 0,
    "start_time": "2024-08-12T09:14:56.909Z"
   },
   {
    "duration": 0,
    "start_time": "2024-08-12T09:14:56.910Z"
   },
   {
    "duration": 0,
    "start_time": "2024-08-12T09:14:56.911Z"
   },
   {
    "duration": 0,
    "start_time": "2024-08-12T09:14:56.912Z"
   },
   {
    "duration": 0,
    "start_time": "2024-08-12T09:14:56.913Z"
   },
   {
    "duration": 0,
    "start_time": "2024-08-12T09:14:56.914Z"
   },
   {
    "duration": 0,
    "start_time": "2024-08-12T09:14:56.915Z"
   },
   {
    "duration": 0,
    "start_time": "2024-08-12T09:14:56.916Z"
   },
   {
    "duration": 0,
    "start_time": "2024-08-12T09:14:56.917Z"
   },
   {
    "duration": 0,
    "start_time": "2024-08-12T09:14:56.918Z"
   },
   {
    "duration": 0,
    "start_time": "2024-08-12T09:14:56.919Z"
   },
   {
    "duration": 0,
    "start_time": "2024-08-12T09:14:56.920Z"
   },
   {
    "duration": 0,
    "start_time": "2024-08-12T09:14:56.921Z"
   },
   {
    "duration": 0,
    "start_time": "2024-08-12T09:14:56.922Z"
   },
   {
    "duration": 0,
    "start_time": "2024-08-12T09:14:56.923Z"
   },
   {
    "duration": 0,
    "start_time": "2024-08-12T09:14:56.924Z"
   },
   {
    "duration": 0,
    "start_time": "2024-08-12T09:14:56.925Z"
   },
   {
    "duration": 0,
    "start_time": "2024-08-12T09:14:56.926Z"
   },
   {
    "duration": 75,
    "start_time": "2024-08-12T09:15:09.656Z"
   },
   {
    "duration": 8,
    "start_time": "2024-08-12T09:16:03.458Z"
   },
   {
    "duration": 391,
    "start_time": "2024-08-12T09:16:22.791Z"
   },
   {
    "duration": 163,
    "start_time": "2024-08-12T09:16:23.184Z"
   },
   {
    "duration": 7,
    "start_time": "2024-08-12T09:16:23.348Z"
   },
   {
    "duration": 28,
    "start_time": "2024-08-12T09:16:23.357Z"
   },
   {
    "duration": 3,
    "start_time": "2024-08-12T09:16:23.386Z"
   },
   {
    "duration": 19,
    "start_time": "2024-08-12T09:16:23.390Z"
   },
   {
    "duration": 20,
    "start_time": "2024-08-12T09:16:23.411Z"
   },
   {
    "duration": 4,
    "start_time": "2024-08-12T09:16:23.432Z"
   },
   {
    "duration": 28,
    "start_time": "2024-08-12T09:16:23.437Z"
   },
   {
    "duration": 25,
    "start_time": "2024-08-12T09:16:23.466Z"
   },
   {
    "duration": 17,
    "start_time": "2024-08-12T09:16:23.493Z"
   },
   {
    "duration": 93,
    "start_time": "2024-08-12T09:16:23.512Z"
   },
   {
    "duration": 70,
    "start_time": "2024-08-12T09:16:23.607Z"
   },
   {
    "duration": 69,
    "start_time": "2024-08-12T09:16:23.679Z"
   },
   {
    "duration": 32,
    "start_time": "2024-08-12T09:16:23.750Z"
   },
   {
    "duration": 20,
    "start_time": "2024-08-12T09:16:23.783Z"
   },
   {
    "duration": 2,
    "start_time": "2024-08-12T09:16:23.805Z"
   },
   {
    "duration": 16,
    "start_time": "2024-08-12T09:16:23.808Z"
   },
   {
    "duration": 7,
    "start_time": "2024-08-12T09:16:23.825Z"
   },
   {
    "duration": 55,
    "start_time": "2024-08-12T09:16:23.833Z"
   },
   {
    "duration": 0,
    "start_time": "2024-08-12T09:16:23.890Z"
   },
   {
    "duration": 0,
    "start_time": "2024-08-12T09:16:23.891Z"
   },
   {
    "duration": 0,
    "start_time": "2024-08-12T09:16:23.892Z"
   },
   {
    "duration": 0,
    "start_time": "2024-08-12T09:16:23.893Z"
   },
   {
    "duration": 0,
    "start_time": "2024-08-12T09:16:23.894Z"
   },
   {
    "duration": 0,
    "start_time": "2024-08-12T09:16:23.894Z"
   },
   {
    "duration": 0,
    "start_time": "2024-08-12T09:16:23.895Z"
   },
   {
    "duration": 0,
    "start_time": "2024-08-12T09:16:23.896Z"
   },
   {
    "duration": 0,
    "start_time": "2024-08-12T09:16:23.897Z"
   },
   {
    "duration": 0,
    "start_time": "2024-08-12T09:16:23.898Z"
   },
   {
    "duration": 0,
    "start_time": "2024-08-12T09:16:23.898Z"
   },
   {
    "duration": 0,
    "start_time": "2024-08-12T09:16:23.899Z"
   },
   {
    "duration": 0,
    "start_time": "2024-08-12T09:16:23.900Z"
   },
   {
    "duration": 0,
    "start_time": "2024-08-12T09:16:23.903Z"
   },
   {
    "duration": 0,
    "start_time": "2024-08-12T09:16:23.904Z"
   },
   {
    "duration": 0,
    "start_time": "2024-08-12T09:16:23.905Z"
   },
   {
    "duration": 0,
    "start_time": "2024-08-12T09:16:23.906Z"
   },
   {
    "duration": 0,
    "start_time": "2024-08-12T09:16:23.907Z"
   },
   {
    "duration": 13,
    "start_time": "2024-08-12T09:17:20.142Z"
   },
   {
    "duration": 9,
    "start_time": "2024-08-12T09:17:30.857Z"
   },
   {
    "duration": 34,
    "start_time": "2024-08-12T09:18:48.658Z"
   },
   {
    "duration": 7111,
    "start_time": "2024-08-12T09:25:04.923Z"
   },
   {
    "duration": 337,
    "start_time": "2024-08-12T09:26:19.124Z"
   },
   {
    "duration": 147,
    "start_time": "2024-08-12T09:26:19.462Z"
   },
   {
    "duration": 10,
    "start_time": "2024-08-12T09:26:19.611Z"
   },
   {
    "duration": 27,
    "start_time": "2024-08-12T09:26:19.623Z"
   },
   {
    "duration": 15,
    "start_time": "2024-08-12T09:26:19.652Z"
   },
   {
    "duration": 64,
    "start_time": "2024-08-12T09:26:19.668Z"
   },
   {
    "duration": 20,
    "start_time": "2024-08-12T09:26:19.734Z"
   },
   {
    "duration": 8,
    "start_time": "2024-08-12T09:26:19.755Z"
   },
   {
    "duration": 48,
    "start_time": "2024-08-12T09:26:19.764Z"
   },
   {
    "duration": 16,
    "start_time": "2024-08-12T09:26:19.816Z"
   },
   {
    "duration": 19,
    "start_time": "2024-08-12T09:26:19.833Z"
   },
   {
    "duration": 80,
    "start_time": "2024-08-12T09:26:19.853Z"
   },
   {
    "duration": 79,
    "start_time": "2024-08-12T09:26:19.934Z"
   },
   {
    "duration": 52,
    "start_time": "2024-08-12T09:26:20.015Z"
   },
   {
    "duration": 126,
    "start_time": "2024-08-12T09:26:20.069Z"
   },
   {
    "duration": 21,
    "start_time": "2024-08-12T09:26:20.197Z"
   },
   {
    "duration": 44,
    "start_time": "2024-08-12T09:26:20.220Z"
   },
   {
    "duration": 7270,
    "start_time": "2024-08-12T09:26:20.266Z"
   },
   {
    "duration": 3,
    "start_time": "2024-08-12T09:26:27.537Z"
   },
   {
    "duration": 78,
    "start_time": "2024-08-12T09:26:27.541Z"
   },
   {
    "duration": 0,
    "start_time": "2024-08-12T09:26:27.621Z"
   },
   {
    "duration": 0,
    "start_time": "2024-08-12T09:26:27.622Z"
   },
   {
    "duration": 0,
    "start_time": "2024-08-12T09:26:27.623Z"
   },
   {
    "duration": 0,
    "start_time": "2024-08-12T09:26:27.624Z"
   },
   {
    "duration": 0,
    "start_time": "2024-08-12T09:26:27.625Z"
   },
   {
    "duration": 0,
    "start_time": "2024-08-12T09:26:27.626Z"
   },
   {
    "duration": 0,
    "start_time": "2024-08-12T09:26:27.627Z"
   },
   {
    "duration": 0,
    "start_time": "2024-08-12T09:26:27.628Z"
   },
   {
    "duration": 0,
    "start_time": "2024-08-12T09:26:27.629Z"
   },
   {
    "duration": 0,
    "start_time": "2024-08-12T09:26:27.630Z"
   },
   {
    "duration": 0,
    "start_time": "2024-08-12T09:26:27.631Z"
   },
   {
    "duration": 0,
    "start_time": "2024-08-12T09:26:27.632Z"
   },
   {
    "duration": 0,
    "start_time": "2024-08-12T09:26:27.633Z"
   },
   {
    "duration": 0,
    "start_time": "2024-08-12T09:26:27.633Z"
   },
   {
    "duration": 0,
    "start_time": "2024-08-12T09:26:27.634Z"
   },
   {
    "duration": 0,
    "start_time": "2024-08-12T09:26:27.635Z"
   },
   {
    "duration": 0,
    "start_time": "2024-08-12T09:26:27.635Z"
   },
   {
    "duration": 0,
    "start_time": "2024-08-12T09:26:27.636Z"
   },
   {
    "duration": 3587,
    "start_time": "2024-08-12T09:26:43.789Z"
   },
   {
    "duration": 94,
    "start_time": "2024-08-12T09:35:12.402Z"
   },
   {
    "duration": 113,
    "start_time": "2024-08-12T09:40:26.902Z"
   },
   {
    "duration": 61,
    "start_time": "2024-08-12T09:40:33.736Z"
   },
   {
    "duration": 338,
    "start_time": "2024-08-12T09:40:40.954Z"
   },
   {
    "duration": 150,
    "start_time": "2024-08-12T09:40:41.294Z"
   },
   {
    "duration": 9,
    "start_time": "2024-08-12T09:40:41.445Z"
   },
   {
    "duration": 29,
    "start_time": "2024-08-12T09:40:41.455Z"
   },
   {
    "duration": 15,
    "start_time": "2024-08-12T09:40:41.486Z"
   },
   {
    "duration": 17,
    "start_time": "2024-08-12T09:40:41.502Z"
   },
   {
    "duration": 25,
    "start_time": "2024-08-12T09:40:41.520Z"
   },
   {
    "duration": 10,
    "start_time": "2024-08-12T09:40:41.547Z"
   },
   {
    "duration": 27,
    "start_time": "2024-08-12T09:40:41.558Z"
   },
   {
    "duration": 20,
    "start_time": "2024-08-12T09:40:41.586Z"
   },
   {
    "duration": 20,
    "start_time": "2024-08-12T09:40:41.607Z"
   },
   {
    "duration": 76,
    "start_time": "2024-08-12T09:40:41.628Z"
   },
   {
    "duration": 65,
    "start_time": "2024-08-12T09:40:41.705Z"
   },
   {
    "duration": 57,
    "start_time": "2024-08-12T09:40:41.773Z"
   },
   {
    "duration": 32,
    "start_time": "2024-08-12T09:40:41.831Z"
   },
   {
    "duration": 9,
    "start_time": "2024-08-12T09:40:41.864Z"
   },
   {
    "duration": 49,
    "start_time": "2024-08-12T09:40:41.874Z"
   },
   {
    "duration": 60,
    "start_time": "2024-08-12T09:40:41.924Z"
   },
   {
    "duration": 0,
    "start_time": "2024-08-12T09:40:41.985Z"
   },
   {
    "duration": 0,
    "start_time": "2024-08-12T09:40:41.986Z"
   },
   {
    "duration": 0,
    "start_time": "2024-08-12T09:40:41.988Z"
   },
   {
    "duration": 0,
    "start_time": "2024-08-12T09:40:41.989Z"
   },
   {
    "duration": 0,
    "start_time": "2024-08-12T09:40:42.001Z"
   },
   {
    "duration": 0,
    "start_time": "2024-08-12T09:40:42.002Z"
   },
   {
    "duration": 0,
    "start_time": "2024-08-12T09:40:42.004Z"
   },
   {
    "duration": 0,
    "start_time": "2024-08-12T09:40:42.005Z"
   },
   {
    "duration": 0,
    "start_time": "2024-08-12T09:40:42.006Z"
   },
   {
    "duration": 0,
    "start_time": "2024-08-12T09:40:42.007Z"
   },
   {
    "duration": 0,
    "start_time": "2024-08-12T09:40:42.008Z"
   },
   {
    "duration": 0,
    "start_time": "2024-08-12T09:40:42.010Z"
   },
   {
    "duration": 0,
    "start_time": "2024-08-12T09:40:42.011Z"
   },
   {
    "duration": 0,
    "start_time": "2024-08-12T09:40:42.013Z"
   },
   {
    "duration": 0,
    "start_time": "2024-08-12T09:40:42.014Z"
   },
   {
    "duration": 0,
    "start_time": "2024-08-12T09:40:42.015Z"
   },
   {
    "duration": 0,
    "start_time": "2024-08-12T09:40:42.017Z"
   },
   {
    "duration": 0,
    "start_time": "2024-08-12T09:40:42.018Z"
   },
   {
    "duration": 0,
    "start_time": "2024-08-12T09:40:42.019Z"
   },
   {
    "duration": 0,
    "start_time": "2024-08-12T09:40:42.020Z"
   },
   {
    "duration": 3476,
    "start_time": "2024-08-12T09:41:27.735Z"
   },
   {
    "duration": 10,
    "start_time": "2024-08-12T09:43:41.485Z"
   },
   {
    "duration": 12,
    "start_time": "2024-08-12T09:44:26.131Z"
   },
   {
    "duration": 10,
    "start_time": "2024-08-12T09:44:43.763Z"
   },
   {
    "duration": 26,
    "start_time": "2024-08-12T09:44:58.263Z"
   },
   {
    "duration": 9,
    "start_time": "2024-08-12T09:45:19.763Z"
   },
   {
    "duration": 10,
    "start_time": "2024-08-12T09:45:56.066Z"
   },
   {
    "duration": 23,
    "start_time": "2024-08-12T09:47:17.298Z"
   },
   {
    "duration": 10,
    "start_time": "2024-08-12T09:47:47.499Z"
   },
   {
    "duration": 12,
    "start_time": "2024-08-12T09:51:09.042Z"
   },
   {
    "duration": 986,
    "start_time": "2024-08-12T09:51:41.624Z"
   },
   {
    "duration": 1052,
    "start_time": "2024-08-12T09:51:49.111Z"
   },
   {
    "duration": 3,
    "start_time": "2024-08-12T09:52:45.264Z"
   },
   {
    "duration": 9,
    "start_time": "2024-08-12T09:55:19.746Z"
   },
   {
    "duration": 4,
    "start_time": "2024-08-12T09:55:27.931Z"
   },
   {
    "duration": 6,
    "start_time": "2024-08-12T09:55:34.453Z"
   },
   {
    "duration": 9,
    "start_time": "2024-08-12T09:55:41.895Z"
   },
   {
    "duration": 10,
    "start_time": "2024-08-12T09:56:05.588Z"
   },
   {
    "duration": 8,
    "start_time": "2024-08-12T09:56:39.933Z"
   },
   {
    "duration": 59,
    "start_time": "2024-08-12T09:56:51.770Z"
   },
   {
    "duration": 10,
    "start_time": "2024-08-12T09:57:35.277Z"
   },
   {
    "duration": 1064,
    "start_time": "2024-08-12T09:58:06.667Z"
   },
   {
    "duration": 7,
    "start_time": "2024-08-12T09:58:24.861Z"
   },
   {
    "duration": 7,
    "start_time": "2024-08-12T09:58:58.295Z"
   },
   {
    "duration": 10,
    "start_time": "2024-08-12T10:00:26.394Z"
   },
   {
    "duration": 9,
    "start_time": "2024-08-12T10:01:29.310Z"
   },
   {
    "duration": 25,
    "start_time": "2024-08-12T10:01:39.974Z"
   },
   {
    "duration": 60,
    "start_time": "2024-08-12T10:02:23.601Z"
   },
   {
    "duration": 10,
    "start_time": "2024-08-12T10:02:30.975Z"
   },
   {
    "duration": 8,
    "start_time": "2024-08-12T10:03:12.809Z"
   },
   {
    "duration": 9,
    "start_time": "2024-08-12T10:03:20.160Z"
   },
   {
    "duration": 50,
    "start_time": "2024-08-12T10:04:29.958Z"
   },
   {
    "duration": 1086,
    "start_time": "2024-08-12T10:06:00.678Z"
   },
   {
    "duration": 1009,
    "start_time": "2024-08-12T10:06:34.759Z"
   },
   {
    "duration": 10,
    "start_time": "2024-08-12T10:51:51.712Z"
   },
   {
    "duration": 9,
    "start_time": "2024-08-12T10:54:00.731Z"
   },
   {
    "duration": 368,
    "start_time": "2024-08-13T08:54:45.314Z"
   },
   {
    "duration": 506,
    "start_time": "2024-08-13T08:54:45.684Z"
   },
   {
    "duration": 8,
    "start_time": "2024-08-13T08:54:46.192Z"
   },
   {
    "duration": 80,
    "start_time": "2024-08-13T08:54:46.201Z"
   },
   {
    "duration": 3,
    "start_time": "2024-08-13T08:54:46.283Z"
   },
   {
    "duration": 30,
    "start_time": "2024-08-13T08:54:46.288Z"
   },
   {
    "duration": 15,
    "start_time": "2024-08-13T08:54:46.320Z"
   },
   {
    "duration": 7,
    "start_time": "2024-08-13T08:54:46.337Z"
   },
   {
    "duration": 30,
    "start_time": "2024-08-13T08:54:46.345Z"
   },
   {
    "duration": 40,
    "start_time": "2024-08-13T08:54:46.376Z"
   },
   {
    "duration": 25,
    "start_time": "2024-08-13T08:54:46.417Z"
   },
   {
    "duration": 77,
    "start_time": "2024-08-13T08:54:46.444Z"
   },
   {
    "duration": 90,
    "start_time": "2024-08-13T08:54:46.522Z"
   },
   {
    "duration": 68,
    "start_time": "2024-08-13T08:54:46.615Z"
   },
   {
    "duration": 41,
    "start_time": "2024-08-13T08:54:46.685Z"
   },
   {
    "duration": 11,
    "start_time": "2024-08-13T08:54:46.727Z"
   },
   {
    "duration": 59,
    "start_time": "2024-08-13T08:54:46.739Z"
   },
   {
    "duration": 11,
    "start_time": "2024-08-13T08:54:46.799Z"
   },
   {
    "duration": 2,
    "start_time": "2024-08-13T08:54:46.812Z"
   },
   {
    "duration": 72,
    "start_time": "2024-08-13T08:54:46.815Z"
   },
   {
    "duration": 0,
    "start_time": "2024-08-13T08:54:46.888Z"
   },
   {
    "duration": 0,
    "start_time": "2024-08-13T08:54:46.890Z"
   },
   {
    "duration": 0,
    "start_time": "2024-08-13T08:54:46.891Z"
   },
   {
    "duration": 0,
    "start_time": "2024-08-13T08:54:46.892Z"
   },
   {
    "duration": 0,
    "start_time": "2024-08-13T08:54:46.893Z"
   },
   {
    "duration": 0,
    "start_time": "2024-08-13T08:54:46.894Z"
   },
   {
    "duration": 0,
    "start_time": "2024-08-13T08:54:46.895Z"
   },
   {
    "duration": 0,
    "start_time": "2024-08-13T08:54:46.896Z"
   },
   {
    "duration": 0,
    "start_time": "2024-08-13T08:54:46.897Z"
   },
   {
    "duration": 0,
    "start_time": "2024-08-13T08:54:46.898Z"
   },
   {
    "duration": 0,
    "start_time": "2024-08-13T08:54:46.899Z"
   },
   {
    "duration": 0,
    "start_time": "2024-08-13T08:54:46.900Z"
   },
   {
    "duration": 0,
    "start_time": "2024-08-13T08:54:46.901Z"
   },
   {
    "duration": 0,
    "start_time": "2024-08-13T08:54:46.902Z"
   },
   {
    "duration": 0,
    "start_time": "2024-08-13T08:54:46.903Z"
   },
   {
    "duration": 0,
    "start_time": "2024-08-13T08:54:46.904Z"
   },
   {
    "duration": 0,
    "start_time": "2024-08-13T08:54:46.905Z"
   },
   {
    "duration": 0,
    "start_time": "2024-08-13T08:54:46.906Z"
   },
   {
    "duration": 77,
    "start_time": "2024-08-13T08:59:01.896Z"
   },
   {
    "duration": 11,
    "start_time": "2024-08-13T08:59:10.125Z"
   },
   {
    "duration": 4,
    "start_time": "2024-08-13T09:03:32.725Z"
   },
   {
    "duration": 14,
    "start_time": "2024-08-13T09:05:40.399Z"
   },
   {
    "duration": 8,
    "start_time": "2024-08-13T09:05:56.658Z"
   },
   {
    "duration": 12,
    "start_time": "2024-08-13T09:06:06.128Z"
   },
   {
    "duration": 7,
    "start_time": "2024-08-13T09:06:24.507Z"
   },
   {
    "duration": 4,
    "start_time": "2024-08-13T09:07:35.639Z"
   },
   {
    "duration": 8,
    "start_time": "2024-08-13T09:07:59.054Z"
   },
   {
    "duration": 10,
    "start_time": "2024-08-13T09:08:21.319Z"
   },
   {
    "duration": 3,
    "start_time": "2024-08-13T09:08:45.690Z"
   },
   {
    "duration": 3,
    "start_time": "2024-08-13T09:08:52.770Z"
   },
   {
    "duration": 4,
    "start_time": "2024-08-13T09:11:35.238Z"
   },
   {
    "duration": 3,
    "start_time": "2024-08-13T09:13:08.755Z"
   },
   {
    "duration": 3,
    "start_time": "2024-08-13T09:14:49.813Z"
   },
   {
    "duration": 435,
    "start_time": "2024-08-13T10:40:58.173Z"
   },
   {
    "duration": 193,
    "start_time": "2024-08-13T10:40:58.610Z"
   },
   {
    "duration": 9,
    "start_time": "2024-08-13T10:40:58.804Z"
   },
   {
    "duration": 46,
    "start_time": "2024-08-13T10:40:58.815Z"
   },
   {
    "duration": 2,
    "start_time": "2024-08-13T10:40:58.862Z"
   },
   {
    "duration": 29,
    "start_time": "2024-08-13T10:40:58.866Z"
   },
   {
    "duration": 35,
    "start_time": "2024-08-13T10:40:58.896Z"
   },
   {
    "duration": 24,
    "start_time": "2024-08-13T10:40:58.933Z"
   },
   {
    "duration": 40,
    "start_time": "2024-08-13T10:40:58.958Z"
   },
   {
    "duration": 44,
    "start_time": "2024-08-13T10:40:59.001Z"
   },
   {
    "duration": 31,
    "start_time": "2024-08-13T10:40:59.047Z"
   },
   {
    "duration": 89,
    "start_time": "2024-08-13T10:40:59.080Z"
   },
   {
    "duration": 74,
    "start_time": "2024-08-13T10:40:59.170Z"
   },
   {
    "duration": 68,
    "start_time": "2024-08-13T10:40:59.245Z"
   },
   {
    "duration": 53,
    "start_time": "2024-08-13T10:40:59.314Z"
   },
   {
    "duration": 11,
    "start_time": "2024-08-13T10:40:59.368Z"
   },
   {
    "duration": 51,
    "start_time": "2024-08-13T10:40:59.381Z"
   },
   {
    "duration": 9,
    "start_time": "2024-08-13T10:40:59.434Z"
   },
   {
    "duration": 21,
    "start_time": "2024-08-13T10:40:59.445Z"
   },
   {
    "duration": 18,
    "start_time": "2024-08-13T10:40:59.467Z"
   },
   {
    "duration": 19,
    "start_time": "2024-08-13T10:40:59.487Z"
   },
   {
    "duration": 19,
    "start_time": "2024-08-13T10:40:59.508Z"
   },
   {
    "duration": 24,
    "start_time": "2024-08-13T10:40:59.529Z"
   },
   {
    "duration": 20,
    "start_time": "2024-08-13T10:40:59.554Z"
   },
   {
    "duration": 14,
    "start_time": "2024-08-13T10:40:59.575Z"
   },
   {
    "duration": 25,
    "start_time": "2024-08-13T10:40:59.590Z"
   },
   {
    "duration": 9,
    "start_time": "2024-08-13T10:40:59.616Z"
   },
   {
    "duration": 9,
    "start_time": "2024-08-13T10:40:59.628Z"
   },
   {
    "duration": 6,
    "start_time": "2024-08-13T10:40:59.638Z"
   },
   {
    "duration": 56,
    "start_time": "2024-08-13T10:40:59.645Z"
   },
   {
    "duration": 0,
    "start_time": "2024-08-13T10:40:59.703Z"
   },
   {
    "duration": 0,
    "start_time": "2024-08-13T10:40:59.704Z"
   },
   {
    "duration": 0,
    "start_time": "2024-08-13T10:40:59.705Z"
   },
   {
    "duration": 0,
    "start_time": "2024-08-13T10:40:59.706Z"
   },
   {
    "duration": 0,
    "start_time": "2024-08-13T10:40:59.707Z"
   },
   {
    "duration": 0,
    "start_time": "2024-08-13T10:40:59.707Z"
   },
   {
    "duration": 0,
    "start_time": "2024-08-13T10:40:59.709Z"
   },
   {
    "duration": 0,
    "start_time": "2024-08-13T10:40:59.710Z"
   },
   {
    "duration": 283,
    "start_time": "2024-08-13T10:52:09.252Z"
   },
   {
    "duration": 4,
    "start_time": "2024-08-13T10:52:18.506Z"
   },
   {
    "duration": 63,
    "start_time": "2024-08-13T11:00:17.521Z"
   },
   {
    "duration": 55,
    "start_time": "2024-08-13T11:04:40.103Z"
   },
   {
    "duration": 34,
    "start_time": "2024-08-13T11:41:43.927Z"
   },
   {
    "duration": 50,
    "start_time": "2024-08-13T11:59:00.849Z"
   },
   {
    "duration": 59,
    "start_time": "2024-08-13T12:03:57.129Z"
   },
   {
    "duration": 60,
    "start_time": "2024-08-13T12:06:15.013Z"
   },
   {
    "duration": 58,
    "start_time": "2024-08-13T12:08:55.603Z"
   },
   {
    "duration": 59,
    "start_time": "2024-08-13T12:09:26.628Z"
   },
   {
    "duration": 27,
    "start_time": "2024-08-13T12:16:08.113Z"
   },
   {
    "duration": 17,
    "start_time": "2024-08-13T12:16:50.326Z"
   },
   {
    "duration": 19,
    "start_time": "2024-08-13T12:17:14.142Z"
   },
   {
    "duration": 17,
    "start_time": "2024-08-13T12:17:35.327Z"
   },
   {
    "duration": 18,
    "start_time": "2024-08-13T12:17:55.108Z"
   },
   {
    "duration": 56,
    "start_time": "2024-08-13T12:23:34.825Z"
   },
   {
    "duration": 52,
    "start_time": "2024-08-13T12:31:31.576Z"
   },
   {
    "duration": 18,
    "start_time": "2024-08-13T12:31:35.873Z"
   },
   {
    "duration": 14,
    "start_time": "2024-08-13T12:31:40.448Z"
   },
   {
    "duration": 15,
    "start_time": "2024-08-13T12:31:43.027Z"
   },
   {
    "duration": 14,
    "start_time": "2024-08-13T12:31:45.320Z"
   },
   {
    "duration": 16,
    "start_time": "2024-08-13T12:31:47.606Z"
   },
   {
    "duration": 15,
    "start_time": "2024-08-13T12:31:49.953Z"
   },
   {
    "duration": 17,
    "start_time": "2024-08-13T12:33:39.419Z"
   },
   {
    "duration": 50,
    "start_time": "2024-08-13T12:34:23.171Z"
   },
   {
    "duration": 61,
    "start_time": "2024-08-13T12:35:17.574Z"
   },
   {
    "duration": 53,
    "start_time": "2024-08-13T12:35:23.206Z"
   },
   {
    "duration": 19,
    "start_time": "2024-08-13T12:56:28.081Z"
   },
   {
    "duration": 18,
    "start_time": "2024-08-13T12:56:56.260Z"
   },
   {
    "duration": 16,
    "start_time": "2024-08-13T12:56:59.178Z"
   },
   {
    "duration": 16,
    "start_time": "2024-08-13T12:57:01.627Z"
   },
   {
    "duration": 14,
    "start_time": "2024-08-13T12:57:03.996Z"
   },
   {
    "duration": 18,
    "start_time": "2024-08-13T12:57:06.362Z"
   },
   {
    "duration": 16,
    "start_time": "2024-08-13T12:57:08.628Z"
   },
   {
    "duration": 7,
    "start_time": "2024-08-13T13:04:51.714Z"
   },
   {
    "duration": 4,
    "start_time": "2024-08-13T13:08:05.659Z"
   },
   {
    "duration": 5,
    "start_time": "2024-08-13T13:08:08.157Z"
   },
   {
    "duration": 1052,
    "start_time": "2024-08-13T13:08:38.740Z"
   },
   {
    "duration": 4,
    "start_time": "2024-08-13T13:09:12.392Z"
   },
   {
    "duration": 1178,
    "start_time": "2024-08-13T13:11:07.793Z"
   },
   {
    "duration": 4,
    "start_time": "2024-08-13T13:11:47.490Z"
   },
   {
    "duration": 1074,
    "start_time": "2024-08-13T13:11:57.966Z"
   },
   {
    "duration": 5,
    "start_time": "2024-08-13T13:13:00.747Z"
   },
   {
    "duration": 5,
    "start_time": "2024-08-13T13:13:07.712Z"
   },
   {
    "duration": 56,
    "start_time": "2024-08-13T13:15:02.025Z"
   },
   {
    "duration": 5,
    "start_time": "2024-08-13T13:15:25.375Z"
   },
   {
    "duration": 5,
    "start_time": "2024-08-13T13:15:55.991Z"
   },
   {
    "duration": 14,
    "start_time": "2024-08-13T13:17:22.974Z"
   },
   {
    "duration": 16,
    "start_time": "2024-08-13T13:17:26.078Z"
   },
   {
    "duration": 13,
    "start_time": "2024-08-13T13:18:29.573Z"
   },
   {
    "duration": 11,
    "start_time": "2024-08-13T13:18:32.938Z"
   },
   {
    "duration": 371,
    "start_time": "2024-08-13T13:18:38.697Z"
   },
   {
    "duration": 185,
    "start_time": "2024-08-13T13:18:39.070Z"
   },
   {
    "duration": 9,
    "start_time": "2024-08-13T13:18:39.257Z"
   },
   {
    "duration": 65,
    "start_time": "2024-08-13T13:18:39.268Z"
   },
   {
    "duration": 20,
    "start_time": "2024-08-13T13:18:39.335Z"
   },
   {
    "duration": 35,
    "start_time": "2024-08-13T13:18:39.357Z"
   },
   {
    "duration": 43,
    "start_time": "2024-08-13T13:18:39.394Z"
   },
   {
    "duration": 28,
    "start_time": "2024-08-13T13:18:39.438Z"
   },
   {
    "duration": 30,
    "start_time": "2024-08-13T13:18:39.468Z"
   },
   {
    "duration": 41,
    "start_time": "2024-08-13T13:18:39.501Z"
   },
   {
    "duration": 38,
    "start_time": "2024-08-13T13:18:39.544Z"
   },
   {
    "duration": 77,
    "start_time": "2024-08-13T13:18:39.584Z"
   },
   {
    "duration": 82,
    "start_time": "2024-08-13T13:18:39.663Z"
   },
   {
    "duration": 78,
    "start_time": "2024-08-13T13:18:39.746Z"
   },
   {
    "duration": 82,
    "start_time": "2024-08-13T13:18:39.827Z"
   },
   {
    "duration": 12,
    "start_time": "2024-08-13T13:18:39.911Z"
   },
   {
    "duration": 72,
    "start_time": "2024-08-13T13:18:39.925Z"
   },
   {
    "duration": 13,
    "start_time": "2024-08-13T13:18:40.000Z"
   },
   {
    "duration": 31,
    "start_time": "2024-08-13T13:18:40.014Z"
   },
   {
    "duration": 10,
    "start_time": "2024-08-13T13:18:40.047Z"
   },
   {
    "duration": 29,
    "start_time": "2024-08-13T13:18:40.058Z"
   },
   {
    "duration": 15,
    "start_time": "2024-08-13T13:18:40.088Z"
   },
   {
    "duration": 17,
    "start_time": "2024-08-13T13:18:40.105Z"
   },
   {
    "duration": 39,
    "start_time": "2024-08-13T13:18:40.123Z"
   },
   {
    "duration": 26,
    "start_time": "2024-08-13T13:18:40.164Z"
   },
   {
    "duration": 16,
    "start_time": "2024-08-13T13:18:40.192Z"
   },
   {
    "duration": 6,
    "start_time": "2024-08-13T13:18:40.210Z"
   },
   {
    "duration": 28,
    "start_time": "2024-08-13T13:18:40.219Z"
   },
   {
    "duration": 15,
    "start_time": "2024-08-13T13:18:40.249Z"
   },
   {
    "duration": 62,
    "start_time": "2024-08-13T13:18:40.266Z"
   },
   {
    "duration": 0,
    "start_time": "2024-08-13T13:18:40.329Z"
   },
   {
    "duration": 0,
    "start_time": "2024-08-13T13:18:40.330Z"
   },
   {
    "duration": 0,
    "start_time": "2024-08-13T13:18:40.332Z"
   },
   {
    "duration": 0,
    "start_time": "2024-08-13T13:18:40.333Z"
   },
   {
    "duration": 0,
    "start_time": "2024-08-13T13:18:40.334Z"
   },
   {
    "duration": 0,
    "start_time": "2024-08-13T13:18:40.335Z"
   },
   {
    "duration": 0,
    "start_time": "2024-08-13T13:18:40.336Z"
   },
   {
    "duration": 0,
    "start_time": "2024-08-13T13:18:40.338Z"
   },
   {
    "duration": 48,
    "start_time": "2024-08-13T13:38:22.135Z"
   },
   {
    "duration": 29,
    "start_time": "2024-08-13T13:39:13.170Z"
   },
   {
    "duration": 25,
    "start_time": "2024-08-13T13:41:12.933Z"
   },
   {
    "duration": 4,
    "start_time": "2024-08-13T13:47:12.583Z"
   },
   {
    "duration": 24,
    "start_time": "2024-08-13T13:50:46.584Z"
   },
   {
    "duration": 14,
    "start_time": "2024-08-13T13:51:32.045Z"
   },
   {
    "duration": 24,
    "start_time": "2024-08-13T13:52:21.477Z"
   },
   {
    "duration": 22,
    "start_time": "2024-08-13T13:52:43.612Z"
   },
   {
    "duration": 24,
    "start_time": "2024-08-13T13:54:44.220Z"
   },
   {
    "duration": 23,
    "start_time": "2024-08-13T13:55:36.026Z"
   },
   {
    "duration": 22,
    "start_time": "2024-08-13T13:55:39.273Z"
   },
   {
    "duration": 11,
    "start_time": "2024-08-13T13:58:46.434Z"
   },
   {
    "duration": 74,
    "start_time": "2024-08-13T13:59:23.977Z"
   },
   {
    "duration": 17,
    "start_time": "2024-08-13T13:59:53.497Z"
   },
   {
    "duration": 10,
    "start_time": "2024-08-13T14:00:29.611Z"
   },
   {
    "duration": 401,
    "start_time": "2024-08-13T14:00:54.672Z"
   },
   {
    "duration": 186,
    "start_time": "2024-08-13T14:00:55.075Z"
   },
   {
    "duration": 8,
    "start_time": "2024-08-13T14:00:55.262Z"
   },
   {
    "duration": 68,
    "start_time": "2024-08-13T14:00:55.271Z"
   },
   {
    "duration": 2,
    "start_time": "2024-08-13T14:00:55.342Z"
   },
   {
    "duration": 9,
    "start_time": "2024-08-13T14:00:55.346Z"
   },
   {
    "duration": 25,
    "start_time": "2024-08-13T14:00:55.357Z"
   },
   {
    "duration": 5,
    "start_time": "2024-08-13T14:00:55.384Z"
   },
   {
    "duration": 31,
    "start_time": "2024-08-13T14:00:55.391Z"
   },
   {
    "duration": 50,
    "start_time": "2024-08-13T14:00:55.423Z"
   },
   {
    "duration": 39,
    "start_time": "2024-08-13T14:00:55.475Z"
   },
   {
    "duration": 75,
    "start_time": "2024-08-13T14:00:55.516Z"
   },
   {
    "duration": 83,
    "start_time": "2024-08-13T14:00:55.592Z"
   },
   {
    "duration": 62,
    "start_time": "2024-08-13T14:00:55.678Z"
   },
   {
    "duration": 51,
    "start_time": "2024-08-13T14:00:55.741Z"
   },
   {
    "duration": 10,
    "start_time": "2024-08-13T14:00:55.794Z"
   },
   {
    "duration": 55,
    "start_time": "2024-08-13T14:00:55.806Z"
   },
   {
    "duration": 13,
    "start_time": "2024-08-13T14:00:55.862Z"
   },
   {
    "duration": 12,
    "start_time": "2024-08-13T14:00:55.877Z"
   },
   {
    "duration": 4,
    "start_time": "2024-08-13T14:00:55.891Z"
   },
   {
    "duration": 19,
    "start_time": "2024-08-13T14:00:55.897Z"
   },
   {
    "duration": 46,
    "start_time": "2024-08-13T14:00:55.918Z"
   },
   {
    "duration": 15,
    "start_time": "2024-08-13T14:00:55.966Z"
   },
   {
    "duration": 30,
    "start_time": "2024-08-13T14:00:55.983Z"
   },
   {
    "duration": 19,
    "start_time": "2024-08-13T14:00:56.015Z"
   },
   {
    "duration": 34,
    "start_time": "2024-08-13T14:00:56.036Z"
   },
   {
    "duration": 32,
    "start_time": "2024-08-13T14:00:56.072Z"
   },
   {
    "duration": 22,
    "start_time": "2024-08-13T14:00:56.106Z"
   },
   {
    "duration": 10,
    "start_time": "2024-08-13T14:00:56.130Z"
   },
   {
    "duration": 21,
    "start_time": "2024-08-13T14:00:56.142Z"
   },
   {
    "duration": 58,
    "start_time": "2024-08-13T14:00:56.165Z"
   },
   {
    "duration": 16,
    "start_time": "2024-08-13T14:00:56.225Z"
   },
   {
    "duration": 26,
    "start_time": "2024-08-13T14:00:56.243Z"
   },
   {
    "duration": 16,
    "start_time": "2024-08-13T14:00:56.270Z"
   },
   {
    "duration": 11,
    "start_time": "2024-08-13T14:00:56.288Z"
   },
   {
    "duration": 2,
    "start_time": "2024-08-13T14:00:56.301Z"
   },
   {
    "duration": 10,
    "start_time": "2024-08-13T14:00:56.305Z"
   },
   {
    "duration": 7,
    "start_time": "2024-08-13T14:00:56.316Z"
   },
   {
    "duration": 67,
    "start_time": "2024-08-13T14:01:02.510Z"
   },
   {
    "duration": 9,
    "start_time": "2024-08-13T14:03:51.975Z"
   },
   {
    "duration": 408,
    "start_time": "2024-08-13T14:04:00.563Z"
   },
   {
    "duration": 187,
    "start_time": "2024-08-13T14:04:00.973Z"
   },
   {
    "duration": 8,
    "start_time": "2024-08-13T14:04:01.162Z"
   },
   {
    "duration": 82,
    "start_time": "2024-08-13T14:04:01.171Z"
   },
   {
    "duration": 75,
    "start_time": "2024-08-13T14:04:01.255Z"
   },
   {
    "duration": 42,
    "start_time": "2024-08-13T14:04:01.332Z"
   },
   {
    "duration": 37,
    "start_time": "2024-08-13T14:04:01.375Z"
   },
   {
    "duration": 37,
    "start_time": "2024-08-13T14:04:01.413Z"
   },
   {
    "duration": 69,
    "start_time": "2024-08-13T14:04:01.451Z"
   },
   {
    "duration": 75,
    "start_time": "2024-08-13T14:04:01.521Z"
   },
   {
    "duration": 32,
    "start_time": "2024-08-13T14:04:01.598Z"
   },
   {
    "duration": 113,
    "start_time": "2024-08-13T14:04:01.631Z"
   },
   {
    "duration": 80,
    "start_time": "2024-08-13T14:04:01.746Z"
   },
   {
    "duration": 70,
    "start_time": "2024-08-13T14:04:01.830Z"
   },
   {
    "duration": 114,
    "start_time": "2024-08-13T14:04:01.901Z"
   },
   {
    "duration": 16,
    "start_time": "2024-08-13T14:04:02.017Z"
   },
   {
    "duration": 90,
    "start_time": "2024-08-13T14:04:02.035Z"
   },
   {
    "duration": 12,
    "start_time": "2024-08-13T14:04:02.126Z"
   },
   {
    "duration": 21,
    "start_time": "2024-08-13T14:04:02.140Z"
   },
   {
    "duration": 18,
    "start_time": "2024-08-13T14:04:02.163Z"
   },
   {
    "duration": 28,
    "start_time": "2024-08-13T14:04:02.182Z"
   },
   {
    "duration": 17,
    "start_time": "2024-08-13T14:04:02.212Z"
   },
   {
    "duration": 28,
    "start_time": "2024-08-13T14:04:02.230Z"
   },
   {
    "duration": 51,
    "start_time": "2024-08-13T14:04:02.259Z"
   },
   {
    "duration": 38,
    "start_time": "2024-08-13T14:04:02.311Z"
   },
   {
    "duration": 44,
    "start_time": "2024-08-13T14:04:02.351Z"
   },
   {
    "duration": 9,
    "start_time": "2024-08-13T14:04:02.397Z"
   },
   {
    "duration": 44,
    "start_time": "2024-08-13T14:04:02.408Z"
   },
   {
    "duration": 17,
    "start_time": "2024-08-13T14:04:02.454Z"
   },
   {
    "duration": 16,
    "start_time": "2024-08-13T14:04:02.473Z"
   },
   {
    "duration": 63,
    "start_time": "2024-08-13T14:04:02.492Z"
   },
   {
    "duration": 15,
    "start_time": "2024-08-13T14:04:02.557Z"
   },
   {
    "duration": 43,
    "start_time": "2024-08-13T14:04:02.573Z"
   },
   {
    "duration": 19,
    "start_time": "2024-08-13T14:04:02.617Z"
   },
   {
    "duration": 99,
    "start_time": "2024-08-13T14:04:02.638Z"
   },
   {
    "duration": 0,
    "start_time": "2024-08-13T14:04:02.739Z"
   },
   {
    "duration": 1,
    "start_time": "2024-08-13T14:04:02.740Z"
   },
   {
    "duration": 0,
    "start_time": "2024-08-13T14:04:02.742Z"
   },
   {
    "duration": 16,
    "start_time": "2024-08-13T14:05:23.711Z"
   },
   {
    "duration": 14,
    "start_time": "2024-08-13T14:05:32.561Z"
   },
   {
    "duration": 13,
    "start_time": "2024-08-13T14:06:12.166Z"
   },
   {
    "duration": 9,
    "start_time": "2024-08-13T14:20:31.200Z"
   },
   {
    "duration": 360,
    "start_time": "2024-08-13T14:20:58.015Z"
   },
   {
    "duration": 184,
    "start_time": "2024-08-13T14:20:58.377Z"
   },
   {
    "duration": 8,
    "start_time": "2024-08-13T14:20:58.563Z"
   },
   {
    "duration": 50,
    "start_time": "2024-08-13T14:20:58.573Z"
   },
   {
    "duration": 2,
    "start_time": "2024-08-13T14:20:58.626Z"
   },
   {
    "duration": 20,
    "start_time": "2024-08-13T14:20:58.630Z"
   },
   {
    "duration": 37,
    "start_time": "2024-08-13T14:20:58.652Z"
   },
   {
    "duration": 18,
    "start_time": "2024-08-13T14:20:58.690Z"
   },
   {
    "duration": 37,
    "start_time": "2024-08-13T14:20:58.710Z"
   },
   {
    "duration": 24,
    "start_time": "2024-08-13T14:20:58.749Z"
   },
   {
    "duration": 42,
    "start_time": "2024-08-13T14:20:58.774Z"
   },
   {
    "duration": 67,
    "start_time": "2024-08-13T14:20:58.817Z"
   },
   {
    "duration": 81,
    "start_time": "2024-08-13T14:20:58.886Z"
   },
   {
    "duration": 68,
    "start_time": "2024-08-13T14:20:58.970Z"
   },
   {
    "duration": 50,
    "start_time": "2024-08-13T14:20:59.040Z"
   },
   {
    "duration": 11,
    "start_time": "2024-08-13T14:20:59.092Z"
   },
   {
    "duration": 57,
    "start_time": "2024-08-13T14:20:59.105Z"
   },
   {
    "duration": 18,
    "start_time": "2024-08-13T14:20:59.164Z"
   },
   {
    "duration": 13,
    "start_time": "2024-08-13T14:20:59.184Z"
   },
   {
    "duration": 4,
    "start_time": "2024-08-13T14:20:59.199Z"
   },
   {
    "duration": 18,
    "start_time": "2024-08-13T14:20:59.204Z"
   },
   {
    "duration": 47,
    "start_time": "2024-08-13T14:20:59.224Z"
   },
   {
    "duration": 15,
    "start_time": "2024-08-13T14:20:59.272Z"
   },
   {
    "duration": 14,
    "start_time": "2024-08-13T14:20:59.289Z"
   },
   {
    "duration": 18,
    "start_time": "2024-08-13T14:20:59.305Z"
   },
   {
    "duration": 47,
    "start_time": "2024-08-13T14:20:59.324Z"
   },
   {
    "duration": 7,
    "start_time": "2024-08-13T14:20:59.373Z"
   },
   {
    "duration": 23,
    "start_time": "2024-08-13T14:20:59.381Z"
   },
   {
    "duration": 9,
    "start_time": "2024-08-13T14:20:59.406Z"
   },
   {
    "duration": 4,
    "start_time": "2024-08-13T14:20:59.417Z"
   },
   {
    "duration": 52,
    "start_time": "2024-08-13T14:20:59.423Z"
   },
   {
    "duration": 16,
    "start_time": "2024-08-13T14:20:59.476Z"
   },
   {
    "duration": 25,
    "start_time": "2024-08-13T14:20:59.494Z"
   },
   {
    "duration": 44,
    "start_time": "2024-08-13T14:20:59.521Z"
   },
   {
    "duration": 10,
    "start_time": "2024-08-13T14:20:59.567Z"
   },
   {
    "duration": 9,
    "start_time": "2024-08-13T14:20:59.579Z"
   },
   {
    "duration": 17,
    "start_time": "2024-08-13T14:20:59.589Z"
   },
   {
    "duration": 5,
    "start_time": "2024-08-13T14:20:59.607Z"
   },
   {
    "duration": 9,
    "start_time": "2024-08-13T14:21:46.581Z"
   },
   {
    "duration": 9,
    "start_time": "2024-08-13T14:22:05.755Z"
   },
   {
    "duration": 3,
    "start_time": "2024-08-13T14:23:22.786Z"
   },
   {
    "duration": 18,
    "start_time": "2024-08-13T14:23:28.732Z"
   },
   {
    "duration": 17,
    "start_time": "2024-08-13T14:23:31.438Z"
   },
   {
    "duration": 16,
    "start_time": "2024-08-13T14:23:34.436Z"
   },
   {
    "duration": 15,
    "start_time": "2024-08-13T14:23:39.673Z"
   },
   {
    "duration": 19,
    "start_time": "2024-08-13T14:23:40.300Z"
   },
   {
    "duration": 16,
    "start_time": "2024-08-13T14:23:40.766Z"
   },
   {
    "duration": 12,
    "start_time": "2024-08-13T14:23:52.898Z"
   },
   {
    "duration": 9,
    "start_time": "2024-08-13T14:24:06.156Z"
   },
   {
    "duration": 2,
    "start_time": "2024-08-13T14:26:57.404Z"
   },
   {
    "duration": 8,
    "start_time": "2024-08-13T14:27:07.732Z"
   },
   {
    "duration": 5,
    "start_time": "2024-08-13T14:29:06.819Z"
   },
   {
    "duration": 4,
    "start_time": "2024-08-13T14:30:29.699Z"
   },
   {
    "duration": 8,
    "start_time": "2024-08-13T14:36:01.348Z"
   },
   {
    "duration": 6,
    "start_time": "2024-08-13T14:36:30.507Z"
   },
   {
    "duration": 3,
    "start_time": "2024-08-13T14:38:25.194Z"
   },
   {
    "duration": 435,
    "start_time": "2024-08-13T14:38:30.540Z"
   },
   {
    "duration": 205,
    "start_time": "2024-08-13T14:38:30.977Z"
   },
   {
    "duration": 9,
    "start_time": "2024-08-13T14:38:31.184Z"
   },
   {
    "duration": 132,
    "start_time": "2024-08-13T14:38:31.195Z"
   },
   {
    "duration": 16,
    "start_time": "2024-08-13T14:38:31.330Z"
   },
   {
    "duration": 35,
    "start_time": "2024-08-13T14:38:31.348Z"
   },
   {
    "duration": 36,
    "start_time": "2024-08-13T14:38:31.385Z"
   },
   {
    "duration": 26,
    "start_time": "2024-08-13T14:38:31.423Z"
   },
   {
    "duration": 52,
    "start_time": "2024-08-13T14:38:31.450Z"
   },
   {
    "duration": 55,
    "start_time": "2024-08-13T14:38:31.504Z"
   },
   {
    "duration": 34,
    "start_time": "2024-08-13T14:38:31.561Z"
   },
   {
    "duration": 144,
    "start_time": "2024-08-13T14:38:31.597Z"
   },
   {
    "duration": 81,
    "start_time": "2024-08-13T14:38:31.743Z"
   },
   {
    "duration": 100,
    "start_time": "2024-08-13T14:38:31.827Z"
   },
   {
    "duration": 53,
    "start_time": "2024-08-13T14:38:31.929Z"
   },
   {
    "duration": 15,
    "start_time": "2024-08-13T14:38:31.983Z"
   },
   {
    "duration": 69,
    "start_time": "2024-08-13T14:38:32.000Z"
   },
   {
    "duration": 12,
    "start_time": "2024-08-13T14:38:32.071Z"
   },
   {
    "duration": 23,
    "start_time": "2024-08-13T14:38:32.084Z"
   },
   {
    "duration": 10,
    "start_time": "2024-08-13T14:38:32.109Z"
   },
   {
    "duration": 111,
    "start_time": "2024-08-13T14:38:32.121Z"
   },
   {
    "duration": 0,
    "start_time": "2024-08-13T14:38:32.233Z"
   },
   {
    "duration": 0,
    "start_time": "2024-08-13T14:38:32.235Z"
   },
   {
    "duration": 0,
    "start_time": "2024-08-13T14:38:32.236Z"
   },
   {
    "duration": 0,
    "start_time": "2024-08-13T14:38:32.237Z"
   },
   {
    "duration": 0,
    "start_time": "2024-08-13T14:38:32.238Z"
   },
   {
    "duration": 0,
    "start_time": "2024-08-13T14:38:32.239Z"
   },
   {
    "duration": 0,
    "start_time": "2024-08-13T14:38:32.240Z"
   },
   {
    "duration": 0,
    "start_time": "2024-08-13T14:38:32.260Z"
   },
   {
    "duration": 0,
    "start_time": "2024-08-13T14:38:32.261Z"
   },
   {
    "duration": 0,
    "start_time": "2024-08-13T14:38:32.262Z"
   },
   {
    "duration": 0,
    "start_time": "2024-08-13T14:38:32.264Z"
   },
   {
    "duration": 0,
    "start_time": "2024-08-13T14:38:32.265Z"
   },
   {
    "duration": 0,
    "start_time": "2024-08-13T14:38:32.266Z"
   },
   {
    "duration": 0,
    "start_time": "2024-08-13T14:38:32.267Z"
   },
   {
    "duration": 0,
    "start_time": "2024-08-13T14:38:32.268Z"
   },
   {
    "duration": 0,
    "start_time": "2024-08-13T14:38:32.269Z"
   },
   {
    "duration": 0,
    "start_time": "2024-08-13T14:38:32.270Z"
   },
   {
    "duration": 8,
    "start_time": "2024-08-13T14:38:38.382Z"
   },
   {
    "duration": 350,
    "start_time": "2024-08-13T14:39:21.415Z"
   },
   {
    "duration": 184,
    "start_time": "2024-08-13T14:39:21.767Z"
   },
   {
    "duration": 10,
    "start_time": "2024-08-13T14:39:21.952Z"
   },
   {
    "duration": 40,
    "start_time": "2024-08-13T14:39:21.964Z"
   },
   {
    "duration": 2,
    "start_time": "2024-08-13T14:39:22.006Z"
   },
   {
    "duration": 11,
    "start_time": "2024-08-13T14:39:22.010Z"
   },
   {
    "duration": 14,
    "start_time": "2024-08-13T14:39:22.023Z"
   },
   {
    "duration": 22,
    "start_time": "2024-08-13T14:39:22.039Z"
   },
   {
    "duration": 26,
    "start_time": "2024-08-13T14:39:22.063Z"
   },
   {
    "duration": 24,
    "start_time": "2024-08-13T14:39:22.092Z"
   },
   {
    "duration": 25,
    "start_time": "2024-08-13T14:39:22.118Z"
   },
   {
    "duration": 71,
    "start_time": "2024-08-13T14:39:22.162Z"
   },
   {
    "duration": 98,
    "start_time": "2024-08-13T14:39:22.235Z"
   },
   {
    "duration": 69,
    "start_time": "2024-08-13T14:39:22.335Z"
   },
   {
    "duration": 41,
    "start_time": "2024-08-13T14:39:22.405Z"
   },
   {
    "duration": 24,
    "start_time": "2024-08-13T14:39:22.448Z"
   },
   {
    "duration": 49,
    "start_time": "2024-08-13T14:39:22.474Z"
   },
   {
    "duration": 10,
    "start_time": "2024-08-13T14:39:22.525Z"
   },
   {
    "duration": 32,
    "start_time": "2024-08-13T14:39:22.536Z"
   },
   {
    "duration": 15,
    "start_time": "2024-08-13T14:39:22.569Z"
   },
   {
    "duration": 80,
    "start_time": "2024-08-13T14:39:22.586Z"
   },
   {
    "duration": 0,
    "start_time": "2024-08-13T14:39:22.668Z"
   },
   {
    "duration": 0,
    "start_time": "2024-08-13T14:39:22.669Z"
   },
   {
    "duration": 0,
    "start_time": "2024-08-13T14:39:22.670Z"
   },
   {
    "duration": 0,
    "start_time": "2024-08-13T14:39:22.672Z"
   },
   {
    "duration": 0,
    "start_time": "2024-08-13T14:39:22.673Z"
   },
   {
    "duration": 0,
    "start_time": "2024-08-13T14:39:22.674Z"
   },
   {
    "duration": 0,
    "start_time": "2024-08-13T14:39:22.675Z"
   },
   {
    "duration": 0,
    "start_time": "2024-08-13T14:39:22.676Z"
   },
   {
    "duration": 0,
    "start_time": "2024-08-13T14:39:22.677Z"
   },
   {
    "duration": 0,
    "start_time": "2024-08-13T14:39:22.678Z"
   },
   {
    "duration": 0,
    "start_time": "2024-08-13T14:39:22.680Z"
   },
   {
    "duration": 0,
    "start_time": "2024-08-13T14:39:22.681Z"
   },
   {
    "duration": 0,
    "start_time": "2024-08-13T14:39:22.682Z"
   },
   {
    "duration": 0,
    "start_time": "2024-08-13T14:39:22.684Z"
   },
   {
    "duration": 0,
    "start_time": "2024-08-13T14:39:22.685Z"
   },
   {
    "duration": 0,
    "start_time": "2024-08-13T14:39:22.687Z"
   },
   {
    "duration": 0,
    "start_time": "2024-08-13T14:39:22.688Z"
   },
   {
    "duration": 379,
    "start_time": "2024-08-13T14:40:09.289Z"
   },
   {
    "duration": 196,
    "start_time": "2024-08-13T14:40:09.670Z"
   },
   {
    "duration": 7,
    "start_time": "2024-08-13T14:40:09.868Z"
   },
   {
    "duration": 32,
    "start_time": "2024-08-13T14:40:09.877Z"
   },
   {
    "duration": 3,
    "start_time": "2024-08-13T14:40:09.911Z"
   },
   {
    "duration": 26,
    "start_time": "2024-08-13T14:40:09.916Z"
   },
   {
    "duration": 26,
    "start_time": "2024-08-13T14:40:09.943Z"
   },
   {
    "duration": 6,
    "start_time": "2024-08-13T14:40:09.971Z"
   },
   {
    "duration": 27,
    "start_time": "2024-08-13T14:40:09.979Z"
   },
   {
    "duration": 34,
    "start_time": "2024-08-13T14:40:10.009Z"
   },
   {
    "duration": 28,
    "start_time": "2024-08-13T14:40:10.045Z"
   },
   {
    "duration": 76,
    "start_time": "2024-08-13T14:40:10.075Z"
   },
   {
    "duration": 84,
    "start_time": "2024-08-13T14:40:10.152Z"
   },
   {
    "duration": 70,
    "start_time": "2024-08-13T14:40:10.238Z"
   },
   {
    "duration": 51,
    "start_time": "2024-08-13T14:40:10.310Z"
   },
   {
    "duration": 11,
    "start_time": "2024-08-13T14:40:10.363Z"
   },
   {
    "duration": 41,
    "start_time": "2024-08-13T14:40:10.376Z"
   },
   {
    "duration": 11,
    "start_time": "2024-08-13T14:40:10.419Z"
   },
   {
    "duration": 39,
    "start_time": "2024-08-13T14:40:10.431Z"
   },
   {
    "duration": 7,
    "start_time": "2024-08-13T14:40:10.471Z"
   },
   {
    "duration": 82,
    "start_time": "2024-08-13T14:40:10.480Z"
   },
   {
    "duration": 0,
    "start_time": "2024-08-13T14:40:10.564Z"
   },
   {
    "duration": 1,
    "start_time": "2024-08-13T14:40:10.565Z"
   },
   {
    "duration": 0,
    "start_time": "2024-08-13T14:40:10.567Z"
   },
   {
    "duration": 0,
    "start_time": "2024-08-13T14:40:10.568Z"
   },
   {
    "duration": 0,
    "start_time": "2024-08-13T14:40:10.568Z"
   },
   {
    "duration": 0,
    "start_time": "2024-08-13T14:40:10.570Z"
   },
   {
    "duration": 0,
    "start_time": "2024-08-13T14:40:10.570Z"
   },
   {
    "duration": 0,
    "start_time": "2024-08-13T14:40:10.571Z"
   },
   {
    "duration": 0,
    "start_time": "2024-08-13T14:40:10.572Z"
   },
   {
    "duration": 0,
    "start_time": "2024-08-13T14:40:10.573Z"
   },
   {
    "duration": 0,
    "start_time": "2024-08-13T14:40:10.574Z"
   },
   {
    "duration": 0,
    "start_time": "2024-08-13T14:40:10.576Z"
   },
   {
    "duration": 0,
    "start_time": "2024-08-13T14:40:10.576Z"
   },
   {
    "duration": 0,
    "start_time": "2024-08-13T14:40:10.577Z"
   },
   {
    "duration": 0,
    "start_time": "2024-08-13T14:40:10.578Z"
   },
   {
    "duration": 0,
    "start_time": "2024-08-13T14:40:10.579Z"
   },
   {
    "duration": 0,
    "start_time": "2024-08-13T14:40:10.580Z"
   },
   {
    "duration": 3,
    "start_time": "2024-08-13T14:40:50.791Z"
   },
   {
    "duration": 18,
    "start_time": "2024-08-13T14:40:55.639Z"
   },
   {
    "duration": 365,
    "start_time": "2024-08-13T14:41:01.415Z"
   },
   {
    "duration": 185,
    "start_time": "2024-08-13T14:41:01.782Z"
   },
   {
    "duration": 9,
    "start_time": "2024-08-13T14:41:01.968Z"
   },
   {
    "duration": 70,
    "start_time": "2024-08-13T14:41:01.979Z"
   },
   {
    "duration": 2,
    "start_time": "2024-08-13T14:41:02.051Z"
   },
   {
    "duration": 17,
    "start_time": "2024-08-13T14:41:02.054Z"
   },
   {
    "duration": 14,
    "start_time": "2024-08-13T14:41:02.073Z"
   },
   {
    "duration": 9,
    "start_time": "2024-08-13T14:41:02.089Z"
   },
   {
    "duration": 82,
    "start_time": "2024-08-13T14:41:02.099Z"
   },
   {
    "duration": 44,
    "start_time": "2024-08-13T14:41:02.183Z"
   },
   {
    "duration": 46,
    "start_time": "2024-08-13T14:41:02.229Z"
   },
   {
    "duration": 105,
    "start_time": "2024-08-13T14:41:02.276Z"
   },
   {
    "duration": 85,
    "start_time": "2024-08-13T14:41:02.384Z"
   },
   {
    "duration": 60,
    "start_time": "2024-08-13T14:41:02.473Z"
   },
   {
    "duration": 60,
    "start_time": "2024-08-13T14:41:02.535Z"
   },
   {
    "duration": 12,
    "start_time": "2024-08-13T14:41:02.597Z"
   },
   {
    "duration": 59,
    "start_time": "2024-08-13T14:41:02.611Z"
   },
   {
    "duration": 13,
    "start_time": "2024-08-13T14:41:02.672Z"
   },
   {
    "duration": 12,
    "start_time": "2024-08-13T14:41:02.687Z"
   },
   {
    "duration": 17,
    "start_time": "2024-08-13T14:41:02.700Z"
   },
   {
    "duration": 36,
    "start_time": "2024-08-13T14:41:02.719Z"
   },
   {
    "duration": 21,
    "start_time": "2024-08-13T14:41:02.757Z"
   },
   {
    "duration": 28,
    "start_time": "2024-08-13T14:41:02.779Z"
   },
   {
    "duration": 25,
    "start_time": "2024-08-13T14:41:02.809Z"
   },
   {
    "duration": 27,
    "start_time": "2024-08-13T14:41:02.836Z"
   },
   {
    "duration": 16,
    "start_time": "2024-08-13T14:41:02.865Z"
   },
   {
    "duration": 11,
    "start_time": "2024-08-13T14:41:02.883Z"
   },
   {
    "duration": 22,
    "start_time": "2024-08-13T14:41:02.896Z"
   },
   {
    "duration": 35,
    "start_time": "2024-08-13T14:41:02.920Z"
   },
   {
    "duration": 5,
    "start_time": "2024-08-13T14:41:02.957Z"
   },
   {
    "duration": 36,
    "start_time": "2024-08-13T14:41:02.964Z"
   },
   {
    "duration": 15,
    "start_time": "2024-08-13T14:41:03.002Z"
   },
   {
    "duration": 39,
    "start_time": "2024-08-13T14:41:03.018Z"
   },
   {
    "duration": 18,
    "start_time": "2024-08-13T14:41:03.060Z"
   },
   {
    "duration": 25,
    "start_time": "2024-08-13T14:41:03.080Z"
   },
   {
    "duration": 13,
    "start_time": "2024-08-13T14:41:03.107Z"
   },
   {
    "duration": 42,
    "start_time": "2024-08-13T14:41:03.121Z"
   },
   {
    "duration": 8,
    "start_time": "2024-08-13T14:41:03.165Z"
   },
   {
    "duration": 3,
    "start_time": "2024-08-13T14:42:16.243Z"
   },
   {
    "duration": 451,
    "start_time": "2024-08-13T14:44:12.738Z"
   },
   {
    "duration": 181,
    "start_time": "2024-08-13T14:44:13.191Z"
   },
   {
    "duration": 8,
    "start_time": "2024-08-13T14:44:13.374Z"
   },
   {
    "duration": 60,
    "start_time": "2024-08-13T14:44:13.383Z"
   },
   {
    "duration": 2,
    "start_time": "2024-08-13T14:44:13.445Z"
   },
   {
    "duration": 11,
    "start_time": "2024-08-13T14:44:13.449Z"
   },
   {
    "duration": 15,
    "start_time": "2024-08-13T14:44:13.461Z"
   },
   {
    "duration": 7,
    "start_time": "2024-08-13T14:44:13.478Z"
   },
   {
    "duration": 37,
    "start_time": "2024-08-13T14:44:13.487Z"
   },
   {
    "duration": 35,
    "start_time": "2024-08-13T14:44:13.526Z"
   },
   {
    "duration": 26,
    "start_time": "2024-08-13T14:44:13.562Z"
   },
   {
    "duration": 75,
    "start_time": "2024-08-13T14:44:13.589Z"
   },
   {
    "duration": 97,
    "start_time": "2024-08-13T14:44:13.665Z"
   },
   {
    "duration": 59,
    "start_time": "2024-08-13T14:44:13.765Z"
   },
   {
    "duration": 53,
    "start_time": "2024-08-13T14:44:13.825Z"
   },
   {
    "duration": 12,
    "start_time": "2024-08-13T14:44:13.879Z"
   },
   {
    "duration": 67,
    "start_time": "2024-08-13T14:44:13.893Z"
   },
   {
    "duration": 11,
    "start_time": "2024-08-13T14:44:13.962Z"
   },
   {
    "duration": 11,
    "start_time": "2024-08-13T14:44:13.974Z"
   },
   {
    "duration": 27,
    "start_time": "2024-08-13T14:44:13.987Z"
   },
   {
    "duration": 19,
    "start_time": "2024-08-13T14:44:14.016Z"
   },
   {
    "duration": 24,
    "start_time": "2024-08-13T14:44:14.037Z"
   },
   {
    "duration": 17,
    "start_time": "2024-08-13T14:44:14.062Z"
   },
   {
    "duration": 15,
    "start_time": "2024-08-13T14:44:14.080Z"
   },
   {
    "duration": 18,
    "start_time": "2024-08-13T14:44:14.097Z"
   },
   {
    "duration": 17,
    "start_time": "2024-08-13T14:44:14.117Z"
   },
   {
    "duration": 30,
    "start_time": "2024-08-13T14:44:14.135Z"
   },
   {
    "duration": 13,
    "start_time": "2024-08-13T14:44:14.167Z"
   },
   {
    "duration": 10,
    "start_time": "2024-08-13T14:44:14.182Z"
   },
   {
    "duration": 4,
    "start_time": "2024-08-13T14:44:14.194Z"
   },
   {
    "duration": 25,
    "start_time": "2024-08-13T14:44:14.199Z"
   },
   {
    "duration": 42,
    "start_time": "2024-08-13T14:44:14.226Z"
   },
   {
    "duration": 23,
    "start_time": "2024-08-13T14:44:14.270Z"
   },
   {
    "duration": 15,
    "start_time": "2024-08-13T14:44:14.295Z"
   },
   {
    "duration": 41,
    "start_time": "2024-08-13T14:44:14.311Z"
   },
   {
    "duration": 4,
    "start_time": "2024-08-13T14:44:14.353Z"
   },
   {
    "duration": 18,
    "start_time": "2024-08-13T14:44:14.358Z"
   },
   {
    "duration": 4,
    "start_time": "2024-08-13T14:44:14.377Z"
   },
   {
    "duration": 407,
    "start_time": "2024-08-13T14:45:37.065Z"
   },
   {
    "duration": 183,
    "start_time": "2024-08-13T14:45:37.473Z"
   },
   {
    "duration": 8,
    "start_time": "2024-08-13T14:45:37.657Z"
   },
   {
    "duration": 35,
    "start_time": "2024-08-13T14:45:37.667Z"
   },
   {
    "duration": 2,
    "start_time": "2024-08-13T14:45:37.704Z"
   },
   {
    "duration": 10,
    "start_time": "2024-08-13T14:45:37.707Z"
   },
   {
    "duration": 14,
    "start_time": "2024-08-13T14:45:37.719Z"
   },
   {
    "duration": 28,
    "start_time": "2024-08-13T14:45:37.734Z"
   },
   {
    "duration": 26,
    "start_time": "2024-08-13T14:45:37.764Z"
   },
   {
    "duration": 24,
    "start_time": "2024-08-13T14:45:37.792Z"
   },
   {
    "duration": 56,
    "start_time": "2024-08-13T14:45:37.818Z"
   },
   {
    "duration": 85,
    "start_time": "2024-08-13T14:45:37.876Z"
   },
   {
    "duration": 81,
    "start_time": "2024-08-13T14:45:37.963Z"
   },
   {
    "duration": 71,
    "start_time": "2024-08-13T14:45:38.047Z"
   },
   {
    "duration": 52,
    "start_time": "2024-08-13T14:45:38.120Z"
   },
   {
    "duration": 15,
    "start_time": "2024-08-13T14:45:38.174Z"
   },
   {
    "duration": 49,
    "start_time": "2024-08-13T14:45:38.191Z"
   },
   {
    "duration": 24,
    "start_time": "2024-08-13T14:45:38.241Z"
   },
   {
    "duration": 13,
    "start_time": "2024-08-13T14:45:38.267Z"
   },
   {
    "duration": 4,
    "start_time": "2024-08-13T14:45:38.282Z"
   },
   {
    "duration": 23,
    "start_time": "2024-08-13T14:45:38.288Z"
   },
   {
    "duration": 16,
    "start_time": "2024-08-13T14:45:38.313Z"
   },
   {
    "duration": 18,
    "start_time": "2024-08-13T14:45:38.362Z"
   },
   {
    "duration": 20,
    "start_time": "2024-08-13T14:45:38.382Z"
   },
   {
    "duration": 27,
    "start_time": "2024-08-13T14:45:38.404Z"
   },
   {
    "duration": 16,
    "start_time": "2024-08-13T14:45:38.460Z"
   },
   {
    "duration": 8,
    "start_time": "2024-08-13T14:45:38.478Z"
   },
   {
    "duration": 27,
    "start_time": "2024-08-13T14:45:38.488Z"
   },
   {
    "duration": 11,
    "start_time": "2024-08-13T14:45:38.517Z"
   },
   {
    "duration": 4,
    "start_time": "2024-08-13T14:45:38.530Z"
   },
   {
    "duration": 43,
    "start_time": "2024-08-13T14:45:38.536Z"
   },
   {
    "duration": 21,
    "start_time": "2024-08-13T14:45:38.581Z"
   },
   {
    "duration": 25,
    "start_time": "2024-08-13T14:45:38.604Z"
   },
   {
    "duration": 38,
    "start_time": "2024-08-13T14:45:38.631Z"
   },
   {
    "duration": 9,
    "start_time": "2024-08-13T14:45:38.671Z"
   },
   {
    "duration": 4,
    "start_time": "2024-08-13T14:45:38.681Z"
   },
   {
    "duration": 8,
    "start_time": "2024-08-13T14:45:38.686Z"
   },
   {
    "duration": 6,
    "start_time": "2024-08-13T14:45:38.696Z"
   }
  ],
  "celltoolbar": "Отсутствует",
  "colab": {
   "collapsed_sections": [
    "E0vqbgi9ay0H",
    "VUC88oWjTJw2"
   ],
   "provenance": []
  },
  "kernelspec": {
   "display_name": "practicum",
   "language": "python",
   "name": "python3"
  },
  "language_info": {
   "codemirror_mode": {
    "name": "ipython",
    "version": 3
   },
   "file_extension": ".py",
   "mimetype": "text/x-python",
   "name": "python",
   "nbconvert_exporter": "python",
   "pygments_lexer": "ipython3",
   "version": "3.11.9"
  },
  "toc": {
   "base_numbering": 1,
   "nav_menu": {
    "height": "215px",
    "width": "403px"
   },
   "number_sections": true,
   "sideBar": true,
   "skip_h1_title": true,
   "title_cell": "Table of Contents",
   "title_sidebar": "Contents",
   "toc_cell": false,
   "toc_position": {
    "height": "calc(100% - 180px)",
    "left": "10px",
    "top": "150px",
    "width": "285.825px"
   },
   "toc_section_display": true,
   "toc_window_display": false
  }
 },
 "nbformat": 4,
 "nbformat_minor": 1
}
