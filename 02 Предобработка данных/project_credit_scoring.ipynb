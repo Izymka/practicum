{
 "cells": [
  {
   "cell_type": "markdown",
   "id": "69b2af83",
   "metadata": {
    "deletable": false,
    "editable": false,
    "id": "c81daeeb"
   },
   "source": [
    "# Исследование надежности заемщиков\n"
   ]
  },
  {
   "cell_type": "markdown",
   "id": "15feeb07",
   "metadata": {
    "deletable": false,
    "editable": false,
    "id": "827c20bf"
   },
   "source": [
    "Во второй части проекта вы выполните шаги 3 и 4. Их вручную проверит ревьюер.\n",
    "Чтобы вам не пришлось писать код заново для шагов 1 и 2, мы добавили авторские решения в ячейки с кодом. \n",
    "\n"
   ]
  },
  {
   "cell_type": "markdown",
   "id": "dfe9d22a",
   "metadata": {
    "deletable": false,
    "editable": false,
    "id": "744d7639"
   },
   "source": [
    "## Откройте таблицу и изучите общую информацию о данных"
   ]
  },
  {
   "cell_type": "markdown",
   "id": "20f370fe",
   "metadata": {
    "deletable": false,
    "editable": false,
    "id": "e7a14c31"
   },
   "source": [
    "**Задание 1. Импортируйте библиотеку pandas. Считайте данные из csv-файла в датафрейм и сохраните в переменную `data`. Путь к файлу:**\n",
    "\n",
    "`/datasets/data.csv`"
   ]
  },
  {
   "cell_type": "code",
   "execution_count": 1,
   "id": "5c2c7650",
   "metadata": {
    "deletable": false,
    "id": "7bcf75c9"
   },
   "outputs": [],
   "source": [
    "import pandas as pd\n",
    "\n",
    "try:\n",
    "    data = pd.read_csv('../assets/data.csv')\n",
    "except:\n",
    "    data = pd.read_csv('https://code.s3.yandex.net/datasets/data.csv')"
   ]
  },
  {
   "cell_type": "markdown",
   "id": "132cd17e",
   "metadata": {
    "deletable": false,
    "editable": false,
    "id": "b8038fe3"
   },
   "source": [
    "**Задание 2. Выведите первые 20 строчек датафрейма `data` на экран.**"
   ]
  },
  {
   "cell_type": "code",
   "execution_count": 2,
   "id": "104eccb3",
   "metadata": {
    "deletable": false,
    "id": "2a7cab99",
    "outputId": "1a8f3ef2-d323-4ec2-ddf7-89670b5944c4",
    "scrolled": true
   },
   "outputs": [
    {
     "data": {
      "text/html": [
       "<div>\n",
       "<style scoped>\n",
       "    .dataframe tbody tr th:only-of-type {\n",
       "        vertical-align: middle;\n",
       "    }\n",
       "\n",
       "    .dataframe tbody tr th {\n",
       "        vertical-align: top;\n",
       "    }\n",
       "\n",
       "    .dataframe thead th {\n",
       "        text-align: right;\n",
       "    }\n",
       "</style>\n",
       "<table border=\"1\" class=\"dataframe\">\n",
       "  <thead>\n",
       "    <tr style=\"text-align: right;\">\n",
       "      <th></th>\n",
       "      <th>children</th>\n",
       "      <th>days_employed</th>\n",
       "      <th>dob_years</th>\n",
       "      <th>education</th>\n",
       "      <th>education_id</th>\n",
       "      <th>family_status</th>\n",
       "      <th>family_status_id</th>\n",
       "      <th>gender</th>\n",
       "      <th>income_type</th>\n",
       "      <th>debt</th>\n",
       "      <th>total_income</th>\n",
       "      <th>purpose</th>\n",
       "    </tr>\n",
       "  </thead>\n",
       "  <tbody>\n",
       "    <tr>\n",
       "      <th>0</th>\n",
       "      <td>1</td>\n",
       "      <td>-8437.673028</td>\n",
       "      <td>42</td>\n",
       "      <td>высшее</td>\n",
       "      <td>0</td>\n",
       "      <td>женат / замужем</td>\n",
       "      <td>0</td>\n",
       "      <td>F</td>\n",
       "      <td>сотрудник</td>\n",
       "      <td>0</td>\n",
       "      <td>253875.639453</td>\n",
       "      <td>покупка жилья</td>\n",
       "    </tr>\n",
       "    <tr>\n",
       "      <th>1</th>\n",
       "      <td>1</td>\n",
       "      <td>-4024.803754</td>\n",
       "      <td>36</td>\n",
       "      <td>среднее</td>\n",
       "      <td>1</td>\n",
       "      <td>женат / замужем</td>\n",
       "      <td>0</td>\n",
       "      <td>F</td>\n",
       "      <td>сотрудник</td>\n",
       "      <td>0</td>\n",
       "      <td>112080.014102</td>\n",
       "      <td>приобретение автомобиля</td>\n",
       "    </tr>\n",
       "    <tr>\n",
       "      <th>2</th>\n",
       "      <td>0</td>\n",
       "      <td>-5623.422610</td>\n",
       "      <td>33</td>\n",
       "      <td>Среднее</td>\n",
       "      <td>1</td>\n",
       "      <td>женат / замужем</td>\n",
       "      <td>0</td>\n",
       "      <td>M</td>\n",
       "      <td>сотрудник</td>\n",
       "      <td>0</td>\n",
       "      <td>145885.952297</td>\n",
       "      <td>покупка жилья</td>\n",
       "    </tr>\n",
       "    <tr>\n",
       "      <th>3</th>\n",
       "      <td>3</td>\n",
       "      <td>-4124.747207</td>\n",
       "      <td>32</td>\n",
       "      <td>среднее</td>\n",
       "      <td>1</td>\n",
       "      <td>женат / замужем</td>\n",
       "      <td>0</td>\n",
       "      <td>M</td>\n",
       "      <td>сотрудник</td>\n",
       "      <td>0</td>\n",
       "      <td>267628.550329</td>\n",
       "      <td>дополнительное образование</td>\n",
       "    </tr>\n",
       "    <tr>\n",
       "      <th>4</th>\n",
       "      <td>0</td>\n",
       "      <td>340266.072047</td>\n",
       "      <td>53</td>\n",
       "      <td>среднее</td>\n",
       "      <td>1</td>\n",
       "      <td>гражданский брак</td>\n",
       "      <td>1</td>\n",
       "      <td>F</td>\n",
       "      <td>пенсионер</td>\n",
       "      <td>0</td>\n",
       "      <td>158616.077870</td>\n",
       "      <td>сыграть свадьбу</td>\n",
       "    </tr>\n",
       "    <tr>\n",
       "      <th>5</th>\n",
       "      <td>0</td>\n",
       "      <td>-926.185831</td>\n",
       "      <td>27</td>\n",
       "      <td>высшее</td>\n",
       "      <td>0</td>\n",
       "      <td>гражданский брак</td>\n",
       "      <td>1</td>\n",
       "      <td>M</td>\n",
       "      <td>компаньон</td>\n",
       "      <td>0</td>\n",
       "      <td>255763.565419</td>\n",
       "      <td>покупка жилья</td>\n",
       "    </tr>\n",
       "    <tr>\n",
       "      <th>6</th>\n",
       "      <td>0</td>\n",
       "      <td>-2879.202052</td>\n",
       "      <td>43</td>\n",
       "      <td>высшее</td>\n",
       "      <td>0</td>\n",
       "      <td>женат / замужем</td>\n",
       "      <td>0</td>\n",
       "      <td>F</td>\n",
       "      <td>компаньон</td>\n",
       "      <td>0</td>\n",
       "      <td>240525.971920</td>\n",
       "      <td>операции с жильем</td>\n",
       "    </tr>\n",
       "    <tr>\n",
       "      <th>7</th>\n",
       "      <td>0</td>\n",
       "      <td>-152.779569</td>\n",
       "      <td>50</td>\n",
       "      <td>СРЕДНЕЕ</td>\n",
       "      <td>1</td>\n",
       "      <td>женат / замужем</td>\n",
       "      <td>0</td>\n",
       "      <td>M</td>\n",
       "      <td>сотрудник</td>\n",
       "      <td>0</td>\n",
       "      <td>135823.934197</td>\n",
       "      <td>образование</td>\n",
       "    </tr>\n",
       "    <tr>\n",
       "      <th>8</th>\n",
       "      <td>2</td>\n",
       "      <td>-6929.865299</td>\n",
       "      <td>35</td>\n",
       "      <td>ВЫСШЕЕ</td>\n",
       "      <td>0</td>\n",
       "      <td>гражданский брак</td>\n",
       "      <td>1</td>\n",
       "      <td>F</td>\n",
       "      <td>сотрудник</td>\n",
       "      <td>0</td>\n",
       "      <td>95856.832424</td>\n",
       "      <td>на проведение свадьбы</td>\n",
       "    </tr>\n",
       "    <tr>\n",
       "      <th>9</th>\n",
       "      <td>0</td>\n",
       "      <td>-2188.756445</td>\n",
       "      <td>41</td>\n",
       "      <td>среднее</td>\n",
       "      <td>1</td>\n",
       "      <td>женат / замужем</td>\n",
       "      <td>0</td>\n",
       "      <td>M</td>\n",
       "      <td>сотрудник</td>\n",
       "      <td>0</td>\n",
       "      <td>144425.938277</td>\n",
       "      <td>покупка жилья для семьи</td>\n",
       "    </tr>\n",
       "    <tr>\n",
       "      <th>10</th>\n",
       "      <td>2</td>\n",
       "      <td>-4171.483647</td>\n",
       "      <td>36</td>\n",
       "      <td>высшее</td>\n",
       "      <td>0</td>\n",
       "      <td>женат / замужем</td>\n",
       "      <td>0</td>\n",
       "      <td>M</td>\n",
       "      <td>компаньон</td>\n",
       "      <td>0</td>\n",
       "      <td>113943.491460</td>\n",
       "      <td>покупка недвижимости</td>\n",
       "    </tr>\n",
       "    <tr>\n",
       "      <th>11</th>\n",
       "      <td>0</td>\n",
       "      <td>-792.701887</td>\n",
       "      <td>40</td>\n",
       "      <td>среднее</td>\n",
       "      <td>1</td>\n",
       "      <td>женат / замужем</td>\n",
       "      <td>0</td>\n",
       "      <td>F</td>\n",
       "      <td>сотрудник</td>\n",
       "      <td>0</td>\n",
       "      <td>77069.234271</td>\n",
       "      <td>покупка коммерческой недвижимости</td>\n",
       "    </tr>\n",
       "    <tr>\n",
       "      <th>12</th>\n",
       "      <td>0</td>\n",
       "      <td>NaN</td>\n",
       "      <td>65</td>\n",
       "      <td>среднее</td>\n",
       "      <td>1</td>\n",
       "      <td>гражданский брак</td>\n",
       "      <td>1</td>\n",
       "      <td>M</td>\n",
       "      <td>пенсионер</td>\n",
       "      <td>0</td>\n",
       "      <td>NaN</td>\n",
       "      <td>сыграть свадьбу</td>\n",
       "    </tr>\n",
       "    <tr>\n",
       "      <th>13</th>\n",
       "      <td>0</td>\n",
       "      <td>-1846.641941</td>\n",
       "      <td>54</td>\n",
       "      <td>неоконченное высшее</td>\n",
       "      <td>2</td>\n",
       "      <td>женат / замужем</td>\n",
       "      <td>0</td>\n",
       "      <td>F</td>\n",
       "      <td>сотрудник</td>\n",
       "      <td>0</td>\n",
       "      <td>130458.228857</td>\n",
       "      <td>приобретение автомобиля</td>\n",
       "    </tr>\n",
       "    <tr>\n",
       "      <th>14</th>\n",
       "      <td>0</td>\n",
       "      <td>-1844.956182</td>\n",
       "      <td>56</td>\n",
       "      <td>высшее</td>\n",
       "      <td>0</td>\n",
       "      <td>гражданский брак</td>\n",
       "      <td>1</td>\n",
       "      <td>F</td>\n",
       "      <td>компаньон</td>\n",
       "      <td>1</td>\n",
       "      <td>165127.911772</td>\n",
       "      <td>покупка жилой недвижимости</td>\n",
       "    </tr>\n",
       "    <tr>\n",
       "      <th>15</th>\n",
       "      <td>1</td>\n",
       "      <td>-972.364419</td>\n",
       "      <td>26</td>\n",
       "      <td>среднее</td>\n",
       "      <td>1</td>\n",
       "      <td>женат / замужем</td>\n",
       "      <td>0</td>\n",
       "      <td>F</td>\n",
       "      <td>сотрудник</td>\n",
       "      <td>0</td>\n",
       "      <td>116820.904450</td>\n",
       "      <td>строительство собственной недвижимости</td>\n",
       "    </tr>\n",
       "    <tr>\n",
       "      <th>16</th>\n",
       "      <td>0</td>\n",
       "      <td>-1719.934226</td>\n",
       "      <td>35</td>\n",
       "      <td>среднее</td>\n",
       "      <td>1</td>\n",
       "      <td>женат / замужем</td>\n",
       "      <td>0</td>\n",
       "      <td>F</td>\n",
       "      <td>сотрудник</td>\n",
       "      <td>0</td>\n",
       "      <td>289202.704229</td>\n",
       "      <td>недвижимость</td>\n",
       "    </tr>\n",
       "    <tr>\n",
       "      <th>17</th>\n",
       "      <td>0</td>\n",
       "      <td>-2369.999720</td>\n",
       "      <td>33</td>\n",
       "      <td>высшее</td>\n",
       "      <td>0</td>\n",
       "      <td>гражданский брак</td>\n",
       "      <td>1</td>\n",
       "      <td>M</td>\n",
       "      <td>сотрудник</td>\n",
       "      <td>0</td>\n",
       "      <td>90410.586745</td>\n",
       "      <td>строительство недвижимости</td>\n",
       "    </tr>\n",
       "    <tr>\n",
       "      <th>18</th>\n",
       "      <td>0</td>\n",
       "      <td>400281.136913</td>\n",
       "      <td>53</td>\n",
       "      <td>среднее</td>\n",
       "      <td>1</td>\n",
       "      <td>вдовец / вдова</td>\n",
       "      <td>2</td>\n",
       "      <td>F</td>\n",
       "      <td>пенсионер</td>\n",
       "      <td>0</td>\n",
       "      <td>56823.777243</td>\n",
       "      <td>на покупку подержанного автомобиля</td>\n",
       "    </tr>\n",
       "    <tr>\n",
       "      <th>19</th>\n",
       "      <td>0</td>\n",
       "      <td>-10038.818549</td>\n",
       "      <td>48</td>\n",
       "      <td>СРЕДНЕЕ</td>\n",
       "      <td>1</td>\n",
       "      <td>в разводе</td>\n",
       "      <td>3</td>\n",
       "      <td>F</td>\n",
       "      <td>сотрудник</td>\n",
       "      <td>0</td>\n",
       "      <td>242831.107982</td>\n",
       "      <td>на покупку своего автомобиля</td>\n",
       "    </tr>\n",
       "  </tbody>\n",
       "</table>\n",
       "</div>"
      ],
      "text/plain": [
       "    children  days_employed  dob_years            education  education_id  \\\n",
       "0          1   -8437.673028         42               высшее             0   \n",
       "1          1   -4024.803754         36              среднее             1   \n",
       "2          0   -5623.422610         33              Среднее             1   \n",
       "3          3   -4124.747207         32              среднее             1   \n",
       "4          0  340266.072047         53              среднее             1   \n",
       "5          0    -926.185831         27               высшее             0   \n",
       "6          0   -2879.202052         43               высшее             0   \n",
       "7          0    -152.779569         50              СРЕДНЕЕ             1   \n",
       "8          2   -6929.865299         35               ВЫСШЕЕ             0   \n",
       "9          0   -2188.756445         41              среднее             1   \n",
       "10         2   -4171.483647         36               высшее             0   \n",
       "11         0    -792.701887         40              среднее             1   \n",
       "12         0            NaN         65              среднее             1   \n",
       "13         0   -1846.641941         54  неоконченное высшее             2   \n",
       "14         0   -1844.956182         56               высшее             0   \n",
       "15         1    -972.364419         26              среднее             1   \n",
       "16         0   -1719.934226         35              среднее             1   \n",
       "17         0   -2369.999720         33               высшее             0   \n",
       "18         0  400281.136913         53              среднее             1   \n",
       "19         0  -10038.818549         48              СРЕДНЕЕ             1   \n",
       "\n",
       "       family_status  family_status_id gender income_type  debt  \\\n",
       "0    женат / замужем                 0      F   сотрудник     0   \n",
       "1    женат / замужем                 0      F   сотрудник     0   \n",
       "2    женат / замужем                 0      M   сотрудник     0   \n",
       "3    женат / замужем                 0      M   сотрудник     0   \n",
       "4   гражданский брак                 1      F   пенсионер     0   \n",
       "5   гражданский брак                 1      M   компаньон     0   \n",
       "6    женат / замужем                 0      F   компаньон     0   \n",
       "7    женат / замужем                 0      M   сотрудник     0   \n",
       "8   гражданский брак                 1      F   сотрудник     0   \n",
       "9    женат / замужем                 0      M   сотрудник     0   \n",
       "10   женат / замужем                 0      M   компаньон     0   \n",
       "11   женат / замужем                 0      F   сотрудник     0   \n",
       "12  гражданский брак                 1      M   пенсионер     0   \n",
       "13   женат / замужем                 0      F   сотрудник     0   \n",
       "14  гражданский брак                 1      F   компаньон     1   \n",
       "15   женат / замужем                 0      F   сотрудник     0   \n",
       "16   женат / замужем                 0      F   сотрудник     0   \n",
       "17  гражданский брак                 1      M   сотрудник     0   \n",
       "18    вдовец / вдова                 2      F   пенсионер     0   \n",
       "19         в разводе                 3      F   сотрудник     0   \n",
       "\n",
       "     total_income                                 purpose  \n",
       "0   253875.639453                           покупка жилья  \n",
       "1   112080.014102                 приобретение автомобиля  \n",
       "2   145885.952297                           покупка жилья  \n",
       "3   267628.550329              дополнительное образование  \n",
       "4   158616.077870                         сыграть свадьбу  \n",
       "5   255763.565419                           покупка жилья  \n",
       "6   240525.971920                       операции с жильем  \n",
       "7   135823.934197                             образование  \n",
       "8    95856.832424                   на проведение свадьбы  \n",
       "9   144425.938277                 покупка жилья для семьи  \n",
       "10  113943.491460                    покупка недвижимости  \n",
       "11   77069.234271       покупка коммерческой недвижимости  \n",
       "12            NaN                         сыграть свадьбу  \n",
       "13  130458.228857                 приобретение автомобиля  \n",
       "14  165127.911772              покупка жилой недвижимости  \n",
       "15  116820.904450  строительство собственной недвижимости  \n",
       "16  289202.704229                            недвижимость  \n",
       "17   90410.586745              строительство недвижимости  \n",
       "18   56823.777243      на покупку подержанного автомобиля  \n",
       "19  242831.107982            на покупку своего автомобиля  "
      ]
     },
     "execution_count": 2,
     "metadata": {},
     "output_type": "execute_result"
    }
   ],
   "source": [
    "data.head(20)"
   ]
  },
  {
   "cell_type": "markdown",
   "id": "f843fc14",
   "metadata": {
    "deletable": false,
    "editable": false,
    "id": "1c12e233"
   },
   "source": [
    "**Задание 3. Выведите основную информацию о датафрейме с помощью метода `info()`.**"
   ]
  },
  {
   "cell_type": "code",
   "execution_count": 3,
   "id": "90e1a506",
   "metadata": {
    "deletable": false,
    "id": "2b757bca",
    "outputId": "15376089-8dad-46c9-b520-c05248d43158"
   },
   "outputs": [
    {
     "name": "stdout",
     "output_type": "stream",
     "text": [
      "<class 'pandas.core.frame.DataFrame'>\n",
      "RangeIndex: 21525 entries, 0 to 21524\n",
      "Data columns (total 12 columns):\n",
      " #   Column            Non-Null Count  Dtype  \n",
      "---  ------            --------------  -----  \n",
      " 0   children          21525 non-null  int64  \n",
      " 1   days_employed     19351 non-null  float64\n",
      " 2   dob_years         21525 non-null  int64  \n",
      " 3   education         21525 non-null  object \n",
      " 4   education_id      21525 non-null  int64  \n",
      " 5   family_status     21525 non-null  object \n",
      " 6   family_status_id  21525 non-null  int64  \n",
      " 7   gender            21525 non-null  object \n",
      " 8   income_type       21525 non-null  object \n",
      " 9   debt              21525 non-null  int64  \n",
      " 10  total_income      19351 non-null  float64\n",
      " 11  purpose           21525 non-null  object \n",
      "dtypes: float64(2), int64(5), object(5)\n",
      "memory usage: 2.0+ MB\n"
     ]
    }
   ],
   "source": [
    "data.info()"
   ]
  },
  {
   "cell_type": "markdown",
   "id": "8ada88d1",
   "metadata": {
    "deletable": false,
    "editable": false,
    "id": "333ec665"
   },
   "source": [
    "## Предобработка данных"
   ]
  },
  {
   "cell_type": "markdown",
   "id": "3ebaa770",
   "metadata": {
    "deletable": false,
    "editable": false,
    "id": "02d92d53"
   },
   "source": [
    "### Удаление пропусков"
   ]
  },
  {
   "cell_type": "markdown",
   "id": "43fafd0c",
   "metadata": {
    "deletable": false,
    "editable": false,
    "id": "cd84967c"
   },
   "source": [
    "**Задание 4. Выведите количество пропущенных значений для каждого столбца. Используйте комбинацию двух методов.**"
   ]
  },
  {
   "cell_type": "code",
   "execution_count": 4,
   "id": "02aa73ed",
   "metadata": {
    "deletable": false,
    "id": "7f9b2309",
    "outputId": "81f4d817-781c-465c-ed15-91ce4446810d"
   },
   "outputs": [
    {
     "data": {
      "text/plain": [
       "children               0\n",
       "days_employed       2174\n",
       "dob_years              0\n",
       "education              0\n",
       "education_id           0\n",
       "family_status          0\n",
       "family_status_id       0\n",
       "gender                 0\n",
       "income_type            0\n",
       "debt                   0\n",
       "total_income        2174\n",
       "purpose                0\n",
       "dtype: int64"
      ]
     },
     "execution_count": 4,
     "metadata": {},
     "output_type": "execute_result"
    }
   ],
   "source": [
    "data.isna().sum()"
   ]
  },
  {
   "cell_type": "markdown",
   "id": "1f9fcaac",
   "metadata": {
    "deletable": false,
    "editable": false,
    "id": "db86e27b"
   },
   "source": [
    "**Задание 5. В двух столбцах есть пропущенные значения. Один из них — `days_employed`. Пропуски в этом столбце вы обработаете на следующем этапе. Другой столбец с пропущенными значениями — `total_income` — хранит данные о доходах. На сумму дохода сильнее всего влияет тип занятости, поэтому заполнить пропуски в этом столбце нужно медианным значением по каждому типу из столбца `income_type`. Например, у человека с типом занятости `сотрудник` пропуск в столбце `total_income` должен быть заполнен медианным доходом среди всех записей с тем же типом.**"
   ]
  },
  {
   "cell_type": "code",
   "execution_count": 5,
   "id": "0aa00cef",
   "metadata": {
    "deletable": false,
    "id": "42006a93"
   },
   "outputs": [],
   "source": [
    "for t in data['income_type'].unique():\n",
    "    data.loc[(data['income_type'] == t) & (data['total_income'].isna()), 'total_income'] = \\\n",
    "    data.loc[(data['income_type'] == t), 'total_income'].median()"
   ]
  },
  {
   "cell_type": "markdown",
   "id": "c67cfc06",
   "metadata": {
    "deletable": false,
    "editable": false,
    "id": "89da5ece"
   },
   "source": [
    "### Обработка аномальных значений"
   ]
  },
  {
   "cell_type": "markdown",
   "id": "7c4270c2",
   "metadata": {
    "deletable": false,
    "editable": false,
    "id": "57964554"
   },
   "source": [
    "**Задание 6. В данных могут встречаться артефакты (аномалии) — значения, которые не отражают действительность и появились по какой-то ошибке. таким артефактом будет отрицательное количество дней трудового стажа в столбце `days_employed`. Для реальных данных это нормально. Обработайте значения в этом столбце: замените все отрицательные значения положительными с помощью метода `abs()`.**"
   ]
  },
  {
   "cell_type": "code",
   "execution_count": 6,
   "id": "79b842cd",
   "metadata": {
    "deletable": false,
    "id": "f6f055bf"
   },
   "outputs": [],
   "source": [
    "data['days_employed'] = data['days_employed'].abs()"
   ]
  },
  {
   "cell_type": "markdown",
   "id": "4c054781",
   "metadata": {
    "deletable": false,
    "editable": false,
    "id": "6107dd2f"
   },
   "source": [
    "**Задание 7. Для каждого типа занятости выведите медианное значение трудового стажа `days_employed` в днях.**"
   ]
  },
  {
   "cell_type": "code",
   "execution_count": 7,
   "id": "06e696ce",
   "metadata": {
    "deletable": false,
    "id": "85a5faf6",
    "outputId": "801ef80e-522b-4668-f34e-565af7432bcf"
   },
   "outputs": [
    {
     "data": {
      "text/plain": [
       "income_type\n",
       "безработный        366413.652744\n",
       "в декрете            3296.759962\n",
       "госслужащий          2689.368353\n",
       "компаньон            1547.382223\n",
       "пенсионер          365213.306266\n",
       "предприниматель       520.848083\n",
       "сотрудник            1574.202821\n",
       "студент               578.751554\n",
       "Name: days_employed, dtype: float64"
      ]
     },
     "execution_count": 7,
     "metadata": {},
     "output_type": "execute_result"
    }
   ],
   "source": [
    "data.groupby('income_type')['days_employed'].agg('median')"
   ]
  },
  {
   "cell_type": "markdown",
   "id": "12d5d245",
   "metadata": {
    "deletable": false,
    "editable": false,
    "id": "38d1a030"
   },
   "source": [
    "У двух типов (безработные и пенсионеры) получатся аномально большие значения. Исправить такие значения сложно, поэтому оставьте их как есть. Тем более этот столбец не понадобится вам для исследования."
   ]
  },
  {
   "cell_type": "markdown",
   "id": "ceba5162",
   "metadata": {
    "deletable": false,
    "editable": false,
    "id": "d8a9f147"
   },
   "source": [
    "**Задание 8. Выведите перечень уникальных значений столбца `children`.**"
   ]
  },
  {
   "cell_type": "code",
   "execution_count": 8,
   "id": "d64e85e1",
   "metadata": {
    "deletable": false,
    "id": "ef5056eb",
    "outputId": "6975b15c-7f95-4697-d16d-a0c79b657b03"
   },
   "outputs": [
    {
     "data": {
      "text/plain": [
       "array([ 1,  0,  3,  2, -1,  4, 20,  5])"
      ]
     },
     "execution_count": 8,
     "metadata": {},
     "output_type": "execute_result"
    }
   ],
   "source": [
    "data['children'].unique()"
   ]
  },
  {
   "cell_type": "markdown",
   "id": "1b7b9433",
   "metadata": {
    "deletable": false,
    "editable": false,
    "id": "40b9ebf2"
   },
   "source": [
    "**Задание 9. В столбце `children` есть два аномальных значения. Удалите строки, в которых встречаются такие аномальные значения из датафрейма `data`.**"
   ]
  },
  {
   "cell_type": "code",
   "execution_count": 9,
   "id": "791a571c",
   "metadata": {
    "deletable": false,
    "id": "3ff9801d"
   },
   "outputs": [],
   "source": [
    "data = data[(data['children'] != -1) & (data['children'] != 20)]"
   ]
  },
  {
   "cell_type": "markdown",
   "id": "23e3023e",
   "metadata": {
    "deletable": false,
    "editable": false,
    "id": "bbc4d0ce"
   },
   "source": [
    "**Задание 10. Ещё раз выведите перечень уникальных значений столбца `children`, чтобы убедиться, что артефакты удалены.**"
   ]
  },
  {
   "cell_type": "code",
   "execution_count": 10,
   "id": "01477e67",
   "metadata": {
    "deletable": false,
    "id": "ad4fa8b7",
    "outputId": "b2097101-d49d-44d9-901b-32a65c9463d1"
   },
   "outputs": [
    {
     "data": {
      "text/plain": [
       "array([1, 0, 3, 2, 4, 5])"
      ]
     },
     "execution_count": 10,
     "metadata": {},
     "output_type": "execute_result"
    }
   ],
   "source": [
    "data['children'].unique()"
   ]
  },
  {
   "cell_type": "markdown",
   "id": "e2647a20",
   "metadata": {
    "deletable": false,
    "editable": false,
    "id": "75440b63"
   },
   "source": [
    "### Удаление пропусков (продолжение)"
   ]
  },
  {
   "cell_type": "markdown",
   "id": "8501715f",
   "metadata": {
    "deletable": false,
    "editable": false,
    "id": "f4ea573f"
   },
   "source": [
    "**Задание 11. Заполните пропуски в столбце `days_employed` медианными значениями по каждого типа занятости `income_type`.**"
   ]
  },
  {
   "cell_type": "code",
   "execution_count": 11,
   "id": "3cf7d20a",
   "metadata": {
    "deletable": false,
    "id": "af6b1a7e"
   },
   "outputs": [],
   "source": [
    "for t in data['income_type'].unique():\n",
    "    data.loc[(data['income_type'] == t) & (data['days_employed'].isna()), 'days_employed'] = \\\n",
    "    data.loc[(data['income_type'] == t), 'days_employed'].median()"
   ]
  },
  {
   "cell_type": "markdown",
   "id": "527673d5",
   "metadata": {
    "deletable": false,
    "editable": false,
    "id": "2753f40d"
   },
   "source": [
    "**Задание 12. Убедитесь, что все пропуски заполнены. Проверьте себя и ещё раз выведите количество пропущенных значений для каждого столбца с помощью двух методов.**"
   ]
  },
  {
   "cell_type": "code",
   "execution_count": 12,
   "id": "9fc62b51",
   "metadata": {
    "deletable": false,
    "id": "55f78bc2",
    "outputId": "8da1e4e1-358e-4e87-98c9-f261bce0a7b2"
   },
   "outputs": [
    {
     "data": {
      "text/plain": [
       "children            0\n",
       "days_employed       0\n",
       "dob_years           0\n",
       "education           0\n",
       "education_id        0\n",
       "family_status       0\n",
       "family_status_id    0\n",
       "gender              0\n",
       "income_type         0\n",
       "debt                0\n",
       "total_income        0\n",
       "purpose             0\n",
       "dtype: int64"
      ]
     },
     "execution_count": 12,
     "metadata": {},
     "output_type": "execute_result"
    }
   ],
   "source": [
    "data.isna().sum()"
   ]
  },
  {
   "cell_type": "markdown",
   "id": "00962291",
   "metadata": {
    "deletable": false,
    "editable": false,
    "id": "ddc81e43"
   },
   "source": [
    "### Изменение типов данных"
   ]
  },
  {
   "cell_type": "markdown",
   "id": "b5d04ee7",
   "metadata": {
    "deletable": false,
    "editable": false,
    "id": "42d19d24"
   },
   "source": [
    "**Задание 13. Замените вещественный тип данных в столбце `total_income` на целочисленный с помощью метода `astype()`.**"
   ]
  },
  {
   "cell_type": "code",
   "execution_count": 13,
   "id": "1e84a71a",
   "metadata": {
    "deletable": false,
    "id": "920b65ad"
   },
   "outputs": [],
   "source": [
    "data['total_income'] = data['total_income'].astype(int)"
   ]
  },
  {
   "cell_type": "markdown",
   "id": "b9dc6b58",
   "metadata": {
    "deletable": false,
    "editable": false,
    "id": "80c420ba"
   },
   "source": [
    "### Обработка дубликатов"
   ]
  },
  {
   "cell_type": "markdown",
   "id": "02b84884",
   "metadata": {
    "deletable": false,
    "editable": false
   },
   "source": [
    "**Задание 14. Обработайте неявные дубликаты в столбце `education`. В этом столбце есть одни и те же значения, но записанные по-разному: с использованием заглавных и строчных букв. Приведите их к нижнему регистру. Проверьте остальные столбцы.**"
   ]
  },
  {
   "cell_type": "code",
   "execution_count": 14,
   "id": "6eca88b1",
   "metadata": {
    "deletable": false
   },
   "outputs": [],
   "source": [
    "data['education'] = data['education'].str.lower()"
   ]
  },
  {
   "cell_type": "markdown",
   "id": "41808561",
   "metadata": {
    "deletable": false,
    "editable": false,
    "id": "dc587695"
   },
   "source": [
    "**Задание 15. Выведите на экран количество строк-дубликатов в данных. Если такие строки присутствуют, удалите их.**"
   ]
  },
  {
   "cell_type": "code",
   "execution_count": 15,
   "id": "2364b9d2",
   "metadata": {
    "deletable": false,
    "id": "3ee445e4",
    "outputId": "9684deba-1934-42d1-99e1-cda61740f822"
   },
   "outputs": [
    {
     "data": {
      "text/plain": [
       "71"
      ]
     },
     "execution_count": 15,
     "metadata": {},
     "output_type": "execute_result"
    }
   ],
   "source": [
    "data.duplicated().sum()"
   ]
  },
  {
   "cell_type": "code",
   "execution_count": 16,
   "id": "589f4e43",
   "metadata": {
    "deletable": false,
    "id": "8575fe05"
   },
   "outputs": [],
   "source": [
    "data = data.drop_duplicates()"
   ]
  },
  {
   "cell_type": "markdown",
   "id": "991d6df8",
   "metadata": {
    "deletable": false,
    "editable": false,
    "id": "9904cf55"
   },
   "source": [
    "### Категоризация данных"
   ]
  },
  {
   "cell_type": "markdown",
   "id": "f11f3c25",
   "metadata": {
    "deletable": false,
    "editable": false,
    "id": "72fcc8a2"
   },
   "source": [
    "**Задание 16. На основании диапазонов, указанных ниже, создайте в датафрейме `data` столбец `total_income_category` с категориями:**\n",
    "\n",
    "- 0–30000 — `'E'`;\n",
    "- 30001–50000 — `'D'`;\n",
    "- 50001–200000 — `'C'`;\n",
    "- 200001–1000000 — `'B'`;\n",
    "- 1000001 и выше — `'A'`.\n",
    "\n",
    "\n",
    "**Например, кредитополучателю с доходом 25000 нужно назначить категорию `'E'`, а клиенту, получающему 235000, — `'B'`. Используйте собственную функцию с именем `categorize_income()` и метод `apply()`.**"
   ]
  },
  {
   "cell_type": "code",
   "execution_count": 17,
   "id": "3467d60c",
   "metadata": {
    "deletable": false,
    "id": "e1771346"
   },
   "outputs": [],
   "source": [
    "def categorize_income(income):\n",
    "    try:\n",
    "        if 0 <= income <= 30000:\n",
    "            return 'E'\n",
    "        elif 30001 <= income <= 50000:\n",
    "            return 'D'\n",
    "        elif 50001 <= income <= 200000:\n",
    "            return 'C'\n",
    "        elif 200001 <= income <= 1000000:\n",
    "            return 'B'\n",
    "        elif income >= 1000001:\n",
    "            return 'A'\n",
    "    except:\n",
    "        pass"
   ]
  },
  {
   "cell_type": "code",
   "execution_count": 18,
   "id": "3a5ae22b",
   "metadata": {
    "deletable": false,
    "id": "d5f3586d"
   },
   "outputs": [],
   "source": [
    "data['total_income_category'] = data['total_income'].apply(categorize_income)"
   ]
  },
  {
   "cell_type": "markdown",
   "id": "e2fa77df",
   "metadata": {
    "deletable": false,
    "editable": false,
    "id": "dde49b5c"
   },
   "source": [
    "**Задание 17. Выведите на экран перечень уникальных целей взятия кредита из столбца `purpose`.**"
   ]
  },
  {
   "cell_type": "code",
   "execution_count": 19,
   "id": "0cb68fe5",
   "metadata": {
    "deletable": false,
    "id": "f67ce9b3",
    "outputId": "673c12d9-7d7e-4ae0-9812-c622c89dd244"
   },
   "outputs": [
    {
     "data": {
      "text/plain": [
       "array(['покупка жилья', 'приобретение автомобиля',\n",
       "       'дополнительное образование', 'сыграть свадьбу',\n",
       "       'операции с жильем', 'образование', 'на проведение свадьбы',\n",
       "       'покупка жилья для семьи', 'покупка недвижимости',\n",
       "       'покупка коммерческой недвижимости', 'покупка жилой недвижимости',\n",
       "       'строительство собственной недвижимости', 'недвижимость',\n",
       "       'строительство недвижимости', 'на покупку подержанного автомобиля',\n",
       "       'на покупку своего автомобиля',\n",
       "       'операции с коммерческой недвижимостью',\n",
       "       'строительство жилой недвижимости', 'жилье',\n",
       "       'операции со своей недвижимостью', 'автомобили',\n",
       "       'заняться образованием', 'сделка с подержанным автомобилем',\n",
       "       'получение образования', 'автомобиль', 'свадьба',\n",
       "       'получение дополнительного образования', 'покупка своего жилья',\n",
       "       'операции с недвижимостью', 'получение высшего образования',\n",
       "       'свой автомобиль', 'сделка с автомобилем',\n",
       "       'профильное образование', 'высшее образование',\n",
       "       'покупка жилья для сдачи', 'на покупку автомобиля', 'ремонт жилью',\n",
       "       'заняться высшим образованием'], dtype=object)"
      ]
     },
     "execution_count": 19,
     "metadata": {},
     "output_type": "execute_result"
    }
   ],
   "source": [
    "data['purpose'].unique()"
   ]
  },
  {
   "cell_type": "markdown",
   "id": "7edffb28",
   "metadata": {
    "deletable": false,
    "editable": false,
    "id": "85d0aef0"
   },
   "source": [
    "**Задание 18. Создайте функцию, которая на основании данных из столбца `purpose` сформирует новый столбец `purpose_category`, в который войдут следующие категории:**\n",
    "\n",
    "- `'операции с автомобилем'`,\n",
    "- `'операции с недвижимостью'`,\n",
    "- `'проведение свадьбы'`,\n",
    "- `'получение образования'`.\n",
    "\n",
    "**Например, если в столбце `purpose` находится подстрока `'на покупку автомобиля'`, то в столбце `purpose_category` должна появиться строка `'операции с автомобилем'`.**\n",
    "\n",
    "**Используйте собственную функцию с именем `categorize_purpose()` и метод `apply()`. Изучите данные в столбце `purpose` и определите, какие подстроки помогут вам правильно определить категорию.**"
   ]
  },
  {
   "cell_type": "code",
   "execution_count": 20,
   "id": "2e9817a7",
   "metadata": {
    "deletable": false,
    "id": "e149fab4"
   },
   "outputs": [],
   "source": [
    "def categorize_purpose(row):\n",
    "    try:\n",
    "        if 'автом' in row:\n",
    "            return 'операции с автомобилем'\n",
    "        elif 'жил' in row or 'недвиж' in row:\n",
    "            return 'операции с недвижимостью'\n",
    "        elif 'свад' in row:\n",
    "            return 'проведение свадьбы'\n",
    "        elif 'образов' in row:\n",
    "            return 'получение образования'\n",
    "    except:\n",
    "        return 'нет категории'"
   ]
  },
  {
   "cell_type": "code",
   "execution_count": 21,
   "id": "9596c23d",
   "metadata": {
    "deletable": false,
    "id": "bf36e69b"
   },
   "outputs": [],
   "source": [
    "data['purpose_category'] = data['purpose'].apply(categorize_purpose)"
   ]
  },
  {
   "cell_type": "markdown",
   "id": "23f0dbd0",
   "metadata": {
    "deletable": false,
    "editable": false,
    "id": "09b242bf"
   },
   "source": [
    "### Шаг 3. Исследуйте данные и ответьте на вопросы"
   ]
  },
  {
   "cell_type": "markdown",
   "id": "bdef07dc",
   "metadata": {
    "deletable": false,
    "editable": false,
    "id": "c5d66278"
   },
   "source": [
    "#### 3.1 Есть ли зависимость между количеством детей и возвратом кредита в срок?"
   ]
  },
  {
   "cell_type": "code",
   "execution_count": 22,
   "id": "61ba4af4",
   "metadata": {},
   "outputs": [],
   "source": [
    "# Данная функция считает зависимость возврата кредита в срок от различных параметров. Возвращает DataFrame.\n",
    "# Параметры на вход: data - DataFrame, х - строка, с названием столбца от которого строим зависимость, \n",
    "\n",
    "# debt\t0 - возврат кредита в срок\n",
    "# debt\t1 - задержка кредита\n",
    "#part_of_total - часть от общего числа (репрезентативность выборки) в %\n",
    "#debt_attitude - процент возврата кредита в срок\n",
    "\n",
    "def pivot_dependence(data, x):\n",
    "    dependence = data.pivot_table(\n",
    "        index = x, \n",
    "        columns = 'debt', \n",
    "        values = 'family_status_id', \n",
    "        aggfunc = 'count')\n",
    "\n",
    "    dependence[1] = dependence[1].fillna(0)  \n",
    "    dependence.loc[:, 0:1] = dependence.loc[:, 0:1].astype(int) \n",
    "\n",
    "    dependence['part_of_total'] = ((\n",
    "        (dependence[0]+ dependence[1])/len(data))*100)\n",
    "\n",
    "    dependence['debt_attitude'] = (\n",
    "        (dependence[0]/(dependence[0] + dependence[1]))\n",
    "                                        *100)\n",
    "\n",
    "    dependence = dependence.sort_values(\n",
    "        by = 'debt_attitude', \n",
    "        ascending=False).round({'part_of_total': 2, 'debt_attitude':2})\n",
    "    return dependence"
   ]
  },
  {
   "cell_type": "code",
   "execution_count": 23,
   "id": "06e626e0",
   "metadata": {},
   "outputs": [
    {
     "data": {
      "text/html": [
       "<div>\n",
       "<style scoped>\n",
       "    .dataframe tbody tr th:only-of-type {\n",
       "        vertical-align: middle;\n",
       "    }\n",
       "\n",
       "    .dataframe tbody tr th {\n",
       "        vertical-align: top;\n",
       "    }\n",
       "\n",
       "    .dataframe thead th {\n",
       "        text-align: right;\n",
       "    }\n",
       "</style>\n",
       "<table border=\"1\" class=\"dataframe\">\n",
       "  <thead>\n",
       "    <tr style=\"text-align: right;\">\n",
       "      <th></th>\n",
       "      <th>count</th>\n",
       "      <th>mean</th>\n",
       "      <th>sum</th>\n",
       "    </tr>\n",
       "    <tr>\n",
       "      <th>children</th>\n",
       "      <th></th>\n",
       "      <th></th>\n",
       "      <th></th>\n",
       "    </tr>\n",
       "  </thead>\n",
       "  <tbody>\n",
       "    <tr>\n",
       "      <th>0</th>\n",
       "      <td>14091</td>\n",
       "      <td>0.075438</td>\n",
       "      <td>1063</td>\n",
       "    </tr>\n",
       "    <tr>\n",
       "      <th>1</th>\n",
       "      <td>4808</td>\n",
       "      <td>0.092346</td>\n",
       "      <td>444</td>\n",
       "    </tr>\n",
       "    <tr>\n",
       "      <th>2</th>\n",
       "      <td>2052</td>\n",
       "      <td>0.094542</td>\n",
       "      <td>194</td>\n",
       "    </tr>\n",
       "    <tr>\n",
       "      <th>3</th>\n",
       "      <td>330</td>\n",
       "      <td>0.081818</td>\n",
       "      <td>27</td>\n",
       "    </tr>\n",
       "    <tr>\n",
       "      <th>4</th>\n",
       "      <td>41</td>\n",
       "      <td>0.097561</td>\n",
       "      <td>4</td>\n",
       "    </tr>\n",
       "    <tr>\n",
       "      <th>5</th>\n",
       "      <td>9</td>\n",
       "      <td>0.000000</td>\n",
       "      <td>0</td>\n",
       "    </tr>\n",
       "  </tbody>\n",
       "</table>\n",
       "</div>"
      ],
      "text/plain": [
       "          count      mean   sum\n",
       "children                       \n",
       "0         14091  0.075438  1063\n",
       "1          4808  0.092346   444\n",
       "2          2052  0.094542   194\n",
       "3           330  0.081818    27\n",
       "4            41  0.097561     4\n",
       "5             9  0.000000     0"
      ]
     },
     "execution_count": 23,
     "metadata": {},
     "output_type": "execute_result"
    }
   ],
   "source": [
    "data.pivot_table(\n",
    "    index='children', \n",
    "    values='debt', \n",
    "    aggfunc={'count', 'sum', 'mean'}\n",
    "    )"
   ]
  },
  {
   "cell_type": "code",
   "execution_count": 24,
   "id": "3270655d",
   "metadata": {},
   "outputs": [
    {
     "data": {
      "text/html": [
       "<div>\n",
       "<style scoped>\n",
       "    .dataframe tbody tr th:only-of-type {\n",
       "        vertical-align: middle;\n",
       "    }\n",
       "\n",
       "    .dataframe tbody tr th {\n",
       "        vertical-align: top;\n",
       "    }\n",
       "\n",
       "    .dataframe thead th {\n",
       "        text-align: right;\n",
       "    }\n",
       "</style>\n",
       "<table border=\"1\" class=\"dataframe\">\n",
       "  <thead>\n",
       "    <tr style=\"text-align: right;\">\n",
       "      <th>debt</th>\n",
       "      <th>0</th>\n",
       "      <th>1</th>\n",
       "      <th>part_of_total</th>\n",
       "      <th>debt_attitude</th>\n",
       "    </tr>\n",
       "    <tr>\n",
       "      <th>children</th>\n",
       "      <th></th>\n",
       "      <th></th>\n",
       "      <th></th>\n",
       "      <th></th>\n",
       "    </tr>\n",
       "  </thead>\n",
       "  <tbody>\n",
       "    <tr>\n",
       "      <th>5</th>\n",
       "      <td>9.0</td>\n",
       "      <td>0.0</td>\n",
       "      <td>0.04</td>\n",
       "      <td>100.00</td>\n",
       "    </tr>\n",
       "    <tr>\n",
       "      <th>0</th>\n",
       "      <td>13028.0</td>\n",
       "      <td>1063.0</td>\n",
       "      <td>66.06</td>\n",
       "      <td>92.46</td>\n",
       "    </tr>\n",
       "    <tr>\n",
       "      <th>3</th>\n",
       "      <td>303.0</td>\n",
       "      <td>27.0</td>\n",
       "      <td>1.55</td>\n",
       "      <td>91.82</td>\n",
       "    </tr>\n",
       "    <tr>\n",
       "      <th>1</th>\n",
       "      <td>4364.0</td>\n",
       "      <td>444.0</td>\n",
       "      <td>22.54</td>\n",
       "      <td>90.77</td>\n",
       "    </tr>\n",
       "    <tr>\n",
       "      <th>2</th>\n",
       "      <td>1858.0</td>\n",
       "      <td>194.0</td>\n",
       "      <td>9.62</td>\n",
       "      <td>90.55</td>\n",
       "    </tr>\n",
       "    <tr>\n",
       "      <th>4</th>\n",
       "      <td>37.0</td>\n",
       "      <td>4.0</td>\n",
       "      <td>0.19</td>\n",
       "      <td>90.24</td>\n",
       "    </tr>\n",
       "  </tbody>\n",
       "</table>\n",
       "</div>"
      ],
      "text/plain": [
       "debt            0       1  part_of_total  debt_attitude\n",
       "children                                               \n",
       "5             9.0     0.0           0.04         100.00\n",
       "0         13028.0  1063.0          66.06          92.46\n",
       "3           303.0    27.0           1.55          91.82\n",
       "1          4364.0   444.0          22.54          90.77\n",
       "2          1858.0   194.0           9.62          90.55\n",
       "4            37.0     4.0           0.19          90.24"
      ]
     },
     "execution_count": 24,
     "metadata": {},
     "output_type": "execute_result"
    }
   ],
   "source": [
    "pivot_dependence(data, 'children')"
   ]
  },
  {
   "cell_type": "markdown",
   "id": "bd1c707b",
   "metadata": {
    "deletable": false,
    "editable": false,
    "id": "97be82ca"
   },
   "source": [
    "#### 3.2 Есть ли зависимость между семейным положением и возвратом кредита в срок?"
   ]
  },
  {
   "cell_type": "code",
   "execution_count": 25,
   "id": "1c169919",
   "metadata": {
    "deletable": false,
    "id": "dc3f7ee8"
   },
   "outputs": [
    {
     "data": {
      "text/html": [
       "<div>\n",
       "<style scoped>\n",
       "    .dataframe tbody tr th:only-of-type {\n",
       "        vertical-align: middle;\n",
       "    }\n",
       "\n",
       "    .dataframe tbody tr th {\n",
       "        vertical-align: top;\n",
       "    }\n",
       "\n",
       "    .dataframe thead th {\n",
       "        text-align: right;\n",
       "    }\n",
       "</style>\n",
       "<table border=\"1\" class=\"dataframe\">\n",
       "  <thead>\n",
       "    <tr style=\"text-align: right;\">\n",
       "      <th>debt</th>\n",
       "      <th>0</th>\n",
       "      <th>1</th>\n",
       "      <th>part_of_total</th>\n",
       "      <th>debt_attitude</th>\n",
       "    </tr>\n",
       "    <tr>\n",
       "      <th>family_status</th>\n",
       "      <th></th>\n",
       "      <th></th>\n",
       "      <th></th>\n",
       "      <th></th>\n",
       "    </tr>\n",
       "  </thead>\n",
       "  <tbody>\n",
       "    <tr>\n",
       "      <th>вдовец / вдова</th>\n",
       "      <td>888</td>\n",
       "      <td>63</td>\n",
       "      <td>4.46</td>\n",
       "      <td>93.38</td>\n",
       "    </tr>\n",
       "    <tr>\n",
       "      <th>в разводе</th>\n",
       "      <td>1105</td>\n",
       "      <td>84</td>\n",
       "      <td>5.57</td>\n",
       "      <td>92.94</td>\n",
       "    </tr>\n",
       "    <tr>\n",
       "      <th>женат / замужем</th>\n",
       "      <td>11334</td>\n",
       "      <td>927</td>\n",
       "      <td>57.48</td>\n",
       "      <td>92.44</td>\n",
       "    </tr>\n",
       "    <tr>\n",
       "      <th>гражданский брак</th>\n",
       "      <td>3749</td>\n",
       "      <td>385</td>\n",
       "      <td>19.38</td>\n",
       "      <td>90.69</td>\n",
       "    </tr>\n",
       "    <tr>\n",
       "      <th>Не женат / не замужем</th>\n",
       "      <td>2523</td>\n",
       "      <td>273</td>\n",
       "      <td>13.11</td>\n",
       "      <td>90.24</td>\n",
       "    </tr>\n",
       "  </tbody>\n",
       "</table>\n",
       "</div>"
      ],
      "text/plain": [
       "debt                       0    1  part_of_total  debt_attitude\n",
       "family_status                                                  \n",
       "вдовец / вдова           888   63           4.46          93.38\n",
       "в разводе               1105   84           5.57          92.94\n",
       "женат / замужем        11334  927          57.48          92.44\n",
       "гражданский брак        3749  385          19.38          90.69\n",
       "Не женат / не замужем   2523  273          13.11          90.24"
      ]
     },
     "execution_count": 25,
     "metadata": {},
     "output_type": "execute_result"
    }
   ],
   "source": [
    "pivot_dependence(data, 'family_status')\n"
   ]
  },
  {
   "cell_type": "markdown",
   "id": "64423ed2",
   "metadata": {},
   "source": [
    "Размах значений, в зависимости от семейного положения, не превышает 3%. </br>\n",
    "\n",
    "Попробуем классифицировать семейное положение по принципу - официально оформленные и нет. "
   ]
  },
  {
   "cell_type": "code",
   "execution_count": 26,
   "id": "9dc19f2c",
   "metadata": {},
   "outputs": [],
   "source": [
    "def categorize_family_status(status_id):\n",
    "    try:\n",
    "        if status_id == 0 or status_id == 2 or status_id == 3  :\n",
    "            return 'официальные отношения'\n",
    "        if status_id == 1   or  status_id == 4:\n",
    "            return 'неофициальные отношения'\n",
    "    except:\n",
    "        pass"
   ]
  },
  {
   "cell_type": "code",
   "execution_count": 27,
   "id": "c21064f8",
   "metadata": {},
   "outputs": [
    {
     "data": {
      "text/html": [
       "<div>\n",
       "<style scoped>\n",
       "    .dataframe tbody tr th:only-of-type {\n",
       "        vertical-align: middle;\n",
       "    }\n",
       "\n",
       "    .dataframe tbody tr th {\n",
       "        vertical-align: top;\n",
       "    }\n",
       "\n",
       "    .dataframe thead th {\n",
       "        text-align: right;\n",
       "    }\n",
       "</style>\n",
       "<table border=\"1\" class=\"dataframe\">\n",
       "  <thead>\n",
       "    <tr style=\"text-align: right;\">\n",
       "      <th>debt</th>\n",
       "      <th>0</th>\n",
       "      <th>1</th>\n",
       "      <th>part_of_total</th>\n",
       "      <th>debt_attitude</th>\n",
       "    </tr>\n",
       "    <tr>\n",
       "      <th>categorize_family_status</th>\n",
       "      <th></th>\n",
       "      <th></th>\n",
       "      <th></th>\n",
       "      <th></th>\n",
       "    </tr>\n",
       "  </thead>\n",
       "  <tbody>\n",
       "    <tr>\n",
       "      <th>официальные отношения</th>\n",
       "      <td>13327</td>\n",
       "      <td>1074</td>\n",
       "      <td>67.51</td>\n",
       "      <td>92.54</td>\n",
       "    </tr>\n",
       "    <tr>\n",
       "      <th>неофициальные отношения</th>\n",
       "      <td>6272</td>\n",
       "      <td>658</td>\n",
       "      <td>32.49</td>\n",
       "      <td>90.51</td>\n",
       "    </tr>\n",
       "  </tbody>\n",
       "</table>\n",
       "</div>"
      ],
      "text/plain": [
       "debt                          0     1  part_of_total  debt_attitude\n",
       "categorize_family_status                                           \n",
       "официальные отношения     13327  1074          67.51          92.54\n",
       "неофициальные отношения    6272   658          32.49          90.51"
      ]
     },
     "execution_count": 27,
     "metadata": {},
     "output_type": "execute_result"
    }
   ],
   "source": [
    "data['categorize_family_status'] = (data['family_status_id']\n",
    "                                    .apply(categorize_family_status))\n",
    "pivot_dependence(data, 'categorize_family_status')"
   ]
  },
  {
   "cell_type": "markdown",
   "id": "9a3eb2d4",
   "metadata": {
    "deletable": false,
    "editable": false,
    "id": "1e8b2fca"
   },
   "source": [
    "#### 3.3 Есть ли зависимость между уровнем дохода и возвратом кредита в срок?"
   ]
  },
  {
   "cell_type": "code",
   "execution_count": 28,
   "id": "dd115262",
   "metadata": {
    "deletable": false,
    "id": "cd7e3720"
   },
   "outputs": [],
   "source": [
    "# total_income_category - уровень дохода клиента \n",
    "# 0–30000 — 'E';\n",
    "# 30001–50000 — 'D';\n",
    "# 50001–200000 — 'C';\n",
    "# 200001–1000000 — 'B';\n",
    "# 1000001 и выше — 'A'.\n",
    "# debt_attitude - отношение числа задолженностей к общему числу."
   ]
  },
  {
   "cell_type": "code",
   "execution_count": 29,
   "id": "77c5649f",
   "metadata": {},
   "outputs": [
    {
     "data": {
      "text/html": [
       "<div>\n",
       "<style scoped>\n",
       "    .dataframe tbody tr th:only-of-type {\n",
       "        vertical-align: middle;\n",
       "    }\n",
       "\n",
       "    .dataframe tbody tr th {\n",
       "        vertical-align: top;\n",
       "    }\n",
       "\n",
       "    .dataframe thead th {\n",
       "        text-align: right;\n",
       "    }\n",
       "</style>\n",
       "<table border=\"1\" class=\"dataframe\">\n",
       "  <thead>\n",
       "    <tr style=\"text-align: right;\">\n",
       "      <th>debt</th>\n",
       "      <th>0</th>\n",
       "      <th>1</th>\n",
       "      <th>part_of_total</th>\n",
       "      <th>debt_attitude</th>\n",
       "    </tr>\n",
       "    <tr>\n",
       "      <th>total_income_category</th>\n",
       "      <th></th>\n",
       "      <th></th>\n",
       "      <th></th>\n",
       "      <th></th>\n",
       "    </tr>\n",
       "  </thead>\n",
       "  <tbody>\n",
       "    <tr>\n",
       "      <th>D</th>\n",
       "      <td>328</td>\n",
       "      <td>21</td>\n",
       "      <td>1.64</td>\n",
       "      <td>93.98</td>\n",
       "    </tr>\n",
       "    <tr>\n",
       "      <th>B</th>\n",
       "      <td>4660</td>\n",
       "      <td>354</td>\n",
       "      <td>23.51</td>\n",
       "      <td>92.94</td>\n",
       "    </tr>\n",
       "    <tr>\n",
       "      <th>A</th>\n",
       "      <td>23</td>\n",
       "      <td>2</td>\n",
       "      <td>0.12</td>\n",
       "      <td>92.00</td>\n",
       "    </tr>\n",
       "    <tr>\n",
       "      <th>C</th>\n",
       "      <td>14568</td>\n",
       "      <td>1353</td>\n",
       "      <td>74.64</td>\n",
       "      <td>91.50</td>\n",
       "    </tr>\n",
       "    <tr>\n",
       "      <th>E</th>\n",
       "      <td>20</td>\n",
       "      <td>2</td>\n",
       "      <td>0.10</td>\n",
       "      <td>90.91</td>\n",
       "    </tr>\n",
       "  </tbody>\n",
       "</table>\n",
       "</div>"
      ],
      "text/plain": [
       "debt                       0     1  part_of_total  debt_attitude\n",
       "total_income_category                                           \n",
       "D                        328    21           1.64          93.98\n",
       "B                       4660   354          23.51          92.94\n",
       "A                         23     2           0.12          92.00\n",
       "C                      14568  1353          74.64          91.50\n",
       "E                         20     2           0.10          90.91"
      ]
     },
     "execution_count": 29,
     "metadata": {},
     "output_type": "execute_result"
    }
   ],
   "source": [
    "pivot_dependence(data, 'total_income_category')"
   ]
  },
  {
   "cell_type": "markdown",
   "id": "baf3fedc",
   "metadata": {
    "deletable": false,
    "editable": false,
    "id": "99ecbd1f"
   },
   "source": [
    "#### 3.4 Как разные цели кредита влияют на его возврат в срок?"
   ]
  },
  {
   "cell_type": "code",
   "execution_count": 30,
   "id": "e1cf3da7",
   "metadata": {
    "deletable": false,
    "id": "2b687290",
    "scrolled": true
   },
   "outputs": [
    {
     "data": {
      "text/html": [
       "<div>\n",
       "<style scoped>\n",
       "    .dataframe tbody tr th:only-of-type {\n",
       "        vertical-align: middle;\n",
       "    }\n",
       "\n",
       "    .dataframe tbody tr th {\n",
       "        vertical-align: top;\n",
       "    }\n",
       "\n",
       "    .dataframe thead th {\n",
       "        text-align: right;\n",
       "    }\n",
       "</style>\n",
       "<table border=\"1\" class=\"dataframe\">\n",
       "  <thead>\n",
       "    <tr style=\"text-align: right;\">\n",
       "      <th>debt</th>\n",
       "      <th>0</th>\n",
       "      <th>1</th>\n",
       "      <th>part_of_total</th>\n",
       "      <th>debt_attitude</th>\n",
       "    </tr>\n",
       "    <tr>\n",
       "      <th>purpose_category</th>\n",
       "      <th></th>\n",
       "      <th></th>\n",
       "      <th></th>\n",
       "      <th></th>\n",
       "    </tr>\n",
       "  </thead>\n",
       "  <tbody>\n",
       "    <tr>\n",
       "      <th>операции с недвижимостью</th>\n",
       "      <td>9971</td>\n",
       "      <td>780</td>\n",
       "      <td>50.40</td>\n",
       "      <td>92.74</td>\n",
       "    </tr>\n",
       "    <tr>\n",
       "      <th>проведение свадьбы</th>\n",
       "      <td>2130</td>\n",
       "      <td>183</td>\n",
       "      <td>10.84</td>\n",
       "      <td>92.09</td>\n",
       "    </tr>\n",
       "    <tr>\n",
       "      <th>получение образования</th>\n",
       "      <td>3619</td>\n",
       "      <td>369</td>\n",
       "      <td>18.70</td>\n",
       "      <td>90.75</td>\n",
       "    </tr>\n",
       "    <tr>\n",
       "      <th>операции с автомобилем</th>\n",
       "      <td>3879</td>\n",
       "      <td>400</td>\n",
       "      <td>20.06</td>\n",
       "      <td>90.65</td>\n",
       "    </tr>\n",
       "  </tbody>\n",
       "</table>\n",
       "</div>"
      ],
      "text/plain": [
       "debt                         0    1  part_of_total  debt_attitude\n",
       "purpose_category                                                 \n",
       "операции с недвижимостью  9971  780          50.40          92.74\n",
       "проведение свадьбы        2130  183          10.84          92.09\n",
       "получение образования     3619  369          18.70          90.75\n",
       "операции с автомобилем    3879  400          20.06          90.65"
      ]
     },
     "execution_count": 30,
     "metadata": {},
     "output_type": "execute_result"
    }
   ],
   "source": [
    "pivot_dependence(data, 'purpose_category')\n"
   ]
  },
  {
   "cell_type": "markdown",
   "id": "698ead7f",
   "metadata": {},
   "source": [
    "#### 3.5 Как уровень образования влияет на возврат кредита в срок?"
   ]
  },
  {
   "cell_type": "code",
   "execution_count": 31,
   "id": "8a7c8a89",
   "metadata": {},
   "outputs": [
    {
     "data": {
      "text/html": [
       "<div>\n",
       "<style scoped>\n",
       "    .dataframe tbody tr th:only-of-type {\n",
       "        vertical-align: middle;\n",
       "    }\n",
       "\n",
       "    .dataframe tbody tr th {\n",
       "        vertical-align: top;\n",
       "    }\n",
       "\n",
       "    .dataframe thead th {\n",
       "        text-align: right;\n",
       "    }\n",
       "</style>\n",
       "<table border=\"1\" class=\"dataframe\">\n",
       "  <thead>\n",
       "    <tr style=\"text-align: right;\">\n",
       "      <th>debt</th>\n",
       "      <th>0</th>\n",
       "      <th>1</th>\n",
       "      <th>part_of_total</th>\n",
       "      <th>debt_attitude</th>\n",
       "    </tr>\n",
       "    <tr>\n",
       "      <th>education</th>\n",
       "      <th></th>\n",
       "      <th></th>\n",
       "      <th></th>\n",
       "      <th></th>\n",
       "    </tr>\n",
       "  </thead>\n",
       "  <tbody>\n",
       "    <tr>\n",
       "      <th>ученая степень</th>\n",
       "      <td>6.0</td>\n",
       "      <td>0.0</td>\n",
       "      <td>0.03</td>\n",
       "      <td>100.00</td>\n",
       "    </tr>\n",
       "    <tr>\n",
       "      <th>высшее</th>\n",
       "      <td>4949.0</td>\n",
       "      <td>278.0</td>\n",
       "      <td>24.50</td>\n",
       "      <td>94.68</td>\n",
       "    </tr>\n",
       "    <tr>\n",
       "      <th>среднее</th>\n",
       "      <td>13720.0</td>\n",
       "      <td>1355.0</td>\n",
       "      <td>70.67</td>\n",
       "      <td>91.01</td>\n",
       "    </tr>\n",
       "    <tr>\n",
       "      <th>неоконченное высшее</th>\n",
       "      <td>673.0</td>\n",
       "      <td>68.0</td>\n",
       "      <td>3.47</td>\n",
       "      <td>90.82</td>\n",
       "    </tr>\n",
       "    <tr>\n",
       "      <th>начальное</th>\n",
       "      <td>251.0</td>\n",
       "      <td>31.0</td>\n",
       "      <td>1.32</td>\n",
       "      <td>89.01</td>\n",
       "    </tr>\n",
       "  </tbody>\n",
       "</table>\n",
       "</div>"
      ],
      "text/plain": [
       "debt                       0       1  part_of_total  debt_attitude\n",
       "education                                                         \n",
       "ученая степень           6.0     0.0           0.03         100.00\n",
       "высшее                4949.0   278.0          24.50          94.68\n",
       "среднее              13720.0  1355.0          70.67          91.01\n",
       "неоконченное высшее    673.0    68.0           3.47          90.82\n",
       "начальное              251.0    31.0           1.32          89.01"
      ]
     },
     "execution_count": 31,
     "metadata": {},
     "output_type": "execute_result"
    }
   ],
   "source": [
    "data['education'] = data['education'].str.lower()\n",
    "pivot_dependence(data, 'education')"
   ]
  },
  {
   "cell_type": "markdown",
   "id": "ba4bcdf2",
   "metadata": {},
   "source": [
    "##### **Вывод:** \n",
    "\n",
    "#### Данные показывают небольшую зависимости между уровнем образования и возвратом кредита в срок.\n",
    "\n",
    "- Чем более образованнее клиент, тем выше вероятность, что он вернет кредит в срок.\n",
    "- Данные из категории \"ученая степень\", \"начальное\", \"неоконченное высшее\" можно не учитывать из-за малочисленности данных\n",
    "- Клиенты с высшим образованием на 3.5% чаще возвращают кредит в срок.\n",
    "- \n"
   ]
  },
  {
   "cell_type": "markdown",
   "id": "2e581aa0",
   "metadata": {
    "deletable": false,
    "editable": false,
    "id": "09c3ac4c"
   },
   "source": [
    "#### 3.5 Приведите возможные причины появления пропусков в исходных данных."
   ]
  },
  {
   "cell_type": "markdown",
   "id": "611aa154",
   "metadata": {
    "deletable": false,
    "id": "9da2ceda"
   },
   "source": [
    "*Ответ:* Пропуски в данных наблюдались в столбцах о трудовом стаже ('days_employed') и  доходе ('total_income').\n",
    "\n",
    "Вероятными причинами мог послужить:\n",
    "- человеческий факт, при попытке ввода не числового значения в столбец float\n",
    "- факт сокрытия информации со стороны клиентов\n",
    "- технический сбой"
   ]
  },
  {
   "cell_type": "markdown",
   "id": "5bb07dc7",
   "metadata": {
    "deletable": false,
    "editable": false,
    "id": "7b0487d6"
   },
   "source": [
    "#### 3.6 Объясните, почему заполнить пропуски медианным значением — лучшее решение для количественных переменных."
   ]
  },
  {
   "cell_type": "markdown",
   "id": "efeda04c",
   "metadata": {
    "deletable": false,
    "id": "7ecf2b8e"
   },
   "source": [
    "*Ответ:* Рассмотрим альтернативы, чтобы убедиться, что медиана в данном случае меньше всего повлияет на искажение данных при обработке и будет оптимальным выбором:\n",
    "\n",
    "- На результат среднего арифметического сильно влияют выбросы в данных (минимальные и максимальные значения). При большом разбросе данных среднее арифметическое резко увеличивается (уменьшается) в сторону экстремальных значений. В итоге не отражает значение для подавляющего большинства данных. \n",
    "\n",
    "- Замена пропуска на 0: будет являтся экстремальным значением, в дальнейшем может повлиять на расчет среднего и медианы для всего набора данных. Данные значения попали бы в группу 0–30000 — 'E' по доходам и исказили ее.\n",
    "\n",
    "- Замена текстом (например, 'unknown') не позволит производить арифметические действия над столбцом. \n",
    "\n",
    "- Удаление строк с пропуском: потеря 10% данных, при этом остутвие информации в 2-х ячейках не мешают проводить анализ по другим данным из строки. "
   ]
  },
  {
   "cell_type": "markdown",
   "id": "ec20e11f",
   "metadata": {
    "deletable": false,
    "editable": false,
    "id": "6db5255a"
   },
   "source": [
    "### Шаг 4: общий вывод."
   ]
  },
  {
   "cell_type": "markdown",
   "id": "64d49ff2",
   "metadata": {
    "deletable": false,
    "id": "bad65432"
   },
   "source": [
    "В процессе исследования надежности заемщиков была произведена предобработка данных:\n",
    "1. Пропуски (столбцы трудовой стаж и доход) - заменены медианным значением по типу занятости.\n",
    "2. Часть данных разбита на категории (по цели кредита, уровню дохода)\n",
    "3. Обработаны аномальные значения и выбросы.\n"
   ]
  },
  {
   "cell_type": "markdown",
   "id": "8fb35f6c",
   "metadata": {},
   "source": [
    "В ходе исследования были установлены следующие зависимости и закономерности:\n",
    "\n",
    "- Чем меньше детей у заемщика, тем вероятнее он вернет кредит в срок.\n",
    "- Клиент состоящий или состоявший в официальных отношениях более надежен.\n",
    "- Кредит на \"недвижимость\" и \"свадьбу\" возвращают в срок чаще, чем остальные\n",
    "- Чем выше уровень дохода, тем вероятнее кредит будет возвращен в срок (требуется более детальное уточнение)\n",
    "    \n"
   ]
  },
  {
   "cell_type": "markdown",
   "id": "6608f336",
   "metadata": {},
   "source": [
    "Кроме того, была установлена зависимость возврата кредита от уровня образованя клиента. \n",
    "Чем выше уровень образования, тем выше вероятность получить кредит в срок.\n"
   ]
  },
  {
   "cell_type": "markdown",
   "id": "2be59e58",
   "metadata": {},
   "source": [
    "На основе данных можно составить \"портрет\" идеального заемщика:\n",
    "- Клиент с высшим образованием\n",
    "- Без детей\n",
    "- Состоящий в браке/вдова/вдовец/в разводе\n",
    "-Целью кредита является покупка квартиры или свадьба\n",
    "\n",
    "\n"
   ]
  }
 ],
 "metadata": {
  "ExecuteTimeLog": [
   {
    "duration": 51,
    "start_time": "2024-08-27T18:32:03.310Z"
   },
   {
    "duration": 464,
    "start_time": "2024-08-27T18:32:08.596Z"
   },
   {
    "duration": 23,
    "start_time": "2024-08-27T18:32:09.062Z"
   },
   {
    "duration": 26,
    "start_time": "2024-08-27T18:32:09.086Z"
   },
   {
    "duration": 21,
    "start_time": "2024-08-27T18:32:09.114Z"
   },
   {
    "duration": 38,
    "start_time": "2024-08-27T18:32:09.137Z"
   },
   {
    "duration": 4,
    "start_time": "2024-08-27T18:32:09.177Z"
   },
   {
    "duration": 35,
    "start_time": "2024-08-27T18:32:09.182Z"
   },
   {
    "duration": 5,
    "start_time": "2024-08-27T18:32:09.218Z"
   },
   {
    "duration": 26,
    "start_time": "2024-08-27T18:32:09.224Z"
   },
   {
    "duration": 18,
    "start_time": "2024-08-27T18:32:09.252Z"
   },
   {
    "duration": 44,
    "start_time": "2024-08-27T18:32:09.271Z"
   },
   {
    "duration": 11,
    "start_time": "2024-08-27T18:32:09.317Z"
   },
   {
    "duration": 11,
    "start_time": "2024-08-27T18:32:09.329Z"
   },
   {
    "duration": 16,
    "start_time": "2024-08-27T18:32:09.343Z"
   },
   {
    "duration": 41,
    "start_time": "2024-08-27T18:32:09.361Z"
   },
   {
    "duration": 18,
    "start_time": "2024-08-27T18:32:09.403Z"
   },
   {
    "duration": 3,
    "start_time": "2024-08-27T18:32:09.423Z"
   },
   {
    "duration": 19,
    "start_time": "2024-08-27T18:32:09.428Z"
   },
   {
    "duration": 12,
    "start_time": "2024-08-27T18:32:09.449Z"
   },
   {
    "duration": 4,
    "start_time": "2024-08-27T18:32:09.463Z"
   },
   {
    "duration": 10,
    "start_time": "2024-08-27T18:32:09.468Z"
   },
   {
    "duration": 25,
    "start_time": "2024-08-27T18:32:09.479Z"
   },
   {
    "duration": 4,
    "start_time": "2024-08-27T18:32:09.506Z"
   },
   {
    "duration": 8,
    "start_time": "2024-08-27T18:32:09.511Z"
   },
   {
    "duration": 23,
    "start_time": "2024-08-27T18:32:09.521Z"
   },
   {
    "duration": 20,
    "start_time": "2024-08-27T18:36:32.863Z"
   },
   {
    "duration": 26,
    "start_time": "2024-08-27T18:37:53.696Z"
   },
   {
    "duration": 6,
    "start_time": "2024-08-27T18:38:24.101Z"
   },
   {
    "duration": 9,
    "start_time": "2024-08-27T18:38:38.661Z"
   },
   {
    "duration": 14,
    "start_time": "2024-08-27T18:46:05.454Z"
   },
   {
    "duration": 67,
    "start_time": "2024-08-27T18:49:03.121Z"
   },
   {
    "duration": 12,
    "start_time": "2024-08-27T18:51:47.900Z"
   },
   {
    "duration": 9,
    "start_time": "2024-08-27T18:51:58.351Z"
   },
   {
    "duration": 15,
    "start_time": "2024-08-27T18:52:57.931Z"
   },
   {
    "duration": 7,
    "start_time": "2024-08-27T18:53:18.747Z"
   },
   {
    "duration": 8,
    "start_time": "2024-08-27T20:14:34.782Z"
   },
   {
    "duration": 6,
    "start_time": "2024-08-27T20:15:03.628Z"
   },
   {
    "duration": 54,
    "start_time": "2024-08-27T20:21:29.251Z"
   },
   {
    "duration": 15,
    "start_time": "2024-08-27T20:21:41.793Z"
   },
   {
    "duration": 48,
    "start_time": "2024-08-28T02:27:13.863Z"
   },
   {
    "duration": 6,
    "start_time": "2024-08-28T02:28:59.663Z"
   },
   {
    "duration": 686,
    "start_time": "2024-08-28T02:29:15.118Z"
   },
   {
    "duration": 23,
    "start_time": "2024-08-28T02:29:15.806Z"
   },
   {
    "duration": 16,
    "start_time": "2024-08-28T02:29:15.831Z"
   },
   {
    "duration": 10,
    "start_time": "2024-08-28T02:29:15.850Z"
   },
   {
    "duration": 51,
    "start_time": "2024-08-28T02:29:15.862Z"
   },
   {
    "duration": 3,
    "start_time": "2024-08-28T02:29:15.914Z"
   },
   {
    "duration": 10,
    "start_time": "2024-08-28T02:29:15.919Z"
   },
   {
    "duration": 5,
    "start_time": "2024-08-28T02:29:15.930Z"
   },
   {
    "duration": 17,
    "start_time": "2024-08-28T02:29:15.936Z"
   },
   {
    "duration": 4,
    "start_time": "2024-08-28T02:29:15.955Z"
   },
   {
    "duration": 49,
    "start_time": "2024-08-28T02:29:15.960Z"
   },
   {
    "duration": 9,
    "start_time": "2024-08-28T02:29:16.011Z"
   },
   {
    "duration": 3,
    "start_time": "2024-08-28T02:29:16.022Z"
   },
   {
    "duration": 12,
    "start_time": "2024-08-28T02:29:16.026Z"
   },
   {
    "duration": 18,
    "start_time": "2024-08-28T02:29:16.040Z"
   },
   {
    "duration": 42,
    "start_time": "2024-08-28T02:29:16.059Z"
   },
   {
    "duration": 4,
    "start_time": "2024-08-28T02:29:16.102Z"
   },
   {
    "duration": 10,
    "start_time": "2024-08-28T02:29:16.108Z"
   },
   {
    "duration": 6,
    "start_time": "2024-08-28T02:29:16.120Z"
   },
   {
    "duration": 3,
    "start_time": "2024-08-28T02:29:16.127Z"
   },
   {
    "duration": 9,
    "start_time": "2024-08-28T02:29:16.132Z"
   },
   {
    "duration": 9,
    "start_time": "2024-08-28T02:29:16.143Z"
   },
   {
    "duration": 42,
    "start_time": "2024-08-28T02:29:16.154Z"
   },
   {
    "duration": 13,
    "start_time": "2024-08-28T02:29:16.198Z"
   },
   {
    "duration": 2,
    "start_time": "2024-08-28T02:29:16.213Z"
   },
   {
    "duration": 9,
    "start_time": "2024-08-28T02:29:16.217Z"
   },
   {
    "duration": 5,
    "start_time": "2024-08-28T02:29:16.227Z"
   },
   {
    "duration": 84,
    "start_time": "2024-08-28T02:34:09.123Z"
   },
   {
    "duration": 14,
    "start_time": "2024-08-28T02:34:27.675Z"
   },
   {
    "duration": 14,
    "start_time": "2024-08-28T02:35:21.567Z"
   },
   {
    "duration": 17,
    "start_time": "2024-08-28T02:35:39.573Z"
   },
   {
    "duration": 482,
    "start_time": "2024-08-28T02:36:00.385Z"
   },
   {
    "duration": 21,
    "start_time": "2024-08-28T02:36:00.869Z"
   },
   {
    "duration": 14,
    "start_time": "2024-08-28T02:36:00.891Z"
   },
   {
    "duration": 9,
    "start_time": "2024-08-28T02:36:00.907Z"
   },
   {
    "duration": 42,
    "start_time": "2024-08-28T02:36:00.917Z"
   },
   {
    "duration": 3,
    "start_time": "2024-08-28T02:36:00.960Z"
   },
   {
    "duration": 7,
    "start_time": "2024-08-28T02:36:00.965Z"
   },
   {
    "duration": 4,
    "start_time": "2024-08-28T02:36:00.990Z"
   },
   {
    "duration": 15,
    "start_time": "2024-08-28T02:36:00.995Z"
   },
   {
    "duration": 16,
    "start_time": "2024-08-28T02:36:01.012Z"
   },
   {
    "duration": 46,
    "start_time": "2024-08-28T02:36:01.029Z"
   },
   {
    "duration": 9,
    "start_time": "2024-08-28T02:36:01.076Z"
   },
   {
    "duration": 4,
    "start_time": "2024-08-28T02:36:01.086Z"
   },
   {
    "duration": 13,
    "start_time": "2024-08-28T02:36:01.091Z"
   },
   {
    "duration": 38,
    "start_time": "2024-08-28T02:36:01.106Z"
   },
   {
    "duration": 17,
    "start_time": "2024-08-28T02:36:01.145Z"
   },
   {
    "duration": 4,
    "start_time": "2024-08-28T02:36:01.163Z"
   },
   {
    "duration": 32,
    "start_time": "2024-08-28T02:36:01.168Z"
   },
   {
    "duration": 7,
    "start_time": "2024-08-28T02:36:01.202Z"
   },
   {
    "duration": 5,
    "start_time": "2024-08-28T02:36:01.210Z"
   },
   {
    "duration": 11,
    "start_time": "2024-08-28T02:36:01.216Z"
   },
   {
    "duration": 14,
    "start_time": "2024-08-28T02:36:01.229Z"
   },
   {
    "duration": 16,
    "start_time": "2024-08-28T02:36:01.245Z"
   },
   {
    "duration": 29,
    "start_time": "2024-08-28T02:36:01.263Z"
   },
   {
    "duration": 13,
    "start_time": "2024-08-28T02:36:01.294Z"
   },
   {
    "duration": 26,
    "start_time": "2024-08-28T02:36:01.308Z"
   },
   {
    "duration": 7,
    "start_time": "2024-08-28T02:36:01.335Z"
   },
   {
    "duration": 76,
    "start_time": "2024-08-28T02:37:12.852Z"
   },
   {
    "duration": 20,
    "start_time": "2024-08-28T02:40:59.302Z"
   },
   {
    "duration": 13,
    "start_time": "2024-08-28T02:43:58.552Z"
   },
   {
    "duration": 11,
    "start_time": "2024-08-28T02:44:21.424Z"
   },
   {
    "duration": 13,
    "start_time": "2024-08-28T02:44:42.332Z"
   },
   {
    "duration": 16,
    "start_time": "2024-08-28T02:46:11.452Z"
   },
   {
    "duration": 12,
    "start_time": "2024-08-28T02:47:43.774Z"
   },
   {
    "duration": 20,
    "start_time": "2024-08-28T02:49:05.017Z"
   },
   {
    "duration": 18,
    "start_time": "2024-08-28T02:49:22.429Z"
   },
   {
    "duration": 14,
    "start_time": "2024-08-28T02:49:42.422Z"
   },
   {
    "duration": 93,
    "start_time": "2024-08-28T02:50:52.563Z"
   },
   {
    "duration": 13,
    "start_time": "2024-08-28T02:51:04.999Z"
   },
   {
    "duration": 21,
    "start_time": "2024-08-28T02:51:50.246Z"
   },
   {
    "duration": 20,
    "start_time": "2024-08-28T02:54:00.595Z"
   },
   {
    "duration": 12,
    "start_time": "2024-08-28T02:56:17.315Z"
   },
   {
    "duration": 10,
    "start_time": "2024-08-28T02:56:34.614Z"
   },
   {
    "duration": 13,
    "start_time": "2024-08-28T03:00:13.112Z"
   },
   {
    "duration": 81,
    "start_time": "2024-08-28T03:02:15.479Z"
   },
   {
    "duration": 83,
    "start_time": "2024-08-28T03:02:24.059Z"
   },
   {
    "duration": 13,
    "start_time": "2024-08-28T03:02:39.628Z"
   },
   {
    "duration": 15,
    "start_time": "2024-08-28T03:02:57.746Z"
   },
   {
    "duration": 13,
    "start_time": "2024-08-28T03:03:14.526Z"
   },
   {
    "duration": 13,
    "start_time": "2024-08-28T03:05:03.361Z"
   },
   {
    "duration": 83,
    "start_time": "2024-08-28T03:05:19.759Z"
   },
   {
    "duration": 13,
    "start_time": "2024-08-28T03:05:39.846Z"
   },
   {
    "duration": 13,
    "start_time": "2024-08-28T03:06:51.545Z"
   },
   {
    "duration": 19,
    "start_time": "2024-08-28T03:07:04.192Z"
   },
   {
    "duration": 18,
    "start_time": "2024-08-28T03:07:10.144Z"
   },
   {
    "duration": 18,
    "start_time": "2024-08-28T03:07:21.409Z"
   },
   {
    "duration": 15,
    "start_time": "2024-08-28T03:10:30.511Z"
   },
   {
    "duration": 17,
    "start_time": "2024-08-28T03:10:39.542Z"
   },
   {
    "duration": 12,
    "start_time": "2024-08-28T03:13:06.727Z"
   },
   {
    "duration": 96,
    "start_time": "2024-08-28T03:13:23.107Z"
   },
   {
    "duration": 21,
    "start_time": "2024-08-28T03:13:32.623Z"
   },
   {
    "duration": 24,
    "start_time": "2024-08-28T03:19:54.875Z"
   },
   {
    "duration": 12,
    "start_time": "2024-08-28T03:26:30.286Z"
   },
   {
    "duration": 5,
    "start_time": "2024-08-28T03:26:35.004Z"
   },
   {
    "duration": 28,
    "start_time": "2024-08-28T03:26:39.369Z"
   },
   {
    "duration": 32,
    "start_time": "2024-08-28T03:27:52.421Z"
   },
   {
    "duration": 26,
    "start_time": "2024-08-28T03:28:04.820Z"
   },
   {
    "duration": 490,
    "start_time": "2024-08-28T03:42:41.472Z"
   },
   {
    "duration": 20,
    "start_time": "2024-08-28T03:42:41.964Z"
   },
   {
    "duration": 14,
    "start_time": "2024-08-28T03:42:41.986Z"
   },
   {
    "duration": 11,
    "start_time": "2024-08-28T03:42:42.001Z"
   },
   {
    "duration": 32,
    "start_time": "2024-08-28T03:42:42.013Z"
   },
   {
    "duration": 3,
    "start_time": "2024-08-28T03:42:42.047Z"
   },
   {
    "duration": 10,
    "start_time": "2024-08-28T03:42:42.051Z"
   },
   {
    "duration": 29,
    "start_time": "2024-08-28T03:42:42.063Z"
   },
   {
    "duration": 9,
    "start_time": "2024-08-28T03:42:42.094Z"
   },
   {
    "duration": 11,
    "start_time": "2024-08-28T03:42:42.105Z"
   },
   {
    "duration": 39,
    "start_time": "2024-08-28T03:42:42.117Z"
   },
   {
    "duration": 11,
    "start_time": "2024-08-28T03:42:42.158Z"
   },
   {
    "duration": 20,
    "start_time": "2024-08-28T03:42:42.171Z"
   },
   {
    "duration": 12,
    "start_time": "2024-08-28T03:42:42.194Z"
   },
   {
    "duration": 36,
    "start_time": "2024-08-28T03:42:42.207Z"
   },
   {
    "duration": 16,
    "start_time": "2024-08-28T03:42:42.244Z"
   },
   {
    "duration": 4,
    "start_time": "2024-08-28T03:42:42.262Z"
   },
   {
    "duration": 23,
    "start_time": "2024-08-28T03:42:42.267Z"
   },
   {
    "duration": 6,
    "start_time": "2024-08-28T03:42:42.292Z"
   },
   {
    "duration": 20,
    "start_time": "2024-08-28T03:42:42.300Z"
   },
   {
    "duration": 21,
    "start_time": "2024-08-28T03:42:42.321Z"
   },
   {
    "duration": 12,
    "start_time": "2024-08-28T03:42:42.343Z"
   },
   {
    "duration": 36,
    "start_time": "2024-08-28T03:42:42.357Z"
   },
   {
    "duration": 3,
    "start_time": "2024-08-28T03:42:42.395Z"
   },
   {
    "duration": 27,
    "start_time": "2024-08-28T03:42:42.399Z"
   },
   {
    "duration": 7,
    "start_time": "2024-08-28T03:42:42.428Z"
   },
   {
    "duration": 13,
    "start_time": "2024-08-28T03:44:02.632Z"
   },
   {
    "duration": 5,
    "start_time": "2024-08-28T03:44:50.463Z"
   },
   {
    "duration": 31,
    "start_time": "2024-08-28T03:46:51.150Z"
   },
   {
    "duration": 5,
    "start_time": "2024-08-28T08:50:40.180Z"
   },
   {
    "duration": 105,
    "start_time": "2024-08-28T08:50:41.823Z"
   },
   {
    "duration": 449,
    "start_time": "2024-08-28T08:50:56.129Z"
   },
   {
    "duration": 21,
    "start_time": "2024-08-28T08:50:56.580Z"
   },
   {
    "duration": 16,
    "start_time": "2024-08-28T08:50:56.603Z"
   },
   {
    "duration": 10,
    "start_time": "2024-08-28T08:50:56.621Z"
   },
   {
    "duration": 38,
    "start_time": "2024-08-28T08:50:56.632Z"
   },
   {
    "duration": 20,
    "start_time": "2024-08-28T08:50:56.671Z"
   },
   {
    "duration": 20,
    "start_time": "2024-08-28T08:50:56.692Z"
   },
   {
    "duration": 4,
    "start_time": "2024-08-28T08:50:56.714Z"
   },
   {
    "duration": 6,
    "start_time": "2024-08-28T08:50:56.720Z"
   },
   {
    "duration": 4,
    "start_time": "2024-08-28T08:50:56.729Z"
   },
   {
    "duration": 35,
    "start_time": "2024-08-28T08:50:56.734Z"
   },
   {
    "duration": 26,
    "start_time": "2024-08-28T08:50:56.771Z"
   },
   {
    "duration": 4,
    "start_time": "2024-08-28T08:50:56.799Z"
   },
   {
    "duration": 12,
    "start_time": "2024-08-28T08:50:56.804Z"
   },
   {
    "duration": 20,
    "start_time": "2024-08-28T08:50:56.818Z"
   },
   {
    "duration": 16,
    "start_time": "2024-08-28T08:50:56.840Z"
   },
   {
    "duration": 31,
    "start_time": "2024-08-28T08:50:56.858Z"
   },
   {
    "duration": 10,
    "start_time": "2024-08-28T08:50:56.891Z"
   },
   {
    "duration": 14,
    "start_time": "2024-08-28T08:50:56.902Z"
   },
   {
    "duration": 8,
    "start_time": "2024-08-28T08:50:56.917Z"
   },
   {
    "duration": 9,
    "start_time": "2024-08-28T08:50:56.926Z"
   },
   {
    "duration": 5,
    "start_time": "2024-08-28T08:50:56.936Z"
   },
   {
    "duration": 78,
    "start_time": "2024-08-28T08:50:56.943Z"
   },
   {
    "duration": 0,
    "start_time": "2024-08-28T08:50:57.023Z"
   },
   {
    "duration": 0,
    "start_time": "2024-08-28T08:50:57.024Z"
   },
   {
    "duration": 0,
    "start_time": "2024-08-28T08:50:57.026Z"
   },
   {
    "duration": 12,
    "start_time": "2024-08-28T08:51:19.779Z"
   },
   {
    "duration": 13,
    "start_time": "2024-08-28T08:51:33.245Z"
   },
   {
    "duration": 34,
    "start_time": "2024-08-28T08:52:01.847Z"
   },
   {
    "duration": 30,
    "start_time": "2024-08-28T08:52:55.011Z"
   },
   {
    "duration": 476,
    "start_time": "2024-08-28T08:53:50.683Z"
   },
   {
    "duration": 20,
    "start_time": "2024-08-28T08:53:51.161Z"
   },
   {
    "duration": 14,
    "start_time": "2024-08-28T08:53:51.183Z"
   },
   {
    "duration": 10,
    "start_time": "2024-08-28T08:53:51.199Z"
   },
   {
    "duration": 45,
    "start_time": "2024-08-28T08:53:51.211Z"
   },
   {
    "duration": 3,
    "start_time": "2024-08-28T08:53:51.258Z"
   },
   {
    "duration": 8,
    "start_time": "2024-08-28T08:53:51.262Z"
   },
   {
    "duration": 4,
    "start_time": "2024-08-28T08:53:51.272Z"
   },
   {
    "duration": 25,
    "start_time": "2024-08-28T08:53:51.277Z"
   },
   {
    "duration": 17,
    "start_time": "2024-08-28T08:53:51.303Z"
   },
   {
    "duration": 35,
    "start_time": "2024-08-28T08:53:51.321Z"
   },
   {
    "duration": 10,
    "start_time": "2024-08-28T08:53:51.358Z"
   },
   {
    "duration": 3,
    "start_time": "2024-08-28T08:53:51.369Z"
   },
   {
    "duration": 18,
    "start_time": "2024-08-28T08:53:51.375Z"
   },
   {
    "duration": 28,
    "start_time": "2024-08-28T08:53:51.394Z"
   },
   {
    "duration": 16,
    "start_time": "2024-08-28T08:53:51.423Z"
   },
   {
    "duration": 4,
    "start_time": "2024-08-28T08:53:51.440Z"
   },
   {
    "duration": 16,
    "start_time": "2024-08-28T08:53:51.445Z"
   },
   {
    "duration": 5,
    "start_time": "2024-08-28T08:53:51.462Z"
   },
   {
    "duration": 2,
    "start_time": "2024-08-28T08:53:51.469Z"
   },
   {
    "duration": 29,
    "start_time": "2024-08-28T08:53:51.473Z"
   },
   {
    "duration": 9,
    "start_time": "2024-08-28T08:53:51.504Z"
   },
   {
    "duration": 35,
    "start_time": "2024-08-28T08:53:51.514Z"
   },
   {
    "duration": 68,
    "start_time": "2024-08-28T08:53:51.550Z"
   },
   {
    "duration": 0,
    "start_time": "2024-08-28T08:53:51.619Z"
   },
   {
    "duration": 0,
    "start_time": "2024-08-28T08:53:51.620Z"
   },
   {
    "duration": 14,
    "start_time": "2024-08-28T08:54:13.131Z"
   },
   {
    "duration": 477,
    "start_time": "2024-08-28T08:54:47.898Z"
   },
   {
    "duration": 21,
    "start_time": "2024-08-28T08:54:48.377Z"
   },
   {
    "duration": 14,
    "start_time": "2024-08-28T08:54:48.399Z"
   },
   {
    "duration": 13,
    "start_time": "2024-08-28T08:54:48.414Z"
   },
   {
    "duration": 33,
    "start_time": "2024-08-28T08:54:48.429Z"
   },
   {
    "duration": 3,
    "start_time": "2024-08-28T08:54:48.464Z"
   },
   {
    "duration": 25,
    "start_time": "2024-08-28T08:54:48.468Z"
   },
   {
    "duration": 4,
    "start_time": "2024-08-28T08:54:48.494Z"
   },
   {
    "duration": 14,
    "start_time": "2024-08-28T08:54:48.499Z"
   },
   {
    "duration": 4,
    "start_time": "2024-08-28T08:54:48.514Z"
   },
   {
    "duration": 36,
    "start_time": "2024-08-28T08:54:48.519Z"
   },
   {
    "duration": 9,
    "start_time": "2024-08-28T08:54:48.557Z"
   },
   {
    "duration": 23,
    "start_time": "2024-08-28T08:54:48.568Z"
   },
   {
    "duration": 11,
    "start_time": "2024-08-28T08:54:48.594Z"
   },
   {
    "duration": 22,
    "start_time": "2024-08-28T08:54:48.606Z"
   },
   {
    "duration": 16,
    "start_time": "2024-08-28T08:54:48.629Z"
   },
   {
    "duration": 17,
    "start_time": "2024-08-28T08:54:48.646Z"
   },
   {
    "duration": 11,
    "start_time": "2024-08-28T08:54:48.664Z"
   },
   {
    "duration": 13,
    "start_time": "2024-08-28T08:54:48.677Z"
   },
   {
    "duration": 4,
    "start_time": "2024-08-28T08:54:48.692Z"
   },
   {
    "duration": 18,
    "start_time": "2024-08-28T08:54:48.698Z"
   },
   {
    "duration": 10,
    "start_time": "2024-08-28T08:54:48.718Z"
   },
   {
    "duration": 41,
    "start_time": "2024-08-28T08:54:48.730Z"
   },
   {
    "duration": 66,
    "start_time": "2024-08-28T08:54:48.772Z"
   },
   {
    "duration": 0,
    "start_time": "2024-08-28T08:54:48.840Z"
   },
   {
    "duration": 0,
    "start_time": "2024-08-28T08:54:48.841Z"
   },
   {
    "duration": 4,
    "start_time": "2024-08-28T08:59:30.926Z"
   },
   {
    "duration": 30,
    "start_time": "2024-08-28T08:59:32.513Z"
   },
   {
    "duration": 31,
    "start_time": "2024-08-28T09:00:31.420Z"
   },
   {
    "duration": 453,
    "start_time": "2024-08-28T09:00:42.944Z"
   },
   {
    "duration": 20,
    "start_time": "2024-08-28T09:00:43.399Z"
   },
   {
    "duration": 22,
    "start_time": "2024-08-28T09:00:43.421Z"
   },
   {
    "duration": 10,
    "start_time": "2024-08-28T09:00:43.444Z"
   },
   {
    "duration": 47,
    "start_time": "2024-08-28T09:00:43.456Z"
   },
   {
    "duration": 4,
    "start_time": "2024-08-28T09:00:43.504Z"
   },
   {
    "duration": 21,
    "start_time": "2024-08-28T09:00:43.509Z"
   },
   {
    "duration": 19,
    "start_time": "2024-08-28T09:00:43.531Z"
   },
   {
    "duration": 9,
    "start_time": "2024-08-28T09:00:43.551Z"
   },
   {
    "duration": 4,
    "start_time": "2024-08-28T09:00:43.561Z"
   },
   {
    "duration": 34,
    "start_time": "2024-08-28T09:00:43.566Z"
   },
   {
    "duration": 10,
    "start_time": "2024-08-28T09:00:43.601Z"
   },
   {
    "duration": 15,
    "start_time": "2024-08-28T09:00:43.612Z"
   },
   {
    "duration": 13,
    "start_time": "2024-08-28T09:00:43.629Z"
   },
   {
    "duration": 24,
    "start_time": "2024-08-28T09:00:43.644Z"
   },
   {
    "duration": 20,
    "start_time": "2024-08-28T09:00:43.670Z"
   },
   {
    "duration": 4,
    "start_time": "2024-08-28T09:00:43.691Z"
   },
   {
    "duration": 21,
    "start_time": "2024-08-28T09:00:43.696Z"
   },
   {
    "duration": 11,
    "start_time": "2024-08-28T09:00:43.719Z"
   },
   {
    "duration": 3,
    "start_time": "2024-08-28T09:00:43.732Z"
   },
   {
    "duration": 11,
    "start_time": "2024-08-28T09:00:43.737Z"
   },
   {
    "duration": 14,
    "start_time": "2024-08-28T09:00:43.749Z"
   },
   {
    "duration": 41,
    "start_time": "2024-08-28T09:00:43.765Z"
   },
   {
    "duration": 5,
    "start_time": "2024-08-28T09:00:43.807Z"
   },
   {
    "duration": 50,
    "start_time": "2024-08-28T09:00:43.814Z"
   },
   {
    "duration": 2,
    "start_time": "2024-08-28T09:00:43.865Z"
   },
   {
    "duration": 12,
    "start_time": "2024-08-28T09:00:43.869Z"
   },
   {
    "duration": 41,
    "start_time": "2024-08-28T09:01:14.741Z"
   },
   {
    "duration": 32,
    "start_time": "2024-08-28T09:02:11.878Z"
   },
   {
    "duration": 449,
    "start_time": "2024-08-28T09:02:20.524Z"
   },
   {
    "duration": 21,
    "start_time": "2024-08-28T09:02:20.975Z"
   },
   {
    "duration": 24,
    "start_time": "2024-08-28T09:02:20.997Z"
   },
   {
    "duration": 11,
    "start_time": "2024-08-28T09:02:21.022Z"
   },
   {
    "duration": 40,
    "start_time": "2024-08-28T09:02:21.035Z"
   },
   {
    "duration": 14,
    "start_time": "2024-08-28T09:02:21.077Z"
   },
   {
    "duration": 14,
    "start_time": "2024-08-28T09:02:21.095Z"
   },
   {
    "duration": 5,
    "start_time": "2024-08-28T09:02:21.110Z"
   },
   {
    "duration": 7,
    "start_time": "2024-08-28T09:02:21.117Z"
   },
   {
    "duration": 4,
    "start_time": "2024-08-28T09:02:21.126Z"
   },
   {
    "duration": 41,
    "start_time": "2024-08-28T09:02:21.132Z"
   },
   {
    "duration": 16,
    "start_time": "2024-08-28T09:02:21.191Z"
   },
   {
    "duration": 8,
    "start_time": "2024-08-28T09:02:21.209Z"
   },
   {
    "duration": 19,
    "start_time": "2024-08-28T09:02:21.221Z"
   },
   {
    "duration": 45,
    "start_time": "2024-08-28T09:02:21.242Z"
   },
   {
    "duration": 25,
    "start_time": "2024-08-28T09:02:21.288Z"
   },
   {
    "duration": 4,
    "start_time": "2024-08-28T09:02:21.315Z"
   },
   {
    "duration": 28,
    "start_time": "2024-08-28T09:02:21.321Z"
   },
   {
    "duration": 22,
    "start_time": "2024-08-28T09:02:21.350Z"
   },
   {
    "duration": 32,
    "start_time": "2024-08-28T09:02:21.374Z"
   },
   {
    "duration": 14,
    "start_time": "2024-08-28T09:02:21.408Z"
   },
   {
    "duration": 5,
    "start_time": "2024-08-28T09:02:21.423Z"
   },
   {
    "duration": 39,
    "start_time": "2024-08-28T09:02:21.429Z"
   },
   {
    "duration": 4,
    "start_time": "2024-08-28T09:02:21.470Z"
   },
   {
    "duration": 45,
    "start_time": "2024-08-28T09:02:21.475Z"
   },
   {
    "duration": 3,
    "start_time": "2024-08-28T09:02:21.521Z"
   },
   {
    "duration": 7,
    "start_time": "2024-08-28T09:02:21.525Z"
   },
   {
    "duration": 84,
    "start_time": "2024-08-28T09:14:15.096Z"
   },
   {
    "duration": 4,
    "start_time": "2024-08-28T09:14:21.991Z"
   },
   {
    "duration": 30,
    "start_time": "2024-08-28T09:14:24.326Z"
   },
   {
    "duration": 469,
    "start_time": "2024-08-28T09:14:47.408Z"
   },
   {
    "duration": 21,
    "start_time": "2024-08-28T09:14:47.879Z"
   },
   {
    "duration": 15,
    "start_time": "2024-08-28T09:14:47.901Z"
   },
   {
    "duration": 10,
    "start_time": "2024-08-28T09:14:47.919Z"
   },
   {
    "duration": 52,
    "start_time": "2024-08-28T09:14:47.930Z"
   },
   {
    "duration": 8,
    "start_time": "2024-08-28T09:14:47.983Z"
   },
   {
    "duration": 8,
    "start_time": "2024-08-28T09:14:47.992Z"
   },
   {
    "duration": 3,
    "start_time": "2024-08-28T09:14:48.002Z"
   },
   {
    "duration": 9,
    "start_time": "2024-08-28T09:14:48.007Z"
   },
   {
    "duration": 12,
    "start_time": "2024-08-28T09:14:48.021Z"
   },
   {
    "duration": 59,
    "start_time": "2024-08-28T09:14:48.035Z"
   },
   {
    "duration": 14,
    "start_time": "2024-08-28T09:14:48.101Z"
   },
   {
    "duration": 4,
    "start_time": "2024-08-28T09:14:48.117Z"
   },
   {
    "duration": 13,
    "start_time": "2024-08-28T09:14:48.122Z"
   },
   {
    "duration": 40,
    "start_time": "2024-08-28T09:14:48.137Z"
   },
   {
    "duration": 22,
    "start_time": "2024-08-28T09:14:48.178Z"
   },
   {
    "duration": 4,
    "start_time": "2024-08-28T09:14:48.202Z"
   },
   {
    "duration": 17,
    "start_time": "2024-08-28T09:14:48.207Z"
   },
   {
    "duration": 24,
    "start_time": "2024-08-28T09:14:48.226Z"
   },
   {
    "duration": 43,
    "start_time": "2024-08-28T09:14:48.252Z"
   },
   {
    "duration": 13,
    "start_time": "2024-08-28T09:14:48.297Z"
   },
   {
    "duration": 18,
    "start_time": "2024-08-28T09:14:48.312Z"
   },
   {
    "duration": 38,
    "start_time": "2024-08-28T09:14:48.331Z"
   },
   {
    "duration": 4,
    "start_time": "2024-08-28T09:14:48.370Z"
   },
   {
    "duration": 35,
    "start_time": "2024-08-28T09:14:48.376Z"
   },
   {
    "duration": 4,
    "start_time": "2024-08-28T09:14:48.412Z"
   },
   {
    "duration": 31,
    "start_time": "2024-08-28T09:14:48.417Z"
   },
   {
    "duration": 2,
    "start_time": "2024-08-28T09:14:48.451Z"
   },
   {
    "duration": 21,
    "start_time": "2024-08-28T09:15:05.007Z"
   },
   {
    "duration": 32,
    "start_time": "2024-08-28T09:16:28.207Z"
   },
   {
    "duration": 5,
    "start_time": "2024-08-28T09:27:18.721Z"
   },
   {
    "duration": 173,
    "start_time": "2024-08-28T09:27:20.651Z"
   },
   {
    "duration": 494,
    "start_time": "2024-08-28T09:27:35.761Z"
   },
   {
    "duration": 22,
    "start_time": "2024-08-28T09:27:36.257Z"
   },
   {
    "duration": 37,
    "start_time": "2024-08-28T09:27:36.280Z"
   },
   {
    "duration": 13,
    "start_time": "2024-08-28T09:27:36.319Z"
   },
   {
    "duration": 50,
    "start_time": "2024-08-28T09:27:36.333Z"
   },
   {
    "duration": 4,
    "start_time": "2024-08-28T09:27:36.384Z"
   },
   {
    "duration": 26,
    "start_time": "2024-08-28T09:27:36.389Z"
   },
   {
    "duration": 13,
    "start_time": "2024-08-28T09:27:36.417Z"
   },
   {
    "duration": 18,
    "start_time": "2024-08-28T09:27:36.431Z"
   },
   {
    "duration": 5,
    "start_time": "2024-08-28T09:27:36.452Z"
   },
   {
    "duration": 39,
    "start_time": "2024-08-28T09:27:36.458Z"
   },
   {
    "duration": 10,
    "start_time": "2024-08-28T09:27:36.498Z"
   },
   {
    "duration": 12,
    "start_time": "2024-08-28T09:27:36.510Z"
   },
   {
    "duration": 16,
    "start_time": "2024-08-28T09:27:36.523Z"
   },
   {
    "duration": 19,
    "start_time": "2024-08-28T09:27:36.541Z"
   },
   {
    "duration": 29,
    "start_time": "2024-08-28T09:27:36.561Z"
   },
   {
    "duration": 3,
    "start_time": "2024-08-28T09:27:36.591Z"
   },
   {
    "duration": 20,
    "start_time": "2024-08-28T09:27:36.596Z"
   },
   {
    "duration": 26,
    "start_time": "2024-08-28T09:27:36.618Z"
   },
   {
    "duration": 5,
    "start_time": "2024-08-28T09:27:36.645Z"
   },
   {
    "duration": 13,
    "start_time": "2024-08-28T09:27:36.652Z"
   },
   {
    "duration": 27,
    "start_time": "2024-08-28T09:27:36.666Z"
   },
   {
    "duration": 45,
    "start_time": "2024-08-28T09:27:36.694Z"
   },
   {
    "duration": 4,
    "start_time": "2024-08-28T09:27:36.740Z"
   },
   {
    "duration": 41,
    "start_time": "2024-08-28T09:27:36.745Z"
   },
   {
    "duration": 13,
    "start_time": "2024-08-28T09:27:36.788Z"
   },
   {
    "duration": 16,
    "start_time": "2024-08-28T09:27:36.803Z"
   },
   {
    "duration": 43,
    "start_time": "2024-08-28T09:27:36.822Z"
   },
   {
    "duration": 4,
    "start_time": "2024-08-28T09:27:36.866Z"
   },
   {
    "duration": 180,
    "start_time": "2024-08-28T09:27:36.872Z"
   },
   {
    "duration": 28,
    "start_time": "2024-08-28T09:28:22.804Z"
   },
   {
    "duration": 491,
    "start_time": "2024-08-28T09:28:27.559Z"
   },
   {
    "duration": 22,
    "start_time": "2024-08-28T09:28:28.052Z"
   },
   {
    "duration": 15,
    "start_time": "2024-08-28T09:28:28.076Z"
   },
   {
    "duration": 32,
    "start_time": "2024-08-28T09:28:28.093Z"
   },
   {
    "duration": 46,
    "start_time": "2024-08-28T09:28:28.126Z"
   },
   {
    "duration": 4,
    "start_time": "2024-08-28T09:28:28.173Z"
   },
   {
    "duration": 8,
    "start_time": "2024-08-28T09:28:28.178Z"
   },
   {
    "duration": 7,
    "start_time": "2024-08-28T09:28:28.188Z"
   },
   {
    "duration": 8,
    "start_time": "2024-08-28T09:28:28.197Z"
   },
   {
    "duration": 10,
    "start_time": "2024-08-28T09:28:28.209Z"
   },
   {
    "duration": 46,
    "start_time": "2024-08-28T09:28:28.220Z"
   },
   {
    "duration": 10,
    "start_time": "2024-08-28T09:28:28.267Z"
   },
   {
    "duration": 12,
    "start_time": "2024-08-28T09:28:28.279Z"
   },
   {
    "duration": 66,
    "start_time": "2024-08-28T09:28:28.292Z"
   },
   {
    "duration": 20,
    "start_time": "2024-08-28T09:28:28.360Z"
   },
   {
    "duration": 23,
    "start_time": "2024-08-28T09:28:28.381Z"
   },
   {
    "duration": 4,
    "start_time": "2024-08-28T09:28:28.405Z"
   },
   {
    "duration": 21,
    "start_time": "2024-08-28T09:28:28.410Z"
   },
   {
    "duration": 6,
    "start_time": "2024-08-28T09:28:28.432Z"
   },
   {
    "duration": 6,
    "start_time": "2024-08-28T09:28:28.439Z"
   },
   {
    "duration": 9,
    "start_time": "2024-08-28T09:28:28.447Z"
   },
   {
    "duration": 30,
    "start_time": "2024-08-28T09:28:28.457Z"
   },
   {
    "duration": 38,
    "start_time": "2024-08-28T09:28:28.488Z"
   },
   {
    "duration": 4,
    "start_time": "2024-08-28T09:28:28.527Z"
   },
   {
    "duration": 36,
    "start_time": "2024-08-28T09:28:28.532Z"
   },
   {
    "duration": 36,
    "start_time": "2024-08-28T09:28:28.569Z"
   },
   {
    "duration": 8,
    "start_time": "2024-08-28T09:28:28.607Z"
   },
   {
    "duration": 30,
    "start_time": "2024-08-28T09:28:28.617Z"
   },
   {
    "duration": 5,
    "start_time": "2024-08-28T09:28:28.649Z"
   },
   {
    "duration": 44,
    "start_time": "2024-08-28T09:28:28.655Z"
   },
   {
    "duration": 46,
    "start_time": "2024-08-28T11:54:12.039Z"
   },
   {
    "duration": 713,
    "start_time": "2024-08-28T11:54:19.411Z"
   },
   {
    "duration": 22,
    "start_time": "2024-08-28T11:54:20.126Z"
   },
   {
    "duration": 19,
    "start_time": "2024-08-28T11:54:20.149Z"
   },
   {
    "duration": 21,
    "start_time": "2024-08-28T11:54:20.169Z"
   },
   {
    "duration": 51,
    "start_time": "2024-08-28T11:54:20.192Z"
   },
   {
    "duration": 5,
    "start_time": "2024-08-28T11:54:20.245Z"
   },
   {
    "duration": 11,
    "start_time": "2024-08-28T11:54:20.252Z"
   },
   {
    "duration": 26,
    "start_time": "2024-08-28T11:54:20.265Z"
   },
   {
    "duration": 17,
    "start_time": "2024-08-28T11:54:20.293Z"
   },
   {
    "duration": 13,
    "start_time": "2024-08-28T11:54:20.312Z"
   },
   {
    "duration": 36,
    "start_time": "2024-08-28T11:54:20.326Z"
   },
   {
    "duration": 10,
    "start_time": "2024-08-28T11:54:20.363Z"
   },
   {
    "duration": 15,
    "start_time": "2024-08-28T11:54:20.375Z"
   },
   {
    "duration": 11,
    "start_time": "2024-08-28T11:54:20.393Z"
   },
   {
    "duration": 19,
    "start_time": "2024-08-28T11:54:20.405Z"
   },
   {
    "duration": 15,
    "start_time": "2024-08-28T11:54:20.426Z"
   },
   {
    "duration": 4,
    "start_time": "2024-08-28T11:54:20.442Z"
   },
   {
    "duration": 18,
    "start_time": "2024-08-28T11:54:20.447Z"
   },
   {
    "duration": 24,
    "start_time": "2024-08-28T11:54:20.467Z"
   },
   {
    "duration": 4,
    "start_time": "2024-08-28T11:54:20.493Z"
   },
   {
    "duration": 13,
    "start_time": "2024-08-28T11:54:20.499Z"
   },
   {
    "duration": 3,
    "start_time": "2024-08-28T11:54:20.514Z"
   },
   {
    "duration": 29,
    "start_time": "2024-08-28T11:54:20.519Z"
   },
   {
    "duration": 3,
    "start_time": "2024-08-28T11:54:20.550Z"
   },
   {
    "duration": 54,
    "start_time": "2024-08-28T11:54:20.555Z"
   },
   {
    "duration": 13,
    "start_time": "2024-08-28T11:54:20.610Z"
   },
   {
    "duration": 29,
    "start_time": "2024-08-28T11:54:20.624Z"
   },
   {
    "duration": 49,
    "start_time": "2024-08-28T11:54:20.654Z"
   },
   {
    "duration": 3,
    "start_time": "2024-08-28T11:54:20.705Z"
   },
   {
    "duration": 89,
    "start_time": "2024-08-28T11:54:20.709Z"
   },
   {
    "duration": 24,
    "start_time": "2024-08-28T11:54:20.799Z"
   },
   {
    "duration": 26,
    "start_time": "2024-08-28T11:56:04.622Z"
   },
   {
    "duration": 28,
    "start_time": "2024-08-28T11:57:41.008Z"
   },
   {
    "duration": 35,
    "start_time": "2024-08-28T12:00:49.998Z"
   },
   {
    "duration": 72,
    "start_time": "2024-08-28T12:02:01.428Z"
   },
   {
    "duration": 33,
    "start_time": "2024-08-28T12:02:11.050Z"
   },
   {
    "duration": 69,
    "start_time": "2024-08-28T12:15:32.110Z"
   },
   {
    "duration": 14,
    "start_time": "2024-08-28T12:16:08.703Z"
   },
   {
    "duration": 27,
    "start_time": "2024-08-28T12:16:37.402Z"
   },
   {
    "duration": 39,
    "start_time": "2024-08-28T12:20:55.255Z"
   },
   {
    "duration": 70,
    "start_time": "2024-08-28T12:21:36.939Z"
   },
   {
    "duration": 37,
    "start_time": "2024-08-28T12:23:39.920Z"
   },
   {
    "duration": 90,
    "start_time": "2024-08-28T12:30:55.472Z"
   },
   {
    "duration": 86,
    "start_time": "2024-08-28T12:31:50.289Z"
   },
   {
    "duration": 47,
    "start_time": "2024-08-28T12:32:12.714Z"
   },
   {
    "duration": 80,
    "start_time": "2024-08-28T12:32:47.770Z"
   },
   {
    "duration": 495,
    "start_time": "2024-08-28T12:33:38.623Z"
   },
   {
    "duration": 21,
    "start_time": "2024-08-28T12:33:39.120Z"
   },
   {
    "duration": 20,
    "start_time": "2024-08-28T12:33:39.143Z"
   },
   {
    "duration": 12,
    "start_time": "2024-08-28T12:33:39.165Z"
   },
   {
    "duration": 59,
    "start_time": "2024-08-28T12:33:39.179Z"
   },
   {
    "duration": 3,
    "start_time": "2024-08-28T12:33:39.239Z"
   },
   {
    "duration": 7,
    "start_time": "2024-08-28T12:33:39.244Z"
   },
   {
    "duration": 4,
    "start_time": "2024-08-28T12:33:39.253Z"
   },
   {
    "duration": 10,
    "start_time": "2024-08-28T12:33:39.258Z"
   },
   {
    "duration": 6,
    "start_time": "2024-08-28T12:33:39.270Z"
   },
   {
    "duration": 58,
    "start_time": "2024-08-28T12:33:39.277Z"
   },
   {
    "duration": 10,
    "start_time": "2024-08-28T12:33:39.336Z"
   },
   {
    "duration": 3,
    "start_time": "2024-08-28T12:33:39.347Z"
   },
   {
    "duration": 16,
    "start_time": "2024-08-28T12:33:39.352Z"
   },
   {
    "duration": 19,
    "start_time": "2024-08-28T12:33:39.371Z"
   },
   {
    "duration": 60,
    "start_time": "2024-08-28T12:33:39.391Z"
   },
   {
    "duration": 4,
    "start_time": "2024-08-28T12:33:39.453Z"
   },
   {
    "duration": 11,
    "start_time": "2024-08-28T12:33:39.458Z"
   },
   {
    "duration": 6,
    "start_time": "2024-08-28T12:33:39.470Z"
   },
   {
    "duration": 15,
    "start_time": "2024-08-28T12:33:39.477Z"
   },
   {
    "duration": 16,
    "start_time": "2024-08-28T12:33:39.494Z"
   },
   {
    "duration": 19,
    "start_time": "2024-08-28T12:33:39.511Z"
   },
   {
    "duration": 32,
    "start_time": "2024-08-28T12:33:39.532Z"
   },
   {
    "duration": 4,
    "start_time": "2024-08-28T12:33:39.566Z"
   },
   {
    "duration": 31,
    "start_time": "2024-08-28T12:33:39.571Z"
   },
   {
    "duration": 13,
    "start_time": "2024-08-28T12:33:39.603Z"
   },
   {
    "duration": 8,
    "start_time": "2024-08-28T12:33:39.618Z"
   },
   {
    "duration": 30,
    "start_time": "2024-08-28T12:33:39.628Z"
   },
   {
    "duration": 4,
    "start_time": "2024-08-28T12:33:39.660Z"
   },
   {
    "duration": 46,
    "start_time": "2024-08-28T12:33:39.665Z"
   },
   {
    "duration": 85,
    "start_time": "2024-08-28T12:33:39.713Z"
   },
   {
    "duration": 0,
    "start_time": "2024-08-28T12:33:39.800Z"
   },
   {
    "duration": 113,
    "start_time": "2024-08-28T12:34:38.602Z"
   },
   {
    "duration": 48,
    "start_time": "2024-08-28T12:35:40.609Z"
   },
   {
    "duration": 5,
    "start_time": "2024-08-28T19:06:45.456Z"
   },
   {
    "duration": 30,
    "start_time": "2024-08-28T19:06:47.290Z"
   },
   {
    "duration": 4,
    "start_time": "2024-08-28T19:07:57.845Z"
   },
   {
    "duration": 45,
    "start_time": "2024-08-28T19:07:59.327Z"
   },
   {
    "duration": 5,
    "start_time": "2024-08-28T19:10:18.518Z"
   },
   {
    "duration": 32,
    "start_time": "2024-08-28T19:10:20.469Z"
   },
   {
    "duration": 13,
    "start_time": "2024-08-28T19:13:26.086Z"
   },
   {
    "duration": 5,
    "start_time": "2024-08-28T19:13:36.126Z"
   },
   {
    "duration": 38,
    "start_time": "2024-08-28T19:13:38.035Z"
   },
   {
    "duration": 33,
    "start_time": "2024-08-28T19:29:38.432Z"
   },
   {
    "duration": 74,
    "start_time": "2024-08-28T19:29:41.729Z"
   },
   {
    "duration": 21,
    "start_time": "2024-08-28T19:30:30.637Z"
   },
   {
    "duration": 9,
    "start_time": "2024-08-28T19:31:00.401Z"
   },
   {
    "duration": 4,
    "start_time": "2024-08-28T19:31:03.767Z"
   },
   {
    "duration": 18,
    "start_time": "2024-08-28T19:31:06.879Z"
   },
   {
    "duration": 42,
    "start_time": "2024-08-28T19:31:35.614Z"
   },
   {
    "duration": 17,
    "start_time": "2024-08-28T19:33:25.213Z"
   },
   {
    "duration": 16,
    "start_time": "2024-08-28T19:33:36.514Z"
   },
   {
    "duration": 4,
    "start_time": "2024-08-28T19:33:48.251Z"
   },
   {
    "duration": 40,
    "start_time": "2024-08-28T19:33:51.448Z"
   },
   {
    "duration": 490,
    "start_time": "2024-08-28T19:34:22.073Z"
   },
   {
    "duration": 22,
    "start_time": "2024-08-28T19:34:22.565Z"
   },
   {
    "duration": 22,
    "start_time": "2024-08-28T19:34:22.589Z"
   },
   {
    "duration": 13,
    "start_time": "2024-08-28T19:34:22.613Z"
   },
   {
    "duration": 34,
    "start_time": "2024-08-28T19:34:22.627Z"
   },
   {
    "duration": 3,
    "start_time": "2024-08-28T19:34:22.663Z"
   },
   {
    "duration": 12,
    "start_time": "2024-08-28T19:34:22.667Z"
   },
   {
    "duration": 13,
    "start_time": "2024-08-28T19:34:22.680Z"
   },
   {
    "duration": 20,
    "start_time": "2024-08-28T19:34:22.695Z"
   },
   {
    "duration": 4,
    "start_time": "2024-08-28T19:34:22.717Z"
   },
   {
    "duration": 35,
    "start_time": "2024-08-28T19:34:22.722Z"
   },
   {
    "duration": 10,
    "start_time": "2024-08-28T19:34:22.758Z"
   },
   {
    "duration": 4,
    "start_time": "2024-08-28T19:34:22.769Z"
   },
   {
    "duration": 13,
    "start_time": "2024-08-28T19:34:22.801Z"
   },
   {
    "duration": 28,
    "start_time": "2024-08-28T19:34:22.815Z"
   },
   {
    "duration": 17,
    "start_time": "2024-08-28T19:34:22.844Z"
   },
   {
    "duration": 4,
    "start_time": "2024-08-28T19:34:22.862Z"
   },
   {
    "duration": 14,
    "start_time": "2024-08-28T19:34:22.867Z"
   },
   {
    "duration": 17,
    "start_time": "2024-08-28T19:34:22.883Z"
   },
   {
    "duration": 4,
    "start_time": "2024-08-28T19:34:22.902Z"
   },
   {
    "duration": 10,
    "start_time": "2024-08-28T19:34:22.907Z"
   },
   {
    "duration": 4,
    "start_time": "2024-08-28T19:34:22.918Z"
   },
   {
    "duration": 68,
    "start_time": "2024-08-28T19:34:22.923Z"
   },
   {
    "duration": 0,
    "start_time": "2024-08-28T19:34:22.994Z"
   },
   {
    "duration": 0,
    "start_time": "2024-08-28T19:34:22.996Z"
   },
   {
    "duration": 0,
    "start_time": "2024-08-28T19:34:22.998Z"
   },
   {
    "duration": 0,
    "start_time": "2024-08-28T19:34:23.000Z"
   },
   {
    "duration": 0,
    "start_time": "2024-08-28T19:34:23.002Z"
   },
   {
    "duration": 0,
    "start_time": "2024-08-28T19:34:23.005Z"
   },
   {
    "duration": 0,
    "start_time": "2024-08-28T19:34:23.006Z"
   },
   {
    "duration": 40,
    "start_time": "2024-08-28T19:36:41.679Z"
   },
   {
    "duration": 30,
    "start_time": "2024-08-28T19:36:56.630Z"
   },
   {
    "duration": 456,
    "start_time": "2024-08-28T19:37:10.417Z"
   },
   {
    "duration": 29,
    "start_time": "2024-08-28T19:37:10.874Z"
   },
   {
    "duration": 14,
    "start_time": "2024-08-28T19:37:10.905Z"
   },
   {
    "duration": 15,
    "start_time": "2024-08-28T19:37:10.920Z"
   },
   {
    "duration": 41,
    "start_time": "2024-08-28T19:37:10.937Z"
   },
   {
    "duration": 3,
    "start_time": "2024-08-28T19:37:10.980Z"
   },
   {
    "duration": 16,
    "start_time": "2024-08-28T19:37:10.985Z"
   },
   {
    "duration": 9,
    "start_time": "2024-08-28T19:37:11.002Z"
   },
   {
    "duration": 16,
    "start_time": "2024-08-28T19:37:11.013Z"
   },
   {
    "duration": 15,
    "start_time": "2024-08-28T19:37:11.031Z"
   },
   {
    "duration": 42,
    "start_time": "2024-08-28T19:37:11.047Z"
   },
   {
    "duration": 16,
    "start_time": "2024-08-28T19:37:11.092Z"
   },
   {
    "duration": 9,
    "start_time": "2024-08-28T19:37:11.110Z"
   },
   {
    "duration": 15,
    "start_time": "2024-08-28T19:37:11.121Z"
   },
   {
    "duration": 21,
    "start_time": "2024-08-28T19:37:11.137Z"
   },
   {
    "duration": 15,
    "start_time": "2024-08-28T19:37:11.159Z"
   },
   {
    "duration": 18,
    "start_time": "2024-08-28T19:37:11.175Z"
   },
   {
    "duration": 22,
    "start_time": "2024-08-28T19:37:11.195Z"
   },
   {
    "duration": 6,
    "start_time": "2024-08-28T19:37:11.219Z"
   },
   {
    "duration": 3,
    "start_time": "2024-08-28T19:37:11.226Z"
   },
   {
    "duration": 24,
    "start_time": "2024-08-28T19:37:11.230Z"
   },
   {
    "duration": 4,
    "start_time": "2024-08-28T19:37:11.256Z"
   },
   {
    "duration": 45,
    "start_time": "2024-08-28T19:37:11.261Z"
   },
   {
    "duration": 4,
    "start_time": "2024-08-28T19:37:11.307Z"
   },
   {
    "duration": 29,
    "start_time": "2024-08-28T19:37:11.312Z"
   },
   {
    "duration": 4,
    "start_time": "2024-08-28T19:37:11.342Z"
   },
   {
    "duration": 111,
    "start_time": "2024-08-28T19:37:11.347Z"
   },
   {
    "duration": 0,
    "start_time": "2024-08-28T19:37:11.459Z"
   },
   {
    "duration": 0,
    "start_time": "2024-08-28T19:37:11.460Z"
   },
   {
    "duration": 0,
    "start_time": "2024-08-28T19:37:11.461Z"
   },
   {
    "duration": 37,
    "start_time": "2024-08-28T19:38:02.627Z"
   },
   {
    "duration": 47,
    "start_time": "2024-08-28T19:38:22.720Z"
   },
   {
    "duration": 430,
    "start_time": "2024-08-28T19:38:33.818Z"
   },
   {
    "duration": 20,
    "start_time": "2024-08-28T19:38:34.249Z"
   },
   {
    "duration": 13,
    "start_time": "2024-08-28T19:38:34.271Z"
   },
   {
    "duration": 10,
    "start_time": "2024-08-28T19:38:34.285Z"
   },
   {
    "duration": 42,
    "start_time": "2024-08-28T19:38:34.296Z"
   },
   {
    "duration": 3,
    "start_time": "2024-08-28T19:38:34.339Z"
   },
   {
    "duration": 9,
    "start_time": "2024-08-28T19:38:34.343Z"
   },
   {
    "duration": 4,
    "start_time": "2024-08-28T19:38:34.353Z"
   },
   {
    "duration": 6,
    "start_time": "2024-08-28T19:38:34.358Z"
   },
   {
    "duration": 5,
    "start_time": "2024-08-28T19:38:34.367Z"
   },
   {
    "duration": 40,
    "start_time": "2024-08-28T19:38:34.390Z"
   },
   {
    "duration": 9,
    "start_time": "2024-08-28T19:38:34.431Z"
   },
   {
    "duration": 3,
    "start_time": "2024-08-28T19:38:34.441Z"
   },
   {
    "duration": 12,
    "start_time": "2024-08-28T19:38:34.445Z"
   },
   {
    "duration": 16,
    "start_time": "2024-08-28T19:38:34.459Z"
   },
   {
    "duration": 15,
    "start_time": "2024-08-28T19:38:34.489Z"
   },
   {
    "duration": 3,
    "start_time": "2024-08-28T19:38:34.505Z"
   },
   {
    "duration": 18,
    "start_time": "2024-08-28T19:38:34.509Z"
   },
   {
    "duration": 6,
    "start_time": "2024-08-28T19:38:34.528Z"
   },
   {
    "duration": 3,
    "start_time": "2024-08-28T19:38:34.536Z"
   },
   {
    "duration": 9,
    "start_time": "2024-08-28T19:38:34.541Z"
   },
   {
    "duration": 4,
    "start_time": "2024-08-28T19:38:34.551Z"
   },
   {
    "duration": 52,
    "start_time": "2024-08-28T19:38:34.556Z"
   },
   {
    "duration": 4,
    "start_time": "2024-08-28T19:38:34.609Z"
   },
   {
    "duration": 47,
    "start_time": "2024-08-28T19:38:34.614Z"
   },
   {
    "duration": 4,
    "start_time": "2024-08-28T19:38:34.662Z"
   },
   {
    "duration": 100,
    "start_time": "2024-08-28T19:38:34.667Z"
   },
   {
    "duration": 0,
    "start_time": "2024-08-28T19:38:34.769Z"
   },
   {
    "duration": 0,
    "start_time": "2024-08-28T19:38:34.770Z"
   },
   {
    "duration": 0,
    "start_time": "2024-08-28T19:38:34.770Z"
   },
   {
    "duration": 47,
    "start_time": "2024-08-28T19:39:24.177Z"
   },
   {
    "duration": 411,
    "start_time": "2024-08-28T19:39:54.838Z"
   },
   {
    "duration": 19,
    "start_time": "2024-08-28T19:39:55.251Z"
   },
   {
    "duration": 14,
    "start_time": "2024-08-28T19:39:55.271Z"
   },
   {
    "duration": 9,
    "start_time": "2024-08-28T19:39:55.286Z"
   },
   {
    "duration": 38,
    "start_time": "2024-08-28T19:39:55.297Z"
   },
   {
    "duration": 3,
    "start_time": "2024-08-28T19:39:55.336Z"
   },
   {
    "duration": 9,
    "start_time": "2024-08-28T19:39:55.340Z"
   },
   {
    "duration": 4,
    "start_time": "2024-08-28T19:39:55.350Z"
   },
   {
    "duration": 7,
    "start_time": "2024-08-28T19:39:55.355Z"
   },
   {
    "duration": 4,
    "start_time": "2024-08-28T19:39:55.363Z"
   },
   {
    "duration": 32,
    "start_time": "2024-08-28T19:39:55.389Z"
   },
   {
    "duration": 9,
    "start_time": "2024-08-28T19:39:55.422Z"
   },
   {
    "duration": 22,
    "start_time": "2024-08-28T19:39:55.433Z"
   },
   {
    "duration": 10,
    "start_time": "2024-08-28T19:39:55.458Z"
   },
   {
    "duration": 25,
    "start_time": "2024-08-28T19:39:55.469Z"
   },
   {
    "duration": 15,
    "start_time": "2024-08-28T19:39:55.496Z"
   },
   {
    "duration": 3,
    "start_time": "2024-08-28T19:39:55.512Z"
   },
   {
    "duration": 47,
    "start_time": "2024-08-28T19:39:55.516Z"
   },
   {
    "duration": 8,
    "start_time": "2024-08-28T19:39:55.564Z"
   },
   {
    "duration": 15,
    "start_time": "2024-08-28T19:39:55.573Z"
   },
   {
    "duration": 9,
    "start_time": "2024-08-28T19:39:55.589Z"
   },
   {
    "duration": 6,
    "start_time": "2024-08-28T19:39:55.600Z"
   },
   {
    "duration": 52,
    "start_time": "2024-08-28T19:39:55.607Z"
   },
   {
    "duration": 4,
    "start_time": "2024-08-28T19:39:55.661Z"
   },
   {
    "duration": 40,
    "start_time": "2024-08-28T19:39:55.667Z"
   },
   {
    "duration": 4,
    "start_time": "2024-08-28T19:39:55.708Z"
   },
   {
    "duration": 80,
    "start_time": "2024-08-28T19:39:55.713Z"
   },
   {
    "duration": 4,
    "start_time": "2024-08-28T19:39:55.795Z"
   },
   {
    "duration": 37,
    "start_time": "2024-08-28T19:39:55.800Z"
   },
   {
    "duration": 80,
    "start_time": "2024-08-28T19:39:55.839Z"
   },
   {
    "duration": 4,
    "start_time": "2024-08-28T19:41:59.578Z"
   },
   {
    "duration": 55,
    "start_time": "2024-08-28T19:42:01.666Z"
   },
   {
    "duration": 15,
    "start_time": "2024-08-28T19:43:29.062Z"
   },
   {
    "duration": 5,
    "start_time": "2024-08-28T19:43:37.411Z"
   },
   {
    "duration": 33,
    "start_time": "2024-08-28T19:43:40.030Z"
   },
   {
    "duration": 67,
    "start_time": "2024-08-28T19:57:33.087Z"
   },
   {
    "duration": 70,
    "start_time": "2024-08-28T20:00:17.731Z"
   },
   {
    "duration": 74,
    "start_time": "2024-08-28T20:00:32.789Z"
   },
   {
    "duration": 4,
    "start_time": "2024-08-28T20:00:37.371Z"
   },
   {
    "duration": 9,
    "start_time": "2024-08-28T20:02:38.338Z"
   },
   {
    "duration": 7,
    "start_time": "2024-08-28T20:03:05.870Z"
   },
   {
    "duration": 7,
    "start_time": "2024-08-28T20:03:19.956Z"
   },
   {
    "duration": 4,
    "start_time": "2024-08-28T20:03:53.804Z"
   },
   {
    "duration": 4,
    "start_time": "2024-08-28T20:03:57.506Z"
   },
   {
    "duration": 9,
    "start_time": "2024-08-28T20:03:59.663Z"
   },
   {
    "duration": 10,
    "start_time": "2024-08-28T20:04:37.453Z"
   },
   {
    "duration": 4,
    "start_time": "2024-08-28T20:04:44.471Z"
   },
   {
    "duration": 13,
    "start_time": "2024-08-28T20:04:47.428Z"
   },
   {
    "duration": 3,
    "start_time": "2024-08-28T20:05:24.928Z"
   },
   {
    "duration": 4,
    "start_time": "2024-08-28T20:05:26.803Z"
   },
   {
    "duration": 13,
    "start_time": "2024-08-28T20:05:28.937Z"
   },
   {
    "duration": 4,
    "start_time": "2024-08-28T20:07:17.829Z"
   },
   {
    "duration": 10,
    "start_time": "2024-08-28T20:07:20.059Z"
   },
   {
    "duration": 4,
    "start_time": "2024-08-28T20:07:38.421Z"
   },
   {
    "duration": 34,
    "start_time": "2024-08-28T20:07:40.955Z"
   },
   {
    "duration": 5,
    "start_time": "2024-08-28T20:09:23.802Z"
   },
   {
    "duration": 33,
    "start_time": "2024-08-28T20:09:32.223Z"
   },
   {
    "duration": 33,
    "start_time": "2024-08-28T20:10:04.934Z"
   },
   {
    "duration": 4,
    "start_time": "2024-08-28T20:12:23.390Z"
   },
   {
    "duration": 33,
    "start_time": "2024-08-28T20:12:25.200Z"
   },
   {
    "duration": 36,
    "start_time": "2024-08-28T20:14:28.968Z"
   },
   {
    "duration": 4,
    "start_time": "2024-08-28T20:15:21.753Z"
   },
   {
    "duration": 35,
    "start_time": "2024-08-28T20:15:23.887Z"
   },
   {
    "duration": 38,
    "start_time": "2024-08-28T20:15:29.855Z"
   },
   {
    "duration": 416,
    "start_time": "2024-08-28T20:16:13.340Z"
   },
   {
    "duration": 20,
    "start_time": "2024-08-28T20:16:13.758Z"
   },
   {
    "duration": 19,
    "start_time": "2024-08-28T20:16:13.779Z"
   },
   {
    "duration": 25,
    "start_time": "2024-08-28T20:16:13.800Z"
   },
   {
    "duration": 34,
    "start_time": "2024-08-28T20:16:13.827Z"
   },
   {
    "duration": 3,
    "start_time": "2024-08-28T20:16:13.862Z"
   },
   {
    "duration": 12,
    "start_time": "2024-08-28T20:16:13.867Z"
   },
   {
    "duration": 5,
    "start_time": "2024-08-28T20:16:13.880Z"
   },
   {
    "duration": 24,
    "start_time": "2024-08-28T20:16:13.886Z"
   },
   {
    "duration": 8,
    "start_time": "2024-08-28T20:16:13.912Z"
   },
   {
    "duration": 33,
    "start_time": "2024-08-28T20:16:13.921Z"
   },
   {
    "duration": 10,
    "start_time": "2024-08-28T20:16:13.956Z"
   },
   {
    "duration": 3,
    "start_time": "2024-08-28T20:16:13.968Z"
   },
   {
    "duration": 19,
    "start_time": "2024-08-28T20:16:13.973Z"
   },
   {
    "duration": 40,
    "start_time": "2024-08-28T20:16:13.994Z"
   },
   {
    "duration": 14,
    "start_time": "2024-08-28T20:16:14.035Z"
   },
   {
    "duration": 4,
    "start_time": "2024-08-28T20:16:14.050Z"
   },
   {
    "duration": 70,
    "start_time": "2024-08-28T20:16:14.055Z"
   },
   {
    "duration": 12,
    "start_time": "2024-08-28T20:16:14.126Z"
   },
   {
    "duration": 4,
    "start_time": "2024-08-28T20:16:14.139Z"
   },
   {
    "duration": 11,
    "start_time": "2024-08-28T20:16:14.144Z"
   },
   {
    "duration": 5,
    "start_time": "2024-08-28T20:16:14.156Z"
   },
   {
    "duration": 41,
    "start_time": "2024-08-28T20:16:14.162Z"
   },
   {
    "duration": 36,
    "start_time": "2024-08-28T20:16:14.204Z"
   },
   {
    "duration": 34,
    "start_time": "2024-08-28T20:16:14.241Z"
   },
   {
    "duration": 17,
    "start_time": "2024-08-28T20:16:14.276Z"
   },
   {
    "duration": 37,
    "start_time": "2024-08-28T20:16:14.294Z"
   },
   {
    "duration": 4,
    "start_time": "2024-08-28T20:16:14.332Z"
   },
   {
    "duration": 30,
    "start_time": "2024-08-28T20:16:14.337Z"
   },
   {
    "duration": 4,
    "start_time": "2024-08-28T20:16:56.973Z"
   },
   {
    "duration": 37,
    "start_time": "2024-08-28T20:17:01.350Z"
   },
   {
    "duration": 36,
    "start_time": "2024-08-28T20:17:17.867Z"
   },
   {
    "duration": 35,
    "start_time": "2024-08-28T20:18:09.558Z"
   },
   {
    "duration": 36,
    "start_time": "2024-08-28T20:19:34.753Z"
   },
   {
    "duration": 197,
    "start_time": "2024-08-28T20:21:45.932Z"
   },
   {
    "duration": 34,
    "start_time": "2024-08-28T20:22:01.772Z"
   },
   {
    "duration": 31,
    "start_time": "2024-08-28T20:22:21.901Z"
   },
   {
    "duration": 13,
    "start_time": "2024-08-29T16:09:55.486Z"
   },
   {
    "duration": 56,
    "start_time": "2024-08-29T16:09:58.388Z"
   },
   {
    "duration": 8,
    "start_time": "2024-08-29T16:10:08.144Z"
   },
   {
    "duration": 6,
    "start_time": "2024-08-29T16:10:15.966Z"
   },
   {
    "duration": 6,
    "start_time": "2024-08-29T16:10:18.668Z"
   },
   {
    "duration": 7,
    "start_time": "2024-08-29T16:10:20.033Z"
   },
   {
    "duration": 599,
    "start_time": "2024-08-29T16:10:40.049Z"
   },
   {
    "duration": 30,
    "start_time": "2024-08-29T16:10:40.650Z"
   },
   {
    "duration": 28,
    "start_time": "2024-08-29T16:10:40.682Z"
   },
   {
    "duration": 14,
    "start_time": "2024-08-29T16:10:40.713Z"
   },
   {
    "duration": 80,
    "start_time": "2024-08-29T16:10:40.730Z"
   },
   {
    "duration": 5,
    "start_time": "2024-08-29T16:10:40.812Z"
   },
   {
    "duration": 15,
    "start_time": "2024-08-29T16:10:40.818Z"
   },
   {
    "duration": 5,
    "start_time": "2024-08-29T16:10:40.834Z"
   },
   {
    "duration": 31,
    "start_time": "2024-08-29T16:10:40.841Z"
   },
   {
    "duration": 5,
    "start_time": "2024-08-29T16:10:40.874Z"
   },
   {
    "duration": 102,
    "start_time": "2024-08-29T16:10:40.881Z"
   },
   {
    "duration": 14,
    "start_time": "2024-08-29T16:10:40.986Z"
   },
   {
    "duration": 5,
    "start_time": "2024-08-29T16:10:41.003Z"
   },
   {
    "duration": 22,
    "start_time": "2024-08-29T16:10:41.011Z"
   },
   {
    "duration": 43,
    "start_time": "2024-08-29T16:10:41.034Z"
   },
   {
    "duration": 23,
    "start_time": "2024-08-29T16:10:41.078Z"
   },
   {
    "duration": 4,
    "start_time": "2024-08-29T16:10:41.103Z"
   },
   {
    "duration": 18,
    "start_time": "2024-08-29T16:10:41.110Z"
   },
   {
    "duration": 6,
    "start_time": "2024-08-29T16:10:41.129Z"
   },
   {
    "duration": 3,
    "start_time": "2024-08-29T16:10:41.137Z"
   },
   {
    "duration": 9,
    "start_time": "2024-08-29T16:10:41.164Z"
   },
   {
    "duration": 19,
    "start_time": "2024-08-29T16:10:41.175Z"
   },
   {
    "duration": 41,
    "start_time": "2024-08-29T16:10:41.196Z"
   },
   {
    "duration": 59,
    "start_time": "2024-08-29T16:10:41.239Z"
   },
   {
    "duration": 2,
    "start_time": "2024-08-29T16:10:41.299Z"
   },
   {
    "duration": 59,
    "start_time": "2024-08-29T16:10:41.303Z"
   },
   {
    "duration": 35,
    "start_time": "2024-08-29T16:10:41.364Z"
   },
   {
    "duration": 6,
    "start_time": "2024-08-29T16:10:55.249Z"
   },
   {
    "duration": 41,
    "start_time": "2024-08-29T16:10:58.699Z"
   },
   {
    "duration": 4,
    "start_time": "2024-08-29T16:17:58.111Z"
   },
   {
    "duration": 5,
    "start_time": "2024-08-29T16:19:25.481Z"
   },
   {
    "duration": 39,
    "start_time": "2024-08-29T16:20:25.181Z"
   },
   {
    "duration": 79,
    "start_time": "2024-08-29T16:20:36.246Z"
   },
   {
    "duration": 8,
    "start_time": "2024-08-29T16:21:02.199Z"
   },
   {
    "duration": 3,
    "start_time": "2024-08-29T16:21:25.880Z"
   },
   {
    "duration": 22,
    "start_time": "2024-08-29T16:22:09.864Z"
   },
   {
    "duration": 4,
    "start_time": "2024-08-29T16:22:15.954Z"
   },
   {
    "duration": 30,
    "start_time": "2024-08-29T16:22:17.699Z"
   },
   {
    "duration": 6,
    "start_time": "2024-08-29T16:27:24.661Z"
   },
   {
    "duration": 44,
    "start_time": "2024-08-29T16:27:27.790Z"
   },
   {
    "duration": 8,
    "start_time": "2024-08-29T16:29:37.472Z"
   },
   {
    "duration": 6,
    "start_time": "2024-08-29T16:29:42.443Z"
   },
   {
    "duration": 7,
    "start_time": "2024-08-29T16:30:00.982Z"
   },
   {
    "duration": 11,
    "start_time": "2024-08-29T16:30:47.312Z"
   },
   {
    "duration": 11,
    "start_time": "2024-08-29T16:31:03.462Z"
   },
   {
    "duration": 6,
    "start_time": "2024-08-29T16:31:13.628Z"
   },
   {
    "duration": 7,
    "start_time": "2024-08-29T16:31:24.594Z"
   },
   {
    "duration": 5,
    "start_time": "2024-08-29T16:36:54.028Z"
   },
   {
    "duration": 9,
    "start_time": "2024-08-29T16:36:57.576Z"
   },
   {
    "duration": 39,
    "start_time": "2024-08-29T16:37:02.401Z"
   },
   {
    "duration": 55,
    "start_time": "2024-08-29T16:37:19.859Z"
   },
   {
    "duration": 4,
    "start_time": "2024-08-29T16:39:40.612Z"
   },
   {
    "duration": 41,
    "start_time": "2024-08-29T16:39:43.778Z"
   },
   {
    "duration": 47,
    "start_time": "2024-08-29T16:40:36.583Z"
   },
   {
    "duration": 62,
    "start_time": "2024-08-29T16:40:45.890Z"
   },
   {
    "duration": 58,
    "start_time": "2024-08-29T16:41:13.206Z"
   },
   {
    "duration": 40,
    "start_time": "2024-08-29T16:41:46.674Z"
   },
   {
    "duration": 40,
    "start_time": "2024-08-29T20:37:09.996Z"
   },
   {
    "duration": 9,
    "start_time": "2024-08-29T20:38:24.917Z"
   },
   {
    "duration": 11,
    "start_time": "2024-08-29T20:38:54.958Z"
   },
   {
    "duration": 13,
    "start_time": "2024-08-29T20:44:24.931Z"
   },
   {
    "duration": 12,
    "start_time": "2024-08-29T20:44:33.223Z"
   },
   {
    "duration": 5,
    "start_time": "2024-08-29T20:56:09.287Z"
   },
   {
    "duration": 36,
    "start_time": "2024-08-29T20:56:33.637Z"
   },
   {
    "duration": 6,
    "start_time": "2024-08-29T20:57:33.887Z"
   },
   {
    "duration": 38,
    "start_time": "2024-08-29T20:57:36.355Z"
   },
   {
    "duration": 4,
    "start_time": "2024-08-29T20:59:38.257Z"
   },
   {
    "duration": 38,
    "start_time": "2024-08-29T20:59:40.351Z"
   },
   {
    "duration": 5,
    "start_time": "2024-08-29T20:59:48.842Z"
   },
   {
    "duration": 35,
    "start_time": "2024-08-29T20:59:51.010Z"
   },
   {
    "duration": 42,
    "start_time": "2024-08-29T21:01:21.504Z"
   },
   {
    "duration": 47,
    "start_time": "2024-08-29T21:02:17.840Z"
   },
   {
    "duration": 52,
    "start_time": "2024-08-29T21:02:38.318Z"
   },
   {
    "duration": 65,
    "start_time": "2024-08-29T21:07:48.072Z"
   },
   {
    "duration": 47,
    "start_time": "2024-08-29T21:09:15.500Z"
   },
   {
    "duration": 9,
    "start_time": "2024-08-29T21:13:18.756Z"
   },
   {
    "duration": 15,
    "start_time": "2024-08-29T21:14:12.432Z"
   },
   {
    "duration": 923,
    "start_time": "2024-08-29T21:14:37.398Z"
   },
   {
    "duration": 48,
    "start_time": "2024-08-29T21:14:43.501Z"
   },
   {
    "duration": 51,
    "start_time": "2024-08-30T05:35:07.053Z"
   },
   {
    "duration": 594,
    "start_time": "2024-08-30T05:35:18.871Z"
   },
   {
    "duration": 25,
    "start_time": "2024-08-30T05:35:19.467Z"
   },
   {
    "duration": 19,
    "start_time": "2024-08-30T05:35:19.494Z"
   },
   {
    "duration": 12,
    "start_time": "2024-08-30T05:35:19.515Z"
   },
   {
    "duration": 38,
    "start_time": "2024-08-30T05:35:19.531Z"
   },
   {
    "duration": 4,
    "start_time": "2024-08-30T05:35:19.571Z"
   },
   {
    "duration": 35,
    "start_time": "2024-08-30T05:35:19.577Z"
   },
   {
    "duration": 5,
    "start_time": "2024-08-30T05:35:19.614Z"
   },
   {
    "duration": 7,
    "start_time": "2024-08-30T05:35:19.621Z"
   },
   {
    "duration": 4,
    "start_time": "2024-08-30T05:35:19.630Z"
   },
   {
    "duration": 71,
    "start_time": "2024-08-30T05:35:19.636Z"
   },
   {
    "duration": 11,
    "start_time": "2024-08-30T05:35:19.708Z"
   },
   {
    "duration": 3,
    "start_time": "2024-08-30T05:35:19.721Z"
   },
   {
    "duration": 12,
    "start_time": "2024-08-30T05:35:19.727Z"
   },
   {
    "duration": 21,
    "start_time": "2024-08-30T05:35:19.741Z"
   },
   {
    "duration": 49,
    "start_time": "2024-08-30T05:35:19.764Z"
   },
   {
    "duration": 5,
    "start_time": "2024-08-30T05:35:19.815Z"
   },
   {
    "duration": 19,
    "start_time": "2024-08-30T05:35:19.822Z"
   },
   {
    "duration": 8,
    "start_time": "2024-08-30T05:35:19.842Z"
   },
   {
    "duration": 5,
    "start_time": "2024-08-30T05:35:19.852Z"
   },
   {
    "duration": 13,
    "start_time": "2024-08-30T05:35:19.858Z"
   },
   {
    "duration": 6,
    "start_time": "2024-08-30T05:35:19.872Z"
   },
   {
    "duration": 63,
    "start_time": "2024-08-30T05:35:19.906Z"
   },
   {
    "duration": 45,
    "start_time": "2024-08-30T05:35:19.971Z"
   },
   {
    "duration": 3,
    "start_time": "2024-08-30T05:35:20.018Z"
   },
   {
    "duration": 51,
    "start_time": "2024-08-30T05:35:20.023Z"
   },
   {
    "duration": 62,
    "start_time": "2024-08-30T05:35:20.076Z"
   },
   {
    "duration": 19,
    "start_time": "2024-08-30T05:35:20.140Z"
   },
   {
    "duration": 80,
    "start_time": "2024-08-30T05:35:20.161Z"
   },
   {
    "duration": 66,
    "start_time": "2024-08-30T05:35:20.243Z"
   },
   {
    "duration": 54,
    "start_time": "2024-08-30T05:35:20.311Z"
   },
   {
    "duration": 49,
    "start_time": "2024-08-30T05:41:19.327Z"
   },
   {
    "duration": 40,
    "start_time": "2024-08-30T05:44:53.341Z"
   },
   {
    "duration": 50,
    "start_time": "2024-08-30T05:48:10.754Z"
   },
   {
    "duration": 58,
    "start_time": "2024-08-30T05:54:05.086Z"
   },
   {
    "duration": 55,
    "start_time": "2024-08-30T05:59:09.691Z"
   },
   {
    "duration": 56,
    "start_time": "2024-08-30T06:02:03.904Z"
   },
   {
    "duration": 51,
    "start_time": "2024-08-30T06:06:47.449Z"
   },
   {
    "duration": 494,
    "start_time": "2024-08-30T15:36:07.774Z"
   },
   {
    "duration": 23,
    "start_time": "2024-08-30T15:36:08.269Z"
   },
   {
    "duration": 50,
    "start_time": "2024-08-30T15:36:08.294Z"
   },
   {
    "duration": 10,
    "start_time": "2024-08-30T15:36:08.346Z"
   },
   {
    "duration": 40,
    "start_time": "2024-08-30T15:36:08.357Z"
   },
   {
    "duration": 3,
    "start_time": "2024-08-30T15:36:08.398Z"
   },
   {
    "duration": 30,
    "start_time": "2024-08-30T15:36:08.402Z"
   },
   {
    "duration": 26,
    "start_time": "2024-08-30T15:36:08.434Z"
   },
   {
    "duration": 10,
    "start_time": "2024-08-30T15:36:08.462Z"
   },
   {
    "duration": 8,
    "start_time": "2024-08-30T15:36:08.475Z"
   },
   {
    "duration": 47,
    "start_time": "2024-08-30T15:36:08.485Z"
   },
   {
    "duration": 10,
    "start_time": "2024-08-30T15:36:08.534Z"
   },
   {
    "duration": 26,
    "start_time": "2024-08-30T15:36:08.546Z"
   },
   {
    "duration": 11,
    "start_time": "2024-08-30T15:36:08.573Z"
   },
   {
    "duration": 24,
    "start_time": "2024-08-30T15:36:08.586Z"
   },
   {
    "duration": 17,
    "start_time": "2024-08-30T15:36:08.612Z"
   },
   {
    "duration": 4,
    "start_time": "2024-08-30T15:36:08.630Z"
   },
   {
    "duration": 30,
    "start_time": "2024-08-30T15:36:08.636Z"
   },
   {
    "duration": 10,
    "start_time": "2024-08-30T15:36:08.667Z"
   },
   {
    "duration": 14,
    "start_time": "2024-08-30T15:36:08.679Z"
   },
   {
    "duration": 17,
    "start_time": "2024-08-30T15:36:08.694Z"
   },
   {
    "duration": 11,
    "start_time": "2024-08-30T15:36:08.712Z"
   },
   {
    "duration": 49,
    "start_time": "2024-08-30T15:36:08.724Z"
   },
   {
    "duration": 47,
    "start_time": "2024-08-30T15:36:08.774Z"
   },
   {
    "duration": 2,
    "start_time": "2024-08-30T15:36:08.823Z"
   },
   {
    "duration": 69,
    "start_time": "2024-08-30T15:36:08.827Z"
   },
   {
    "duration": 49,
    "start_time": "2024-08-30T15:36:08.898Z"
   },
   {
    "duration": 64,
    "start_time": "2024-08-30T15:36:08.964Z"
   },
   {
    "duration": 53,
    "start_time": "2024-08-30T19:37:55.678Z"
   },
   {
    "duration": 605,
    "start_time": "2024-08-30T19:38:13.517Z"
   },
   {
    "duration": 23,
    "start_time": "2024-08-30T19:38:14.124Z"
   },
   {
    "duration": 18,
    "start_time": "2024-08-30T19:38:14.149Z"
   },
   {
    "duration": 11,
    "start_time": "2024-08-30T19:38:14.169Z"
   },
   {
    "duration": 67,
    "start_time": "2024-08-30T19:38:14.182Z"
   },
   {
    "duration": 4,
    "start_time": "2024-08-30T19:38:14.250Z"
   },
   {
    "duration": 15,
    "start_time": "2024-08-30T19:38:14.255Z"
   },
   {
    "duration": 4,
    "start_time": "2024-08-30T19:38:14.272Z"
   },
   {
    "duration": 7,
    "start_time": "2024-08-30T19:38:14.277Z"
   },
   {
    "duration": 5,
    "start_time": "2024-08-30T19:38:14.285Z"
   },
   {
    "duration": 59,
    "start_time": "2024-08-30T19:38:14.292Z"
   },
   {
    "duration": 11,
    "start_time": "2024-08-30T19:38:14.352Z"
   },
   {
    "duration": 18,
    "start_time": "2024-08-30T19:38:14.364Z"
   },
   {
    "duration": 16,
    "start_time": "2024-08-30T19:38:14.385Z"
   },
   {
    "duration": 19,
    "start_time": "2024-08-30T19:38:14.403Z"
   },
   {
    "duration": 25,
    "start_time": "2024-08-30T19:38:14.423Z"
   },
   {
    "duration": 4,
    "start_time": "2024-08-30T19:38:14.450Z"
   },
   {
    "duration": 14,
    "start_time": "2024-08-30T19:38:14.455Z"
   },
   {
    "duration": 5,
    "start_time": "2024-08-30T19:38:14.470Z"
   },
   {
    "duration": 3,
    "start_time": "2024-08-30T19:38:14.477Z"
   },
   {
    "duration": 12,
    "start_time": "2024-08-30T19:38:14.481Z"
   },
   {
    "duration": 5,
    "start_time": "2024-08-30T19:38:14.494Z"
   },
   {
    "duration": 95,
    "start_time": "2024-08-30T19:38:14.501Z"
   },
   {
    "duration": 0,
    "start_time": "2024-08-30T19:38:14.598Z"
   },
   {
    "duration": 0,
    "start_time": "2024-08-30T19:38:14.599Z"
   },
   {
    "duration": 0,
    "start_time": "2024-08-30T19:38:14.601Z"
   },
   {
    "duration": 0,
    "start_time": "2024-08-30T19:38:14.602Z"
   },
   {
    "duration": 0,
    "start_time": "2024-08-30T19:38:14.603Z"
   },
   {
    "duration": 0,
    "start_time": "2024-08-30T19:38:14.604Z"
   },
   {
    "duration": 22,
    "start_time": "2024-08-30T19:39:03.175Z"
   },
   {
    "duration": 40,
    "start_time": "2024-08-30T19:39:09.275Z"
   },
   {
    "duration": 21,
    "start_time": "2024-08-30T19:40:32.856Z"
   },
   {
    "duration": 21,
    "start_time": "2024-08-30T19:40:40.710Z"
   },
   {
    "duration": 6,
    "start_time": "2024-08-30T19:41:41.964Z"
   },
   {
    "duration": 20,
    "start_time": "2024-08-30T19:42:04.955Z"
   },
   {
    "duration": 22,
    "start_time": "2024-08-30T19:43:41.875Z"
   },
   {
    "duration": 19,
    "start_time": "2024-08-30T19:46:20.760Z"
   },
   {
    "duration": 12,
    "start_time": "2024-08-30T19:46:47.760Z"
   },
   {
    "duration": 43,
    "start_time": "2024-08-31T07:29:08.990Z"
   },
   {
    "duration": 90,
    "start_time": "2024-08-31T07:31:54.382Z"
   },
   {
    "duration": 74,
    "start_time": "2024-08-31T07:32:07.434Z"
   },
   {
    "duration": 25,
    "start_time": "2024-08-31T07:35:36.120Z"
   },
   {
    "duration": 9,
    "start_time": "2024-08-31T07:37:58.068Z"
   },
   {
    "duration": 13,
    "start_time": "2024-08-31T07:38:22.030Z"
   },
   {
    "duration": 16,
    "start_time": "2024-08-31T07:40:16.032Z"
   },
   {
    "duration": 34,
    "start_time": "2024-08-31T07:40:23.328Z"
   },
   {
    "duration": 9,
    "start_time": "2024-08-31T07:41:44.630Z"
   },
   {
    "duration": 52,
    "start_time": "2024-08-31T07:42:20.786Z"
   },
   {
    "duration": 67,
    "start_time": "2024-08-31T07:43:42.652Z"
   },
   {
    "duration": 18,
    "start_time": "2024-08-31T07:44:01.497Z"
   },
   {
    "duration": 19,
    "start_time": "2024-08-31T07:48:11.202Z"
   },
   {
    "duration": 18,
    "start_time": "2024-08-31T07:48:20.396Z"
   },
   {
    "duration": 20,
    "start_time": "2024-08-31T07:48:24.060Z"
   },
   {
    "duration": 61,
    "start_time": "2024-08-31T07:53:12.112Z"
   },
   {
    "duration": 20,
    "start_time": "2024-08-31T07:53:48.205Z"
   },
   {
    "duration": 21,
    "start_time": "2024-08-31T07:54:09.592Z"
   },
   {
    "duration": 52,
    "start_time": "2024-08-31T07:54:41.925Z"
   },
   {
    "duration": 24,
    "start_time": "2024-08-31T07:55:11.498Z"
   },
   {
    "duration": 24,
    "start_time": "2024-08-31T07:55:34.476Z"
   },
   {
    "duration": 24,
    "start_time": "2024-08-31T07:59:10.465Z"
   },
   {
    "duration": 20,
    "start_time": "2024-08-31T07:59:22.307Z"
   },
   {
    "duration": 21,
    "start_time": "2024-08-31T07:59:34.632Z"
   },
   {
    "duration": 23,
    "start_time": "2024-08-31T08:00:01.731Z"
   },
   {
    "duration": 21,
    "start_time": "2024-08-31T08:00:17.024Z"
   },
   {
    "duration": 59,
    "start_time": "2024-08-31T08:01:17.191Z"
   },
   {
    "duration": 23,
    "start_time": "2024-08-31T08:01:22.534Z"
   },
   {
    "duration": 962,
    "start_time": "2024-08-31T08:03:56.890Z"
   },
   {
    "duration": 22,
    "start_time": "2024-08-31T08:04:10.338Z"
   },
   {
    "duration": 20,
    "start_time": "2024-08-31T08:04:23.440Z"
   },
   {
    "duration": 22,
    "start_time": "2024-08-31T08:04:33.410Z"
   },
   {
    "duration": 22,
    "start_time": "2024-08-31T08:05:52.489Z"
   },
   {
    "duration": 21,
    "start_time": "2024-08-31T08:06:26.423Z"
   },
   {
    "duration": 27,
    "start_time": "2024-08-31T08:07:34.889Z"
   },
   {
    "duration": 271,
    "start_time": "2024-08-31T08:34:11.315Z"
   },
   {
    "duration": 260,
    "start_time": "2024-08-31T08:35:22.665Z"
   },
   {
    "duration": 21,
    "start_time": "2024-08-31T08:35:29.250Z"
   },
   {
    "duration": 257,
    "start_time": "2024-08-31T08:35:40.763Z"
   },
   {
    "duration": 22,
    "start_time": "2024-08-31T08:35:54.595Z"
   },
   {
    "duration": 57,
    "start_time": "2024-08-31T08:36:57.048Z"
   },
   {
    "duration": 22,
    "start_time": "2024-08-31T08:37:02.413Z"
   },
   {
    "duration": 20,
    "start_time": "2024-08-31T08:37:13.878Z"
   },
   {
    "duration": 18,
    "start_time": "2024-08-31T08:37:36.446Z"
   },
   {
    "duration": 18,
    "start_time": "2024-08-31T08:38:27.131Z"
   },
   {
    "duration": 258,
    "start_time": "2024-08-31T08:38:34.080Z"
   },
   {
    "duration": 20,
    "start_time": "2024-08-31T08:38:40.713Z"
   },
   {
    "duration": 21,
    "start_time": "2024-08-31T08:39:04.482Z"
   },
   {
    "duration": 268,
    "start_time": "2024-08-31T08:39:09.863Z"
   },
   {
    "duration": 22,
    "start_time": "2024-08-31T08:39:15.728Z"
   },
   {
    "duration": 22,
    "start_time": "2024-08-31T08:44:36.296Z"
   },
   {
    "duration": 23,
    "start_time": "2024-08-31T08:44:47.161Z"
   },
   {
    "duration": 22,
    "start_time": "2024-08-31T08:44:57.010Z"
   },
   {
    "duration": 23,
    "start_time": "2024-08-31T08:47:20.612Z"
   },
   {
    "duration": 65,
    "start_time": "2024-08-31T08:51:06.675Z"
   },
   {
    "duration": 1153,
    "start_time": "2024-08-31T08:51:18.541Z"
   },
   {
    "duration": 1082,
    "start_time": "2024-08-31T08:51:27.474Z"
   },
   {
    "duration": 146,
    "start_time": "2024-08-31T08:51:41.292Z"
   },
   {
    "duration": 21,
    "start_time": "2024-08-31T08:51:56.141Z"
   },
   {
    "duration": 91,
    "start_time": "2024-08-31T08:55:37.940Z"
   },
   {
    "duration": 52,
    "start_time": "2024-08-31T08:56:04.323Z"
   },
   {
    "duration": 24,
    "start_time": "2024-08-31T08:59:49.506Z"
   },
   {
    "duration": 23,
    "start_time": "2024-08-31T08:59:53.923Z"
   },
   {
    "duration": 1275,
    "start_time": "2024-08-31T09:01:23.390Z"
   },
   {
    "duration": 147,
    "start_time": "2024-08-31T09:02:42.425Z"
   },
   {
    "duration": 49,
    "start_time": "2024-08-31T09:03:32.322Z"
   },
   {
    "duration": 22,
    "start_time": "2024-08-31T09:04:50.607Z"
   },
   {
    "duration": 40,
    "start_time": "2024-08-31T09:05:12.855Z"
   },
   {
    "duration": 29,
    "start_time": "2024-08-31T09:05:58.004Z"
   },
   {
    "duration": 972,
    "start_time": "2024-08-31T09:07:11.570Z"
   },
   {
    "duration": 949,
    "start_time": "2024-08-31T09:07:27.171Z"
   },
   {
    "duration": 21,
    "start_time": "2024-08-31T09:07:39.971Z"
   },
   {
    "duration": 21,
    "start_time": "2024-08-31T09:08:15.456Z"
   },
   {
    "duration": 21,
    "start_time": "2024-08-31T09:12:48.384Z"
   },
   {
    "duration": 21,
    "start_time": "2024-08-31T09:13:48.121Z"
   },
   {
    "duration": 59,
    "start_time": "2024-08-31T09:18:24.234Z"
   },
   {
    "duration": 56,
    "start_time": "2024-08-31T09:18:28.270Z"
   },
   {
    "duration": 39,
    "start_time": "2024-08-31T09:18:35.967Z"
   },
   {
    "duration": 91,
    "start_time": "2024-08-31T09:18:45.333Z"
   },
   {
    "duration": 50,
    "start_time": "2024-08-31T09:19:40.521Z"
   },
   {
    "duration": 45,
    "start_time": "2024-08-31T09:19:46.150Z"
   },
   {
    "duration": 131,
    "start_time": "2024-08-31T09:20:07.531Z"
   },
   {
    "duration": 28,
    "start_time": "2024-08-31T09:20:12.765Z"
   },
   {
    "duration": 21,
    "start_time": "2024-08-31T09:20:23.608Z"
   },
   {
    "duration": 34,
    "start_time": "2024-08-31T09:20:30.148Z"
   },
   {
    "duration": 75,
    "start_time": "2024-08-31T09:20:38.234Z"
   },
   {
    "duration": 21,
    "start_time": "2024-08-31T09:22:43.782Z"
   },
   {
    "duration": 25,
    "start_time": "2024-08-31T09:22:49.232Z"
   },
   {
    "duration": 22,
    "start_time": "2024-08-31T09:23:29.699Z"
   },
   {
    "duration": 22,
    "start_time": "2024-08-31T09:23:51.580Z"
   },
   {
    "duration": 22,
    "start_time": "2024-08-31T09:26:09.515Z"
   },
   {
    "duration": 22,
    "start_time": "2024-08-31T09:26:31.264Z"
   },
   {
    "duration": 54,
    "start_time": "2024-08-31T09:26:44.096Z"
   },
   {
    "duration": 25,
    "start_time": "2024-08-31T09:26:58.265Z"
   },
   {
    "duration": 52,
    "start_time": "2024-08-31T09:27:45.252Z"
   },
   {
    "duration": 66,
    "start_time": "2024-08-31T09:27:54.580Z"
   },
   {
    "duration": 29,
    "start_time": "2024-08-31T09:28:04.447Z"
   },
   {
    "duration": 23,
    "start_time": "2024-08-31T09:33:11.714Z"
   },
   {
    "duration": 26,
    "start_time": "2024-08-31T09:33:22.650Z"
   },
   {
    "duration": 24,
    "start_time": "2024-08-31T09:35:00.401Z"
   },
   {
    "duration": 30,
    "start_time": "2024-08-31T09:35:12.161Z"
   },
   {
    "duration": 26,
    "start_time": "2024-08-31T09:35:21.759Z"
   },
   {
    "duration": 23,
    "start_time": "2024-08-31T09:35:30.895Z"
   },
   {
    "duration": 686,
    "start_time": "2024-08-31T09:35:44.746Z"
   },
   {
    "duration": 27,
    "start_time": "2024-08-31T09:35:56.963Z"
   },
   {
    "duration": 27,
    "start_time": "2024-08-31T09:37:19.866Z"
   },
   {
    "duration": 28,
    "start_time": "2024-08-31T09:44:29.658Z"
   },
   {
    "duration": 31,
    "start_time": "2024-08-31T09:58:30.937Z"
   },
   {
    "duration": 20,
    "start_time": "2024-08-31T09:58:44.007Z"
   },
   {
    "duration": 31,
    "start_time": "2024-08-31T09:58:59.472Z"
   },
   {
    "duration": 19,
    "start_time": "2024-08-31T09:59:14.642Z"
   },
   {
    "duration": 24,
    "start_time": "2024-08-31T09:59:28.947Z"
   },
   {
    "duration": 24,
    "start_time": "2024-08-31T09:59:40.155Z"
   },
   {
    "duration": 24,
    "start_time": "2024-08-31T10:00:00.242Z"
   },
   {
    "duration": 12,
    "start_time": "2024-08-31T10:04:51.592Z"
   },
   {
    "duration": 25,
    "start_time": "2024-08-31T10:05:00.840Z"
   },
   {
    "duration": 25,
    "start_time": "2024-08-31T10:05:13.467Z"
   },
   {
    "duration": 22,
    "start_time": "2024-08-31T10:05:36.250Z"
   },
   {
    "duration": 22,
    "start_time": "2024-08-31T10:08:28.400Z"
   },
   {
    "duration": 22,
    "start_time": "2024-08-31T10:08:33.655Z"
   },
   {
    "duration": 25,
    "start_time": "2024-08-31T10:12:44.683Z"
   },
   {
    "duration": 57,
    "start_time": "2024-08-31T10:14:06.670Z"
   },
   {
    "duration": 25,
    "start_time": "2024-08-31T10:14:16.130Z"
   },
   {
    "duration": 25,
    "start_time": "2024-08-31T10:15:28.065Z"
   },
   {
    "duration": 24,
    "start_time": "2024-08-31T10:15:41.896Z"
   },
   {
    "duration": 25,
    "start_time": "2024-08-31T10:15:53.280Z"
   },
   {
    "duration": 5,
    "start_time": "2024-08-31T10:26:32.719Z"
   },
   {
    "duration": 4,
    "start_time": "2024-08-31T10:26:37.192Z"
   },
   {
    "duration": 5,
    "start_time": "2024-08-31T10:26:51.543Z"
   },
   {
    "duration": 6,
    "start_time": "2024-08-31T10:27:17.910Z"
   },
   {
    "duration": 10,
    "start_time": "2024-08-31T10:28:34.715Z"
   },
   {
    "duration": 9,
    "start_time": "2024-08-31T10:28:41.793Z"
   },
   {
    "duration": 12,
    "start_time": "2024-08-31T10:29:03.977Z"
   },
   {
    "duration": 9,
    "start_time": "2024-08-31T10:33:57.943Z"
   },
   {
    "duration": 20,
    "start_time": "2024-08-31T10:34:06.142Z"
   },
   {
    "duration": 12,
    "start_time": "2024-08-31T10:34:14.361Z"
   },
   {
    "duration": 13,
    "start_time": "2024-08-31T10:34:23.840Z"
   },
   {
    "duration": 12,
    "start_time": "2024-08-31T10:35:41.609Z"
   },
   {
    "duration": 53,
    "start_time": "2024-08-31T10:36:38.458Z"
   },
   {
    "duration": 16,
    "start_time": "2024-08-31T10:36:54.035Z"
   },
   {
    "duration": 63,
    "start_time": "2024-08-31T10:37:09.706Z"
   },
   {
    "duration": 15,
    "start_time": "2024-08-31T10:37:21.473Z"
   },
   {
    "duration": 17,
    "start_time": "2024-08-31T10:37:34.208Z"
   },
   {
    "duration": 10,
    "start_time": "2024-08-31T10:39:15.957Z"
   },
   {
    "duration": 10,
    "start_time": "2024-08-31T10:39:26.219Z"
   },
   {
    "duration": 10,
    "start_time": "2024-08-31T10:39:50.776Z"
   },
   {
    "duration": 10,
    "start_time": "2024-08-31T10:40:05.356Z"
   },
   {
    "duration": 1304,
    "start_time": "2024-08-31T10:40:11.292Z"
   },
   {
    "duration": 472,
    "start_time": "2024-08-31T10:40:32.923Z"
   },
   {
    "duration": 10,
    "start_time": "2024-08-31T10:41:04.955Z"
   },
   {
    "duration": 8,
    "start_time": "2024-08-31T10:41:25.355Z"
   },
   {
    "duration": 8,
    "start_time": "2024-08-31T10:41:50.481Z"
   },
   {
    "duration": 8,
    "start_time": "2024-08-31T10:41:55.556Z"
   },
   {
    "duration": 11,
    "start_time": "2024-08-31T10:42:20.254Z"
   },
   {
    "duration": 8,
    "start_time": "2024-08-31T10:44:50.821Z"
   },
   {
    "duration": 7,
    "start_time": "2024-08-31T10:45:23.888Z"
   },
   {
    "duration": 7,
    "start_time": "2024-08-31T10:45:35.472Z"
   },
   {
    "duration": 8,
    "start_time": "2024-08-31T10:46:39.196Z"
   },
   {
    "duration": 13,
    "start_time": "2024-08-31T10:47:20.304Z"
   },
   {
    "duration": 14,
    "start_time": "2024-08-31T10:47:28.120Z"
   },
   {
    "duration": 9,
    "start_time": "2024-08-31T11:01:41.800Z"
   },
   {
    "duration": 75,
    "start_time": "2024-08-31T11:04:21.938Z"
   },
   {
    "duration": 11,
    "start_time": "2024-08-31T11:04:40.099Z"
   },
   {
    "duration": 12,
    "start_time": "2024-08-31T11:05:13.489Z"
   },
   {
    "duration": 27,
    "start_time": "2024-08-31T11:08:34.031Z"
   },
   {
    "duration": 23,
    "start_time": "2024-08-31T11:09:10.280Z"
   },
   {
    "duration": 18,
    "start_time": "2024-08-31T11:09:29.090Z"
   },
   {
    "duration": 17,
    "start_time": "2024-08-31T11:09:46.597Z"
   },
   {
    "duration": 17,
    "start_time": "2024-08-31T11:10:50.975Z"
   },
   {
    "duration": 17,
    "start_time": "2024-08-31T11:11:03.956Z"
   },
   {
    "duration": 16,
    "start_time": "2024-08-31T11:11:55.415Z"
   },
   {
    "duration": 18,
    "start_time": "2024-08-31T11:12:01.130Z"
   },
   {
    "duration": 17,
    "start_time": "2024-08-31T11:12:35.248Z"
   },
   {
    "duration": 25,
    "start_time": "2024-08-31T11:12:54.347Z"
   },
   {
    "duration": 16,
    "start_time": "2024-08-31T11:13:01.346Z"
   },
   {
    "duration": 5,
    "start_time": "2024-08-31T11:18:43.485Z"
   },
   {
    "duration": 44,
    "start_time": "2024-08-31T11:19:23.128Z"
   },
   {
    "duration": 49,
    "start_time": "2024-08-31T11:19:45.377Z"
   },
   {
    "duration": 17,
    "start_time": "2024-08-31T11:20:12.855Z"
   },
   {
    "duration": 4,
    "start_time": "2024-08-31T11:20:44.235Z"
   },
   {
    "duration": 23,
    "start_time": "2024-08-31T11:20:50.804Z"
   },
   {
    "duration": 4,
    "start_time": "2024-08-31T11:21:17.128Z"
   },
   {
    "duration": 23,
    "start_time": "2024-08-31T11:21:21.209Z"
   },
   {
    "duration": 24,
    "start_time": "2024-08-31T11:37:23.521Z"
   },
   {
    "duration": 23,
    "start_time": "2024-08-31T11:38:12.078Z"
   },
   {
    "duration": 26,
    "start_time": "2024-08-31T12:16:01.884Z"
   },
   {
    "duration": 968,
    "start_time": "2024-08-31T12:22:26.521Z"
   },
   {
    "duration": 4,
    "start_time": "2024-08-31T12:22:36.252Z"
   },
   {
    "duration": 5,
    "start_time": "2024-08-31T12:22:46.797Z"
   },
   {
    "duration": 4,
    "start_time": "2024-08-31T12:26:29.361Z"
   },
   {
    "duration": 11,
    "start_time": "2024-08-31T12:27:58.570Z"
   },
   {
    "duration": 28,
    "start_time": "2024-08-31T12:28:18.634Z"
   },
   {
    "duration": 23,
    "start_time": "2024-08-31T12:28:44.537Z"
   },
   {
    "duration": 64,
    "start_time": "2024-08-31T12:29:21.380Z"
   },
   {
    "duration": 47,
    "start_time": "2024-08-31T12:29:38.329Z"
   },
   {
    "duration": 52,
    "start_time": "2024-08-31T12:29:45.744Z"
   },
   {
    "duration": 4,
    "start_time": "2024-08-31T12:30:54.412Z"
   },
   {
    "duration": 9,
    "start_time": "2024-08-31T12:30:56.462Z"
   },
   {
    "duration": 22,
    "start_time": "2024-08-31T12:30:58.465Z"
   },
   {
    "duration": 5,
    "start_time": "2024-08-31T12:32:21.879Z"
   },
   {
    "duration": 3,
    "start_time": "2024-08-31T12:32:41.495Z"
   },
   {
    "duration": 5,
    "start_time": "2024-08-31T12:32:44.578Z"
   },
   {
    "duration": 15,
    "start_time": "2024-08-31T12:32:48.660Z"
   },
   {
    "duration": 23,
    "start_time": "2024-08-31T12:32:51.270Z"
   },
   {
    "duration": 5,
    "start_time": "2024-08-31T12:32:55.779Z"
   },
   {
    "duration": 3,
    "start_time": "2024-08-31T12:36:17.227Z"
   },
   {
    "duration": 8,
    "start_time": "2024-08-31T12:36:20.392Z"
   },
   {
    "duration": 23,
    "start_time": "2024-08-31T12:36:22.544Z"
   },
   {
    "duration": 5,
    "start_time": "2024-08-31T12:36:33.282Z"
   },
   {
    "duration": 28,
    "start_time": "2024-08-31T12:37:31.558Z"
   },
   {
    "duration": 62,
    "start_time": "2024-08-31T12:43:56.424Z"
   },
   {
    "duration": 31,
    "start_time": "2024-08-31T13:01:47.330Z"
   },
   {
    "duration": 3,
    "start_time": "2024-08-31T13:05:12.467Z"
   },
   {
    "duration": 27,
    "start_time": "2024-08-31T13:05:14.438Z"
   },
   {
    "duration": 4,
    "start_time": "2024-08-31T13:05:31.603Z"
   },
   {
    "duration": 28,
    "start_time": "2024-08-31T13:05:32.933Z"
   },
   {
    "duration": 2,
    "start_time": "2024-08-31T13:06:47.318Z"
   },
   {
    "duration": 27,
    "start_time": "2024-08-31T13:06:49.323Z"
   },
   {
    "duration": 19,
    "start_time": "2024-08-31T13:12:54.461Z"
   },
   {
    "duration": 31,
    "start_time": "2024-08-31T13:13:01.515Z"
   },
   {
    "duration": 543,
    "start_time": "2024-08-31T13:19:17.048Z"
   },
   {
    "duration": 23,
    "start_time": "2024-08-31T13:19:17.593Z"
   },
   {
    "duration": 29,
    "start_time": "2024-08-31T13:19:17.618Z"
   },
   {
    "duration": 11,
    "start_time": "2024-08-31T13:19:17.648Z"
   },
   {
    "duration": 42,
    "start_time": "2024-08-31T13:19:17.661Z"
   },
   {
    "duration": 3,
    "start_time": "2024-08-31T13:19:17.705Z"
   },
   {
    "duration": 21,
    "start_time": "2024-08-31T13:19:17.709Z"
   },
   {
    "duration": 15,
    "start_time": "2024-08-31T13:19:17.731Z"
   },
   {
    "duration": 14,
    "start_time": "2024-08-31T13:19:17.748Z"
   },
   {
    "duration": 11,
    "start_time": "2024-08-31T13:19:17.764Z"
   },
   {
    "duration": 36,
    "start_time": "2024-08-31T13:19:17.777Z"
   },
   {
    "duration": 11,
    "start_time": "2024-08-31T13:19:17.815Z"
   },
   {
    "duration": 36,
    "start_time": "2024-08-31T13:19:17.828Z"
   },
   {
    "duration": 17,
    "start_time": "2024-08-31T13:19:17.868Z"
   },
   {
    "duration": 31,
    "start_time": "2024-08-31T13:19:17.886Z"
   },
   {
    "duration": 33,
    "start_time": "2024-08-31T13:19:17.918Z"
   },
   {
    "duration": 5,
    "start_time": "2024-08-31T13:19:17.952Z"
   },
   {
    "duration": 14,
    "start_time": "2024-08-31T13:19:17.958Z"
   },
   {
    "duration": 19,
    "start_time": "2024-08-31T13:19:17.973Z"
   },
   {
    "duration": 4,
    "start_time": "2024-08-31T13:19:17.993Z"
   },
   {
    "duration": 35,
    "start_time": "2024-08-31T13:19:17.999Z"
   },
   {
    "duration": 17,
    "start_time": "2024-08-31T13:19:18.035Z"
   },
   {
    "duration": 9,
    "start_time": "2024-08-31T13:19:18.054Z"
   },
   {
    "duration": 41,
    "start_time": "2024-08-31T13:19:18.065Z"
   },
   {
    "duration": 27,
    "start_time": "2024-08-31T13:19:18.108Z"
   },
   {
    "duration": 4,
    "start_time": "2024-08-31T13:19:18.137Z"
   },
   {
    "duration": 36,
    "start_time": "2024-08-31T13:19:18.142Z"
   },
   {
    "duration": 2,
    "start_time": "2024-08-31T13:19:18.180Z"
   },
   {
    "duration": 22,
    "start_time": "2024-08-31T13:19:18.184Z"
   },
   {
    "duration": 39,
    "start_time": "2024-08-31T13:19:18.208Z"
   },
   {
    "duration": 33,
    "start_time": "2024-08-31T13:19:18.248Z"
   },
   {
    "duration": 740,
    "start_time": "2024-08-31T15:56:49.282Z"
   },
   {
    "duration": 23,
    "start_time": "2024-08-31T15:56:50.024Z"
   },
   {
    "duration": 36,
    "start_time": "2024-08-31T15:56:50.048Z"
   },
   {
    "duration": 13,
    "start_time": "2024-08-31T15:56:50.087Z"
   },
   {
    "duration": 38,
    "start_time": "2024-08-31T15:56:50.102Z"
   },
   {
    "duration": 4,
    "start_time": "2024-08-31T15:56:50.142Z"
   },
   {
    "duration": 9,
    "start_time": "2024-08-31T15:56:50.148Z"
   },
   {
    "duration": 5,
    "start_time": "2024-08-31T15:56:50.158Z"
   },
   {
    "duration": 38,
    "start_time": "2024-08-31T15:56:50.165Z"
   },
   {
    "duration": 4,
    "start_time": "2024-08-31T15:56:50.206Z"
   },
   {
    "duration": 48,
    "start_time": "2024-08-31T15:56:50.211Z"
   },
   {
    "duration": 11,
    "start_time": "2024-08-31T15:56:50.260Z"
   },
   {
    "duration": 7,
    "start_time": "2024-08-31T15:56:50.272Z"
   },
   {
    "duration": 25,
    "start_time": "2024-08-31T15:56:50.280Z"
   },
   {
    "duration": 20,
    "start_time": "2024-08-31T15:56:50.307Z"
   },
   {
    "duration": 17,
    "start_time": "2024-08-31T15:56:50.329Z"
   },
   {
    "duration": 4,
    "start_time": "2024-08-31T15:56:50.347Z"
   },
   {
    "duration": 23,
    "start_time": "2024-08-31T15:56:50.352Z"
   },
   {
    "duration": 5,
    "start_time": "2024-08-31T15:56:50.377Z"
   },
   {
    "duration": 3,
    "start_time": "2024-08-31T15:56:50.398Z"
   },
   {
    "duration": 13,
    "start_time": "2024-08-31T15:56:50.402Z"
   },
   {
    "duration": 5,
    "start_time": "2024-08-31T15:56:50.416Z"
   },
   {
    "duration": 10,
    "start_time": "2024-08-31T15:56:50.422Z"
   },
   {
    "duration": 27,
    "start_time": "2024-08-31T15:56:50.433Z"
   },
   {
    "duration": 42,
    "start_time": "2024-08-31T15:56:50.462Z"
   },
   {
    "duration": 3,
    "start_time": "2024-08-31T15:56:50.505Z"
   },
   {
    "duration": 31,
    "start_time": "2024-08-31T15:56:50.510Z"
   },
   {
    "duration": 3,
    "start_time": "2024-08-31T15:56:50.544Z"
   },
   {
    "duration": 33,
    "start_time": "2024-08-31T15:56:50.548Z"
   },
   {
    "duration": 36,
    "start_time": "2024-08-31T15:56:50.582Z"
   },
   {
    "duration": 33,
    "start_time": "2024-08-31T15:56:50.619Z"
   },
   {
    "duration": 16,
    "start_time": "2024-08-31T15:57:43.910Z"
   },
   {
    "duration": 22,
    "start_time": "2024-08-31T16:08:28.090Z"
   },
   {
    "duration": 5,
    "start_time": "2024-08-31T16:21:48.858Z"
   },
   {
    "duration": 27,
    "start_time": "2024-08-31T16:22:50.385Z"
   },
   {
    "duration": 57,
    "start_time": "2024-08-31T20:50:06.622Z"
   },
   {
    "duration": 34,
    "start_time": "2024-08-31T20:50:14.938Z"
   }
  ],
  "colab": {
   "name": "dpp_template_part2.ipynb",
   "provenance": []
  },
  "kernelspec": {
   "display_name": "practicum",
   "language": "python",
   "name": "python3"
  },
  "language_info": {
   "codemirror_mode": {
    "name": "ipython",
    "version": 3
   },
   "file_extension": ".py",
   "mimetype": "text/x-python",
   "name": "python",
   "nbconvert_exporter": "python",
   "pygments_lexer": "ipython3",
   "version": "3.11.9"
  },
  "toc": {
   "base_numbering": 1,
   "nav_menu": {},
   "number_sections": true,
   "sideBar": true,
   "skip_h1_title": true,
   "title_cell": "Table of Contents",
   "title_sidebar": "Contents",
   "toc_cell": false,
   "toc_position": {},
   "toc_section_display": true,
   "toc_window_display": true
  }
 },
 "nbformat": 4,
 "nbformat_minor": 5
}
