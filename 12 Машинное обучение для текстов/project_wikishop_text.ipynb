{
 "cells": [
  {
   "cell_type": "markdown",
   "metadata": {},
   "source": [
    "# Проект для «Викишоп» "
   ]
  },
  {
   "cell_type": "markdown",
   "metadata": {},
   "source": [
    "Интернет-магазин «Викишоп» запускает новый сервис. Теперь пользователи могут редактировать и дополнять описания товаров, как в вики-сообществах. То есть клиенты предлагают свои правки и комментируют изменения других. Магазину нужен инструмент, который будет искать токсичные комментарии и отправлять их на модерацию. \n",
    "\n",
    "Обучите модель классифицировать комментарии на позитивные и негативные. В вашем распоряжении набор данных с разметкой о токсичности правок.\n",
    "\n",
    "Постройте модель со значением метрики качества *F1* не меньше 0.75. \n",
    "\n",
    "**Инструкция по выполнению проекта**\n",
    "\n",
    "1. Загрузите и подготовьте данные.\n",
    "2. Обучите разные модели. \n",
    "3. Сделайте выводы.\n",
    "\n",
    "\n",
    "**Описание данных**\n",
    "\n",
    "Данные находятся в файле `toxic_comments.csv`. Столбец *text* в нём содержит текст комментария, а *toxic* — целевой признак."
   ]
  },
  {
   "cell_type": "markdown",
   "metadata": {},
   "source": [
    "<a id='content'></a>"
   ]
  },
  {
   "cell_type": "markdown",
   "metadata": {},
   "source": [
    "<div> \n",
    "\n",
    "**Содержание**:\n",
    "\n",
    "* <a href='#know_the_data'>Загрузка данных</a> </br>          \n",
    "* <a href='#data_preprocessing'>Предобработка данных</a> </br>     \n",
    "* <a href='#model_training'>Обучение модели</a> </br>                    \n",
    "* <a href='#testing'>Тестирование</a></br>                        \n",
    "* <a href='#conclusions'>Выводы</a></br>                          \n",
    "\n",
    "\n",
    "</div>"
   ]
  },
  {
   "cell_type": "markdown",
   "metadata": {},
   "source": [
    "## Загрузка данных"
   ]
  },
  {
   "cell_type": "markdown",
   "metadata": {},
   "source": [
    " <a id='know_the_data'></a>"
   ]
  },
  {
   "cell_type": "code",
   "execution_count": 1,
   "metadata": {},
   "outputs": [],
   "source": [
    "!pip install --upgrade scikit-learn==1.2.2 -q matplotlib==3.9.0 -q"
   ]
  },
  {
   "cell_type": "code",
   "execution_count": 2,
   "metadata": {},
   "outputs": [],
   "source": [
    "!pip install pandas==2.2.2 seaborn==0.13.2 numba==0.60.0 numpy==1.26.4  -q"
   ]
  },
  {
   "cell_type": "code",
   "execution_count": 3,
   "metadata": {},
   "outputs": [],
   "source": [
    "!pip install pymystem3 -q"
   ]
  },
  {
   "cell_type": "code",
   "execution_count": 4,
   "metadata": {},
   "outputs": [
    {
     "name": "stderr",
     "output_type": "stream",
     "text": [
      "[nltk_data] Downloading package wordnet to\n",
      "[nltk_data]     /Users/irinamistulova/nltk_data...\n",
      "[nltk_data]   Package wordnet is already up-to-date!\n",
      "[nltk_data] Downloading package punkt to\n",
      "[nltk_data]     /Users/irinamistulova/nltk_data...\n",
      "[nltk_data]   Package punkt is already up-to-date!\n"
     ]
    }
   ],
   "source": [
    "import re\n",
    "import warnings\n",
    "\n",
    "import nltk\n",
    "import numpy as np\n",
    "import pandas as pd\n",
    "import seaborn as sns\n",
    "import torch\n",
    "import transformers\n",
    "from sklearn.pipeline import Pipeline\n",
    "from sklearn.linear_model import LogisticRegression, SGDClassifier\n",
    "from sklearn.model_selection import RandomizedSearchCV, GridSearchCV\n",
    "from matplotlib import pyplot as plt\n",
    "from nltk.corpus import stopwords as nltk_stopwords\n",
    "from nltk.stem import WordNetLemmatizer\n",
    "from nltk.tokenize import word_tokenize\n",
    "from sklearn.feature_extraction.text import TfidfVectorizer\n",
    "from sklearn.model_selection import train_test_split, cross_val_score\n",
    "from sklearn.metrics import f1_score\n",
    "from tqdm import notebook, tqdm\n",
    "tqdm.pandas()\n",
    "\n",
    "\n",
    "# Загрузка ресурсов NLTK (один раз)\n",
    "nltk.download(\"wordnet\")\n",
    "nltk.download(\"punkt\")\n",
    "\n",
    "# Игнорирование предупреждений\n",
    "warnings.simplefilter(action=\"ignore\", category=FutureWarning)\n",
    "warnings.filterwarnings(\"ignore\")\n",
    "pd.set_option('display.max_colwidth', None)"
   ]
  },
  {
   "cell_type": "code",
   "execution_count": 5,
   "metadata": {},
   "outputs": [
    {
     "data": {
      "text/html": [
       "<div>\n",
       "<style scoped>\n",
       "    .dataframe tbody tr th:only-of-type {\n",
       "        vertical-align: middle;\n",
       "    }\n",
       "\n",
       "    .dataframe tbody tr th {\n",
       "        vertical-align: top;\n",
       "    }\n",
       "\n",
       "    .dataframe thead th {\n",
       "        text-align: right;\n",
       "    }\n",
       "</style>\n",
       "<table border=\"1\" class=\"dataframe\">\n",
       "  <thead>\n",
       "    <tr style=\"text-align: right;\">\n",
       "      <th></th>\n",
       "      <th>Unnamed: 0</th>\n",
       "      <th>text</th>\n",
       "      <th>toxic</th>\n",
       "    </tr>\n",
       "  </thead>\n",
       "  <tbody>\n",
       "    <tr>\n",
       "      <th>0</th>\n",
       "      <td>0</td>\n",
       "      <td>Explanation\\nWhy the edits made under my username Hardcore Metallica Fan were reverted? They weren't vandalisms, just closure on some GAs after I voted at New York Dolls FAC. And please don't remove the template from the talk page since I'm retired now.89.205.38.27</td>\n",
       "      <td>0</td>\n",
       "    </tr>\n",
       "    <tr>\n",
       "      <th>1</th>\n",
       "      <td>1</td>\n",
       "      <td>D'aww! He matches this background colour I'm seemingly stuck with. Thanks.  (talk) 21:51, January 11, 2016 (UTC)</td>\n",
       "      <td>0</td>\n",
       "    </tr>\n",
       "    <tr>\n",
       "      <th>2</th>\n",
       "      <td>2</td>\n",
       "      <td>Hey man, I'm really not trying to edit war. It's just that this guy is constantly removing relevant information and talking to me through edits instead of my talk page. He seems to care more about the formatting than the actual info.</td>\n",
       "      <td>0</td>\n",
       "    </tr>\n",
       "    <tr>\n",
       "      <th>3</th>\n",
       "      <td>3</td>\n",
       "      <td>\"\\nMore\\nI can't make any real suggestions on improvement - I wondered if the section statistics should be later on, or a subsection of \"\"types of accidents\"\"  -I think the references may need tidying so that they are all in the exact same format ie date format etc. I can do that later on, if no-one else does first - if you have any preferences for formatting style on references or want to do it yourself please let me know.\\n\\nThere appears to be a backlog on articles for review so I guess there may be a delay until a reviewer turns up. It's listed in the relevant form eg Wikipedia:Good_article_nominations#Transport  \"</td>\n",
       "      <td>0</td>\n",
       "    </tr>\n",
       "    <tr>\n",
       "      <th>4</th>\n",
       "      <td>4</td>\n",
       "      <td>You, sir, are my hero. Any chance you remember what page that's on?</td>\n",
       "      <td>0</td>\n",
       "    </tr>\n",
       "  </tbody>\n",
       "</table>\n",
       "</div>"
      ],
      "text/plain": [
       "   Unnamed: 0  \\\n",
       "0           0   \n",
       "1           1   \n",
       "2           2   \n",
       "3           3   \n",
       "4           4   \n",
       "\n",
       "                                                                                                                                                                                                                                                                                                                                                                                                                                                                                                                                                                                                                                                 text  \\\n",
       "0                                                                                                                                                                                                                                                                                                                                                                           Explanation\\nWhy the edits made under my username Hardcore Metallica Fan were reverted? They weren't vandalisms, just closure on some GAs after I voted at New York Dolls FAC. And please don't remove the template from the talk page since I'm retired now.89.205.38.27   \n",
       "1                                                                                                                                                                                                                                                                                                                                                                                                                                                                                                                                    D'aww! He matches this background colour I'm seemingly stuck with. Thanks.  (talk) 21:51, January 11, 2016 (UTC)   \n",
       "2                                                                                                                                                                                                                                                                                                                                                                                                           Hey man, I'm really not trying to edit war. It's just that this guy is constantly removing relevant information and talking to me through edits instead of my talk page. He seems to care more about the formatting than the actual info.   \n",
       "3  \"\\nMore\\nI can't make any real suggestions on improvement - I wondered if the section statistics should be later on, or a subsection of \"\"types of accidents\"\"  -I think the references may need tidying so that they are all in the exact same format ie date format etc. I can do that later on, if no-one else does first - if you have any preferences for formatting style on references or want to do it yourself please let me know.\\n\\nThere appears to be a backlog on articles for review so I guess there may be a delay until a reviewer turns up. It's listed in the relevant form eg Wikipedia:Good_article_nominations#Transport  \"   \n",
       "4                                                                                                                                                                                                                                                                                                                                                                                                                                                                                                                                                                                 You, sir, are my hero. Any chance you remember what page that's on?   \n",
       "\n",
       "   toxic  \n",
       "0      0  \n",
       "1      0  \n",
       "2      0  \n",
       "3      0  \n",
       "4      0  "
      ]
     },
     "execution_count": 5,
     "metadata": {},
     "output_type": "execute_result"
    }
   ],
   "source": [
    "try:\n",
    "        df = pd.read_csv('../assets/toxic_comments.csv') \n",
    "except:\n",
    "        df = pd.read_csv('/datasets/toxic_comments.csv') \n",
    "    \n",
    "pd.set_option(\"display.max_columns\", None)\n",
    "df.head()"
   ]
  },
  {
   "cell_type": "code",
   "execution_count": 6,
   "metadata": {},
   "outputs": [
    {
     "name": "stdout",
     "output_type": "stream",
     "text": [
      "<class 'pandas.core.frame.DataFrame'>\n",
      "RangeIndex: 159292 entries, 0 to 159291\n",
      "Data columns (total 3 columns):\n",
      " #   Column      Non-Null Count   Dtype \n",
      "---  ------      --------------   ----- \n",
      " 0   Unnamed: 0  159292 non-null  int64 \n",
      " 1   text        159292 non-null  object\n",
      " 2   toxic       159292 non-null  int64 \n",
      "dtypes: int64(2), object(1)\n",
      "memory usage: 3.6+ MB\n"
     ]
    }
   ],
   "source": [
    "df.info()"
   ]
  },
  {
   "cell_type": "code",
   "execution_count": 7,
   "metadata": {},
   "outputs": [
    {
     "data": {
      "text/html": [
       "<style type=\"text/css\">\n",
       "#T_be12c_row0_col0, #T_be12c_row1_col0, #T_be12c_row2_col0 {\n",
       "  background-color: #3b4cc0;\n",
       "  color: #f1f1f1;\n",
       "}\n",
       "</style>\n",
       "<table id=\"T_be12c\">\n",
       "  <thead>\n",
       "    <tr>\n",
       "      <th class=\"blank level0\" >&nbsp;</th>\n",
       "      <th id=\"T_be12c_level0_col0\" class=\"col_heading level0 col0\" >0</th>\n",
       "    </tr>\n",
       "  </thead>\n",
       "  <tbody>\n",
       "    <tr>\n",
       "      <th id=\"T_be12c_level0_row0\" class=\"row_heading level0 row0\" >Unnamed: 0</th>\n",
       "      <td id=\"T_be12c_row0_col0\" class=\"data row0 col0\" >0.000000</td>\n",
       "    </tr>\n",
       "    <tr>\n",
       "      <th id=\"T_be12c_level0_row1\" class=\"row_heading level0 row1\" >text</th>\n",
       "      <td id=\"T_be12c_row1_col0\" class=\"data row1 col0\" >0.000000</td>\n",
       "    </tr>\n",
       "    <tr>\n",
       "      <th id=\"T_be12c_level0_row2\" class=\"row_heading level0 row2\" >toxic</th>\n",
       "      <td id=\"T_be12c_row2_col0\" class=\"data row2 col0\" >0.000000</td>\n",
       "    </tr>\n",
       "  </tbody>\n",
       "</table>\n"
      ],
      "text/plain": [
       "<pandas.io.formats.style.Styler at 0x2810871d0>"
      ]
     },
     "metadata": {},
     "output_type": "display_data"
    }
   ],
   "source": [
    "display(pd.DataFrame(df.isna().mean()*100).round(2)\n",
    "            .style.background_gradient('coolwarm'))"
   ]
  },
  {
   "cell_type": "code",
   "execution_count": 8,
   "metadata": {},
   "outputs": [
    {
     "data": {
      "image/png": "[encoded data removed]",
      "text/plain": [
       "<Figure size 600x500 with 1 Axes>"
      ]
     },
     "metadata": {},
     "output_type": "display_data"
    }
   ],
   "source": [
    "fig, ax = plt.subplots(1, 1, figsize=(6,5))  # Use 'ax' instead of 'axes'\n",
    "sns.histplot(df, x='toxic', ax=ax)  # Use 'ax' here as well\n",
    "ax.set_title('Распределение по целевому признаку')\n",
    "ax.set_ylabel('Количество')\n",
    "ax.set_xlabel('Токсичность комментария (да - 1, нет - 0)')\n",
    "plt.show()"
   ]
  },
  {
   "cell_type": "code",
   "execution_count": null,
   "metadata": {},
   "outputs": [
    {
     "data": {
      "text/plain": [
       "array([     0,      1,      2, ..., 159448, 159449, 159450])"
      ]
     },
     "execution_count": 9,
     "metadata": {},
     "output_type": "execute_result"
    }
   ],
   "source": [
    "df['Unnamed: 0'].unique()"
   ]
  },
  {
   "cell_type": "code",
   "execution_count": 10,
   "metadata": {},
   "outputs": [
    {
     "data": {
      "text/html": [
       "<div>\n",
       "<style scoped>\n",
       "    .dataframe tbody tr th:only-of-type {\n",
       "        vertical-align: middle;\n",
       "    }\n",
       "\n",
       "    .dataframe tbody tr th {\n",
       "        vertical-align: top;\n",
       "    }\n",
       "\n",
       "    .dataframe thead th {\n",
       "        text-align: right;\n",
       "    }\n",
       "</style>\n",
       "<table border=\"1\" class=\"dataframe\">\n",
       "  <thead>\n",
       "    <tr style=\"text-align: right;\">\n",
       "      <th></th>\n",
       "      <th>text</th>\n",
       "      <th>toxic</th>\n",
       "    </tr>\n",
       "  </thead>\n",
       "  <tbody>\n",
       "    <tr>\n",
       "      <th>0</th>\n",
       "      <td>Explanation\\nWhy the edits made under my username Hardcore Metallica Fan were reverted? They weren't vandalisms, just closure on some GAs after I voted at New York Dolls FAC. And please don't remove the template from the talk page since I'm retired now.89.205.38.27</td>\n",
       "      <td>0</td>\n",
       "    </tr>\n",
       "    <tr>\n",
       "      <th>1</th>\n",
       "      <td>D'aww! He matches this background colour I'm seemingly stuck with. Thanks.  (talk) 21:51, January 11, 2016 (UTC)</td>\n",
       "      <td>0</td>\n",
       "    </tr>\n",
       "    <tr>\n",
       "      <th>2</th>\n",
       "      <td>Hey man, I'm really not trying to edit war. It's just that this guy is constantly removing relevant information and talking to me through edits instead of my talk page. He seems to care more about the formatting than the actual info.</td>\n",
       "      <td>0</td>\n",
       "    </tr>\n",
       "    <tr>\n",
       "      <th>3</th>\n",
       "      <td>\"\\nMore\\nI can't make any real suggestions on improvement - I wondered if the section statistics should be later on, or a subsection of \"\"types of accidents\"\"  -I think the references may need tidying so that they are all in the exact same format ie date format etc. I can do that later on, if no-one else does first - if you have any preferences for formatting style on references or want to do it yourself please let me know.\\n\\nThere appears to be a backlog on articles for review so I guess there may be a delay until a reviewer turns up. It's listed in the relevant form eg Wikipedia:Good_article_nominations#Transport  \"</td>\n",
       "      <td>0</td>\n",
       "    </tr>\n",
       "    <tr>\n",
       "      <th>4</th>\n",
       "      <td>You, sir, are my hero. Any chance you remember what page that's on?</td>\n",
       "      <td>0</td>\n",
       "    </tr>\n",
       "  </tbody>\n",
       "</table>\n",
       "</div>"
      ],
      "text/plain": [
       "                                                                                                                                                                                                                                                                                                                                                                                                                                                                                                                                                                                                                                                 text  \\\n",
       "0                                                                                                                                                                                                                                                                                                                                                                           Explanation\\nWhy the edits made under my username Hardcore Metallica Fan were reverted? They weren't vandalisms, just closure on some GAs after I voted at New York Dolls FAC. And please don't remove the template from the talk page since I'm retired now.89.205.38.27   \n",
       "1                                                                                                                                                                                                                                                                                                                                                                                                                                                                                                                                    D'aww! He matches this background colour I'm seemingly stuck with. Thanks.  (talk) 21:51, January 11, 2016 (UTC)   \n",
       "2                                                                                                                                                                                                                                                                                                                                                                                                           Hey man, I'm really not trying to edit war. It's just that this guy is constantly removing relevant information and talking to me through edits instead of my talk page. He seems to care more about the formatting than the actual info.   \n",
       "3  \"\\nMore\\nI can't make any real suggestions on improvement - I wondered if the section statistics should be later on, or a subsection of \"\"types of accidents\"\"  -I think the references may need tidying so that they are all in the exact same format ie date format etc. I can do that later on, if no-one else does first - if you have any preferences for formatting style on references or want to do it yourself please let me know.\\n\\nThere appears to be a backlog on articles for review so I guess there may be a delay until a reviewer turns up. It's listed in the relevant form eg Wikipedia:Good_article_nominations#Transport  \"   \n",
       "4                                                                                                                                                                                                                                                                                                                                                                                                                                                                                                                                                                                 You, sir, are my hero. Any chance you remember what page that's on?   \n",
       "\n",
       "   toxic  \n",
       "0      0  \n",
       "1      0  \n",
       "2      0  \n",
       "3      0  \n",
       "4      0  "
      ]
     },
     "execution_count": 10,
     "metadata": {},
     "output_type": "execute_result"
    }
   ],
   "source": [
    "df=df.drop(columns= ['Unnamed: 0'])\n",
    "df.head()"
   ]
  },
  {
   "cell_type": "markdown",
   "metadata": {},
   "source": [
    "**Выводы**\n",
    "\n",
    "- Пропуски отсутсвуют\n",
    "- Столбец дублирующий интексы удален\n",
    "- Текс на английском языке, будет использован словарь стоп слов на английском\n",
    "- Целевой признак имеет дисбаланс классов. Поэтому целесообразнее для оценки модели использовать метрику F1-мера: среднее гармоническое между precision и recall. Также для устранения дибаланса будет использован Undersampling (уменьшение выборки), т.к. будет использоваться кросс-валидация и оверсемплинг не подойдет."
   ]
  },
  {
   "cell_type": "markdown",
   "metadata": {},
   "source": [
    "<a href='#content'>Вернуться к оглавлению</a> "
   ]
  },
  {
   "cell_type": "markdown",
   "metadata": {},
   "source": [
    "## Подготовка данных"
   ]
  },
  {
   "cell_type": "markdown",
   "metadata": {},
   "source": [
    "<a id='data_preprocessing'></a> "
   ]
  },
  {
   "cell_type": "markdown",
   "metadata": {},
   "source": [
    "- Лемматизируем твиты из колонки text, \n",
    "- удалим из предложений стоп слова, которые не несут важной информации для прогнозирования. \n",
    "- удалим знаки припинания и приведем все к нижнему регистру, для того, чтобы уменьшить объем матрицы, при переводе текста в векторный вид."
   ]
  },
  {
   "cell_type": "code",
   "execution_count": 11,
   "metadata": {},
   "outputs": [
    {
     "data": {
      "text/plain": [
       "\"You, sir, are my hero. Any chance you remember what page that's on?\""
      ]
     },
     "execution_count": 11,
     "metadata": {},
     "output_type": "execute_result"
    }
   ],
   "source": [
    "test = df['text'][4]\n",
    "test"
   ]
  },
  {
   "cell_type": "code",
   "execution_count": 12,
   "metadata": {},
   "outputs": [
    {
     "data": {
      "text/plain": [
       "'you  sir  are my hero  any chance you remember what page that s on '"
      ]
     },
     "execution_count": 12,
     "metadata": {},
     "output_type": "execute_result"
    }
   ],
   "source": [
    "test_re = re.sub(r'[^a-zA-Z\\s]+', ' ', test.lower())\n",
    "test_re"
   ]
  },
  {
   "cell_type": "code",
   "execution_count": 13,
   "metadata": {},
   "outputs": [
    {
     "data": {
      "text/plain": [
       "[('you', 'PRP'),\n",
       " ('sir', 'VBP'),\n",
       " ('are', 'VBP'),\n",
       " ('my', 'PRP$'),\n",
       " ('hero', 'NN'),\n",
       " ('any', 'DT'),\n",
       " ('chance', 'NN'),\n",
       " ('you', 'PRP'),\n",
       " ('remember', 'VBP'),\n",
       " ('what', 'WP'),\n",
       " ('page', 'NN'),\n",
       " ('that', 'WDT'),\n",
       " ('s', 'VBZ'),\n",
       " ('on', 'IN')]"
      ]
     },
     "execution_count": 13,
     "metadata": {},
     "output_type": "execute_result"
    }
   ],
   "source": [
    "test_tags = nltk.pos_tag(test_re.split())\n",
    "test_tags"
   ]
  },
  {
   "cell_type": "code",
   "execution_count": 14,
   "metadata": {},
   "outputs": [],
   "source": [
    "nltk.download('wordnet', quiet=True)  \n",
    "nltk.download('stopwords', quiet=True)  \n",
    "nltk.download('averaged_perceptron_tagger', quiet=True) \n",
    "\n",
    "lemmatizer = WordNetLemmatizer()\n",
    "stop_words = set(nltk_stopwords.words('english'))\n",
    "\n",
    "def lemmatize_and_remove_stopwords(text):\n",
    "   \n",
    "    text = re.sub(r'[^a-zA-Z\\s]+', ' ', text.lower())\n",
    "    words_with_tags = nltk.pos_tag(text.split())  # POS tags\n",
    "    lemmatized_words = []\n",
    "\n",
    "    for word, tag in words_with_tags:\n",
    "        if word not in stop_words:\n",
    "            if tag.startswith('J'):\n",
    "                pos = 'a'  # Adjective\n",
    "            elif tag.startswith('V'):\n",
    "                pos = 'v'  # Verb\n",
    "            elif tag.startswith('N'):\n",
    "                pos = 'n'  # Noun\n",
    "            elif tag.startswith('R'):\n",
    "                pos = 'r'  # Adverb\n",
    "            else:\n",
    "                pos = None  # Use default WordNet lemmatization (noun)\n",
    "\n",
    "            lemma = lemmatizer.lemmatize(word, pos=pos) if pos else lemmatizer.lemmatize(word)\n",
    "            lemmatized_words.append(lemma)\n",
    "\n",
    "    return \" \".join(lemmatized_words)"
   ]
  },
  {
   "cell_type": "code",
   "execution_count": 15,
   "metadata": {},
   "outputs": [
    {
     "name": "stderr",
     "output_type": "stream",
     "text": [
      "100%|██████████| 159292/159292 [04:24<00:00, 603.28it/s]\n"
     ]
    },
    {
     "data": {
      "text/html": [
       "<div>\n",
       "<style scoped>\n",
       "    .dataframe tbody tr th:only-of-type {\n",
       "        vertical-align: middle;\n",
       "    }\n",
       "\n",
       "    .dataframe tbody tr th {\n",
       "        vertical-align: top;\n",
       "    }\n",
       "\n",
       "    .dataframe thead th {\n",
       "        text-align: right;\n",
       "    }\n",
       "</style>\n",
       "<table border=\"1\" class=\"dataframe\">\n",
       "  <thead>\n",
       "    <tr style=\"text-align: right;\">\n",
       "      <th></th>\n",
       "      <th>text</th>\n",
       "      <th>toxic</th>\n",
       "      <th>lemmatized_text</th>\n",
       "    </tr>\n",
       "  </thead>\n",
       "  <tbody>\n",
       "    <tr>\n",
       "      <th>0</th>\n",
       "      <td>Explanation\\nWhy the edits made under my username Hardcore Metallica Fan were reverted? They weren't vandalisms, just closure on some GAs after I voted at New York Dolls FAC. And please don't remove the template from the talk page since I'm retired now.89.205.38.27</td>\n",
       "      <td>0</td>\n",
       "      <td>explanation edits make username hardcore metallica fan revert vandalism closure gas vote new york doll fac please remove template talk page since retire</td>\n",
       "    </tr>\n",
       "    <tr>\n",
       "      <th>1</th>\n",
       "      <td>D'aww! He matches this background colour I'm seemingly stuck with. Thanks.  (talk) 21:51, January 11, 2016 (UTC)</td>\n",
       "      <td>0</td>\n",
       "      <td>aww match background colour seemingly stick thanks talk january utc</td>\n",
       "    </tr>\n",
       "    <tr>\n",
       "      <th>2</th>\n",
       "      <td>Hey man, I'm really not trying to edit war. It's just that this guy is constantly removing relevant information and talking to me through edits instead of my talk page. He seems to care more about the formatting than the actual info.</td>\n",
       "      <td>0</td>\n",
       "      <td>hey man really try edit war guy constantly remove relevant information talk edits instead talk page seem care formatting actual info</td>\n",
       "    </tr>\n",
       "    <tr>\n",
       "      <th>3</th>\n",
       "      <td>\"\\nMore\\nI can't make any real suggestions on improvement - I wondered if the section statistics should be later on, or a subsection of \"\"types of accidents\"\"  -I think the references may need tidying so that they are all in the exact same format ie date format etc. I can do that later on, if no-one else does first - if you have any preferences for formatting style on references or want to do it yourself please let me know.\\n\\nThere appears to be a backlog on articles for review so I guess there may be a delay until a reviewer turns up. It's listed in the relevant form eg Wikipedia:Good_article_nominations#Transport  \"</td>\n",
       "      <td>0</td>\n",
       "      <td>make real suggestion improvement wonder section statistic later subsection type accident think reference may need tidy exact format ie date format etc later one else first preference format style reference want please let know appear backlog article review guess may delay reviewer turn list relevant form eg wikipedia good article nomination transport</td>\n",
       "    </tr>\n",
       "    <tr>\n",
       "      <th>4</th>\n",
       "      <td>You, sir, are my hero. Any chance you remember what page that's on?</td>\n",
       "      <td>0</td>\n",
       "      <td>sir hero chance remember page</td>\n",
       "    </tr>\n",
       "    <tr>\n",
       "      <th>5</th>\n",
       "      <td>\"\\n\\nCongratulations from me as well, use the tools well.  · talk \"</td>\n",
       "      <td>0</td>\n",
       "      <td>congratulation well use tool well talk</td>\n",
       "    </tr>\n",
       "    <tr>\n",
       "      <th>6</th>\n",
       "      <td>COCKSUCKER BEFORE YOU PISS AROUND ON MY WORK</td>\n",
       "      <td>1</td>\n",
       "      <td>cocksucker piss around work</td>\n",
       "    </tr>\n",
       "    <tr>\n",
       "      <th>7</th>\n",
       "      <td>Your vandalism to the Matt Shirvington article has been reverted.  Please don't do it again, or you will be banned.</td>\n",
       "      <td>0</td>\n",
       "      <td>vandalism matt shirvington article revert please ban</td>\n",
       "    </tr>\n",
       "    <tr>\n",
       "      <th>8</th>\n",
       "      <td>Sorry if the word 'nonsense' was offensive to you. Anyway, I'm not intending to write anything in the article(wow they would jump on me for vandalism), I'm merely requesting that it be more encyclopedic so one can use it for school as a reference. I have been to the selective breeding page but it's almost a stub. It points to 'animal breeding' which is a short messy article that gives you no info. There must be someone around with expertise in eugenics? 93.161.107.169</td>\n",
       "      <td>0</td>\n",
       "      <td>sorry word nonsense offensive anyway intend write anything article wow would jump vandalism merely request encyclopedic one use school reference selective breeding page almost stub point animal breeding short messy article give info must someone around expertise eugenics</td>\n",
       "    </tr>\n",
       "    <tr>\n",
       "      <th>9</th>\n",
       "      <td>alignment on this subject and which are contrary to those of DuLithgow</td>\n",
       "      <td>0</td>\n",
       "      <td>alignment subject contrary dulithgow</td>\n",
       "    </tr>\n",
       "  </tbody>\n",
       "</table>\n",
       "</div>"
      ],
      "text/plain": [
       "                                                                                                                                                                                                                                                                                                                                                                                                                                                                                                                                                                                                                                                 text  \\\n",
       "0                                                                                                                                                                                                                                                                                                                                                                           Explanation\\nWhy the edits made under my username Hardcore Metallica Fan were reverted? They weren't vandalisms, just closure on some GAs after I voted at New York Dolls FAC. And please don't remove the template from the talk page since I'm retired now.89.205.38.27   \n",
       "1                                                                                                                                                                                                                                                                                                                                                                                                                                                                                                                                    D'aww! He matches this background colour I'm seemingly stuck with. Thanks.  (talk) 21:51, January 11, 2016 (UTC)   \n",
       "2                                                                                                                                                                                                                                                                                                                                                                                                           Hey man, I'm really not trying to edit war. It's just that this guy is constantly removing relevant information and talking to me through edits instead of my talk page. He seems to care more about the formatting than the actual info.   \n",
       "3  \"\\nMore\\nI can't make any real suggestions on improvement - I wondered if the section statistics should be later on, or a subsection of \"\"types of accidents\"\"  -I think the references may need tidying so that they are all in the exact same format ie date format etc. I can do that later on, if no-one else does first - if you have any preferences for formatting style on references or want to do it yourself please let me know.\\n\\nThere appears to be a backlog on articles for review so I guess there may be a delay until a reviewer turns up. It's listed in the relevant form eg Wikipedia:Good_article_nominations#Transport  \"   \n",
       "4                                                                                                                                                                                                                                                                                                                                                                                                                                                                                                                                                                                 You, sir, are my hero. Any chance you remember what page that's on?   \n",
       "5                                                                                                                                                                                                                                                                                                                                                                                                                                                                                                                                                                                 \"\\n\\nCongratulations from me as well, use the tools well.  · talk \"   \n",
       "6                                                                                                                                                                                                                                                                                                                                                                                                                                                                                                                                                                                                        COCKSUCKER BEFORE YOU PISS AROUND ON MY WORK   \n",
       "7                                                                                                                                                                                                                                                                                                                                                                                                                                                                                                                                 Your vandalism to the Matt Shirvington article has been reverted.  Please don't do it again, or you will be banned.   \n",
       "8                                                                                                                                                            Sorry if the word 'nonsense' was offensive to you. Anyway, I'm not intending to write anything in the article(wow they would jump on me for vandalism), I'm merely requesting that it be more encyclopedic so one can use it for school as a reference. I have been to the selective breeding page but it's almost a stub. It points to 'animal breeding' which is a short messy article that gives you no info. There must be someone around with expertise in eugenics? 93.161.107.169   \n",
       "9                                                                                                                                                                                                                                                                                                                                                                                                                                                                                                                                                                              alignment on this subject and which are contrary to those of DuLithgow   \n",
       "\n",
       "   toxic  \\\n",
       "0      0   \n",
       "1      0   \n",
       "2      0   \n",
       "3      0   \n",
       "4      0   \n",
       "5      0   \n",
       "6      1   \n",
       "7      0   \n",
       "8      0   \n",
       "9      0   \n",
       "\n",
       "                                                                                                                                                                                                                                                                                                                                                    lemmatized_text  \n",
       "0                                                                                                                                                                                                          explanation edits make username hardcore metallica fan revert vandalism closure gas vote new york doll fac please remove template talk page since retire  \n",
       "1                                                                                                                                                                                                                                                                                               aww match background colour seemingly stick thanks talk january utc  \n",
       "2                                                                                                                                                                                                                              hey man really try edit war guy constantly remove relevant information talk edits instead talk page seem care formatting actual info  \n",
       "3  make real suggestion improvement wonder section statistic later subsection type accident think reference may need tidy exact format ie date format etc later one else first preference format style reference want please let know appear backlog article review guess may delay reviewer turn list relevant form eg wikipedia good article nomination transport  \n",
       "4                                                                                                                                                                                                                                                                                                                                     sir hero chance remember page  \n",
       "5                                                                                                                                                                                                                                                                                                                            congratulation well use tool well talk  \n",
       "6                                                                                                                                                                                                                                                                                                                                       cocksucker piss around work  \n",
       "7                                                                                                                                                                                                                                                                                                              vandalism matt shirvington article revert please ban  \n",
       "8                                                                                   sorry word nonsense offensive anyway intend write anything article wow would jump vandalism merely request encyclopedic one use school reference selective breeding page almost stub point animal breeding short messy article give info must someone around expertise eugenics  \n",
       "9                                                                                                                                                                                                                                                                                                                              alignment subject contrary dulithgow  "
      ]
     },
     "execution_count": 15,
     "metadata": {},
     "output_type": "execute_result"
    }
   ],
   "source": [
    "tqdm.pandas()\n",
    "df['lemmatized_text'] = df['text'].progress_apply(lemmatize_and_remove_stopwords)\n",
    "df.head(10)"
   ]
  },
  {
   "cell_type": "markdown",
   "metadata": {},
   "source": [
    "Проверим тексты на наличие дубликатов"
   ]
  },
  {
   "cell_type": "code",
   "execution_count": 16,
   "metadata": {},
   "outputs": [
    {
     "name": "stdout",
     "output_type": "stream",
     "text": [
      "Размер до удаления дубликатов: (159292, 3)\n",
      "Размер после удаления дубликатов: (157364, 3)\n"
     ]
    }
   ],
   "source": [
    "print('Размер до удаления дубликатов:', df.shape)\n",
    "df = df.drop_duplicates(keep = 'first', subset='lemmatized_text')\n",
    "print('Размер после удаления дубликатов:', df.shape)"
   ]
  },
  {
   "cell_type": "code",
   "execution_count": 17,
   "metadata": {},
   "outputs": [],
   "source": [
    "df = df.reset_index(drop=True)"
   ]
  },
  {
   "cell_type": "code",
   "execution_count": 18,
   "metadata": {},
   "outputs": [
    {
     "name": "stdout",
     "output_type": "stream",
     "text": [
      "<class 'pandas.core.frame.DataFrame'>\n",
      "RangeIndex: 157364 entries, 0 to 157363\n",
      "Data columns (total 3 columns):\n",
      " #   Column           Non-Null Count   Dtype \n",
      "---  ------           --------------   ----- \n",
      " 0   text             157364 non-null  object\n",
      " 1   toxic            157364 non-null  int64 \n",
      " 2   lemmatized_text  157364 non-null  object\n",
      "dtypes: int64(1), object(2)\n",
      "memory usage: 3.6+ MB\n"
     ]
    }
   ],
   "source": [
    "df.info()"
   ]
  },
  {
   "cell_type": "markdown",
   "metadata": {},
   "source": [
    "Текст необходимо представить в векторном виде. Для этого будем использовать \n",
    "TF-IDF (учет контектса частичный, за счет учета редкости слова, различает важность слов, требования в вычислительной мощности выше, чем у мешка слов, но ниже чем у BERT)"
   ]
  },
  {
   "cell_type": "markdown",
   "metadata": {},
   "source": [
    "**Выводы**\n",
    "\n",
    "- Тексты лемматизированы\n",
    "- Удалены стоп-слова\n",
    "- Удалены дубликаты"
   ]
  },
  {
   "cell_type": "markdown",
   "metadata": {},
   "source": [
    "<a href='#content'>Вернуться к оглавлению</a> "
   ]
  },
  {
   "cell_type": "markdown",
   "metadata": {},
   "source": [
    "## Обучение"
   ]
  },
  {
   "cell_type": "markdown",
   "metadata": {},
   "source": [
    "<a id='model_training'></a> "
   ]
  },
  {
   "cell_type": "markdown",
   "metadata": {},
   "source": [
    "Мы решаем задачу классификации с учителем. Будем обучать модель логистической регрессии на двух подготовленных входных признаках. В качестве оценки будем использовать F1-меру - это  гармоническое среднее между precision и recall. F1-мера стремится к максимуму, когда precision и recall сбалансированы."
   ]
  },
  {
   "cell_type": "code",
   "execution_count": 19,
   "metadata": {},
   "outputs": [],
   "source": [
    "X = df['lemmatized_text']\n",
    "y= df['toxic']"
   ]
  },
  {
   "cell_type": "code",
   "execution_count": 20,
   "metadata": {},
   "outputs": [],
   "source": [
    "X_train, X_test, y_train, y_test = train_test_split(X, \n",
    "                                    y, \n",
    "                                    test_size=0.25, \n",
    "                                    random_state=42)\n",
    "corpus = list(X_train)"
   ]
  },
  {
   "cell_type": "code",
   "execution_count": 21,
   "metadata": {},
   "outputs": [
    {
     "name": "stdout",
     "output_type": "stream",
     "text": [
      "Размер матрицы X_train: (118023, 132000)\n",
      "Размер матрицы X_test: (39341, 132000)\n"
     ]
    }
   ],
   "source": [
    "tf_idf_vector =TfidfVectorizer() \n",
    "X_train = tf_idf_vector.fit_transform(corpus)\n",
    "X_test = tf_idf_vector.transform(X_test)\n",
    "\n",
    "print(\"Размер матрицы X_train:\", X_train.shape)\n",
    "print(\"Размер матрицы X_test:\", X_test.shape)"
   ]
  },
  {
   "cell_type": "code",
   "execution_count": 22,
   "metadata": {},
   "outputs": [
    {
     "data": {
      "text/plain": [
       "array(['carinatus', 'caring', 'carington', 'carioca', 'carion',\n",
       "       'carisbrook', 'caristii', 'carit', 'carjacker', 'carl', 'carla',\n",
       "       'carlaude', 'carle', 'carlebach', 'carles', 'carleton',\n",
       "       'carletons', 'carlie', 'carlile', 'carlin', 'carling',\n",
       "       'carlingford', 'carlinhos', 'carlisle', 'carlito', 'carlmarche',\n",
       "       'carlo', 'carload', 'carlos', 'carlossuarez', 'carlotta',\n",
       "       'carlsbad', 'carlsberg', 'carlsen', 'carlson', 'carlsruhe',\n",
       "       'carlsson', 'carlton', 'carly', 'carlyn', 'carma', 'carmack',\n",
       "       'carmaker', 'carman', 'carmarthen', 'carmarthenshire',\n",
       "       'carmegenon', 'carmel', 'carmelite', 'carmen'], dtype=object)"
      ]
     },
     "execution_count": 22,
     "metadata": {},
     "output_type": "execute_result"
    }
   ],
   "source": [
    "feature_names = tf_idf_vector.get_feature_names_out()\n",
    "feature_names[18000:18050]"
   ]
  },
  {
   "cell_type": "code",
   "execution_count": 23,
   "metadata": {},
   "outputs": [
    {
     "data": {
      "text/plain": [
       "array([0.28586946, 0.29821648, 0.19951923, ..., 0.08646987, 0.10543201,\n",
       "       0.09145243])"
      ]
     },
     "execution_count": 23,
     "metadata": {},
     "output_type": "execute_result"
    }
   ],
   "source": [
    "X_train.data"
   ]
  },
  {
   "cell_type": "markdown",
   "metadata": {},
   "source": [
    "Нормализация не требуется"
   ]
  },
  {
   "cell_type": "code",
   "execution_count": 24,
   "metadata": {},
   "outputs": [],
   "source": [
    "\n",
    "# Пайплайн с выбором модели через GridSearch\n",
    "pipeline = Pipeline([\n",
    "    ('classifier', LogisticRegression())  # Плейсхолдер для модели\n",
    "])\n",
    "\n",
    "# Параметры для RandomizedSearch\n",
    "parameters = [\n",
    "    {  # Для LogisticRegression\n",
    "        'classifier': [LogisticRegression(random_state=42, max_iter=5000)],\n",
    "        'classifier__C': [0.1, 1, 10],\n",
    "        'classifier__penalty': ['l1', 'l2']\n",
    "    },\n",
    "     {  # Для SGDClassifier\n",
    "        'classifier': [SGDClassifier(class_weight='balanced', \n",
    "                                     max_iter=5000, \n",
    "                                     random_state=42)],\n",
    "        'classifier__loss': ['hinge'],\n",
    "        'classifier__penalty': ['l1', 'l2'],\n",
    "        'classifier__alpha': [0.0001, 0.001, 0.01],\n",
    "        'classifier__learning_rate': ['constant', 'optimal'],\n",
    "        'classifier__eta0': [0.001, 0.01]\n",
    "    }\n",
    "\n",
    "]\n",
    "\n",
    "# Настройка RandomizedSearch\n",
    "rs = RandomizedSearchCV(\n",
    "    pipeline,\n",
    "    parameters,\n",
    "    n_iter=20,\n",
    "    cv=5,\n",
    "    scoring='f1',\n",
    "    n_jobs=-1,\n",
    "    verbose=2,\n",
    "    random_state=42\n",
    ")"
   ]
  },
  {
   "cell_type": "code",
   "execution_count": 25,
   "metadata": {},
   "outputs": [
    {
     "name": "stdout",
     "output_type": "stream",
     "text": [
      "Fitting 5 folds for each of 20 candidates, totalling 100 fits\n",
      "[CV] END classifier=SGDClassifier(class_weight='balanced', max_iter=5000, random_state=42), classifier__alpha=0.01, classifier__eta0=0.01, classifier__learning_rate=constant, classifier__loss=hinge, classifier__penalty=l2; total time=   0.8s\n",
      "[CV] END classifier=SGDClassifier(class_weight='balanced', max_iter=5000, random_state=42), classifier__alpha=0.01, classifier__eta0=0.01, classifier__learning_rate=constant, classifier__loss=hinge, classifier__penalty=l2; total time=   0.9s\n",
      "[CV] END classifier=SGDClassifier(class_weight='balanced', max_iter=5000, random_state=42), classifier__alpha=0.01, classifier__eta0=0.01, classifier__learning_rate=constant, classifier__loss=hinge, classifier__penalty=l2; total time=   0.9s\n",
      "[CV] END classifier=SGDClassifier(class_weight='balanced', max_iter=5000, random_state=42), classifier__alpha=0.01, classifier__eta0=0.01, classifier__learning_rate=constant, classifier__loss=hinge, classifier__penalty=l2; total time=   0.9s\n",
      "[CV] END classifier=SGDClassifier(class_weight='balanced', max_iter=5000, random_state=42), classifier__alpha=0.01, classifier__eta0=0.01, classifier__learning_rate=constant, classifier__loss=hinge, classifier__penalty=l2; total time=   1.8s\n",
      "[CV] END classifier=SGDClassifier(class_weight='balanced', max_iter=5000, random_state=42), classifier__alpha=0.001, classifier__eta0=0.001, classifier__learning_rate=constant, classifier__loss=hinge, classifier__penalty=l2; total time=   2.3s\n",
      "[CV] END classifier=SGDClassifier(class_weight='balanced', max_iter=5000, random_state=42), classifier__alpha=0.001, classifier__eta0=0.001, classifier__learning_rate=constant, classifier__loss=hinge, classifier__penalty=l2; total time=   2.6s\n",
      "[CV] END classifier=SGDClassifier(class_weight='balanced', max_iter=5000, random_state=42), classifier__alpha=0.001, classifier__eta0=0.001, classifier__learning_rate=constant, classifier__loss=hinge, classifier__penalty=l2; total time=   2.6s\n",
      "[CV] END classifier=SGDClassifier(class_weight='balanced', max_iter=5000, random_state=42), classifier__alpha=0.001, classifier__eta0=0.001, classifier__learning_rate=constant, classifier__loss=hinge, classifier__penalty=l2; total time=   1.8s\n",
      "[CV] END classifier=SGDClassifier(class_weight='balanced', max_iter=5000, random_state=42), classifier__alpha=0.001, classifier__eta0=0.001, classifier__learning_rate=optimal, classifier__loss=hinge, classifier__penalty=l2; total time=   0.6s\n",
      "[CV] END classifier=SGDClassifier(class_weight='balanced', max_iter=5000, random_state=42), classifier__alpha=0.001, classifier__eta0=0.001, classifier__learning_rate=optimal, classifier__loss=hinge, classifier__penalty=l2; total time=   0.7s\n",
      "[CV] END classifier=SGDClassifier(class_weight='balanced', max_iter=5000, random_state=42), classifier__alpha=0.001, classifier__eta0=0.001, classifier__learning_rate=constant, classifier__loss=hinge, classifier__penalty=l2; total time=   2.9s\n",
      "[CV] END classifier=SGDClassifier(class_weight='balanced', max_iter=5000, random_state=42), classifier__alpha=0.001, classifier__eta0=0.001, classifier__learning_rate=optimal, classifier__loss=hinge, classifier__penalty=l2; total time=   0.6s\n",
      "[CV] END classifier=SGDClassifier(class_weight='balanced', max_iter=5000, random_state=42), classifier__alpha=0.001, classifier__eta0=0.001, classifier__learning_rate=optimal, classifier__loss=hinge, classifier__penalty=l2; total time=   0.7s\n",
      "[CV] END classifier=SGDClassifier(class_weight='balanced', max_iter=5000, random_state=42), classifier__alpha=0.001, classifier__eta0=0.001, classifier__learning_rate=optimal, classifier__loss=hinge, classifier__penalty=l2; total time=   0.7s\n",
      "[CV] END classifier=SGDClassifier(class_weight='balanced', max_iter=5000, random_state=42), classifier__alpha=0.01, classifier__eta0=0.001, classifier__learning_rate=constant, classifier__loss=hinge, classifier__penalty=l2; total time=   3.7s\n",
      "[CV] END classifier=SGDClassifier(class_weight='balanced', max_iter=5000, random_state=42), classifier__alpha=0.01, classifier__eta0=0.001, classifier__learning_rate=constant, classifier__loss=hinge, classifier__penalty=l2; total time=   3.8s\n",
      "[CV] END classifier=SGDClassifier(class_weight='balanced', max_iter=5000, random_state=42), classifier__alpha=0.0001, classifier__eta0=0.001, classifier__learning_rate=optimal, classifier__loss=hinge, classifier__penalty=l1; total time=   1.4s\n",
      "[CV] END classifier=SGDClassifier(class_weight='balanced', max_iter=5000, random_state=42), classifier__alpha=0.01, classifier__eta0=0.001, classifier__learning_rate=constant, classifier__loss=hinge, classifier__penalty=l2; total time=   3.4s\n",
      "[CV] END classifier=SGDClassifier(class_weight='balanced', max_iter=5000, random_state=42), classifier__alpha=0.0001, classifier__eta0=0.001, classifier__learning_rate=optimal, classifier__loss=hinge, classifier__penalty=l1; total time=   1.6s\n",
      "[CV] END classifier=SGDClassifier(class_weight='balanced', max_iter=5000, random_state=42), classifier__alpha=0.01, classifier__eta0=0.001, classifier__learning_rate=constant, classifier__loss=hinge, classifier__penalty=l2; total time=   3.9s\n",
      "[CV] END classifier=SGDClassifier(class_weight='balanced', max_iter=5000, random_state=42), classifier__alpha=0.0001, classifier__eta0=0.001, classifier__learning_rate=optimal, classifier__loss=hinge, classifier__penalty=l1; total time=   1.7s\n",
      "[CV] END classifier=SGDClassifier(class_weight='balanced', max_iter=5000, random_state=42), classifier__alpha=0.0001, classifier__eta0=0.001, classifier__learning_rate=optimal, classifier__loss=hinge, classifier__penalty=l1; total time=   1.5s\n",
      "[CV] END classifier=SGDClassifier(class_weight='balanced', max_iter=5000, random_state=42), classifier__alpha=0.0001, classifier__eta0=0.001, classifier__learning_rate=optimal, classifier__loss=hinge, classifier__penalty=l2; total time=   0.6s\n",
      "[CV] END classifier=SGDClassifier(class_weight='balanced', max_iter=5000, random_state=42), classifier__alpha=0.0001, classifier__eta0=0.001, classifier__learning_rate=optimal, classifier__loss=hinge, classifier__penalty=l2; total time=   0.6s\n",
      "[CV] END classifier=SGDClassifier(class_weight='balanced', max_iter=5000, random_state=42), classifier__alpha=0.0001, classifier__eta0=0.001, classifier__learning_rate=optimal, classifier__loss=hinge, classifier__penalty=l2; total time=   1.0s\n",
      "[CV] END classifier=SGDClassifier(class_weight='balanced', max_iter=5000, random_state=42), classifier__alpha=0.0001, classifier__eta0=0.001, classifier__learning_rate=optimal, classifier__loss=hinge, classifier__penalty=l2; total time=   0.7s\n",
      "[CV] END classifier=SGDClassifier(class_weight='balanced', max_iter=5000, random_state=42), classifier__alpha=0.01, classifier__eta0=0.001, classifier__learning_rate=constant, classifier__loss=hinge, classifier__penalty=l2; total time=   3.9s\n",
      "[CV] END classifier=SGDClassifier(class_weight='balanced', max_iter=5000, random_state=42), classifier__alpha=0.0001, classifier__eta0=0.001, classifier__learning_rate=optimal, classifier__loss=hinge, classifier__penalty=l1; total time=   1.9s\n",
      "[CV] END classifier=SGDClassifier(class_weight='balanced', max_iter=5000, random_state=42), classifier__alpha=0.0001, classifier__eta0=0.001, classifier__learning_rate=optimal, classifier__loss=hinge, classifier__penalty=l2; total time=   0.7s\n",
      "[CV] END classifier=SGDClassifier(class_weight='balanced', max_iter=5000, random_state=42), classifier__alpha=0.01, classifier__eta0=0.01, classifier__learning_rate=optimal, classifier__loss=hinge, classifier__penalty=l1; total time=   3.9s\n",
      "[CV] END classifier=SGDClassifier(class_weight='balanced', max_iter=5000, random_state=42), classifier__alpha=0.01, classifier__eta0=0.01, classifier__learning_rate=optimal, classifier__loss=hinge, classifier__penalty=l1; total time=   4.0s\n",
      "[CV] END classifier=SGDClassifier(class_weight='balanced', max_iter=5000, random_state=42), classifier__alpha=0.01, classifier__eta0=0.001, classifier__learning_rate=optimal, classifier__loss=hinge, classifier__penalty=l1; total time=   3.9s\n",
      "[CV] END classifier=SGDClassifier(class_weight='balanced', max_iter=5000, random_state=42), classifier__alpha=0.01, classifier__eta0=0.01, classifier__learning_rate=optimal, classifier__loss=hinge, classifier__penalty=l1; total time=   4.2s\n",
      "[CV] END classifier=SGDClassifier(class_weight='balanced', max_iter=5000, random_state=42), classifier__alpha=0.01, classifier__eta0=0.001, classifier__learning_rate=optimal, classifier__loss=hinge, classifier__penalty=l1; total time=   4.1s\n",
      "[CV] END classifier=SGDClassifier(class_weight='balanced', max_iter=5000, random_state=42), classifier__alpha=0.01, classifier__eta0=0.01, classifier__learning_rate=optimal, classifier__loss=hinge, classifier__penalty=l1; total time=   4.5s\n",
      "[CV] END classifier=SGDClassifier(class_weight='balanced', max_iter=5000, random_state=42), classifier__alpha=0.01, classifier__eta0=0.01, classifier__learning_rate=optimal, classifier__loss=hinge, classifier__penalty=l1; total time=   4.6s\n",
      "[CV] END classifier=SGDClassifier(class_weight='balanced', max_iter=5000, random_state=42), classifier__alpha=0.01, classifier__eta0=0.001, classifier__learning_rate=optimal, classifier__loss=hinge, classifier__penalty=l1; total time=   4.3s\n",
      "[CV] END classifier=LogisticRegression(max_iter=5000, random_state=42), classifier__C=0.1, classifier__penalty=l1; total time=   0.0s\n",
      "[CV] END classifier=LogisticRegression(max_iter=5000, random_state=42), classifier__C=0.1, classifier__penalty=l1; total time=   0.0s\n",
      "[CV] END classifier=LogisticRegression(max_iter=5000, random_state=42), classifier__C=0.1, classifier__penalty=l1; total time=   0.1s\n",
      "[CV] END classifier=LogisticRegression(max_iter=5000, random_state=42), classifier__C=0.1, classifier__penalty=l1; total time=   0.0s\n",
      "[CV] END classifier=LogisticRegression(max_iter=5000, random_state=42), classifier__C=0.1, classifier__penalty=l1; total time=   0.0s\n",
      "[CV] END classifier=LogisticRegression(max_iter=5000, random_state=42), classifier__C=10, classifier__penalty=l1; total time=   0.0s\n",
      "[CV] END classifier=LogisticRegression(max_iter=5000, random_state=42), classifier__C=10, classifier__penalty=l1; total time=   0.0s\n",
      "[CV] END classifier=LogisticRegression(max_iter=5000, random_state=42), classifier__C=10, classifier__penalty=l1; total time=   0.0s\n",
      "[CV] END classifier=LogisticRegression(max_iter=5000, random_state=42), classifier__C=10, classifier__penalty=l1; total time=   0.0s\n",
      "[CV] END classifier=LogisticRegression(max_iter=5000, random_state=42), classifier__C=10, classifier__penalty=l1; total time=   0.0s\n",
      "[CV] END classifier=SGDClassifier(class_weight='balanced', max_iter=5000, random_state=42), classifier__alpha=0.0001, classifier__eta0=0.01, classifier__learning_rate=optimal, classifier__loss=hinge, classifier__penalty=l1; total time=   1.7s\n",
      "[CV] END classifier=SGDClassifier(class_weight='balanced', max_iter=5000, random_state=42), classifier__alpha=0.0001, classifier__eta0=0.01, classifier__learning_rate=optimal, classifier__loss=hinge, classifier__penalty=l1; total time=   1.7s\n",
      "[CV] END classifier=SGDClassifier(class_weight='balanced', max_iter=5000, random_state=42), classifier__alpha=0.0001, classifier__eta0=0.01, classifier__learning_rate=optimal, classifier__loss=hinge, classifier__penalty=l1; total time=   1.7s\n",
      "[CV] END classifier=SGDClassifier(class_weight='balanced', max_iter=5000, random_state=42), classifier__alpha=0.0001, classifier__eta0=0.01, classifier__learning_rate=optimal, classifier__loss=hinge, classifier__penalty=l1; total time=   1.6s\n",
      "[CV] END classifier=SGDClassifier(class_weight='balanced', max_iter=5000, random_state=42), classifier__alpha=0.0001, classifier__eta0=0.01, classifier__learning_rate=optimal, classifier__loss=hinge, classifier__penalty=l1; total time=   2.0s\n",
      "[CV] END classifier=SGDClassifier(class_weight='balanced', max_iter=5000, random_state=42), classifier__alpha=0.001, classifier__eta0=0.001, classifier__learning_rate=optimal, classifier__loss=hinge, classifier__penalty=l1; total time=   1.0s\n",
      "[CV] END classifier=SGDClassifier(class_weight='balanced', max_iter=5000, random_state=42), classifier__alpha=0.001, classifier__eta0=0.001, classifier__learning_rate=optimal, classifier__loss=hinge, classifier__penalty=l1; total time=   1.0s\n",
      "[CV] END classifier=SGDClassifier(class_weight='balanced', max_iter=5000, random_state=42), classifier__alpha=0.001, classifier__eta0=0.001, classifier__learning_rate=optimal, classifier__loss=hinge, classifier__penalty=l1; total time=   0.8s\n",
      "[CV] END classifier=SGDClassifier(class_weight='balanced', max_iter=5000, random_state=42), classifier__alpha=0.001, classifier__eta0=0.001, classifier__learning_rate=optimal, classifier__loss=hinge, classifier__penalty=l1; total time=   1.0s\n",
      "[CV] END classifier=SGDClassifier(class_weight='balanced', max_iter=5000, random_state=42), classifier__alpha=0.001, classifier__eta0=0.001, classifier__learning_rate=optimal, classifier__loss=hinge, classifier__penalty=l1; total time=   1.1s\n",
      "[CV] END classifier=SGDClassifier(class_weight='balanced', max_iter=5000, random_state=42), classifier__alpha=0.01, classifier__eta0=0.001, classifier__learning_rate=optimal, classifier__loss=hinge, classifier__penalty=l1; total time=   4.1s\n",
      "[CV] END classifier=SGDClassifier(class_weight='balanced', max_iter=5000, random_state=42), classifier__alpha=0.01, classifier__eta0=0.001, classifier__learning_rate=optimal, classifier__loss=hinge, classifier__penalty=l1; total time=   4.1s\n",
      "[CV] END classifier=SGDClassifier(class_weight='balanced', max_iter=5000, random_state=42), classifier__alpha=0.0001, classifier__eta0=0.01, classifier__learning_rate=optimal, classifier__loss=hinge, classifier__penalty=l2; total time=   1.9s\n",
      "[CV] END classifier=SGDClassifier(class_weight='balanced', max_iter=5000, random_state=42), classifier__alpha=0.0001, classifier__eta0=0.01, classifier__learning_rate=optimal, classifier__loss=hinge, classifier__penalty=l2; total time=   1.4s\n",
      "[CV] END classifier=SGDClassifier(class_weight='balanced', max_iter=5000, random_state=42), classifier__alpha=0.0001, classifier__eta0=0.01, classifier__learning_rate=optimal, classifier__loss=hinge, classifier__penalty=l2; total time=   1.4s\n",
      "[CV] END classifier=SGDClassifier(class_weight='balanced', max_iter=5000, random_state=42), classifier__alpha=0.0001, classifier__eta0=0.01, classifier__learning_rate=optimal, classifier__loss=hinge, classifier__penalty=l2; total time=   1.1s\n",
      "[CV] END classifier=SGDClassifier(class_weight='balanced', max_iter=5000, random_state=42), classifier__alpha=0.0001, classifier__eta0=0.01, classifier__learning_rate=optimal, classifier__loss=hinge, classifier__penalty=l2; total time=   1.2s\n",
      "[CV] END classifier=SGDClassifier(class_weight='balanced', max_iter=5000, random_state=42), classifier__alpha=0.0001, classifier__eta0=0.01, classifier__learning_rate=constant, classifier__loss=hinge, classifier__penalty=l2; total time=   2.1s\n",
      "[CV] END classifier=SGDClassifier(class_weight='balanced', max_iter=5000, random_state=42), classifier__alpha=0.0001, classifier__eta0=0.01, classifier__learning_rate=constant, classifier__loss=hinge, classifier__penalty=l2; total time=   2.3s\n",
      "[CV] END classifier=SGDClassifier(class_weight='balanced', max_iter=5000, random_state=42), classifier__alpha=0.0001, classifier__eta0=0.01, classifier__learning_rate=constant, classifier__loss=hinge, classifier__penalty=l2; total time=   2.7s\n",
      "[CV] END classifier=SGDClassifier(class_weight='balanced', max_iter=5000, random_state=42), classifier__alpha=0.0001, classifier__eta0=0.01, classifier__learning_rate=constant, classifier__loss=hinge, classifier__penalty=l2; total time=   2.0s\n",
      "[CV] END classifier=SGDClassifier(class_weight='balanced', max_iter=5000, random_state=42), classifier__alpha=0.0001, classifier__eta0=0.01, classifier__learning_rate=constant, classifier__loss=hinge, classifier__penalty=l2; total time=   2.1s\n",
      "[CV] END classifier=SGDClassifier(class_weight='balanced', max_iter=5000, random_state=42), classifier__alpha=0.01, classifier__eta0=0.001, classifier__learning_rate=constant, classifier__loss=hinge, classifier__penalty=l1; total time=   4.3s\n",
      "[CV] END classifier=SGDClassifier(class_weight='balanced', max_iter=5000, random_state=42), classifier__alpha=0.01, classifier__eta0=0.001, classifier__learning_rate=constant, classifier__loss=hinge, classifier__penalty=l1; total time=   4.2s\n",
      "[CV] END classifier=SGDClassifier(class_weight='balanced', max_iter=5000, random_state=42), classifier__alpha=0.01, classifier__eta0=0.001, classifier__learning_rate=constant, classifier__loss=hinge, classifier__penalty=l1; total time=   4.3s\n",
      "[CV] END classifier=LogisticRegression(max_iter=5000, random_state=42), classifier__C=10, classifier__penalty=l2; total time=  14.2s\n",
      "[CV] END classifier=LogisticRegression(max_iter=5000, random_state=42), classifier__C=10, classifier__penalty=l2; total time=  14.6s\n",
      "[CV] END classifier=LogisticRegression(max_iter=5000, random_state=42), classifier__C=10, classifier__penalty=l2; total time=  15.4s\n",
      "[CV] END classifier=LogisticRegression(max_iter=5000, random_state=42), classifier__C=0.1, classifier__penalty=l2; total time=   2.3s\n",
      "[CV] END classifier=SGDClassifier(class_weight='balanced', max_iter=5000, random_state=42), classifier__alpha=0.01, classifier__eta0=0.001, classifier__learning_rate=constant, classifier__loss=hinge, classifier__penalty=l1; total time=   4.7s\n",
      "[CV] END classifier=SGDClassifier(class_weight='balanced', max_iter=5000, random_state=42), classifier__alpha=0.01, classifier__eta0=0.001, classifier__learning_rate=constant, classifier__loss=hinge, classifier__penalty=l1; total time=   4.5s\n",
      "[CV] END classifier=LogisticRegression(max_iter=5000, random_state=42), classifier__C=1, classifier__penalty=l1; total time=   0.0s\n",
      "[CV] END classifier=LogisticRegression(max_iter=5000, random_state=42), classifier__C=1, classifier__penalty=l1; total time=   0.0s\n",
      "[CV] END classifier=LogisticRegression(max_iter=5000, random_state=42), classifier__C=1, classifier__penalty=l1; total time=   0.0s\n",
      "[CV] END classifier=LogisticRegression(max_iter=5000, random_state=42), classifier__C=1, classifier__penalty=l1; total time=   0.1s\n",
      "[CV] END classifier=LogisticRegression(max_iter=5000, random_state=42), classifier__C=1, classifier__penalty=l1; total time=   0.1s\n",
      "[CV] END classifier=LogisticRegression(max_iter=5000, random_state=42), classifier__C=10, classifier__penalty=l2; total time=  16.6s\n",
      "[CV] END classifier=LogisticRegression(max_iter=5000, random_state=42), classifier__C=10, classifier__penalty=l2; total time=  16.9s\n",
      "[CV] END classifier=LogisticRegression(max_iter=5000, random_state=42), classifier__C=0.1, classifier__penalty=l2; total time=   2.4s\n",
      "[CV] END classifier=LogisticRegression(max_iter=5000, random_state=42), classifier__C=0.1, classifier__penalty=l2; total time=   2.4s\n",
      "[CV] END classifier=SGDClassifier(class_weight='balanced', max_iter=5000, random_state=42), classifier__alpha=0.01, classifier__eta0=0.001, classifier__learning_rate=optimal, classifier__loss=hinge, classifier__penalty=l2; total time=   1.2s\n",
      "[CV] END classifier=LogisticRegression(max_iter=5000, random_state=42), classifier__C=0.1, classifier__penalty=l2; total time=   2.4s\n",
      "[CV] END classifier=SGDClassifier(class_weight='balanced', max_iter=5000, random_state=42), classifier__alpha=0.01, classifier__eta0=0.001, classifier__learning_rate=optimal, classifier__loss=hinge, classifier__penalty=l2; total time=   1.3s\n",
      "[CV] END classifier=SGDClassifier(class_weight='balanced', max_iter=5000, random_state=42), classifier__alpha=0.01, classifier__eta0=0.001, classifier__learning_rate=optimal, classifier__loss=hinge, classifier__penalty=l2; total time=   0.9s\n",
      "[CV] END classifier=LogisticRegression(max_iter=5000, random_state=42), classifier__C=0.1, classifier__penalty=l2; total time=   3.6s\n",
      "[CV] END classifier=SGDClassifier(class_weight='balanced', max_iter=5000, random_state=42), classifier__alpha=0.01, classifier__eta0=0.001, classifier__learning_rate=optimal, classifier__loss=hinge, classifier__penalty=l2; total time=   1.4s\n",
      "[CV] END classifier=SGDClassifier(class_weight='balanced', max_iter=5000, random_state=42), classifier__alpha=0.01, classifier__eta0=0.001, classifier__learning_rate=optimal, classifier__loss=hinge, classifier__penalty=l2; total time=   1.7s\n",
      "[CV] END classifier=LogisticRegression(max_iter=5000, random_state=42), classifier__C=1, classifier__penalty=l2; total time=   3.0s\n",
      "[CV] END classifier=LogisticRegression(max_iter=5000, random_state=42), classifier__C=1, classifier__penalty=l2; total time=   2.9s\n",
      "[CV] END classifier=LogisticRegression(max_iter=5000, random_state=42), classifier__C=1, classifier__penalty=l2; total time=   3.3s\n",
      "[CV] END classifier=LogisticRegression(max_iter=5000, random_state=42), classifier__C=1, classifier__penalty=l2; total time=   3.3s\n",
      "[CV] END classifier=LogisticRegression(max_iter=5000, random_state=42), classifier__C=1, classifier__penalty=l2; total time=   3.7s\n",
      "{'classifier__penalty': 'l2', 'classifier__C': 10, 'classifier': LogisticRegression(C=10, max_iter=5000, random_state=42)}\n",
      "CPU times: user 1min 21s, sys: 5.18 s, total: 1min 26s\n",
      "Wall time: 55.7 s\n"
     ]
    },
    {
     "data": {
      "text/plain": [
       "0.7654929642114626"
      ]
     },
     "execution_count": 25,
     "metadata": {},
     "output_type": "execute_result"
    }
   ],
   "source": [
    "%%time\n",
    "model = rs.fit(X_train, y_train)\n",
    "print(model.best_params_)\n",
    "model.best_score_"
   ]
  },
  {
   "cell_type": "code",
   "execution_count": 26,
   "metadata": {},
   "outputs": [
    {
     "data": {
      "text/html": [
       "<div>\n",
       "<style scoped>\n",
       "    .dataframe tbody tr th:only-of-type {\n",
       "        vertical-align: middle;\n",
       "    }\n",
       "\n",
       "    .dataframe tbody tr th {\n",
       "        vertical-align: top;\n",
       "    }\n",
       "\n",
       "    .dataframe thead th {\n",
       "        text-align: right;\n",
       "    }\n",
       "</style>\n",
       "<table border=\"1\" class=\"dataframe\">\n",
       "  <thead>\n",
       "    <tr style=\"text-align: right;\">\n",
       "      <th></th>\n",
       "      <th>mean_fit_time</th>\n",
       "      <th>std_fit_time</th>\n",
       "      <th>mean_score_time</th>\n",
       "      <th>std_score_time</th>\n",
       "      <th>param_classifier__penalty</th>\n",
       "      <th>param_classifier__loss</th>\n",
       "      <th>param_classifier__learning_rate</th>\n",
       "      <th>param_classifier__eta0</th>\n",
       "      <th>param_classifier__alpha</th>\n",
       "      <th>param_classifier</th>\n",
       "      <th>param_classifier__C</th>\n",
       "      <th>params</th>\n",
       "      <th>split0_test_score</th>\n",
       "      <th>split1_test_score</th>\n",
       "      <th>split2_test_score</th>\n",
       "      <th>split3_test_score</th>\n",
       "      <th>split4_test_score</th>\n",
       "      <th>mean_test_score</th>\n",
       "      <th>std_test_score</th>\n",
       "      <th>rank_test_score</th>\n",
       "    </tr>\n",
       "  </thead>\n",
       "  <tbody>\n",
       "    <tr>\n",
       "      <th>12</th>\n",
       "      <td>15.480827</td>\n",
       "      <td>1.053044</td>\n",
       "      <td>0.052427</td>\n",
       "      <td>0.015897</td>\n",
       "      <td>l2</td>\n",
       "      <td>NaN</td>\n",
       "      <td>NaN</td>\n",
       "      <td>NaN</td>\n",
       "      <td>NaN</td>\n",
       "      <td>LogisticRegression(C=10, max_iter=5000, random_state=42)</td>\n",
       "      <td>10</td>\n",
       "      <td>{'classifier__penalty': 'l2', 'classifier__C': 10, 'classifier': LogisticRegression(C=10, max_iter=5000, random_state=42)}</td>\n",
       "      <td>0.758505</td>\n",
       "      <td>0.771273</td>\n",
       "      <td>0.773358</td>\n",
       "      <td>0.762808</td>\n",
       "      <td>0.761520</td>\n",
       "      <td>0.765493</td>\n",
       "      <td>0.005781</td>\n",
       "      <td>1</td>\n",
       "    </tr>\n",
       "    <tr>\n",
       "      <th>5</th>\n",
       "      <td>0.677389</td>\n",
       "      <td>0.149648</td>\n",
       "      <td>0.022750</td>\n",
       "      <td>0.004974</td>\n",
       "      <td>l2</td>\n",
       "      <td>hinge</td>\n",
       "      <td>optimal</td>\n",
       "      <td>0.001</td>\n",
       "      <td>0.0001</td>\n",
       "      <td>SGDClassifier(class_weight='balanced', max_iter=5000, random_state=42)</td>\n",
       "      <td>NaN</td>\n",
       "      <td>{'classifier__penalty': 'l2', 'classifier__loss': 'hinge', 'classifier__learning_rate': 'optimal', 'classifier__eta0': 0.001, 'classifier__alpha': 0.0001, 'classifier': SGDClassifier(class_weight='balanced', max_iter=5000, random_state=42)}</td>\n",
       "      <td>0.752486</td>\n",
       "      <td>0.746930</td>\n",
       "      <td>0.739978</td>\n",
       "      <td>0.737325</td>\n",
       "      <td>0.733174</td>\n",
       "      <td>0.741979</td>\n",
       "      <td>0.006901</td>\n",
       "      <td>2</td>\n",
       "    </tr>\n",
       "    <tr>\n",
       "      <th>13</th>\n",
       "      <td>1.326940</td>\n",
       "      <td>0.266048</td>\n",
       "      <td>0.076025</td>\n",
       "      <td>0.015506</td>\n",
       "      <td>l2</td>\n",
       "      <td>hinge</td>\n",
       "      <td>optimal</td>\n",
       "      <td>0.01</td>\n",
       "      <td>0.0001</td>\n",
       "      <td>SGDClassifier(class_weight='balanced', max_iter=5000, random_state=42)</td>\n",
       "      <td>NaN</td>\n",
       "      <td>{'classifier__penalty': 'l2', 'classifier__loss': 'hinge', 'classifier__learning_rate': 'optimal', 'classifier__eta0': 0.01, 'classifier__alpha': 0.0001, 'classifier': SGDClassifier(class_weight='balanced', max_iter=5000, random_state=42)}</td>\n",
       "      <td>0.752486</td>\n",
       "      <td>0.746930</td>\n",
       "      <td>0.739978</td>\n",
       "      <td>0.737325</td>\n",
       "      <td>0.733174</td>\n",
       "      <td>0.741979</td>\n",
       "      <td>0.006901</td>\n",
       "      <td>2</td>\n",
       "    </tr>\n",
       "    <tr>\n",
       "      <th>14</th>\n",
       "      <td>2.122878</td>\n",
       "      <td>0.272319</td>\n",
       "      <td>0.097656</td>\n",
       "      <td>0.086938</td>\n",
       "      <td>l2</td>\n",
       "      <td>hinge</td>\n",
       "      <td>constant</td>\n",
       "      <td>0.01</td>\n",
       "      <td>0.0001</td>\n",
       "      <td>SGDClassifier(class_weight='balanced', max_iter=5000, random_state=42)</td>\n",
       "      <td>NaN</td>\n",
       "      <td>{'classifier__penalty': 'l2', 'classifier__loss': 'hinge', 'classifier__learning_rate': 'constant', 'classifier__eta0': 0.01, 'classifier__alpha': 0.0001, 'classifier': SGDClassifier(class_weight='balanced', max_iter=5000, random_state=42)}</td>\n",
       "      <td>0.749673</td>\n",
       "      <td>0.745302</td>\n",
       "      <td>0.736478</td>\n",
       "      <td>0.736745</td>\n",
       "      <td>0.735513</td>\n",
       "      <td>0.740742</td>\n",
       "      <td>0.005693</td>\n",
       "      <td>4</td>\n",
       "    </tr>\n",
       "    <tr>\n",
       "      <th>4</th>\n",
       "      <td>1.576771</td>\n",
       "      <td>0.160482</td>\n",
       "      <td>0.030513</td>\n",
       "      <td>0.009464</td>\n",
       "      <td>l1</td>\n",
       "      <td>hinge</td>\n",
       "      <td>optimal</td>\n",
       "      <td>0.001</td>\n",
       "      <td>0.0001</td>\n",
       "      <td>SGDClassifier(class_weight='balanced', max_iter=5000, random_state=42)</td>\n",
       "      <td>NaN</td>\n",
       "      <td>{'classifier__penalty': 'l1', 'classifier__loss': 'hinge', 'classifier__learning_rate': 'optimal', 'classifier__eta0': 0.001, 'classifier__alpha': 0.0001, 'classifier': SGDClassifier(class_weight='balanced', max_iter=5000, random_state=42)}</td>\n",
       "      <td>0.736289</td>\n",
       "      <td>0.731990</td>\n",
       "      <td>0.723174</td>\n",
       "      <td>0.726632</td>\n",
       "      <td>0.713230</td>\n",
       "      <td>0.726263</td>\n",
       "      <td>0.007910</td>\n",
       "      <td>5</td>\n",
       "    </tr>\n",
       "  </tbody>\n",
       "</table>\n",
       "</div>"
      ],
      "text/plain": [
       "    mean_fit_time  std_fit_time  mean_score_time  std_score_time  \\\n",
       "12      15.480827      1.053044         0.052427        0.015897   \n",
       "5        0.677389      0.149648         0.022750        0.004974   \n",
       "13       1.326940      0.266048         0.076025        0.015506   \n",
       "14       2.122878      0.272319         0.097656        0.086938   \n",
       "4        1.576771      0.160482         0.030513        0.009464   \n",
       "\n",
       "   param_classifier__penalty param_classifier__loss  \\\n",
       "12                        l2                    NaN   \n",
       "5                         l2                  hinge   \n",
       "13                        l2                  hinge   \n",
       "14                        l2                  hinge   \n",
       "4                         l1                  hinge   \n",
       "\n",
       "   param_classifier__learning_rate param_classifier__eta0  \\\n",
       "12                             NaN                    NaN   \n",
       "5                          optimal                  0.001   \n",
       "13                         optimal                   0.01   \n",
       "14                        constant                   0.01   \n",
       "4                          optimal                  0.001   \n",
       "\n",
       "   param_classifier__alpha  \\\n",
       "12                     NaN   \n",
       "5                   0.0001   \n",
       "13                  0.0001   \n",
       "14                  0.0001   \n",
       "4                   0.0001   \n",
       "\n",
       "                                                          param_classifier  \\\n",
       "12                LogisticRegression(C=10, max_iter=5000, random_state=42)   \n",
       "5   SGDClassifier(class_weight='balanced', max_iter=5000, random_state=42)   \n",
       "13  SGDClassifier(class_weight='balanced', max_iter=5000, random_state=42)   \n",
       "14  SGDClassifier(class_weight='balanced', max_iter=5000, random_state=42)   \n",
       "4   SGDClassifier(class_weight='balanced', max_iter=5000, random_state=42)   \n",
       "\n",
       "   param_classifier__C  \\\n",
       "12                  10   \n",
       "5                  NaN   \n",
       "13                 NaN   \n",
       "14                 NaN   \n",
       "4                  NaN   \n",
       "\n",
       "                                                                                                                                                                                                                                              params  \\\n",
       "12                                                                                                                        {'classifier__penalty': 'l2', 'classifier__C': 10, 'classifier': LogisticRegression(C=10, max_iter=5000, random_state=42)}   \n",
       "5   {'classifier__penalty': 'l2', 'classifier__loss': 'hinge', 'classifier__learning_rate': 'optimal', 'classifier__eta0': 0.001, 'classifier__alpha': 0.0001, 'classifier': SGDClassifier(class_weight='balanced', max_iter=5000, random_state=42)}   \n",
       "13   {'classifier__penalty': 'l2', 'classifier__loss': 'hinge', 'classifier__learning_rate': 'optimal', 'classifier__eta0': 0.01, 'classifier__alpha': 0.0001, 'classifier': SGDClassifier(class_weight='balanced', max_iter=5000, random_state=42)}   \n",
       "14  {'classifier__penalty': 'l2', 'classifier__loss': 'hinge', 'classifier__learning_rate': 'constant', 'classifier__eta0': 0.01, 'classifier__alpha': 0.0001, 'classifier': SGDClassifier(class_weight='balanced', max_iter=5000, random_state=42)}   \n",
       "4   {'classifier__penalty': 'l1', 'classifier__loss': 'hinge', 'classifier__learning_rate': 'optimal', 'classifier__eta0': 0.001, 'classifier__alpha': 0.0001, 'classifier': SGDClassifier(class_weight='balanced', max_iter=5000, random_state=42)}   \n",
       "\n",
       "    split0_test_score  split1_test_score  split2_test_score  \\\n",
       "12           0.758505           0.771273           0.773358   \n",
       "5            0.752486           0.746930           0.739978   \n",
       "13           0.752486           0.746930           0.739978   \n",
       "14           0.749673           0.745302           0.736478   \n",
       "4            0.736289           0.731990           0.723174   \n",
       "\n",
       "    split3_test_score  split4_test_score  mean_test_score  std_test_score  \\\n",
       "12           0.762808           0.761520         0.765493        0.005781   \n",
       "5            0.737325           0.733174         0.741979        0.006901   \n",
       "13           0.737325           0.733174         0.741979        0.006901   \n",
       "14           0.736745           0.735513         0.740742        0.005693   \n",
       "4            0.726632           0.713230         0.726263        0.007910   \n",
       "\n",
       "    rank_test_score  \n",
       "12                1  \n",
       "5                 2  \n",
       "13                2  \n",
       "14                4  \n",
       "4                 5  "
      ]
     },
     "execution_count": 26,
     "metadata": {},
     "output_type": "execute_result"
    }
   ],
   "source": [
    "result = pd.DataFrame(model.cv_results_).sort_values(by='rank_test_score')\n",
    "result.head()"
   ]
  },
  {
   "cell_type": "markdown",
   "metadata": {},
   "source": [
    "**Выводы**\n",
    "\n",
    "- Было рассмотрено 2 модели (Логистической регрессии и Линейная SVM, использующая стахостический градиентный спуск для оптимизации)\n",
    "- Для каждой модели подобраны гиперпараметры.\n",
    "- В качестве метрики используется F1. Критерий оценки должен быть не ниже 0.75 (условие заказчика) \n",
    "- Смещение модели менее 1.5%, что свидетельствует о том, что модель не переобучена/недообучена.\n",
    "\n",
    "\n",
    "Для тестовой оценки выбрана модель логистической регрессии с гиперпараметрами 'C': 10, 'penalty': 'l2'. В которой текст представляется в векторном виде с использованием tf idf"
   ]
  },
  {
   "cell_type": "markdown",
   "metadata": {},
   "source": [
    "<a href='#content'>Вернуться к оглавлению</a> "
   ]
  },
  {
   "cell_type": "markdown",
   "metadata": {},
   "source": [
    "## Тестирование модели"
   ]
  },
  {
   "cell_type": "markdown",
   "metadata": {},
   "source": [
    "<a id='testing'></a> "
   ]
  },
  {
   "cell_type": "markdown",
   "metadata": {},
   "source": [
    "Проверим точность модели на тестовой выборке"
   ]
  },
  {
   "cell_type": "code",
   "execution_count": 27,
   "metadata": {},
   "outputs": [
    {
     "name": "stdout",
     "output_type": "stream",
     "text": [
      "Метрика f1 на тестовой выборке 0.78\n"
     ]
    }
   ],
   "source": [
    "y_pred = model.predict(X_test)\n",
    "f1 = f1_score(y_test, y_pred)\n",
    "print(\"Метрика f1 на тестовой выборке\", f1.round(2))"
   ]
  },
  {
   "cell_type": "markdown",
   "metadata": {},
   "source": [
    "**Выводы**\n",
    "\n",
    "- Ошибка на тестовой выборке 0.78, выше нижней требуемой границы.\n",
    "- Модель быстро обучается и делает предсказания."
   ]
  },
  {
   "cell_type": "markdown",
   "metadata": {},
   "source": [
    "<a href='#content'>Вернуться к оглавлению</a> "
   ]
  },
  {
   "cell_type": "markdown",
   "metadata": {},
   "source": [
    "## Выводы"
   ]
  },
  {
   "cell_type": "markdown",
   "metadata": {},
   "source": [
    "\n",
    "На основании предоставленной информации можно сделать следующие выводы о проделанной работе и полученных результатах:\n",
    "\n",
    "**1. Предобработка данных:**\n",
    "\n",
    "*   Проведена тщательная предобработка текстовых данных, включающая лемматизацию, удаление стоп-слов и дубликатов. Это важный шаг для улучшения качества обучения модели.\n",
    "*   Корпус текстов был очищен от пропусков и дублирующихся индексов.\n",
    "\n",
    "**2. Векторизация текста:**\n",
    "\n",
    "*   Тексты были успешно преобразованы в векторный вид c помощью векторизации TF-IDF. Это позволило использовать тексты в моделях машинного обучения.\n",
    "\n",
    "**4. Обучение моделей:**\n",
    "\n",
    "*   Для решения задачи были обучены модель логистической регрессии и стахостического спуска с функцией потерь модели опорных векторов. С помощью RandomizedSearch и кросс валидации подобраны гиперпараметры моделей.\n",
    "*   \n",
    "\n",
    "**5. Выбор модели:**\n",
    "\n",
    "*   Обоснованно выбрана модель логистической регрессии с гиперпараметрами С: 10 и регуляризацией l2, обученая на признаках TF-IDF.\n",
    "\n",
    "**6. Тестирование модели:**\n",
    "\n",
    "*   На тестовой выборке модель показала результат F1-меры 0.78, что превышает минимально требуемый порог 0.75. Это свидетельствует о хорошей обобщающей способности модели.\n",
    "\n",
    "**7. Производительность модели:**\n",
    "\n",
    "*   Отмечено быстрое обучение модели и высокая скорость предсказания, что является важным фактором для практического применения.\n",
    "\n",
    "**Общий вывод:**\n",
    "\n",
    "Получена модель классификации текстов, удовлетворяющая требованиям заказчика по качеству (F1-мера выше 0.75) и производительности. \n",
    "\n",
    "**Рекомендации:**\n",
    "\n",
    "*   Несмотря на хорошие результаты, всегда есть возможность для улучшения. Можно попробовать использовать другие методы векторизации текста (например, BERT) и сравнить результаты.\n",
    "*   Для дальнейшего улучшения модели можно рассмотреть возможность использования более сложных моделей классификации, таких как градиентный бустинг.\n"
   ]
  },
  {
   "cell_type": "markdown",
   "metadata": {},
   "source": [
    "<a id='conclusions'></a> "
   ]
  },
  {
   "cell_type": "markdown",
   "metadata": {},
   "source": [
    "<a href='#content'>Вернуться к оглавлению</a> "
   ]
  }
 ],
 "metadata": {
  "kernelspec": {
   "display_name": "practicum",
   "language": "python",
   "name": "python3"
  },
  "language_info": {
   "codemirror_mode": {
    "name": "ipython",
    "version": 3
   },
   "file_extension": ".py",
   "mimetype": "text/x-python",
   "name": "python",
   "nbconvert_exporter": "python",
   "pygments_lexer": "ipython3",
   "version": "3.11.9"
  },
  "toc": {
   "base_numbering": 1,
   "nav_menu": {},
   "number_sections": true,
   "sideBar": true,
   "skip_h1_title": true,
   "title_cell": "Содержание",
   "title_sidebar": "Contents",
   "toc_cell": true,
   "toc_position": {
    "height": "calc(100% - 180px)",
    "left": "10px",
    "top": "150px",
    "width": "234px"
   },
   "toc_section_display": true,
   "toc_window_display": true
  }
 },
 "nbformat": 4,
 "nbformat_minor": 2
}
